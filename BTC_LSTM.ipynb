{
 "cells": [
  {
   "cell_type": "code",
   "execution_count": 1,
   "metadata": {
    "colab": {
     "base_uri": "https://localhost:8080/"
    },
    "id": "FMDKda-XIUAK",
    "outputId": "be988c00-2f6c-43b6-a7bf-69a486a7845c"
   },
   "outputs": [],
   "source": [
    "# 1. Import thư viện cần thiết\n",
    "import numpy as np\n",
    "import pandas as pd\n",
    "import matplotlib.pyplot as plt\n",
    "from sklearn.preprocessing import MinMaxScaler\n",
    "from keras.models import Sequential\n",
    "from keras.layers import Dense, LSTM"
   ]
  },
  {
   "cell_type": "code",
   "execution_count": 2,
   "metadata": {
    "id": "aRm9GQ8KJJ5N"
   },
   "outputs": [],
   "source": [
    "# 2. Đọc file csv và gắng index với giá Close\n",
    "df = pd.read_csv('BTC.csv')\n",
    "df1=df.reset_index()['Price']"
   ]
  },
  {
   "cell_type": "code",
   "execution_count": 3,
   "metadata": {
    "id": "RdVpDho2JgL5"
   },
   "outputs": [],
   "source": [
    "# 3. Scaler data\n",
    "scaler=MinMaxScaler(feature_range=(0,1))\n",
    "df1=scaler.fit_transform(np.array(df1).reshape(-1,1))"
   ]
  },
  {
   "cell_type": "code",
   "execution_count": 4,
   "metadata": {
    "id": "B5JXpenzJoR3"
   },
   "outputs": [],
   "source": [
    "# 4. Chia train test\n",
    "train_size = int(0.7 * len(df1))\n",
    "test_size = int(0.2 * len(df1))\n",
    "val_size = len(df1) - train_size - test_size\n",
    "\n",
    "train_data = df1[:train_size]\n",
    "test_data = df1[train_size:train_size+test_size]\n",
    "val_data = df1[train_size+test_size:]"
   ]
  },
  {
   "cell_type": "code",
   "execution_count": 5,
   "metadata": {
    "id": "yJfmuBORLSfC"
   },
   "outputs": [],
   "source": [
    "# 5. Hàm Create Dataset\n",
    "import numpy\n",
    "# convert an array of values into a dataset matrix\n",
    "def create_dataset(dataset, time_step=1):\n",
    "\tdataX, dataY = [], []\n",
    "\tfor i in range(len(dataset)-time_step-1):\n",
    "\t\ta = dataset[i:(i+time_step), 0]   ###i=0, X=0,1,2,3-----99   Y=100 \n",
    "\t\tdataX.append(a)\n",
    "\t\tdataY.append(dataset[i + time_step, 0])\n",
    "\treturn numpy.array(dataX), numpy.array(dataY)"
   ]
  },
  {
   "cell_type": "code",
   "execution_count": 6,
   "metadata": {
    "id": "e81cKq03LXFB"
   },
   "outputs": [],
   "source": [
    "#6. Reshape into X=t,t+1,t+2..t+99 and Y=t+100\n",
    "time_step = 100\n",
    "X_train, y_train = create_dataset(train_data, time_step)\n",
    "X_val, yval = create_dataset(val_data, time_step)\n",
    "X_test, ytest = create_dataset(test_data, time_step)"
   ]
  },
  {
   "cell_type": "code",
   "execution_count": 7,
   "metadata": {
    "id": "RdBVfku7O2qb"
   },
   "outputs": [],
   "source": [
    "# 7. Reshape input to be [samples, time steps, features] which is required for LSTM\n",
    "X_train =X_train.reshape(X_train.shape[0],X_train.shape[1] , 1)\n",
    "X_test = X_test.reshape(X_test.shape[0],X_test.shape[1] , 1)\n",
    "X_val = X_val.reshape(X_val.shape[0],X_val.shape[1] , 1)"
   ]
  },
  {
   "cell_type": "code",
   "execution_count": 8,
   "metadata": {
    "id": "sSfxrE7BO9vX"
   },
   "outputs": [],
   "source": [
    "# 8. Define LSTM Model\n",
    "model=Sequential()\n",
    "model.add(LSTM(50,return_sequences=True,input_shape=(100,1)))\n",
    "model.add(LSTM(50,return_sequences=True))\n",
    "model.add(LSTM(50))\n",
    "model.add(Dense(1))\n",
    "model.compile(loss='mean_squared_error',optimizer='adam')"
   ]
  },
  {
   "cell_type": "code",
   "execution_count": 9,
   "metadata": {
    "colab": {
     "base_uri": "https://localhost:8080/"
    },
    "id": "zgfeujZSPEKr",
    "outputId": "87151598-3792-46b5-857d-e7626c6a63de"
   },
   "outputs": [
    {
     "name": "stdout",
     "output_type": "stream",
     "text": [
      "Epoch 1/100\n",
      "19/19 [==============================] - 9s 207ms/step - loss: 0.0249 - val_loss: 0.0092\n",
      "Epoch 2/100\n",
      "19/19 [==============================] - 3s 155ms/step - loss: 0.0032 - val_loss: 0.0067\n",
      "Epoch 3/100\n",
      "19/19 [==============================] - 3s 153ms/step - loss: 0.0024 - val_loss: 0.0030\n",
      "Epoch 4/100\n",
      "19/19 [==============================] - 3s 162ms/step - loss: 0.0027 - val_loss: 0.0054\n",
      "Epoch 5/100\n",
      "19/19 [==============================] - 3s 161ms/step - loss: 0.0023 - val_loss: 0.0043\n",
      "Epoch 6/100\n",
      "19/19 [==============================] - 3s 168ms/step - loss: 0.0021 - val_loss: 0.0027\n",
      "Epoch 7/100\n",
      "19/19 [==============================] - 4s 210ms/step - loss: 0.0021 - val_loss: 0.0030\n",
      "Epoch 8/100\n",
      "19/19 [==============================] - 4s 230ms/step - loss: 0.0019 - val_loss: 0.0033\n",
      "Epoch 9/100\n",
      "19/19 [==============================] - 4s 220ms/step - loss: 0.0018 - val_loss: 0.0026\n",
      "Epoch 10/100\n",
      "19/19 [==============================] - 5s 259ms/step - loss: 0.0016 - val_loss: 0.0017\n",
      "Epoch 11/100\n",
      "19/19 [==============================] - 6s 301ms/step - loss: 0.0017 - val_loss: 0.0014\n",
      "Epoch 12/100\n",
      "19/19 [==============================] - 5s 277ms/step - loss: 0.0019 - val_loss: 0.0021\n",
      "Epoch 13/100\n",
      "19/19 [==============================] - 5s 245ms/step - loss: 0.0018 - val_loss: 0.0014\n",
      "Epoch 14/100\n",
      "19/19 [==============================] - 5s 261ms/step - loss: 0.0017 - val_loss: 0.0016\n",
      "Epoch 15/100\n",
      "19/19 [==============================] - 6s 291ms/step - loss: 0.0016 - val_loss: 0.0039\n",
      "Epoch 16/100\n",
      "19/19 [==============================] - 5s 265ms/step - loss: 0.0016 - val_loss: 0.0017\n",
      "Epoch 17/100\n",
      "19/19 [==============================] - 6s 303ms/step - loss: 0.0013 - val_loss: 0.0035\n",
      "Epoch 18/100\n",
      "19/19 [==============================] - 5s 270ms/step - loss: 0.0013 - val_loss: 0.0023\n",
      "Epoch 19/100\n",
      "19/19 [==============================] - 6s 290ms/step - loss: 0.0011 - val_loss: 0.0026\n",
      "Epoch 20/100\n",
      "19/19 [==============================] - 6s 325ms/step - loss: 0.0018 - val_loss: 0.0018\n",
      "Epoch 21/100\n",
      "19/19 [==============================] - 6s 305ms/step - loss: 0.0012 - val_loss: 0.0017\n",
      "Epoch 22/100\n",
      "19/19 [==============================] - 6s 327ms/step - loss: 0.0010 - val_loss: 0.0028\n",
      "Epoch 23/100\n",
      "19/19 [==============================] - 6s 308ms/step - loss: 0.0010 - val_loss: 0.0018\n",
      "Epoch 24/100\n",
      "19/19 [==============================] - 5s 274ms/step - loss: 9.1449e-04 - val_loss: 0.0010\n",
      "Epoch 25/100\n",
      "19/19 [==============================] - 6s 328ms/step - loss: 8.7889e-04 - val_loss: 9.6996e-04\n",
      "Epoch 26/100\n",
      "19/19 [==============================] - 6s 295ms/step - loss: 0.0010 - val_loss: 0.0012\n",
      "Epoch 27/100\n",
      "19/19 [==============================] - 6s 318ms/step - loss: 9.8649e-04 - val_loss: 0.0010\n",
      "Epoch 28/100\n",
      "19/19 [==============================] - 5s 291ms/step - loss: 8.7899e-04 - val_loss: 0.0011\n",
      "Epoch 29/100\n",
      "19/19 [==============================] - 5s 287ms/step - loss: 7.5503e-04 - val_loss: 0.0020\n",
      "Epoch 30/100\n",
      "19/19 [==============================] - 5s 275ms/step - loss: 7.9145e-04 - val_loss: 0.0011\n",
      "Epoch 31/100\n",
      "19/19 [==============================] - 5s 274ms/step - loss: 7.2236e-04 - val_loss: 0.0017\n",
      "Epoch 32/100\n",
      "19/19 [==============================] - 5s 272ms/step - loss: 7.6962e-04 - val_loss: 0.0011\n",
      "Epoch 33/100\n",
      "19/19 [==============================] - 5s 275ms/step - loss: 7.1992e-04 - val_loss: 7.6267e-04\n",
      "Epoch 34/100\n",
      "19/19 [==============================] - 6s 295ms/step - loss: 6.7660e-04 - val_loss: 7.6077e-04\n",
      "Epoch 35/100\n",
      "19/19 [==============================] - 6s 305ms/step - loss: 7.6218e-04 - val_loss: 7.5731e-04\n",
      "Epoch 36/100\n",
      "19/19 [==============================] - 6s 341ms/step - loss: 6.2669e-04 - val_loss: 0.0017\n",
      "Epoch 37/100\n",
      "19/19 [==============================] - 7s 355ms/step - loss: 7.7280e-04 - val_loss: 0.0013\n",
      "Epoch 38/100\n",
      "19/19 [==============================] - 6s 296ms/step - loss: 7.2381e-04 - val_loss: 0.0010\n",
      "Epoch 39/100\n",
      "19/19 [==============================] - 6s 299ms/step - loss: 6.1602e-04 - val_loss: 0.0010\n",
      "Epoch 40/100\n",
      "19/19 [==============================] - 5s 279ms/step - loss: 6.0259e-04 - val_loss: 7.0544e-04\n",
      "Epoch 41/100\n",
      "19/19 [==============================] - 5s 289ms/step - loss: 6.2400e-04 - val_loss: 6.9718e-04\n",
      "Epoch 42/100\n",
      "19/19 [==============================] - 5s 287ms/step - loss: 6.3357e-04 - val_loss: 0.0012\n",
      "Epoch 43/100\n",
      "19/19 [==============================] - 5s 238ms/step - loss: 6.1047e-04 - val_loss: 9.9954e-04\n",
      "Epoch 44/100\n",
      "19/19 [==============================] - 4s 210ms/step - loss: 5.7192e-04 - val_loss: 6.9268e-04\n",
      "Epoch 45/100\n",
      "19/19 [==============================] - 4s 224ms/step - loss: 5.5433e-04 - val_loss: 7.2987e-04\n",
      "Epoch 46/100\n",
      "19/19 [==============================] - 5s 242ms/step - loss: 5.8471e-04 - val_loss: 6.3497e-04\n",
      "Epoch 47/100\n",
      "19/19 [==============================] - 4s 218ms/step - loss: 5.5854e-04 - val_loss: 7.5372e-04\n",
      "Epoch 48/100\n",
      "19/19 [==============================] - 4s 239ms/step - loss: 5.8820e-04 - val_loss: 0.0010\n",
      "Epoch 49/100\n",
      "19/19 [==============================] - 5s 252ms/step - loss: 5.8070e-04 - val_loss: 0.0011\n",
      "Epoch 50/100\n",
      "19/19 [==============================] - 4s 197ms/step - loss: 5.6255e-04 - val_loss: 0.0016\n",
      "Epoch 51/100\n",
      "19/19 [==============================] - 5s 247ms/step - loss: 5.1730e-04 - val_loss: 0.0011\n",
      "Epoch 52/100\n",
      "19/19 [==============================] - 5s 249ms/step - loss: 4.7611e-04 - val_loss: 6.0234e-04\n",
      "Epoch 53/100\n",
      "19/19 [==============================] - 4s 234ms/step - loss: 4.8390e-04 - val_loss: 5.4863e-04\n",
      "Epoch 54/100\n",
      "19/19 [==============================] - 4s 227ms/step - loss: 4.7633e-04 - val_loss: 5.7920e-04\n",
      "Epoch 55/100\n",
      "19/19 [==============================] - 4s 207ms/step - loss: 4.7594e-04 - val_loss: 6.8206e-04\n",
      "Epoch 56/100\n",
      "19/19 [==============================] - 4s 203ms/step - loss: 4.8531e-04 - val_loss: 6.5088e-04\n",
      "Epoch 57/100\n",
      "19/19 [==============================] - 4s 202ms/step - loss: 5.0174e-04 - val_loss: 7.3768e-04\n",
      "Epoch 58/100\n",
      "19/19 [==============================] - 4s 204ms/step - loss: 4.5166e-04 - val_loss: 5.1681e-04\n",
      "Epoch 59/100\n",
      "19/19 [==============================] - 4s 205ms/step - loss: 4.4538e-04 - val_loss: 7.4786e-04\n",
      "Epoch 60/100\n",
      "19/19 [==============================] - 4s 204ms/step - loss: 4.8064e-04 - val_loss: 7.7169e-04\n",
      "Epoch 61/100\n",
      "19/19 [==============================] - 4s 199ms/step - loss: 4.5489e-04 - val_loss: 8.8182e-04\n",
      "Epoch 62/100\n",
      "19/19 [==============================] - 4s 224ms/step - loss: 4.8888e-04 - val_loss: 0.0015\n",
      "Epoch 63/100\n",
      "19/19 [==============================] - 4s 212ms/step - loss: 5.3090e-04 - val_loss: 6.9047e-04\n",
      "Epoch 64/100\n",
      "19/19 [==============================] - 4s 225ms/step - loss: 4.3946e-04 - val_loss: 6.9624e-04\n",
      "Epoch 65/100\n",
      "19/19 [==============================] - 4s 224ms/step - loss: 3.7899e-04 - val_loss: 5.8667e-04\n",
      "Epoch 66/100\n",
      "19/19 [==============================] - 4s 196ms/step - loss: 4.2257e-04 - val_loss: 4.5854e-04\n",
      "Epoch 67/100\n",
      "19/19 [==============================] - 4s 202ms/step - loss: 4.1945e-04 - val_loss: 5.6553e-04\n",
      "Epoch 68/100\n",
      "19/19 [==============================] - 4s 198ms/step - loss: 3.6464e-04 - val_loss: 5.4893e-04\n",
      "Epoch 69/100\n",
      "19/19 [==============================] - 4s 198ms/step - loss: 3.7038e-04 - val_loss: 5.1210e-04\n",
      "Epoch 70/100\n",
      "19/19 [==============================] - 4s 197ms/step - loss: 4.2444e-04 - val_loss: 8.0621e-04\n",
      "Epoch 71/100\n",
      "19/19 [==============================] - 4s 196ms/step - loss: 3.9858e-04 - val_loss: 6.3501e-04\n",
      "Epoch 72/100\n",
      "19/19 [==============================] - 4s 198ms/step - loss: 3.6248e-04 - val_loss: 4.8969e-04\n",
      "Epoch 73/100\n",
      "19/19 [==============================] - 4s 198ms/step - loss: 3.5647e-04 - val_loss: 5.6003e-04\n",
      "Epoch 74/100\n",
      "19/19 [==============================] - 4s 193ms/step - loss: 3.9223e-04 - val_loss: 4.1369e-04\n",
      "Epoch 75/100\n",
      "19/19 [==============================] - 4s 197ms/step - loss: 5.0041e-04 - val_loss: 9.0957e-04\n",
      "Epoch 76/100\n",
      "19/19 [==============================] - 4s 197ms/step - loss: 4.4544e-04 - val_loss: 4.3896e-04\n",
      "Epoch 77/100\n",
      "19/19 [==============================] - 4s 194ms/step - loss: 4.3452e-04 - val_loss: 4.2707e-04\n"
     ]
    },
    {
     "name": "stdout",
     "output_type": "stream",
     "text": [
      "Epoch 78/100\n",
      "19/19 [==============================] - 4s 192ms/step - loss: 4.2130e-04 - val_loss: 4.6230e-04\n",
      "Epoch 79/100\n",
      "19/19 [==============================] - 4s 203ms/step - loss: 3.9441e-04 - val_loss: 8.2041e-04\n",
      "Epoch 80/100\n",
      "19/19 [==============================] - 4s 218ms/step - loss: 4.6768e-04 - val_loss: 0.0012\n",
      "Epoch 81/100\n",
      "19/19 [==============================] - 4s 196ms/step - loss: 4.8548e-04 - val_loss: 5.1366e-04\n",
      "Epoch 82/100\n",
      "19/19 [==============================] - 4s 218ms/step - loss: 4.6886e-04 - val_loss: 0.0011\n",
      "Epoch 83/100\n",
      "19/19 [==============================] - 4s 193ms/step - loss: 4.7387e-04 - val_loss: 7.0946e-04\n",
      "Epoch 84/100\n",
      "19/19 [==============================] - 4s 195ms/step - loss: 3.5662e-04 - val_loss: 4.9326e-04\n",
      "Epoch 85/100\n",
      "19/19 [==============================] - 4s 191ms/step - loss: 3.3584e-04 - val_loss: 3.8521e-04\n",
      "Epoch 86/100\n",
      "19/19 [==============================] - 4s 191ms/step - loss: 3.5533e-04 - val_loss: 3.8160e-04\n",
      "Epoch 87/100\n",
      "19/19 [==============================] - 4s 192ms/step - loss: 3.7526e-04 - val_loss: 4.9858e-04\n",
      "Epoch 88/100\n",
      "19/19 [==============================] - 4s 194ms/step - loss: 3.3163e-04 - val_loss: 5.4152e-04\n",
      "Epoch 89/100\n",
      "19/19 [==============================] - 4s 219ms/step - loss: 3.1453e-04 - val_loss: 4.7451e-04\n",
      "Epoch 90/100\n",
      "19/19 [==============================] - 4s 189ms/step - loss: 3.8505e-04 - val_loss: 4.0887e-04\n",
      "Epoch 91/100\n",
      "19/19 [==============================] - 4s 194ms/step - loss: 4.1269e-04 - val_loss: 4.8087e-04\n",
      "Epoch 92/100\n",
      "19/19 [==============================] - 4s 192ms/step - loss: 3.4013e-04 - val_loss: 4.6743e-04\n",
      "Epoch 93/100\n",
      "19/19 [==============================] - 4s 189ms/step - loss: 4.1194e-04 - val_loss: 8.2254e-04\n",
      "Epoch 94/100\n",
      "19/19 [==============================] - 4s 193ms/step - loss: 3.2652e-04 - val_loss: 3.7603e-04\n",
      "Epoch 95/100\n",
      "19/19 [==============================] - 4s 192ms/step - loss: 3.5567e-04 - val_loss: 4.4748e-04\n",
      "Epoch 96/100\n",
      "19/19 [==============================] - 4s 200ms/step - loss: 3.2553e-04 - val_loss: 4.3975e-04\n",
      "Epoch 97/100\n",
      "19/19 [==============================] - 4s 218ms/step - loss: 3.1209e-04 - val_loss: 5.1015e-04\n",
      "Epoch 98/100\n",
      "19/19 [==============================] - 4s 203ms/step - loss: 3.1460e-04 - val_loss: 4.3304e-04\n",
      "Epoch 99/100\n",
      "19/19 [==============================] - 4s 213ms/step - loss: 3.6527e-04 - val_loss: 6.0951e-04\n",
      "Epoch 100/100\n",
      "19/19 [==============================] - 4s 220ms/step - loss: 3.8522e-04 - val_loss: 7.0240e-04\n"
     ]
    },
    {
     "data": {
      "text/plain": [
       "<keras.callbacks.History at 0x1d2db51cb80>"
      ]
     },
     "execution_count": 9,
     "metadata": {},
     "output_type": "execute_result"
    }
   ],
   "source": [
    "# 9. Fit mô hình với dữ liệu train\n",
    "model.fit(X_train,y_train,validation_data=(X_test,ytest),epochs=100,batch_size=64,verbose=1)"
   ]
  },
  {
   "cell_type": "code",
   "execution_count": 10,
   "metadata": {
    "colab": {
     "base_uri": "https://localhost:8080/"
    },
    "id": "Rxx_KQSkQpBG",
    "outputId": "838b0243-c20c-4627-f6a3-a1d23b99fffc"
   },
   "outputs": [
    {
     "name": "stdout",
     "output_type": "stream",
     "text": [
      "37/37 [==============================] - 2s 29ms/step\n",
      "9/9 [==============================] - 0s 30ms/step\n",
      "3/3 [==============================] - 0s 32ms/step\n"
     ]
    }
   ],
   "source": [
    "# 10. Dự báo dữ liệu test, val\n",
    "train_predict=model.predict(X_train)\n",
    "y_pred=model.predict(X_test)\n",
    "y_pred_val=model.predict(X_val)"
   ]
  },
  {
   "cell_type": "code",
   "execution_count": 12,
   "metadata": {},
   "outputs": [
    {
     "name": "stdout",
     "output_type": "stream",
     "text": [
      "Validation RMSE: 0.0612159419721648\n",
      "Testing RMSE: 0.20382961776037145\n",
      "Validation MAPE: 13.959619499395929\n",
      "Testing MAPE: 44.359070469296654\n",
      "Validation MAE: 0.04788037641961746\n",
      "Testing MAE: 0.1566697027867831\n"
     ]
    }
   ],
   "source": [
    "# calculate the RMSE\n",
    "valid_rmse = np.sqrt(np.mean((y_pred_val - yval)**2))\n",
    "test_rmse = np.sqrt(np.mean((y_pred - ytest)**2))\n",
    "print('Validation RMSE:', valid_rmse)\n",
    "print('Testing RMSE:', test_rmse)\n",
    "\n",
    "# calculate the MAPE\n",
    "valid_mape = np.mean(np.abs((yval - y_pred_val) / yval)) * 100\n",
    "test_mape = np.mean(np.abs((ytest - y_pred) / ytest)) * 100\n",
    "print(\"Validation MAPE:\", valid_mape)\n",
    "print(\"Testing MAPE:\", test_mape)\n",
    "\n",
    "# calculate the MAE\n",
    "valid_mae = np.mean(np.abs(y_pred_val - yval))\n",
    "test_mae = np.mean(np.abs(y_pred - ytest))\n",
    "print(\"Validation MAE:\", valid_mae)\n",
    "print(\"Testing MAE:\", test_mae)"
   ]
  },
  {
   "cell_type": "code",
   "execution_count": 13,
   "metadata": {
    "id": "5rwTN10LQ7rj"
   },
   "outputs": [],
   "source": [
    "# 11. Chuẩn hóa dữ liệu y_pred, y_pred_val\n",
    "train_predict=scaler.inverse_transform(train_predict)\n",
    "y_pred=scaler.inverse_transform(y_pred)\n",
    "y_pred_val=scaler.inverse_transform(y_pred_val)"
   ]
  },
  {
   "cell_type": "code",
   "execution_count": 14,
   "metadata": {
    "colab": {
     "base_uri": "https://localhost:8080/",
     "height": 430
    },
    "id": "KSa_mX51a654",
    "outputId": "a46b0393-ed53-41d8-b391-c22820d72e83"
   },
   "outputs": [
    {
     "data": {
      "image/png": "[encoded data removed]",
      "text/plain": [
       "<Figure size 432x288 with 1 Axes>"
      ]
     },
     "metadata": {
      "needs_background": "light"
     },
     "output_type": "display_data"
    }
   ],
   "source": [
    "# 14.Vẽ hình\n",
    "\n",
    "train_data_index = pd.RangeIndex(start=0, stop=train_size, step=1)\n",
    "plt.plot(scaler.inverse_transform(train_data))\n",
    "test_data_index = pd.RangeIndex(start=train_size, stop=train_size+test_size, step=1)\n",
    "plt.plot(test_data_index,scaler.inverse_transform(test_data))\n",
    "test_data_index = pd.RangeIndex(start=train_size+101, stop=train_size+test_size, step=1)\n",
    "plt.plot(test_data_index,(y_pred))\n",
    "val_data_index = pd.RangeIndex(start=train_size+test_size, stop=train_size+test_size+val_size, step=1)\n",
    "plt.plot(val_data_index,scaler.inverse_transform(val_data))\n",
    "val_data_index = pd.RangeIndex(start=train_size+test_size+101, stop=train_size+test_size+val_size, step=1)\n",
    "plt.plot(val_data_index,y_pred_val)\n",
    "plt.legend(['Train','Test','Predict','Validate','ValidatePred'])\n",
    "plt.show()"
   ]
  },
  {
   "cell_type": "code",
   "execution_count": null,
   "metadata": {},
   "outputs": [],
   "source": []
  }
 ],
 "metadata": {
  "colab": {
   "provenance": []
  },
  "kernelspec": {
   "display_name": "Python 3 (ipykernel)",
   "language": "python",
   "name": "python3"
  },
  "language_info": {
   "codemirror_mode": {
    "name": "ipython",
    "version": 3
   },
   "file_extension": ".py",
   "mimetype": "text/x-python",
   "name": "python",
   "nbconvert_exporter": "python",
   "pygments_lexer": "ipython3",
   "version": "3.9.12"
  }
 },
 "nbformat": 4,
 "nbformat_minor": 1
}

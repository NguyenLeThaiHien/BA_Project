{
 "cells": [
  {
   "cell_type": "code",
   "execution_count": 2,
   "metadata": {
    "colab": {
     "base_uri": "https://localhost:8080/"
    },
    "id": "FMDKda-XIUAK",
    "outputId": "be988c00-2f6c-43b6-a7bf-69a486a7845c"
   },
   "outputs": [],
   "source": [
    "# 1. Import thư viện cần thiết\n",
    "import numpy as np\n",
    "import pandas as pd\n",
    "import matplotlib.pyplot as plt\n",
    "from sklearn.preprocessing import MinMaxScaler\n",
    "from keras.models import Sequential\n",
    "from keras.layers import Dense, LSTM"
   ]
  },
  {
   "cell_type": "code",
   "execution_count": 3,
   "metadata": {
    "id": "aRm9GQ8KJJ5N"
   },
   "outputs": [],
   "source": [
    "# 2. Đọc file csv và gắng index với giá Price\n",
    "df = pd.read_csv('ETH.csv')\n",
    "df1=df.reset_index()['Price']"
   ]
  },
  {
   "cell_type": "code",
   "execution_count": 4,
   "metadata": {
    "id": "RdVpDho2JgL5"
   },
   "outputs": [],
   "source": [
    "# 3. Scaler data\n",
    "scaler=MinMaxScaler(feature_range=(0,1))\n",
    "df1=scaler.fit_transform(np.array(df1).reshape(-1,1))"
   ]
  },
  {
   "cell_type": "code",
   "execution_count": 5,
   "metadata": {
    "id": "B5JXpenzJoR3"
   },
   "outputs": [],
   "source": [
    "# 4. Chia train test với tỉ kệ 7:2:1\n",
    "train_size = int(0.7 * len(df1))\n",
    "test_size = int(0.2 * len(df1))\n",
    "val_size = len(df1) - train_size - test_size\n",
    "\n",
    "train_data = df1[:train_size]\n",
    "test_data = df1[train_size:train_size+test_size]\n",
    "val_data = df1[train_size+test_size:]"
   ]
  },
  {
   "cell_type": "code",
   "execution_count": 6,
   "metadata": {
    "id": "yJfmuBORLSfC"
   },
   "outputs": [],
   "source": [
    "# 5. Hàm Create Dataset\n",
    "import numpy\n",
    "# convert an array of values into a dataset matrix\n",
    "def create_dataset(dataset, time_step=1):\n",
    "\tdataX, dataY = [], []\n",
    "\tfor i in range(len(dataset)-time_step-1):\n",
    "\t\ta = dataset[i:(i+time_step), 0]   ###i=0, X=0,1,2,3-----99   Y=100 \n",
    "\t\tdataX.append(a)\n",
    "\t\tdataY.append(dataset[i + time_step, 0])\n",
    "\treturn numpy.array(dataX), numpy.array(dataY)"
   ]
  },
  {
   "cell_type": "code",
   "execution_count": 7,
   "metadata": {
    "id": "e81cKq03LXFB"
   },
   "outputs": [],
   "source": [
    "#6. Reshape into X=t,t+1,t+2..t+99 and Y=t+100\n",
    "time_step = 100\n",
    "X_train, y_train = create_dataset(train_data, time_step)\n",
    "X_val, yval = create_dataset(val_data, time_step)\n",
    "X_test, ytest = create_dataset(test_data, time_step)"
   ]
  },
  {
   "cell_type": "code",
   "execution_count": 8,
   "metadata": {
    "id": "RdBVfku7O2qb"
   },
   "outputs": [],
   "source": [
    "# 7. Reshape input to be [samples, time steps, features] which is required for LSTM\n",
    "X_train =X_train.reshape(X_train.shape[0],X_train.shape[1] , 1)\n",
    "X_test = X_test.reshape(X_test.shape[0],X_test.shape[1] , 1)\n",
    "X_val = X_val.reshape(X_val.shape[0],X_val.shape[1] , 1)"
   ]
  },
  {
   "cell_type": "code",
   "execution_count": 9,
   "metadata": {
    "id": "sSfxrE7BO9vX"
   },
   "outputs": [],
   "source": [
    "# 8. Define LSTM Model\n",
    "model=Sequential()\n",
    "model.add(LSTM(50,return_sequences=True,input_shape=(100,1)))\n",
    "model.add(LSTM(50,return_sequences=True))\n",
    "model.add(LSTM(50))\n",
    "model.add(Dense(1))\n",
    "model.compile(loss='mean_squared_error',optimizer='adam')"
   ]
  },
  {
   "cell_type": "code",
   "execution_count": 10,
   "metadata": {
    "colab": {
     "base_uri": "https://localhost:8080/"
    },
    "id": "zgfeujZSPEKr",
    "outputId": "87151598-3792-46b5-857d-e7626c6a63de"
   },
   "outputs": [
    {
     "name": "stdout",
     "output_type": "stream",
     "text": [
      "Epoch 1/100\n",
      "19/19 [==============================] - 23s 499ms/step - loss: 0.0168 - val_loss: 0.0139\n",
      "Epoch 2/100\n",
      "19/19 [==============================] - 7s 351ms/step - loss: 0.0026 - val_loss: 0.0061\n",
      "Epoch 3/100\n",
      "19/19 [==============================] - 7s 362ms/step - loss: 0.0020 - val_loss: 0.0037\n",
      "Epoch 4/100\n",
      "19/19 [==============================] - 6s 320ms/step - loss: 0.0020 - val_loss: 0.0035\n",
      "Epoch 5/100\n",
      "19/19 [==============================] - 6s 321ms/step - loss: 0.0019 - val_loss: 0.0034\n",
      "Epoch 6/100\n",
      "19/19 [==============================] - 6s 317ms/step - loss: 0.0016 - val_loss: 0.0067\n",
      "Epoch 7/100\n",
      "19/19 [==============================] - 6s 316ms/step - loss: 0.0018 - val_loss: 0.0022\n",
      "Epoch 8/100\n",
      "19/19 [==============================] - 6s 308ms/step - loss: 0.0017 - val_loss: 0.0029\n",
      "Epoch 9/100\n",
      "19/19 [==============================] - 7s 354ms/step - loss: 0.0014 - val_loss: 0.0054\n",
      "Epoch 10/100\n",
      "19/19 [==============================] - 7s 361ms/step - loss: 0.0013 - val_loss: 0.0040\n",
      "Epoch 11/100\n",
      "19/19 [==============================] - 6s 328ms/step - loss: 0.0014 - val_loss: 0.0018\n",
      "Epoch 12/100\n",
      "19/19 [==============================] - 5s 269ms/step - loss: 0.0015 - val_loss: 0.0019\n",
      "Epoch 13/100\n",
      "19/19 [==============================] - 5s 275ms/step - loss: 0.0012 - val_loss: 0.0017\n",
      "Epoch 14/100\n",
      "19/19 [==============================] - 5s 289ms/step - loss: 0.0011 - val_loss: 0.0040\n",
      "Epoch 15/100\n",
      "19/19 [==============================] - 7s 375ms/step - loss: 0.0011 - val_loss: 0.0016\n",
      "Epoch 16/100\n",
      "19/19 [==============================] - 6s 341ms/step - loss: 0.0010 - val_loss: 0.0015\n",
      "Epoch 17/100\n",
      "19/19 [==============================] - 7s 348ms/step - loss: 0.0011 - val_loss: 0.0033\n",
      "Epoch 18/100\n",
      "19/19 [==============================] - 7s 365ms/step - loss: 8.5204e-04 - val_loss: 0.0013\n",
      "Epoch 19/100\n",
      "19/19 [==============================] - 6s 340ms/step - loss: 9.5984e-04 - val_loss: 0.0013\n",
      "Epoch 20/100\n",
      "19/19 [==============================] - 6s 313ms/step - loss: 8.3460e-04 - val_loss: 0.0028\n",
      "Epoch 21/100\n",
      "19/19 [==============================] - 6s 311ms/step - loss: 7.6929e-04 - val_loss: 0.0013\n",
      "Epoch 22/100\n",
      "19/19 [==============================] - 5s 272ms/step - loss: 7.2744e-04 - val_loss: 0.0024\n",
      "Epoch 23/100\n",
      "19/19 [==============================] - 5s 284ms/step - loss: 7.1712e-04 - val_loss: 0.0014\n",
      "Epoch 24/100\n",
      "19/19 [==============================] - 6s 306ms/step - loss: 7.3361e-04 - val_loss: 0.0020\n",
      "Epoch 25/100\n",
      "19/19 [==============================] - 6s 337ms/step - loss: 7.1701e-04 - val_loss: 0.0012\n",
      "Epoch 26/100\n",
      "19/19 [==============================] - 7s 363ms/step - loss: 6.5170e-04 - val_loss: 0.0017\n",
      "Epoch 27/100\n",
      "19/19 [==============================] - 6s 336ms/step - loss: 6.0596e-04 - val_loss: 0.0011\n",
      "Epoch 28/100\n",
      "19/19 [==============================] - 7s 351ms/step - loss: 7.0156e-04 - val_loss: 0.0011\n",
      "Epoch 29/100\n",
      "19/19 [==============================] - 7s 365ms/step - loss: 6.1759e-04 - val_loss: 0.0021\n",
      "Epoch 30/100\n",
      "19/19 [==============================] - 7s 355ms/step - loss: 6.3408e-04 - val_loss: 0.0010\n",
      "Epoch 31/100\n",
      "19/19 [==============================] - 7s 345ms/step - loss: 7.5536e-04 - val_loss: 0.0010\n",
      "Epoch 32/100\n",
      "19/19 [==============================] - 6s 334ms/step - loss: 6.4083e-04 - val_loss: 0.0011\n",
      "Epoch 33/100\n",
      "19/19 [==============================] - 7s 367ms/step - loss: 5.8810e-04 - val_loss: 9.3414e-04\n",
      "Epoch 34/100\n",
      "19/19 [==============================] - 8s 420ms/step - loss: 5.9052e-04 - val_loss: 9.0667e-04\n",
      "Epoch 35/100\n",
      "19/19 [==============================] - 7s 375ms/step - loss: 6.0598e-04 - val_loss: 9.8652e-04\n",
      "Epoch 36/100\n",
      "19/19 [==============================] - 7s 392ms/step - loss: 5.4313e-04 - val_loss: 0.0015\n",
      "Epoch 37/100\n",
      "19/19 [==============================] - 7s 360ms/step - loss: 5.3524e-04 - val_loss: 8.4513e-04\n",
      "Epoch 38/100\n",
      "19/19 [==============================] - 7s 354ms/step - loss: 5.2664e-04 - val_loss: 8.6657e-04\n",
      "Epoch 39/100\n",
      "19/19 [==============================] - 8s 397ms/step - loss: 5.7241e-04 - val_loss: 8.6665e-04\n",
      "Epoch 40/100\n",
      "19/19 [==============================] - 8s 399ms/step - loss: 5.6080e-04 - val_loss: 9.1713e-04\n",
      "Epoch 41/100\n",
      "19/19 [==============================] - 8s 417ms/step - loss: 5.3138e-04 - val_loss: 0.0016\n",
      "Epoch 42/100\n",
      "19/19 [==============================] - 8s 416ms/step - loss: 5.9488e-04 - val_loss: 0.0028\n",
      "Epoch 43/100\n",
      "19/19 [==============================] - 8s 405ms/step - loss: 6.1231e-04 - val_loss: 7.7785e-04\n",
      "Epoch 44/100\n",
      "19/19 [==============================] - 9s 489ms/step - loss: 4.5331e-04 - val_loss: 7.5603e-04\n",
      "Epoch 45/100\n",
      "19/19 [==============================] - 7s 337ms/step - loss: 5.0443e-04 - val_loss: 7.5036e-04\n",
      "Epoch 46/100\n",
      "19/19 [==============================] - 7s 353ms/step - loss: 4.4564e-04 - val_loss: 7.4168e-04\n",
      "Epoch 47/100\n",
      "19/19 [==============================] - 9s 470ms/step - loss: 5.0596e-04 - val_loss: 0.0014\n",
      "Epoch 48/100\n",
      "19/19 [==============================] - 8s 433ms/step - loss: 4.6960e-04 - val_loss: 7.4741e-04\n",
      "Epoch 49/100\n",
      "19/19 [==============================] - 10s 516ms/step - loss: 4.5050e-04 - val_loss: 8.5215e-04\n",
      "Epoch 50/100\n",
      "19/19 [==============================] - 9s 467ms/step - loss: 4.2688e-04 - val_loss: 7.1939e-04\n",
      "Epoch 51/100\n",
      "19/19 [==============================] - 10s 522ms/step - loss: 4.0466e-04 - val_loss: 6.8425e-04\n",
      "Epoch 52/100\n",
      "19/19 [==============================] - 11s 582ms/step - loss: 4.2715e-04 - val_loss: 7.0846e-04\n",
      "Epoch 53/100\n",
      "19/19 [==============================] - 12s 622ms/step - loss: 4.4557e-04 - val_loss: 7.2497e-04\n",
      "Epoch 54/100\n",
      "19/19 [==============================] - 12s 629ms/step - loss: 4.3035e-04 - val_loss: 6.8804e-04\n",
      "Epoch 55/100\n",
      "19/19 [==============================] - 11s 606ms/step - loss: 4.0311e-04 - val_loss: 7.0815e-04\n",
      "Epoch 56/100\n",
      "19/19 [==============================] - 11s 564ms/step - loss: 3.9726e-04 - val_loss: 0.0011\n",
      "Epoch 57/100\n",
      "19/19 [==============================] - 9s 472ms/step - loss: 5.0413e-04 - val_loss: 6.5689e-04\n",
      "Epoch 58/100\n",
      "19/19 [==============================] - 8s 434ms/step - loss: 4.3483e-04 - val_loss: 6.3637e-04\n",
      "Epoch 59/100\n",
      "19/19 [==============================] - 10s 514ms/step - loss: 4.1233e-04 - val_loss: 8.4197e-04\n",
      "Epoch 60/100\n",
      "19/19 [==============================] - 9s 464ms/step - loss: 3.7371e-04 - val_loss: 6.5445e-04\n",
      "Epoch 61/100\n",
      "19/19 [==============================] - 10s 523ms/step - loss: 4.0122e-04 - val_loss: 7.2984e-04\n",
      "Epoch 62/100\n",
      "19/19 [==============================] - 9s 488ms/step - loss: 3.5467e-04 - val_loss: 8.7877e-04\n",
      "Epoch 63/100\n",
      "19/19 [==============================] - 10s 515ms/step - loss: 3.9808e-04 - val_loss: 6.3592e-04\n",
      "Epoch 64/100\n",
      "19/19 [==============================] - 11s 602ms/step - loss: 3.8699e-04 - val_loss: 6.3085e-04\n",
      "Epoch 65/100\n",
      "19/19 [==============================] - 10s 525ms/step - loss: 4.0687e-04 - val_loss: 6.0428e-04\n",
      "Epoch 66/100\n",
      "19/19 [==============================] - 10s 543ms/step - loss: 3.7076e-04 - val_loss: 5.9344e-04\n",
      "Epoch 67/100\n",
      "19/19 [==============================] - 11s 576ms/step - loss: 3.6816e-04 - val_loss: 0.0013\n",
      "Epoch 68/100\n",
      "19/19 [==============================] - 10s 540ms/step - loss: 4.0002e-04 - val_loss: 7.7096e-04\n",
      "Epoch 69/100\n",
      "19/19 [==============================] - 10s 548ms/step - loss: 4.0193e-04 - val_loss: 5.9779e-04\n",
      "Epoch 70/100\n",
      "19/19 [==============================] - 9s 486ms/step - loss: 3.5461e-04 - val_loss: 7.4005e-04\n",
      "Epoch 71/100\n",
      "19/19 [==============================] - 10s 520ms/step - loss: 4.1193e-04 - val_loss: 7.6415e-04\n",
      "Epoch 72/100\n",
      "19/19 [==============================] - 11s 542ms/step - loss: 3.3173e-04 - val_loss: 7.6021e-04\n",
      "Epoch 73/100\n",
      "19/19 [==============================] - 10s 511ms/step - loss: 3.6262e-04 - val_loss: 0.0018\n",
      "Epoch 74/100\n",
      "19/19 [==============================] - 10s 551ms/step - loss: 3.9643e-04 - val_loss: 8.4689e-04\n",
      "Epoch 75/100\n",
      "19/19 [==============================] - 10s 522ms/step - loss: 4.5619e-04 - val_loss: 9.5718e-04\n",
      "Epoch 76/100\n",
      "19/19 [==============================] - 10s 502ms/step - loss: 3.6222e-04 - val_loss: 9.0542e-04\n",
      "Epoch 77/100\n",
      "19/19 [==============================] - 10s 520ms/step - loss: 4.4046e-04 - val_loss: 8.6499e-04\n",
      "Epoch 78/100\n",
      "19/19 [==============================] - 10s 505ms/step - loss: 4.0321e-04 - val_loss: 7.1533e-04\n",
      "Epoch 79/100\n",
      "19/19 [==============================] - 10s 533ms/step - loss: 3.6628e-04 - val_loss: 5.6218e-04\n",
      "Epoch 80/100\n",
      "19/19 [==============================] - 10s 499ms/step - loss: 3.5300e-04 - val_loss: 6.0728e-04\n",
      "Epoch 81/100\n",
      "19/19 [==============================] - 10s 547ms/step - loss: 4.1201e-04 - val_loss: 5.6637e-04\n",
      "Epoch 82/100\n",
      "19/19 [==============================] - 11s 561ms/step - loss: 3.7141e-04 - val_loss: 5.9189e-04\n",
      "Epoch 83/100\n",
      "19/19 [==============================] - 10s 505ms/step - loss: 4.2967e-04 - val_loss: 5.4321e-04\n",
      "Epoch 84/100\n",
      "19/19 [==============================] - 10s 518ms/step - loss: 3.5972e-04 - val_loss: 0.0013\n",
      "Epoch 85/100\n",
      "19/19 [==============================] - 10s 524ms/step - loss: 3.9012e-04 - val_loss: 0.0014\n",
      "Epoch 86/100\n",
      "19/19 [==============================] - 11s 554ms/step - loss: 3.9012e-04 - val_loss: 7.4960e-04\n",
      "Epoch 87/100\n",
      "19/19 [==============================] - 10s 524ms/step - loss: 3.3898e-04 - val_loss: 6.2097e-04\n",
      "Epoch 88/100\n",
      "19/19 [==============================] - 10s 556ms/step - loss: 3.1487e-04 - val_loss: 0.0013\n",
      "Epoch 89/100\n",
      "19/19 [==============================] - 10s 550ms/step - loss: 4.2819e-04 - val_loss: 0.0015\n",
      "Epoch 90/100\n",
      "19/19 [==============================] - 10s 555ms/step - loss: 4.5787e-04 - val_loss: 0.0011\n",
      "Epoch 91/100\n",
      "19/19 [==============================] - 9s 490ms/step - loss: 4.0982e-04 - val_loss: 7.0069e-04\n",
      "Epoch 92/100\n",
      "19/19 [==============================] - 11s 560ms/step - loss: 4.5581e-04 - val_loss: 5.4529e-04\n",
      "Epoch 93/100\n",
      "19/19 [==============================] - 9s 469ms/step - loss: 3.5592e-04 - val_loss: 0.0011\n",
      "Epoch 94/100\n",
      "19/19 [==============================] - 9s 462ms/step - loss: 3.5013e-04 - val_loss: 0.0013\n",
      "Epoch 95/100\n",
      "19/19 [==============================] - 8s 429ms/step - loss: 3.9991e-04 - val_loss: 5.6344e-04\n",
      "Epoch 96/100\n",
      "19/19 [==============================] - 8s 426ms/step - loss: 3.1137e-04 - val_loss: 8.2699e-04\n",
      "Epoch 97/100\n",
      "19/19 [==============================] - 9s 479ms/step - loss: 3.2254e-04 - val_loss: 9.6838e-04\n",
      "Epoch 98/100\n",
      "19/19 [==============================] - 9s 498ms/step - loss: 2.9828e-04 - val_loss: 5.2158e-04\n",
      "Epoch 99/100\n",
      "19/19 [==============================] - 8s 447ms/step - loss: 3.0332e-04 - val_loss: 5.5462e-04\n",
      "Epoch 100/100\n",
      "19/19 [==============================] - 9s 492ms/step - loss: 3.1587e-04 - val_loss: 6.5671e-04\n"
     ]
    },
    {
     "data": {
      "text/plain": [
       "<keras.callbacks.History at 0x193a08e9d30>"
      ]
     },
     "execution_count": 10,
     "metadata": {},
     "output_type": "execute_result"
    }
   ],
   "source": [
    "# 9. Fit mô hình với dữ liệu train\n",
    "model.fit(X_train,y_train,validation_data=(X_test,ytest),epochs=100,batch_size=64,verbose=1)"
   ]
  },
  {
   "cell_type": "code",
   "execution_count": 11,
   "metadata": {
    "colab": {
     "base_uri": "https://localhost:8080/"
    },
    "id": "Rxx_KQSkQpBG",
    "outputId": "838b0243-c20c-4627-f6a3-a1d23b99fffc"
   },
   "outputs": [
    {
     "name": "stdout",
     "output_type": "stream",
     "text": [
      "37/37 [==============================] - 17s 81ms/step\n",
      "9/9 [==============================] - 1s 90ms/step\n",
      "3/3 [==============================] - 0s 67ms/step\n"
     ]
    }
   ],
   "source": [
    "# 10. Dự báo dữ liệu test, val\n",
    "train_predict=model.predict(X_train)\n",
    "y_pred=model.predict(X_test)\n",
    "y_pred_val=model.predict(X_val)"
   ]
  },
  {
   "cell_type": "code",
   "execution_count": 12,
   "metadata": {},
   "outputs": [
    {
     "name": "stdout",
     "output_type": "stream",
     "text": [
      "Validation RMSE: 0.04586055494268428\n",
      "Testing RMSE: 0.2088252734822014\n",
      "Validation MAPE: 10.378013333168724\n",
      "Testing MAPE: 45.40460030769589\n",
      "Validation MAE: 0.036356633101789236\n",
      "Testing MAE: 0.16257378019913993\n"
     ]
    }
   ],
   "source": [
    "# calculate the RMSE\n",
    "valid_rmse = np.sqrt(np.mean((y_pred_val - yval)**2))\n",
    "test_rmse = np.sqrt(np.mean((y_pred - ytest)**2))\n",
    "print('Validation RMSE:', valid_rmse)\n",
    "print('Testing RMSE:', test_rmse)\n",
    "\n",
    "# calculate the MAPE\n",
    "valid_mape = np.mean(np.abs((yval - y_pred_val) / yval)) * 100\n",
    "test_mape = np.mean(np.abs((ytest - y_pred) / ytest)) * 100\n",
    "print(\"Validation MAPE:\", valid_mape)\n",
    "print(\"Testing MAPE:\", test_mape)\n",
    "\n",
    "# calculate the MAE\n",
    "valid_mae = np.mean(np.abs(y_pred_val - yval))\n",
    "test_mae = np.mean(np.abs(y_pred - ytest))\n",
    "print(\"Validation MAE:\", valid_mae)\n",
    "print(\"Testing MAE:\", test_mae)"
   ]
  },
  {
   "cell_type": "code",
   "execution_count": 13,
   "metadata": {
    "id": "5rwTN10LQ7rj"
   },
   "outputs": [],
   "source": [
    "# 11. Chuẩn hóa dữ liệu y_pred, y_pred_val\n",
    "train_predict=scaler.inverse_transform(train_predict)\n",
    "y_pred=scaler.inverse_transform(y_pred)\n",
    "y_pred_val=scaler.inverse_transform(y_pred_val)"
   ]
  },
  {
   "cell_type": "code",
   "execution_count": 14,
   "metadata": {
    "colab": {
     "base_uri": "https://localhost:8080/",
     "height": 430
    },
    "id": "KSa_mX51a654",
    "outputId": "a46b0393-ed53-41d8-b391-c22820d72e83"
   },
   "outputs": [
    {
     "data": {
      "image/png": "[encoded data removed]",
      "text/plain": [
       "<Figure size 432x288 with 1 Axes>"
      ]
     },
     "metadata": {
      "needs_background": "light"
     },
     "output_type": "display_data"
    }
   ],
   "source": [
    "# 14.Vẽ hình\n",
    "\n",
    "train_data_index = pd.RangeIndex(start=0, stop=train_size, step=1)\n",
    "plt.plot(scaler.inverse_transform(train_data))\n",
    "test_data_index = pd.RangeIndex(start=train_size, stop=train_size+test_size, step=1)\n",
    "plt.plot(test_data_index,scaler.inverse_transform(test_data))\n",
    "test_data_index = pd.RangeIndex(start=train_size+101, stop=train_size+test_size, step=1)\n",
    "plt.plot(test_data_index,(y_pred))\n",
    "val_data_index = pd.RangeIndex(start=train_size+test_size, stop=train_size+test_size+val_size, step=1)\n",
    "plt.plot(val_data_index,scaler.inverse_transform(val_data))\n",
    "val_data_index = pd.RangeIndex(start=train_size+test_size+101, stop=train_size+test_size+val_size, step=1)\n",
    "plt.plot(val_data_index,y_pred_val)\n",
    "plt.legend(['Train','Test','Predict','Validate','ValidatePred'])\n",
    "plt.show()"
   ]
  },
  {
   "cell_type": "code",
   "execution_count": null,
   "metadata": {},
   "outputs": [],
   "source": []
  }
 ],
 "metadata": {
  "colab": {
   "provenance": []
  },
  "kernelspec": {
   "display_name": "Python 3 (ipykernel)",
   "language": "python",
   "name": "python3"
  },
  "language_info": {
   "codemirror_mode": {
    "name": "ipython",
    "version": 3
   },
   "file_extension": ".py",
   "mimetype": "text/x-python",
   "name": "python",
   "nbconvert_exporter": "python",
   "pygments_lexer": "ipython3",
   "version": "3.9.12"
  }
 },
 "nbformat": 4,
 "nbformat_minor": 1
}

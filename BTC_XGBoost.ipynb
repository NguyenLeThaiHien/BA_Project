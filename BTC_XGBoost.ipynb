{
 "cells": [
  {
   "cell_type": "code",
   "execution_count": 1,
   "id": "3d9ca629",
   "metadata": {},
   "outputs": [],
   "source": [
    "import pandas as pd\n",
    "import numpy as np\n",
    "import xgboost as xgb\n",
    "from sklearn.metrics import mean_squared_error, mean_absolute_error\n",
    "from sklearn.model_selection import train_test_split"
   ]
  },
  {
   "cell_type": "code",
   "execution_count": 2,
   "id": "8a9b2c36",
   "metadata": {},
   "outputs": [
    {
     "data": {
      "text/plain": [
       "<bound method NDFrame.head of            Date    Price     Open     High      Low     Vol  Change\n",
       "0     5/18/2018   8245.7   8064.4   8273.6   7939.8  150320  0.0227\n",
       "1     5/19/2018   8245.1   8244.7   8389.1   8153.2  107890 -0.0001\n",
       "2     5/20/2018   8529.0   8243.9   8580.4   8184.7  113760  0.0344\n",
       "3     5/21/2018   8403.3   8529.5   8550.6   8375.5  115520 -0.0147\n",
       "4     5/22/2018   8006.0   8403.8   8414.5   7979.3  137510 -0.0473\n",
       "...         ...      ...      ...      ...      ...     ...     ...\n",
       "1822  5/14/2023  26920.0  26777.4  27176.1  26609.9   26350  0.0053\n",
       "1823  5/15/2023  27183.9  26920.4  27651.7  26752.1   53270  0.0098\n",
       "1824  5/16/2023  27035.3  27183.9  27295.3  26881.9   45290 -0.0055\n",
       "1825  5/17/2023  27403.1  27035.5  27465.3  26597.7   58140  0.0136\n",
       "1826  5/18/2023  26828.0  27403.8  27467.0  26449.8   63390 -0.0210\n",
       "\n",
       "[1827 rows x 7 columns]>"
      ]
     },
     "execution_count": 2,
     "metadata": {},
     "output_type": "execute_result"
    }
   ],
   "source": [
    "# Read csv file\n",
    "df = pd.read_csv('BTC.csv')\n",
    "df.head"
   ]
  },
  {
   "cell_type": "code",
   "execution_count": 3,
   "id": "c38d7efb",
   "metadata": {},
   "outputs": [],
   "source": [
    "# Convert 'Date' column to datetime\n",
    "df['Date'] = pd.to_datetime(df['Date'])\n",
    "\n",
    "# Sort the dataframe by date in ascending order\n",
    "df.sort_values('Date', inplace=True)"
   ]
  },
  {
   "cell_type": "code",
   "execution_count": 4,
   "id": "70afe4fd",
   "metadata": {},
   "outputs": [],
   "source": [
    "# Splitting the dataset into features (X) and target variable (y)\n",
    "X = df.drop(['Date', 'Price'], axis=1)\n",
    "y = df['Price']\n",
    "\n",
    "# Splitting the dataset into train, test, and validation sets \n",
    "# with 7:2:1 scale\n",
    "X_train, X_test, y_train, y_test = train_test_split(X, y, test_size=0.3)\n",
    "X_test, X_val, y_test, y_val = train_test_split(X_test, y_test, test_size=0.33)"
   ]
  },
  {
   "cell_type": "code",
   "execution_count": 5,
   "id": "c901ce12",
   "metadata": {},
   "outputs": [],
   "source": [
    "# Create an instance of the XGBoost regressor\n",
    "xgb_model = xgb.XGBRegressor()\n",
    "\n",
    "# Fit the model on the training data\n",
    "xgb_model.fit(X_train, y_train)\n",
    "\n",
    "# Make predictions on the validation set\n",
    "y_pred_val = xgb_model.predict(X_val)\n"
   ]
  },
  {
   "cell_type": "code",
   "execution_count": 10,
   "id": "2c20ec65",
   "metadata": {},
   "outputs": [
    {
     "name": "stdout",
     "output_type": "stream",
     "text": [
      "RMSE on the validation set: 589.91198736484\n",
      "MAPE on the validation set: 1.5134778646837352\n",
      "MAE on the validation set: 278.4182783525069\n"
     ]
    }
   ],
   "source": [
    "# Calculate predictions on the validation set\n",
    "y_pred_val = xgb_model.predict(X_val)\n",
    "\n",
    "# Calculate RMSE on the validation set\n",
    "rmse_val = np.sqrt(mean_squared_error(y_val, y_pred_val))\n",
    "print(\"RMSE on the validation set:\", rmse_val)\n",
    "\n",
    "# Calculate MAPE on the validation set\n",
    "mape_val = np.mean(np.abs((y_val - y_pred_val) / y_val)) * 100\n",
    "print(\"MAPE on the validation set:\", mape_val)\n",
    "\n",
    "# Calculate MAE on the validation set\n",
    "mae_val = mean_absolute_error(y_val, y_pred_val)\n",
    "print(\"MAE on the validation set:\", mae_val)"
   ]
  },
  {
   "cell_type": "code",
   "execution_count": 7,
   "id": "ac8b2717",
   "metadata": {},
   "outputs": [],
   "source": [
    "# Combine the train and validation sets for final model training\n",
    "X_train_final = pd.concat([X_train, X_val])\n",
    "y_train_final = pd.concat([y_train, y_val])\n",
    "\n",
    "# Retrain the model on the combined dataset\n",
    "xgb_model_final = xgb.XGBRegressor()\n",
    "xgb_model_final.fit(X_train_final, y_train_final)"
   ]
  },
  {
   "cell_type": "code",
   "execution_count": 16,
   "id": "59dc343f",
   "metadata": {},
   "outputs": [
    {
     "name": "stdout",
     "output_type": "stream",
     "text": [
      "RMSE on the test set: 466.05141028700837\n",
      "MAPE on the test set: 1.2057161890302188\n",
      "MAE on the test set: 268.8443950102179\n"
     ]
    }
   ],
   "source": [
    "# Calculate predictions on the test set\n",
    "y_pred_test = xgb_model.predict(X_test)\n",
    "\n",
    "# Calculate RMSE on the test set\n",
    "rmse_test = np.sqrt(mean_squared_error(y_test, y_pred_test))\n",
    "print(\"RMSE on the test set:\", rmse_test)\n",
    "\n",
    "# Calculate MAPE on the test set\n",
    "mape_test = np.mean(np.abs((y_test - y_pred_test) / y_test)) * 100\n",
    "print(\"MAPE on the test set:\", mape_test)\n",
    "\n",
    "# Calculate MAE on the test set\n",
    "mae_test = mean_absolute_error(y_test, y_pred_test)\n",
    "print(\"MAE on the test set:\", mae_test)"
   ]
  },
  {
   "cell_type": "code",
   "execution_count": 21,
   "id": "c0396a75",
   "metadata": {},
   "outputs": [],
   "source": [
    "# Splitting the dataset into features (X) and target variable (y)\n",
    "X = df.drop(['Date', 'Price'], axis=1)\n",
    "y = df['Price']\n",
    "\n",
    "# Splitting the dataset into train, test, and validation sets\n",
    "# with 6:3:1 scale\n",
    "X_train, X_test, y_train, y_test = train_test_split(X, y, test_size=0.4)\n",
    "X_test, X_val, y_test, y_val = train_test_split(X_test, y_test, test_size=0.25)"
   ]
  },
  {
   "cell_type": "code",
   "execution_count": 22,
   "id": "1426f718",
   "metadata": {},
   "outputs": [],
   "source": [
    "# Create an instance of the XGBoost regressor\n",
    "xgb_model = xgb.XGBRegressor()\n",
    "\n",
    "# Fit the model on the training data\n",
    "xgb_model.fit(X_train, y_train)\n",
    "\n",
    "# Make predictions on the validation set\n",
    "y_pred_val = xgb_model.predict(X_val)"
   ]
  },
  {
   "cell_type": "code",
   "execution_count": 23,
   "id": "8f3e1317",
   "metadata": {},
   "outputs": [
    {
     "name": "stdout",
     "output_type": "stream",
     "text": [
      "RMSE on the validation set: 470.8254317424871\n",
      "MAPE on the validation set: 1.3444149916600074\n",
      "MAE on the validation set: 284.22545706326844\n"
     ]
    }
   ],
   "source": [
    "# Calculate predictions on the validation set\n",
    "y_pred_val = xgb_model.predict(X_val)\n",
    "\n",
    "# Calculate RMSE on the validation set\n",
    "rmse_val = np.sqrt(mean_squared_error(y_val, y_pred_val))\n",
    "print(\"RMSE on the validation set:\", rmse_val)\n",
    "\n",
    "# Calculate MAPE on the validation set\n",
    "mape_val = np.mean(np.abs((y_val - y_pred_val) / y_val)) * 100\n",
    "print(\"MAPE on the validation set:\", mape_val)\n",
    "\n",
    "# Calculate MAE on the validation set\n",
    "mae_val = mean_absolute_error(y_val, y_pred_val)\n",
    "print(\"MAE on the validation set:\", mae_val)"
   ]
  },
  {
   "cell_type": "code",
   "execution_count": 24,
   "id": "e1d133e0",
   "metadata": {},
   "outputs": [
    {
     "data": {
      "text/plain": [
       "XGBRegressor(base_score=None, booster=None, callbacks=None,\n",
       "             colsample_bylevel=None, colsample_bynode=None,\n",
       "             colsample_bytree=None, early_stopping_rounds=None,\n",
       "             enable_categorical=False, eval_metric=None, feature_types=None,\n",
       "             gamma=None, gpu_id=None, grow_policy=None, importance_type=None,\n",
       "             interaction_constraints=None, learning_rate=None, max_bin=None,\n",
       "             max_cat_threshold=None, max_cat_to_onehot=None,\n",
       "             max_delta_step=None, max_depth=None, max_leaves=None,\n",
       "             min_child_weight=None, missing=nan, monotone_constraints=None,\n",
       "             n_estimators=100, n_jobs=None, num_parallel_tree=None,\n",
       "             predictor=None, random_state=None, ...)"
      ]
     },
     "execution_count": 24,
     "metadata": {},
     "output_type": "execute_result"
    }
   ],
   "source": [
    "# Combine the train and validation sets for final model training\n",
    "X_train_final = pd.concat([X_train, X_val])\n",
    "y_train_final = pd.concat([y_train, y_val])\n",
    "\n",
    "# Retrain the model on the combined dataset\n",
    "xgb_model_final = xgb.XGBRegressor()\n",
    "xgb_model_final.fit(X_train_final, y_train_final)"
   ]
  },
  {
   "cell_type": "code",
   "execution_count": 25,
   "id": "cdc743f8",
   "metadata": {},
   "outputs": [
    {
     "name": "stdout",
     "output_type": "stream",
     "text": [
      "RMSE on the test set: 469.25494085062616\n",
      "MAPE on the test set: 1.2551613510690558\n",
      "MAE on the test set: 273.8608287950502\n"
     ]
    }
   ],
   "source": [
    "# Calculate predictions on the test set\n",
    "y_pred_test = xgb_model.predict(X_test)\n",
    "\n",
    "# Calculate RMSE on the test set\n",
    "rmse_test = np.sqrt(mean_squared_error(y_test, y_pred_test))\n",
    "print(\"RMSE on the test set:\", rmse_test)\n",
    "\n",
    "# Calculate MAPE on the test set\n",
    "mape_test = np.mean(np.abs((y_test - y_pred_test) / y_test)) * 100\n",
    "print(\"MAPE on the test set:\", mape_test)\n",
    "\n",
    "# Calculate MAE on the test set\n",
    "mae_test = mean_absolute_error(y_test, y_pred_test)\n",
    "print(\"MAE on the test set:\", mae_test)"
   ]
  },
  {
   "cell_type": "code",
   "execution_count": 26,
   "id": "e298605c",
   "metadata": {},
   "outputs": [],
   "source": [
    "# Splitting the dataset into features (X) and target variable (y)\n",
    "X = df.drop(['Date', 'Price'], axis=1)\n",
    "y = df['Price']\n",
    "\n",
    "# Splitting the dataset into train, test, and validation sets\n",
    "# with 5:3:2 scale\n",
    "X_train, X_test, y_train, y_test = train_test_split(X, y, test_size=0.5)\n",
    "X_test, X_val, y_test, y_val = train_test_split(X_test, y_test, test_size=0.4)"
   ]
  },
  {
   "cell_type": "code",
   "execution_count": 27,
   "id": "3429a107",
   "metadata": {},
   "outputs": [],
   "source": [
    "# Create an instance of the XGBoost regressor\n",
    "xgb_model = xgb.XGBRegressor()\n",
    "\n",
    "# Fit the model on the training data\n",
    "xgb_model.fit(X_train, y_train)\n",
    "\n",
    "# Make predictions on the validation set\n",
    "y_pred_val = xgb_model.predict(X_val)"
   ]
  },
  {
   "cell_type": "code",
   "execution_count": 28,
   "id": "49b9f546",
   "metadata": {},
   "outputs": [
    {
     "name": "stdout",
     "output_type": "stream",
     "text": [
      "RMSE on the validation set: 556.0704543316731\n",
      "MAPE on the validation set: 1.380034528489223\n",
      "MAE on the validation set: 297.73510368639\n"
     ]
    }
   ],
   "source": [
    "# Calculate predictions on the validation set\n",
    "y_pred_val = xgb_model.predict(X_val)\n",
    "\n",
    "# Calculate RMSE on the validation set\n",
    "rmse_val = np.sqrt(mean_squared_error(y_val, y_pred_val))\n",
    "print(\"RMSE on the validation set:\", rmse_val)\n",
    "\n",
    "# Calculate MAPE on the validation set\n",
    "mape_val = np.mean(np.abs((y_val - y_pred_val) / y_val)) * 100\n",
    "print(\"MAPE on the validation set:\", mape_val)\n",
    "\n",
    "# Calculate MAE on the validation set\n",
    "mae_val = mean_absolute_error(y_val, y_pred_val)\n",
    "print(\"MAE on the validation set:\", mae_val)"
   ]
  },
  {
   "cell_type": "code",
   "execution_count": 29,
   "id": "1b2d6ccc",
   "metadata": {},
   "outputs": [
    {
     "data": {
      "text/plain": [
       "XGBRegressor(base_score=None, booster=None, callbacks=None,\n",
       "             colsample_bylevel=None, colsample_bynode=None,\n",
       "             colsample_bytree=None, early_stopping_rounds=None,\n",
       "             enable_categorical=False, eval_metric=None, feature_types=None,\n",
       "             gamma=None, gpu_id=None, grow_policy=None, importance_type=None,\n",
       "             interaction_constraints=None, learning_rate=None, max_bin=None,\n",
       "             max_cat_threshold=None, max_cat_to_onehot=None,\n",
       "             max_delta_step=None, max_depth=None, max_leaves=None,\n",
       "             min_child_weight=None, missing=nan, monotone_constraints=None,\n",
       "             n_estimators=100, n_jobs=None, num_parallel_tree=None,\n",
       "             predictor=None, random_state=None, ...)"
      ]
     },
     "execution_count": 29,
     "metadata": {},
     "output_type": "execute_result"
    }
   ],
   "source": [
    "# Combine the train and validation sets for final model training\n",
    "X_train_final = pd.concat([X_train, X_val])\n",
    "y_train_final = pd.concat([y_train, y_val])\n",
    "\n",
    "# Retrain the model on the combined dataset\n",
    "xgb_model_final = xgb.XGBRegressor()\n",
    "xgb_model_final.fit(X_train_final, y_train_final)"
   ]
  },
  {
   "cell_type": "code",
   "execution_count": 30,
   "id": "4eea0c13",
   "metadata": {},
   "outputs": [
    {
     "name": "stdout",
     "output_type": "stream",
     "text": [
      "RMSE on the test set: 478.4697582594232\n",
      "MAPE on the test set: 1.3081933406965407\n",
      "MAE on the test set: 281.6336599530964\n"
     ]
    }
   ],
   "source": [
    "# Calculate predictions on the test set\n",
    "y_pred_test = xgb_model.predict(X_test)\n",
    "\n",
    "# Calculate RMSE on the test set\n",
    "rmse_test = np.sqrt(mean_squared_error(y_test, y_pred_test))\n",
    "print(\"RMSE on the test set:\", rmse_test)\n",
    "\n",
    "# Calculate MAPE on the test set\n",
    "mape_test = np.mean(np.abs((y_test - y_pred_test) / y_test)) * 100\n",
    "print(\"MAPE on the test set:\", mape_test)\n",
    "\n",
    "# Calculate MAE on the test set\n",
    "mae_test = mean_absolute_error(y_test, y_pred_test)\n",
    "print(\"MAE on the test set:\", mae_test)"
   ]
  },
  {
   "cell_type": "code",
   "execution_count": null,
   "id": "eb9b47c2",
   "metadata": {},
   "outputs": [],
   "source": []
  }
 ],
 "metadata": {
  "kernelspec": {
   "display_name": "Python 3 (ipykernel)",
   "language": "python",
   "name": "python3"
  },
  "language_info": {
   "codemirror_mode": {
    "name": "ipython",
    "version": 3
   },
   "file_extension": ".py",
   "mimetype": "text/x-python",
   "name": "python",
   "nbconvert_exporter": "python",
   "pygments_lexer": "ipython3",
   "version": "3.9.12"
  }
 },
 "nbformat": 4,
 "nbformat_minor": 5
}

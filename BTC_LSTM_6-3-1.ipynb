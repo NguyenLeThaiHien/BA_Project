{
 "cells": [
  {
   "cell_type": "code",
   "execution_count": 1,
   "metadata": {
    "colab": {
     "base_uri": "https://localhost:8080/"
    },
    "id": "FMDKda-XIUAK",
    "outputId": "be988c00-2f6c-43b6-a7bf-69a486a7845c"
   },
   "outputs": [],
   "source": [
    "# 1. Import thư viện cần thiết\n",
    "import numpy as np\n",
    "import pandas as pd\n",
    "import matplotlib.pyplot as plt\n",
    "from sklearn.preprocessing import MinMaxScaler\n",
    "from keras.models import Sequential\n",
    "from keras.layers import Dense, LSTM"
   ]
  },
  {
   "cell_type": "code",
   "execution_count": 2,
   "metadata": {
    "id": "aRm9GQ8KJJ5N"
   },
   "outputs": [],
   "source": [
    "# 2. Đọc file csv và gắng index với giá Price\n",
    "df = pd.read_csv('BTC.csv')\n",
    "df1=df.reset_index()['Price']"
   ]
  },
  {
   "cell_type": "code",
   "execution_count": 3,
   "metadata": {
    "id": "RdVpDho2JgL5"
   },
   "outputs": [],
   "source": [
    "# 3. Scaler data\n",
    "scaler=MinMaxScaler(feature_range=(0,1))\n",
    "df1=scaler.fit_transform(np.array(df1).reshape(-1,1))"
   ]
  },
  {
   "cell_type": "code",
   "execution_count": 4,
   "metadata": {
    "id": "B5JXpenzJoR3"
   },
   "outputs": [],
   "source": [
    "# 4. Chia train test với tỉ kệ 6:3:1\n",
    "train_size = int(0.6 * len(df1))\n",
    "test_size = int(0.3 * len(df1))\n",
    "val_size = len(df1) - train_size - test_size\n",
    "\n",
    "train_data = df1[:train_size]\n",
    "test_data = df1[train_size:train_size+test_size]\n",
    "val_data = df1[train_size+test_size:]"
   ]
  },
  {
   "cell_type": "code",
   "execution_count": 5,
   "metadata": {
    "id": "yJfmuBORLSfC"
   },
   "outputs": [],
   "source": [
    "# 5. Hàm Create Dataset\n",
    "import numpy\n",
    "# convert an array of values into a dataset matrix\n",
    "def create_dataset(dataset, time_step=1):\n",
    "\tdataX, dataY = [], []\n",
    "\tfor i in range(len(dataset)-time_step-1):\n",
    "\t\ta = dataset[i:(i+time_step), 0]   ###i=0, X=0,1,2,3-----99   Y=100 \n",
    "\t\tdataX.append(a)\n",
    "\t\tdataY.append(dataset[i + time_step, 0])\n",
    "\treturn numpy.array(dataX), numpy.array(dataY)"
   ]
  },
  {
   "cell_type": "code",
   "execution_count": 6,
   "metadata": {
    "id": "e81cKq03LXFB"
   },
   "outputs": [],
   "source": [
    "#6. Reshape into X=t,t+1,t+2..t+99 and Y=t+100\n",
    "time_step = 100\n",
    "X_train, y_train = create_dataset(train_data, time_step)\n",
    "X_val, yval = create_dataset(val_data, time_step)\n",
    "X_test, ytest = create_dataset(test_data, time_step)"
   ]
  },
  {
   "cell_type": "code",
   "execution_count": 7,
   "metadata": {
    "id": "RdBVfku7O2qb"
   },
   "outputs": [],
   "source": [
    "# 7. Reshape input to be [samples, time steps, features] which is required for LSTM\n",
    "X_train =X_train.reshape(X_train.shape[0],X_train.shape[1] , 1)\n",
    "X_test = X_test.reshape(X_test.shape[0],X_test.shape[1] , 1)\n",
    "X_val = X_val.reshape(X_val.shape[0],X_val.shape[1] , 1)"
   ]
  },
  {
   "cell_type": "code",
   "execution_count": 8,
   "metadata": {
    "id": "sSfxrE7BO9vX"
   },
   "outputs": [],
   "source": [
    "# 8. Define LSTM Model\n",
    "model=Sequential()\n",
    "model.add(LSTM(50,return_sequences=True,input_shape=(100,1)))\n",
    "model.add(LSTM(50,return_sequences=True))\n",
    "model.add(LSTM(50))\n",
    "model.add(Dense(1))\n",
    "model.compile(loss='mean_squared_error',optimizer='adam')"
   ]
  },
  {
   "cell_type": "code",
   "execution_count": 9,
   "metadata": {
    "colab": {
     "base_uri": "https://localhost:8080/"
    },
    "id": "zgfeujZSPEKr",
    "outputId": "87151598-3792-46b5-857d-e7626c6a63de"
   },
   "outputs": [
    {
     "name": "stdout",
     "output_type": "stream",
     "text": [
      "Epoch 1/100\n",
      "16/16 [==============================] - 9s 266ms/step - loss: 0.0234 - val_loss: 0.0081\n",
      "Epoch 2/100\n",
      "16/16 [==============================] - 3s 171ms/step - loss: 0.0033 - val_loss: 0.0039\n",
      "Epoch 3/100\n",
      "16/16 [==============================] - 3s 177ms/step - loss: 0.0019 - val_loss: 0.0048\n",
      "Epoch 4/100\n",
      "16/16 [==============================] - 4s 261ms/step - loss: 0.0013 - val_loss: 0.0051\n",
      "Epoch 5/100\n",
      "16/16 [==============================] - 5s 286ms/step - loss: 0.0012 - val_loss: 0.0053\n",
      "Epoch 6/100\n",
      "16/16 [==============================] - 4s 277ms/step - loss: 0.0012 - val_loss: 0.0045\n",
      "Epoch 7/100\n",
      "16/16 [==============================] - 4s 225ms/step - loss: 0.0012 - val_loss: 0.0066\n",
      "Epoch 8/100\n",
      "16/16 [==============================] - 4s 223ms/step - loss: 0.0012 - val_loss: 0.0102\n",
      "Epoch 9/100\n",
      "16/16 [==============================] - 4s 225ms/step - loss: 0.0011 - val_loss: 0.0117\n",
      "Epoch 10/100\n",
      "16/16 [==============================] - 4s 258ms/step - loss: 0.0011 - val_loss: 0.0080\n",
      "Epoch 11/100\n",
      "16/16 [==============================] - 4s 277ms/step - loss: 0.0011 - val_loss: 0.0070\n",
      "Epoch 12/100\n",
      "16/16 [==============================] - 5s 286ms/step - loss: 0.0010 - val_loss: 0.0061\n",
      "Epoch 13/100\n",
      "16/16 [==============================] - 4s 278ms/step - loss: 9.9430e-04 - val_loss: 0.0078\n",
      "Epoch 14/100\n",
      "16/16 [==============================] - 5s 286ms/step - loss: 9.9900e-04 - val_loss: 0.0101\n",
      "Epoch 15/100\n",
      "16/16 [==============================] - 5s 320ms/step - loss: 0.0011 - val_loss: 0.0053\n",
      "Epoch 16/100\n",
      "16/16 [==============================] - 5s 288ms/step - loss: 9.5552e-04 - val_loss: 0.0049\n",
      "Epoch 17/100\n",
      "16/16 [==============================] - 4s 265ms/step - loss: 9.7463e-04 - val_loss: 0.0060\n",
      "Epoch 18/100\n",
      "16/16 [==============================] - 5s 283ms/step - loss: 9.8568e-04 - val_loss: 0.0100\n",
      "Epoch 19/100\n",
      "16/16 [==============================] - 4s 255ms/step - loss: 9.6222e-04 - val_loss: 0.0057\n",
      "Epoch 20/100\n",
      "16/16 [==============================] - 5s 349ms/step - loss: 9.2341e-04 - val_loss: 0.0049\n",
      "Epoch 21/100\n",
      "16/16 [==============================] - 4s 279ms/step - loss: 9.4710e-04 - val_loss: 0.0074\n",
      "Epoch 22/100\n",
      "16/16 [==============================] - 4s 280ms/step - loss: 9.4739e-04 - val_loss: 0.0054\n",
      "Epoch 23/100\n",
      "16/16 [==============================] - 4s 259ms/step - loss: 8.6001e-04 - val_loss: 0.0053\n",
      "Epoch 24/100\n",
      "16/16 [==============================] - 4s 262ms/step - loss: 8.3686e-04 - val_loss: 0.0071\n",
      "Epoch 25/100\n",
      "16/16 [==============================] - 4s 236ms/step - loss: 8.4301e-04 - val_loss: 0.0042\n",
      "Epoch 26/100\n",
      "16/16 [==============================] - 4s 281ms/step - loss: 9.5105e-04 - val_loss: 0.0063\n",
      "Epoch 27/100\n",
      "16/16 [==============================] - 4s 265ms/step - loss: 8.1480e-04 - val_loss: 0.0038\n",
      "Epoch 28/100\n",
      "16/16 [==============================] - 4s 283ms/step - loss: 8.1465e-04 - val_loss: 0.0042\n",
      "Epoch 29/100\n",
      "16/16 [==============================] - 4s 284ms/step - loss: 7.9915e-04 - val_loss: 0.0067\n",
      "Epoch 30/100\n",
      "16/16 [==============================] - 5s 300ms/step - loss: 7.2890e-04 - val_loss: 0.0045\n",
      "Epoch 31/100\n",
      "16/16 [==============================] - 4s 282ms/step - loss: 6.9772e-04 - val_loss: 0.0084\n",
      "Epoch 32/100\n",
      "16/16 [==============================] - 4s 275ms/step - loss: 6.5103e-04 - val_loss: 0.0032\n",
      "Epoch 33/100\n",
      "16/16 [==============================] - 4s 247ms/step - loss: 7.1799e-04 - val_loss: 0.0070\n",
      "Epoch 34/100\n",
      "16/16 [==============================] - 4s 239ms/step - loss: 6.3333e-04 - val_loss: 0.0046\n",
      "Epoch 35/100\n",
      "16/16 [==============================] - 3s 220ms/step - loss: 5.2720e-04 - val_loss: 0.0077\n",
      "Epoch 36/100\n",
      "16/16 [==============================] - 4s 228ms/step - loss: 6.2779e-04 - val_loss: 0.0039\n",
      "Epoch 37/100\n",
      "16/16 [==============================] - 4s 242ms/step - loss: 6.7425e-04 - val_loss: 0.0063\n",
      "Epoch 38/100\n",
      "16/16 [==============================] - 5s 338ms/step - loss: 4.5088e-04 - val_loss: 0.0044\n",
      "Epoch 39/100\n",
      "16/16 [==============================] - 5s 304ms/step - loss: 4.9240e-04 - val_loss: 0.0060\n",
      "Epoch 40/100\n",
      "16/16 [==============================] - 5s 295ms/step - loss: 4.2436e-04 - val_loss: 0.0062\n",
      "Epoch 41/100\n",
      "16/16 [==============================] - 5s 291ms/step - loss: 4.0322e-04 - val_loss: 0.0071\n",
      "Epoch 42/100\n",
      "16/16 [==============================] - 4s 265ms/step - loss: 4.1455e-04 - val_loss: 0.0047\n",
      "Epoch 43/100\n",
      "16/16 [==============================] - 4s 262ms/step - loss: 4.9692e-04 - val_loss: 0.0054\n",
      "Epoch 44/100\n",
      "16/16 [==============================] - 5s 316ms/step - loss: 5.1365e-04 - val_loss: 0.0087\n",
      "Epoch 45/100\n",
      "16/16 [==============================] - 5s 328ms/step - loss: 4.9519e-04 - val_loss: 0.0050\n",
      "Epoch 46/100\n",
      "16/16 [==============================] - 4s 252ms/step - loss: 4.2370e-04 - val_loss: 0.0055\n",
      "Epoch 47/100\n",
      "16/16 [==============================] - 4s 267ms/step - loss: 4.2352e-04 - val_loss: 0.0065\n",
      "Epoch 48/100\n",
      "16/16 [==============================] - 5s 300ms/step - loss: 4.0594e-04 - val_loss: 0.0054\n",
      "Epoch 49/100\n",
      "16/16 [==============================] - 4s 252ms/step - loss: 3.8652e-04 - val_loss: 0.0059\n",
      "Epoch 50/100\n",
      "16/16 [==============================] - 4s 281ms/step - loss: 3.7132e-04 - val_loss: 0.0043\n",
      "Epoch 51/100\n",
      "16/16 [==============================] - 5s 291ms/step - loss: 4.1713e-04 - val_loss: 0.0069\n",
      "Epoch 52/100\n",
      "16/16 [==============================] - 4s 272ms/step - loss: 3.7381e-04 - val_loss: 0.0053\n",
      "Epoch 53/100\n",
      "16/16 [==============================] - 5s 287ms/step - loss: 3.7194e-04 - val_loss: 0.0063\n",
      "Epoch 54/100\n",
      "16/16 [==============================] - 5s 300ms/step - loss: 4.3187e-04 - val_loss: 0.0078\n",
      "Epoch 55/100\n",
      "16/16 [==============================] - 5s 296ms/step - loss: 4.9518e-04 - val_loss: 0.0056\n",
      "Epoch 56/100\n",
      "16/16 [==============================] - 4s 247ms/step - loss: 3.5676e-04 - val_loss: 0.0037\n",
      "Epoch 57/100\n",
      "16/16 [==============================] - 4s 275ms/step - loss: 3.7284e-04 - val_loss: 0.0070\n",
      "Epoch 58/100\n",
      "16/16 [==============================] - 5s 298ms/step - loss: 3.6068e-04 - val_loss: 0.0040\n",
      "Epoch 59/100\n",
      "16/16 [==============================] - 5s 303ms/step - loss: 3.1718e-04 - val_loss: 0.0045\n",
      "Epoch 60/100\n",
      "16/16 [==============================] - 5s 328ms/step - loss: 3.4205e-04 - val_loss: 0.0043\n",
      "Epoch 61/100\n",
      "16/16 [==============================] - 5s 301ms/step - loss: 3.5260e-04 - val_loss: 0.0069\n",
      "Epoch 62/100\n",
      "16/16 [==============================] - 5s 295ms/step - loss: 3.4067e-04 - val_loss: 0.0043\n",
      "Epoch 63/100\n",
      "16/16 [==============================] - 5s 288ms/step - loss: 3.4287e-04 - val_loss: 0.0086\n",
      "Epoch 64/100\n",
      "16/16 [==============================] - 4s 238ms/step - loss: 3.7649e-04 - val_loss: 0.0056\n",
      "Epoch 65/100\n",
      "16/16 [==============================] - 4s 279ms/step - loss: 3.6648e-04 - val_loss: 0.0039\n",
      "Epoch 66/100\n",
      "16/16 [==============================] - 4s 259ms/step - loss: 4.1736e-04 - val_loss: 0.0070\n",
      "Epoch 67/100\n",
      "16/16 [==============================] - 4s 278ms/step - loss: 4.4136e-04 - val_loss: 0.0042\n",
      "Epoch 68/100\n",
      "16/16 [==============================] - 5s 286ms/step - loss: 4.0417e-04 - val_loss: 0.0055\n",
      "Epoch 69/100\n",
      "16/16 [==============================] - 5s 310ms/step - loss: 3.9909e-04 - val_loss: 0.0086\n",
      "Epoch 70/100\n",
      "16/16 [==============================] - 5s 292ms/step - loss: 3.1871e-04 - val_loss: 0.0048\n",
      "Epoch 71/100\n",
      "16/16 [==============================] - 5s 301ms/step - loss: 3.2555e-04 - val_loss: 0.0035\n",
      "Epoch 72/100\n",
      "16/16 [==============================] - 4s 269ms/step - loss: 3.3064e-04 - val_loss: 0.0044\n",
      "Epoch 73/100\n",
      "16/16 [==============================] - 4s 252ms/step - loss: 2.9436e-04 - val_loss: 0.0034\n",
      "Epoch 74/100\n",
      "16/16 [==============================] - 5s 312ms/step - loss: 2.8575e-04 - val_loss: 0.0046\n",
      "Epoch 75/100\n",
      "16/16 [==============================] - 6s 359ms/step - loss: 2.8195e-04 - val_loss: 0.0034\n",
      "Epoch 76/100\n",
      "16/16 [==============================] - 5s 300ms/step - loss: 2.9638e-04 - val_loss: 0.0051\n",
      "Epoch 77/100\n",
      "16/16 [==============================] - 5s 324ms/step - loss: 2.8525e-04 - val_loss: 0.0033\n",
      "Epoch 78/100\n",
      "16/16 [==============================] - 5s 303ms/step - loss: 2.9085e-04 - val_loss: 0.0032\n",
      "Epoch 79/100\n",
      "16/16 [==============================] - 5s 331ms/step - loss: 2.9917e-04 - val_loss: 0.0064\n",
      "Epoch 80/100\n",
      "16/16 [==============================] - 5s 316ms/step - loss: 3.1220e-04 - val_loss: 0.0029\n",
      "Epoch 81/100\n",
      "16/16 [==============================] - 5s 323ms/step - loss: 3.7524e-04 - val_loss: 0.0067\n",
      "Epoch 82/100\n",
      "16/16 [==============================] - 5s 306ms/step - loss: 2.9580e-04 - val_loss: 0.0038\n",
      "Epoch 83/100\n",
      "16/16 [==============================] - 5s 321ms/step - loss: 2.6701e-04 - val_loss: 0.0044\n",
      "Epoch 84/100\n",
      "16/16 [==============================] - 5s 314ms/step - loss: 2.6180e-04 - val_loss: 0.0053\n",
      "Epoch 85/100\n",
      "16/16 [==============================] - 5s 300ms/step - loss: 2.6831e-04 - val_loss: 0.0033\n",
      "Epoch 86/100\n",
      "16/16 [==============================] - 5s 292ms/step - loss: 2.7817e-04 - val_loss: 0.0063\n",
      "Epoch 87/100\n",
      "16/16 [==============================] - 4s 249ms/step - loss: 2.7837e-04 - val_loss: 0.0032\n",
      "Epoch 88/100\n",
      "16/16 [==============================] - 4s 274ms/step - loss: 2.7929e-04 - val_loss: 0.0040\n",
      "Epoch 89/100\n",
      "16/16 [==============================] - 4s 273ms/step - loss: 2.3964e-04 - val_loss: 0.0049\n",
      "Epoch 90/100\n",
      "16/16 [==============================] - 4s 231ms/step - loss: 2.4946e-04 - val_loss: 0.0031\n",
      "Epoch 91/100\n",
      "16/16 [==============================] - 4s 250ms/step - loss: 2.9012e-04 - val_loss: 0.0039\n",
      "Epoch 92/100\n",
      "16/16 [==============================] - 4s 262ms/step - loss: 2.4445e-04 - val_loss: 0.0044\n",
      "Epoch 93/100\n",
      "16/16 [==============================] - 4s 262ms/step - loss: 2.6791e-04 - val_loss: 0.0032\n",
      "Epoch 94/100\n",
      "16/16 [==============================] - 4s 239ms/step - loss: 3.6373e-04 - val_loss: 0.0062\n",
      "Epoch 95/100\n",
      "16/16 [==============================] - 4s 277ms/step - loss: 2.5722e-04 - val_loss: 0.0035\n",
      "Epoch 96/100\n",
      "16/16 [==============================] - 5s 290ms/step - loss: 2.2873e-04 - val_loss: 0.0039\n",
      "Epoch 97/100\n",
      "16/16 [==============================] - 4s 277ms/step - loss: 2.3115e-04 - val_loss: 0.0035\n",
      "Epoch 98/100\n",
      "16/16 [==============================] - 4s 279ms/step - loss: 2.5308e-04 - val_loss: 0.0054\n",
      "Epoch 99/100\n",
      "16/16 [==============================] - 4s 241ms/step - loss: 3.4254e-04 - val_loss: 0.0070\n",
      "Epoch 100/100\n",
      "16/16 [==============================] - 4s 273ms/step - loss: 3.2295e-04 - val_loss: 0.0030\n"
     ]
    },
    {
     "data": {
      "text/plain": [
       "<keras.callbacks.History at 0x1c813ca2fa0>"
      ]
     },
     "execution_count": 9,
     "metadata": {},
     "output_type": "execute_result"
    }
   ],
   "source": [
    "# 9. Fit mô hình với dữ liệu train\n",
    "model.fit(X_train,y_train,validation_data=(X_test,ytest),epochs=100,batch_size=64,verbose=1)"
   ]
  },
  {
   "cell_type": "code",
   "execution_count": 10,
   "metadata": {
    "colab": {
     "base_uri": "https://localhost:8080/"
    },
    "id": "Rxx_KQSkQpBG",
    "outputId": "838b0243-c20c-4627-f6a3-a1d23b99fffc"
   },
   "outputs": [
    {
     "name": "stdout",
     "output_type": "stream",
     "text": [
      "32/32 [==============================] - 4s 53ms/step\n",
      "14/14 [==============================] - 1s 61ms/step\n",
      "3/3 [==============================] - 0s 48ms/step\n"
     ]
    }
   ],
   "source": [
    "# 10. Dự báo dữ liệu test, val\n",
    "train_predict=model.predict(X_train)\n",
    "y_pred=model.predict(X_test)\n",
    "y_pred_val=model.predict(X_val)"
   ]
  },
  {
   "cell_type": "code",
   "execution_count": 11,
   "metadata": {},
   "outputs": [
    {
     "name": "stdout",
     "output_type": "stream",
     "text": [
      "Validation RMSE: 0.062423357740844405\n",
      "Testing RMSE: 0.2997987198429529\n",
      "Validation MAPE: 14.260148104073084\n",
      "Testing MAPE: 59.519035779399175\n",
      "Validation MAE: 0.04913424302387267\n",
      "Testing MAE: 0.24222494485017215\n"
     ]
    }
   ],
   "source": [
    "# calculate the RMSE\n",
    "valid_rmse = np.sqrt(np.mean((y_pred_val - yval)**2))\n",
    "test_rmse = np.sqrt(np.mean((y_pred - ytest)**2))\n",
    "print('Validation RMSE:', valid_rmse)\n",
    "print('Testing RMSE:', test_rmse)\n",
    "\n",
    "# calculate the MAPE\n",
    "valid_mape = np.mean(np.abs((yval - y_pred_val) / yval)) * 100\n",
    "test_mape = np.mean(np.abs((ytest - y_pred) / ytest)) * 100\n",
    "print(\"Validation MAPE:\", valid_mape)\n",
    "print(\"Testing MAPE:\", test_mape)\n",
    "\n",
    "# calculate the MAE\n",
    "valid_mae = np.mean(np.abs(y_pred_val - yval))\n",
    "test_mae = np.mean(np.abs(y_pred - ytest))\n",
    "print(\"Validation MAE:\", valid_mae)\n",
    "print(\"Testing MAE:\", test_mae)"
   ]
  },
  {
   "cell_type": "code",
   "execution_count": 12,
   "metadata": {
    "id": "5rwTN10LQ7rj"
   },
   "outputs": [],
   "source": [
    "# 11. Chuẩn hóa dữ liệu y_pred, y_pred_val\n",
    "train_predict=scaler.inverse_transform(train_predict)\n",
    "y_pred=scaler.inverse_transform(y_pred)\n",
    "y_pred_val=scaler.inverse_transform(y_pred_val)"
   ]
  },
  {
   "cell_type": "code",
   "execution_count": 13,
   "metadata": {
    "colab": {
     "base_uri": "https://localhost:8080/",
     "height": 430
    },
    "id": "KSa_mX51a654",
    "outputId": "a46b0393-ed53-41d8-b391-c22820d72e83"
   },
   "outputs": [
    {
     "data": {
      "image/png": "[encoded data removed]",
      "text/plain": [
       "<Figure size 432x288 with 1 Axes>"
      ]
     },
     "metadata": {
      "needs_background": "light"
     },
     "output_type": "display_data"
    }
   ],
   "source": [
    "# 12.Vẽ hình\n",
    "\n",
    "train_data_index = pd.RangeIndex(start=0, stop=train_size, step=1)\n",
    "plt.plot(scaler.inverse_transform(train_data))\n",
    "test_data_index = pd.RangeIndex(start=train_size, stop=train_size+test_size, step=1)\n",
    "plt.plot(test_data_index,scaler.inverse_transform(test_data))\n",
    "test_data_index = pd.RangeIndex(start=train_size+101, stop=train_size+test_size, step=1)\n",
    "plt.plot(test_data_index,(y_pred))\n",
    "val_data_index = pd.RangeIndex(start=train_size+test_size, stop=train_size+test_size+val_size, step=1)\n",
    "plt.plot(val_data_index,scaler.inverse_transform(val_data))\n",
    "val_data_index = pd.RangeIndex(start=train_size+test_size+101, stop=train_size+test_size+val_size, step=1)\n",
    "plt.plot(val_data_index,y_pred_val)\n",
    "plt.legend(['Train','Test','Predict','Validate','ValidatePred'])\n",
    "plt.show()"
   ]
  },
  {
   "cell_type": "code",
   "execution_count": null,
   "metadata": {},
   "outputs": [],
   "source": []
  }
 ],
 "metadata": {
  "colab": {
   "provenance": []
  },
  "kernelspec": {
   "display_name": "Python 3 (ipykernel)",
   "language": "python",
   "name": "python3"
  },
  "language_info": {
   "codemirror_mode": {
    "name": "ipython",
    "version": 3
   },
   "file_extension": ".py",
   "mimetype": "text/x-python",
   "name": "python",
   "nbconvert_exporter": "python",
   "pygments_lexer": "ipython3",
   "version": "3.9.12"
  }
 },
 "nbformat": 4,
 "nbformat_minor": 1
}

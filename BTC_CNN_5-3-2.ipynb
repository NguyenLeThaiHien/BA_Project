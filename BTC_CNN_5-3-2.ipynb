{
 "cells": [
  {
   "cell_type": "code",
   "execution_count": 1,
   "metadata": {
    "id": "Ut552Xmq1O8N"
   },
   "outputs": [],
   "source": [
    "import pandas as pd\n",
    "import numpy as np\n",
    "import matplotlib.pyplot as plt\n",
    "from tensorflow.keras.models import Sequential\n",
    "from tensorflow.keras.layers import Conv1D, MaxPooling1D, Flatten, Dense"
   ]
  },
  {
   "cell_type": "code",
   "execution_count": 2,
   "metadata": {
    "colab": {
     "base_uri": "https://localhost:8080/",
     "height": 423
    },
    "id": "gEE-U3gn1r2W",
    "outputId": "3f832b03-1bf6-4909-cfa3-324822e3eaa0"
   },
   "outputs": [
    {
     "data": {
      "text/html": [
       "<div>\n",
       "<style scoped>\n",
       "    .dataframe tbody tr th:only-of-type {\n",
       "        vertical-align: middle;\n",
       "    }\n",
       "\n",
       "    .dataframe tbody tr th {\n",
       "        vertical-align: top;\n",
       "    }\n",
       "\n",
       "    .dataframe thead th {\n",
       "        text-align: right;\n",
       "    }\n",
       "</style>\n",
       "<table border=\"1\" class=\"dataframe\">\n",
       "  <thead>\n",
       "    <tr style=\"text-align: right;\">\n",
       "      <th></th>\n",
       "      <th>Price</th>\n",
       "    </tr>\n",
       "  </thead>\n",
       "  <tbody>\n",
       "    <tr>\n",
       "      <th>0</th>\n",
       "      <td>8245.7</td>\n",
       "    </tr>\n",
       "    <tr>\n",
       "      <th>1</th>\n",
       "      <td>8245.1</td>\n",
       "    </tr>\n",
       "    <tr>\n",
       "      <th>2</th>\n",
       "      <td>8529.0</td>\n",
       "    </tr>\n",
       "    <tr>\n",
       "      <th>3</th>\n",
       "      <td>8403.3</td>\n",
       "    </tr>\n",
       "    <tr>\n",
       "      <th>4</th>\n",
       "      <td>8006.0</td>\n",
       "    </tr>\n",
       "    <tr>\n",
       "      <th>...</th>\n",
       "      <td>...</td>\n",
       "    </tr>\n",
       "    <tr>\n",
       "      <th>1822</th>\n",
       "      <td>26920.0</td>\n",
       "    </tr>\n",
       "    <tr>\n",
       "      <th>1823</th>\n",
       "      <td>27183.9</td>\n",
       "    </tr>\n",
       "    <tr>\n",
       "      <th>1824</th>\n",
       "      <td>27035.3</td>\n",
       "    </tr>\n",
       "    <tr>\n",
       "      <th>1825</th>\n",
       "      <td>27403.1</td>\n",
       "    </tr>\n",
       "    <tr>\n",
       "      <th>1826</th>\n",
       "      <td>26828.0</td>\n",
       "    </tr>\n",
       "  </tbody>\n",
       "</table>\n",
       "<p>1827 rows × 1 columns</p>\n",
       "</div>"
      ],
      "text/plain": [
       "        Price\n",
       "0      8245.7\n",
       "1      8245.1\n",
       "2      8529.0\n",
       "3      8403.3\n",
       "4      8006.0\n",
       "...       ...\n",
       "1822  26920.0\n",
       "1823  27183.9\n",
       "1824  27035.3\n",
       "1825  27403.1\n",
       "1826  26828.0\n",
       "\n",
       "[1827 rows x 1 columns]"
      ]
     },
     "execution_count": 2,
     "metadata": {},
     "output_type": "execute_result"
    }
   ],
   "source": [
    "# Read dataset file\n",
    "df = pd.read_csv('BTC.csv')\n",
    "df = df[['Price']]\n",
    "df = df.dropna()\n",
    "df"
   ]
  },
  {
   "cell_type": "code",
   "execution_count": 3,
   "metadata": {
    "id": "oDkSuGJm2GXa"
   },
   "outputs": [],
   "source": [
    "# Split the data into training, testing, and validation sets with 7:2:1\n",
    "train_size = int(0.5 * len(df))\n",
    "test_size = int(0.3 * len(df))\n",
    "val_size = len(df) - train_size - test_size\n",
    "\n",
    "train_data = df[:train_size]\n",
    "test_data = df[train_size:train_size+test_size]\n",
    "val_data = df[train_size+test_size:]"
   ]
  },
  {
   "cell_type": "code",
   "execution_count": 4,
   "metadata": {
    "id": "p-ZDchgy2SCA"
   },
   "outputs": [],
   "source": [
    "# Normalize the data\n",
    "mean = train_data.mean()\n",
    "meant = test_data.mean()\n",
    "meanv = val_data.mean()\n",
    "std = train_data.std()\n",
    "stdt = test_data.std()\n",
    "stdv = val_data.std()\n",
    "train_data = (train_data - mean) / std\n",
    "test_data = (test_data - meant) / stdt\n",
    "val_data = (val_data - meanv) / stdv"
   ]
  },
  {
   "cell_type": "code",
   "execution_count": 5,
   "metadata": {
    "id": "HT8OLwhF2VfJ"
   },
   "outputs": [],
   "source": [
    "# Prepare the data for CNN\n",
    "window_size = 10\n",
    "\n",
    "def create_sequences(data, window_size):\n",
    "    X = []\n",
    "    y = []\n",
    "    for i in range(len(data) - window_size):\n",
    "        X.append(data[i:i+window_size])\n",
    "        y.append(data[i+window_size])\n",
    "    return np.array(X), np.array(y)\n",
    "\n",
    "X_train, y_train = create_sequences(train_data.values, window_size)\n",
    "X_test, y_test = create_sequences(test_data.values, window_size)\n",
    "X_val, y_val = create_sequences(val_data.values, window_size)\n"
   ]
  },
  {
   "cell_type": "code",
   "execution_count": 6,
   "metadata": {
    "id": "zIexGZ5W3atX"
   },
   "outputs": [],
   "source": [
    "# Build the CNN model\n",
    "model = Sequential()\n",
    "model.add(Conv1D(filters=32, kernel_size=3, activation='relu', input_shape=(window_size, 1)))\n",
    "model.add(MaxPooling1D(pool_size=2))\n",
    "model.add(Flatten())\n",
    "model.add(Dense(64, activation='relu'))\n",
    "model.add(Dense(1))\n",
    "\n",
    "model.compile(optimizer='adam', loss='mse')"
   ]
  },
  {
   "cell_type": "code",
   "execution_count": 7,
   "metadata": {
    "colab": {
     "base_uri": "https://localhost:8080/"
    },
    "id": "EqYPxtyA3cky",
    "outputId": "50377a1a-ea5b-43de-9e5a-d288c181f71e"
   },
   "outputs": [
    {
     "name": "stdout",
     "output_type": "stream",
     "text": [
      "Epoch 1/100\n",
      "29/29 [==============================] - 1s 9ms/step - loss: 0.2841 - val_loss: 0.1286\n",
      "Epoch 2/100\n",
      "29/29 [==============================] - 0s 3ms/step - loss: 0.0523 - val_loss: 0.1060\n",
      "Epoch 3/100\n",
      "29/29 [==============================] - 0s 3ms/step - loss: 0.0419 - val_loss: 0.0903\n",
      "Epoch 4/100\n",
      "29/29 [==============================] - 0s 3ms/step - loss: 0.0343 - val_loss: 0.0773\n",
      "Epoch 5/100\n",
      "29/29 [==============================] - 0s 3ms/step - loss: 0.0280 - val_loss: 0.0646\n",
      "Epoch 6/100\n",
      "29/29 [==============================] - 0s 4ms/step - loss: 0.0238 - val_loss: 0.0608\n",
      "Epoch 7/100\n",
      "29/29 [==============================] - 0s 3ms/step - loss: 0.0237 - val_loss: 0.0579\n",
      "Epoch 8/100\n",
      "29/29 [==============================] - 0s 4ms/step - loss: 0.0212 - val_loss: 0.0508\n",
      "Epoch 9/100\n",
      "29/29 [==============================] - 0s 3ms/step - loss: 0.0190 - val_loss: 0.0468\n",
      "Epoch 10/100\n",
      "29/29 [==============================] - 0s 3ms/step - loss: 0.0184 - val_loss: 0.0436\n",
      "Epoch 11/100\n",
      "29/29 [==============================] - 0s 3ms/step - loss: 0.0182 - val_loss: 0.0417\n",
      "Epoch 12/100\n",
      "29/29 [==============================] - 0s 3ms/step - loss: 0.0174 - val_loss: 0.0432\n",
      "Epoch 13/100\n",
      "29/29 [==============================] - 0s 3ms/step - loss: 0.0173 - val_loss: 0.0396\n",
      "Epoch 14/100\n",
      "29/29 [==============================] - 0s 3ms/step - loss: 0.0169 - val_loss: 0.0416\n",
      "Epoch 15/100\n",
      "29/29 [==============================] - 0s 3ms/step - loss: 0.0166 - val_loss: 0.0383\n",
      "Epoch 16/100\n",
      "29/29 [==============================] - 0s 3ms/step - loss: 0.0165 - val_loss: 0.0411\n",
      "Epoch 17/100\n",
      "29/29 [==============================] - 0s 3ms/step - loss: 0.0163 - val_loss: 0.0377\n",
      "Epoch 18/100\n",
      "29/29 [==============================] - 0s 3ms/step - loss: 0.0171 - val_loss: 0.0386\n",
      "Epoch 19/100\n",
      "29/29 [==============================] - 0s 4ms/step - loss: 0.0174 - val_loss: 0.0390\n",
      "Epoch 20/100\n",
      "29/29 [==============================] - 0s 3ms/step - loss: 0.0161 - val_loss: 0.0372\n",
      "Epoch 21/100\n",
      "29/29 [==============================] - 0s 3ms/step - loss: 0.0159 - val_loss: 0.0359\n",
      "Epoch 22/100\n",
      "29/29 [==============================] - 0s 4ms/step - loss: 0.0160 - val_loss: 0.0377\n",
      "Epoch 23/100\n",
      "29/29 [==============================] - 0s 3ms/step - loss: 0.0153 - val_loss: 0.0396\n",
      "Epoch 24/100\n",
      "29/29 [==============================] - 0s 3ms/step - loss: 0.0160 - val_loss: 0.0352\n",
      "Epoch 25/100\n",
      "29/29 [==============================] - 0s 3ms/step - loss: 0.0152 - val_loss: 0.0370\n",
      "Epoch 26/100\n",
      "29/29 [==============================] - 0s 3ms/step - loss: 0.0150 - val_loss: 0.0351\n",
      "Epoch 27/100\n",
      "29/29 [==============================] - 0s 4ms/step - loss: 0.0150 - val_loss: 0.0357\n",
      "Epoch 28/100\n",
      "29/29 [==============================] - 0s 3ms/step - loss: 0.0152 - val_loss: 0.0370\n",
      "Epoch 29/100\n",
      "29/29 [==============================] - 0s 3ms/step - loss: 0.0157 - val_loss: 0.0349\n",
      "Epoch 30/100\n",
      "29/29 [==============================] - 0s 4ms/step - loss: 0.0157 - val_loss: 0.0346\n",
      "Epoch 31/100\n",
      "29/29 [==============================] - 0s 4ms/step - loss: 0.0150 - val_loss: 0.0347\n",
      "Epoch 32/100\n",
      "29/29 [==============================] - 0s 3ms/step - loss: 0.0153 - val_loss: 0.0378\n",
      "Epoch 33/100\n",
      "29/29 [==============================] - 0s 3ms/step - loss: 0.0151 - val_loss: 0.0391\n",
      "Epoch 34/100\n",
      "29/29 [==============================] - 0s 3ms/step - loss: 0.0150 - val_loss: 0.0340\n",
      "Epoch 35/100\n",
      "29/29 [==============================] - 0s 3ms/step - loss: 0.0147 - val_loss: 0.0351\n",
      "Epoch 36/100\n",
      "29/29 [==============================] - 0s 3ms/step - loss: 0.0154 - val_loss: 0.0362\n",
      "Epoch 37/100\n",
      "29/29 [==============================] - 0s 3ms/step - loss: 0.0168 - val_loss: 0.0359\n",
      "Epoch 38/100\n",
      "29/29 [==============================] - 0s 4ms/step - loss: 0.0155 - val_loss: 0.0361\n",
      "Epoch 39/100\n",
      "29/29 [==============================] - 0s 3ms/step - loss: 0.0152 - val_loss: 0.0391\n",
      "Epoch 40/100\n",
      "29/29 [==============================] - 0s 3ms/step - loss: 0.0165 - val_loss: 0.0337\n",
      "Epoch 41/100\n",
      "29/29 [==============================] - 0s 3ms/step - loss: 0.0152 - val_loss: 0.0339\n",
      "Epoch 42/100\n",
      "29/29 [==============================] - 0s 4ms/step - loss: 0.0148 - val_loss: 0.0347\n",
      "Epoch 43/100\n",
      "29/29 [==============================] - 0s 4ms/step - loss: 0.0146 - val_loss: 0.0349\n",
      "Epoch 44/100\n",
      "29/29 [==============================] - 0s 4ms/step - loss: 0.0147 - val_loss: 0.0359\n",
      "Epoch 45/100\n",
      "29/29 [==============================] - 0s 4ms/step - loss: 0.0140 - val_loss: 0.0333\n",
      "Epoch 46/100\n",
      "29/29 [==============================] - 0s 3ms/step - loss: 0.0143 - val_loss: 0.0351\n",
      "Epoch 47/100\n",
      "29/29 [==============================] - 0s 3ms/step - loss: 0.0141 - val_loss: 0.0335\n",
      "Epoch 48/100\n",
      "29/29 [==============================] - 0s 3ms/step - loss: 0.0144 - val_loss: 0.0350\n",
      "Epoch 49/100\n",
      "29/29 [==============================] - 0s 4ms/step - loss: 0.0145 - val_loss: 0.0346\n",
      "Epoch 50/100\n",
      "29/29 [==============================] - 0s 7ms/step - loss: 0.0141 - val_loss: 0.0349\n",
      "Epoch 51/100\n",
      "29/29 [==============================] - 0s 8ms/step - loss: 0.0144 - val_loss: 0.0330\n",
      "Epoch 52/100\n",
      "29/29 [==============================] - 0s 5ms/step - loss: 0.0133 - val_loss: 0.0380\n",
      "Epoch 53/100\n",
      "29/29 [==============================] - 0s 4ms/step - loss: 0.0142 - val_loss: 0.0335\n",
      "Epoch 54/100\n",
      "29/29 [==============================] - 0s 4ms/step - loss: 0.0135 - val_loss: 0.0338\n",
      "Epoch 55/100\n",
      "29/29 [==============================] - 0s 4ms/step - loss: 0.0138 - val_loss: 0.0326\n",
      "Epoch 56/100\n",
      "29/29 [==============================] - 0s 4ms/step - loss: 0.0139 - val_loss: 0.0365\n",
      "Epoch 57/100\n",
      "29/29 [==============================] - 0s 5ms/step - loss: 0.0170 - val_loss: 0.0339\n",
      "Epoch 58/100\n",
      "29/29 [==============================] - 0s 5ms/step - loss: 0.0139 - val_loss: 0.0341\n",
      "Epoch 59/100\n",
      "29/29 [==============================] - 0s 4ms/step - loss: 0.0159 - val_loss: 0.0373\n",
      "Epoch 60/100\n",
      "29/29 [==============================] - 0s 4ms/step - loss: 0.0133 - val_loss: 0.0362\n",
      "Epoch 61/100\n",
      "29/29 [==============================] - 0s 5ms/step - loss: 0.0147 - val_loss: 0.0341\n",
      "Epoch 62/100\n",
      "29/29 [==============================] - 0s 5ms/step - loss: 0.0135 - val_loss: 0.0329\n",
      "Epoch 63/100\n",
      "29/29 [==============================] - 0s 4ms/step - loss: 0.0143 - val_loss: 0.0337\n",
      "Epoch 64/100\n",
      "29/29 [==============================] - 0s 6ms/step - loss: 0.0138 - val_loss: 0.0351\n",
      "Epoch 65/100\n",
      "29/29 [==============================] - 0s 5ms/step - loss: 0.0133 - val_loss: 0.0338\n",
      "Epoch 66/100\n",
      "29/29 [==============================] - 0s 6ms/step - loss: 0.0133 - val_loss: 0.0354\n",
      "Epoch 67/100\n",
      "29/29 [==============================] - 0s 5ms/step - loss: 0.0131 - val_loss: 0.0350\n",
      "Epoch 68/100\n",
      "29/29 [==============================] - 0s 5ms/step - loss: 0.0135 - val_loss: 0.0336\n",
      "Epoch 69/100\n",
      "29/29 [==============================] - 0s 5ms/step - loss: 0.0144 - val_loss: 0.0336\n",
      "Epoch 70/100\n",
      "29/29 [==============================] - 0s 4ms/step - loss: 0.0137 - val_loss: 0.0347\n",
      "Epoch 71/100\n",
      "29/29 [==============================] - 0s 4ms/step - loss: 0.0135 - val_loss: 0.0365\n",
      "Epoch 72/100\n",
      "29/29 [==============================] - 0s 5ms/step - loss: 0.0132 - val_loss: 0.0334\n",
      "Epoch 73/100\n",
      "29/29 [==============================] - 0s 5ms/step - loss: 0.0131 - val_loss: 0.0328\n",
      "Epoch 74/100\n",
      "29/29 [==============================] - 0s 5ms/step - loss: 0.0133 - val_loss: 0.0333\n",
      "Epoch 75/100\n",
      "29/29 [==============================] - 0s 4ms/step - loss: 0.0133 - val_loss: 0.0330\n",
      "Epoch 76/100\n",
      "29/29 [==============================] - 0s 4ms/step - loss: 0.0129 - val_loss: 0.0340\n",
      "Epoch 77/100\n",
      "29/29 [==============================] - 0s 3ms/step - loss: 0.0127 - val_loss: 0.0330\n",
      "Epoch 78/100\n",
      "29/29 [==============================] - 0s 4ms/step - loss: 0.0144 - val_loss: 0.0329\n",
      "Epoch 79/100\n",
      "29/29 [==============================] - 0s 4ms/step - loss: 0.0130 - val_loss: 0.0338\n",
      "Epoch 80/100\n",
      "29/29 [==============================] - 0s 4ms/step - loss: 0.0128 - val_loss: 0.0346\n",
      "Epoch 81/100\n",
      "29/29 [==============================] - 0s 4ms/step - loss: 0.0135 - val_loss: 0.0348\n",
      "Epoch 82/100\n",
      "29/29 [==============================] - 0s 4ms/step - loss: 0.0131 - val_loss: 0.0355\n",
      "Epoch 83/100\n",
      "29/29 [==============================] - 0s 4ms/step - loss: 0.0128 - val_loss: 0.0351\n",
      "Epoch 84/100\n",
      "29/29 [==============================] - 0s 4ms/step - loss: 0.0129 - val_loss: 0.0345\n",
      "Epoch 85/100\n",
      "29/29 [==============================] - 0s 4ms/step - loss: 0.0133 - val_loss: 0.0336\n",
      "Epoch 86/100\n",
      "29/29 [==============================] - 0s 4ms/step - loss: 0.0124 - val_loss: 0.0335\n",
      "Epoch 87/100\n",
      "29/29 [==============================] - 0s 4ms/step - loss: 0.0128 - val_loss: 0.0422\n",
      "Epoch 88/100\n",
      "29/29 [==============================] - 0s 4ms/step - loss: 0.0146 - val_loss: 0.0344\n",
      "Epoch 89/100\n",
      "29/29 [==============================] - 0s 4ms/step - loss: 0.0130 - val_loss: 0.0331\n",
      "Epoch 90/100\n",
      "29/29 [==============================] - 0s 4ms/step - loss: 0.0129 - val_loss: 0.0377\n",
      "Epoch 91/100\n",
      "29/29 [==============================] - 0s 4ms/step - loss: 0.0149 - val_loss: 0.0369\n",
      "Epoch 92/100\n",
      "29/29 [==============================] - 0s 5ms/step - loss: 0.0133 - val_loss: 0.0353\n",
      "Epoch 93/100\n",
      "29/29 [==============================] - 0s 4ms/step - loss: 0.0152 - val_loss: 0.0338\n",
      "Epoch 94/100\n",
      "29/29 [==============================] - 0s 4ms/step - loss: 0.0149 - val_loss: 0.0353\n",
      "Epoch 95/100\n",
      "29/29 [==============================] - 0s 5ms/step - loss: 0.0132 - val_loss: 0.0342\n",
      "Epoch 96/100\n",
      "29/29 [==============================] - 0s 4ms/step - loss: 0.0124 - val_loss: 0.0334\n",
      "Epoch 97/100\n",
      "29/29 [==============================] - 0s 4ms/step - loss: 0.0123 - val_loss: 0.0342\n",
      "Epoch 98/100\n",
      "29/29 [==============================] - 0s 4ms/step - loss: 0.0125 - val_loss: 0.0348\n",
      "Epoch 99/100\n",
      "29/29 [==============================] - 0s 4ms/step - loss: 0.0124 - val_loss: 0.0328\n",
      "Epoch 100/100\n",
      "29/29 [==============================] - 0s 4ms/step - loss: 0.0133 - val_loss: 0.0335\n"
     ]
    },
    {
     "data": {
      "text/plain": [
       "<keras.callbacks.History at 0x15cad500940>"
      ]
     },
     "execution_count": 7,
     "metadata": {},
     "output_type": "execute_result"
    }
   ],
   "source": [
    "# Train the model\n",
    "model.fit(X_train, y_train, epochs=100, batch_size=32, validation_data=(X_val, y_val))\n"
   ]
  },
  {
   "cell_type": "code",
   "execution_count": 8,
   "metadata": {
    "colab": {
     "base_uri": "https://localhost:8080/"
    },
    "id": "j30RbOEf3eLd",
    "outputId": "d936c027-868e-4084-c1f1-23e1a5464bd5"
   },
   "outputs": [
    {
     "name": "stdout",
     "output_type": "stream",
     "text": [
      "17/17 [==============================] - 0s 1ms/step\n"
     ]
    }
   ],
   "source": [
    "# Make predictions\n",
    "y_pred = model.predict(X_test)\n",
    "# Inverse transform the predictions\n",
    "y_pred = y_pred * pd.Series(stdt).values[0] + pd.Series(meant).values[0]"
   ]
  },
  {
   "cell_type": "code",
   "execution_count": 9,
   "metadata": {
    "colab": {
     "base_uri": "https://localhost:8080/"
    },
    "id": "zD8hFfaH3sXm",
    "outputId": "98645433-af10-4216-ecf0-23fc244400f1"
   },
   "outputs": [
    {
     "name": "stdout",
     "output_type": "stream",
     "text": [
      "12/12 [==============================] - 0s 2ms/step\n"
     ]
    }
   ],
   "source": [
    "# Make predictions\n",
    "y_vpred = model.predict(X_val)\n",
    "# Inverse transform the predictions\n",
    "y_vpred = y_vpred * pd.Series(stdv).values[0] + pd.Series(meanv).values[0]"
   ]
  },
  {
   "cell_type": "code",
   "execution_count": 10,
   "metadata": {
    "colab": {
     "base_uri": "https://localhost:8080/",
     "height": 423
    },
    "id": "6GvbpBMF3wFz",
    "outputId": "64772e4b-ce14-4dbd-a7c8-a40e100a0312"
   },
   "outputs": [
    {
     "data": {
      "text/html": [
       "<div>\n",
       "<style scoped>\n",
       "    .dataframe tbody tr th:only-of-type {\n",
       "        vertical-align: middle;\n",
       "    }\n",
       "\n",
       "    .dataframe tbody tr th {\n",
       "        vertical-align: top;\n",
       "    }\n",
       "\n",
       "    .dataframe thead th {\n",
       "        text-align: right;\n",
       "    }\n",
       "</style>\n",
       "<table border=\"1\" class=\"dataframe\">\n",
       "  <thead>\n",
       "    <tr style=\"text-align: right;\">\n",
       "      <th></th>\n",
       "      <th>Price</th>\n",
       "    </tr>\n",
       "  </thead>\n",
       "  <tbody>\n",
       "    <tr>\n",
       "      <th>0</th>\n",
       "      <td>8245.7</td>\n",
       "    </tr>\n",
       "    <tr>\n",
       "      <th>1</th>\n",
       "      <td>8245.1</td>\n",
       "    </tr>\n",
       "    <tr>\n",
       "      <th>2</th>\n",
       "      <td>8529.0</td>\n",
       "    </tr>\n",
       "    <tr>\n",
       "      <th>3</th>\n",
       "      <td>8403.3</td>\n",
       "    </tr>\n",
       "    <tr>\n",
       "      <th>4</th>\n",
       "      <td>8006.0</td>\n",
       "    </tr>\n",
       "    <tr>\n",
       "      <th>...</th>\n",
       "      <td>...</td>\n",
       "    </tr>\n",
       "    <tr>\n",
       "      <th>1822</th>\n",
       "      <td>26920.0</td>\n",
       "    </tr>\n",
       "    <tr>\n",
       "      <th>1823</th>\n",
       "      <td>27183.9</td>\n",
       "    </tr>\n",
       "    <tr>\n",
       "      <th>1824</th>\n",
       "      <td>27035.3</td>\n",
       "    </tr>\n",
       "    <tr>\n",
       "      <th>1825</th>\n",
       "      <td>27403.1</td>\n",
       "    </tr>\n",
       "    <tr>\n",
       "      <th>1826</th>\n",
       "      <td>26828.0</td>\n",
       "    </tr>\n",
       "  </tbody>\n",
       "</table>\n",
       "<p>1827 rows × 1 columns</p>\n",
       "</div>"
      ],
      "text/plain": [
       "        Price\n",
       "0      8245.7\n",
       "1      8245.1\n",
       "2      8529.0\n",
       "3      8403.3\n",
       "4      8006.0\n",
       "...       ...\n",
       "1822  26920.0\n",
       "1823  27183.9\n",
       "1824  27035.3\n",
       "1825  27403.1\n",
       "1826  26828.0\n",
       "\n",
       "[1827 rows x 1 columns]"
      ]
     },
     "execution_count": 10,
     "metadata": {},
     "output_type": "execute_result"
    }
   ],
   "source": [
    "df"
   ]
  },
  {
   "cell_type": "code",
   "execution_count": 11,
   "metadata": {
    "colab": {
     "base_uri": "https://localhost:8080/"
    },
    "id": "Kap2YTi44Emr",
    "outputId": "a1f99e5c-86a7-4c48-b403-1f2d4145ee4f"
   },
   "outputs": [
    {
     "name": "stdout",
     "output_type": "stream",
     "text": [
      "Validation RMSE: 5748.492988222868\n",
      "Testing RMSE: 15179.128902631293\n",
      "Validation MAPE: 20.80472259875844\n",
      "Testing MAPE: 32.63452952316052\n",
      "Validation MAE: 4596.7235098532865\n",
      "Testing MAPE: 32.63452952316052\n"
     ]
    }
   ],
   "source": [
    "train_size = int(0.5 * len(df))\n",
    "test_size = int(0.3 * len(df))\n",
    "val_size = len(df) - train_size - test_size\n",
    "\n",
    "train_data = df[:train_size]\n",
    "test_data = df[train_size:train_size+test_size]\n",
    "val_data = df[train_size+test_size:]\n",
    "# re make predictions on the testing set\n",
    "x_test = np.array(test_data.index).reshape(-1, 1)\n",
    "y_test = np.array(test_data['Price'])\n",
    "# re make predictions on the validate set\n",
    "x_val = np.array(val_data.index).reshape(-1, 1)\n",
    "y_val = np.array(val_data['Price'])\n",
    "train_data = df[:train_size]\n",
    "test_data = df[train_size:train_size+test_size]\n",
    "val_data = df[train_size+test_size:]\n",
    "# calculate the RMSE\n",
    "valid_rmse = np.sqrt(np.mean((y_vpred - y_val)**2))\n",
    "test_rmse = np.sqrt(np.mean((y_pred - y_test)**2))\n",
    "print('Validation RMSE:', valid_rmse)\n",
    "print('Testing RMSE:', test_rmse)\n",
    "\n",
    "# calculate the MAPE\n",
    "valid_mape = np.mean(np.abs((y_val - y_vpred) / y_val)) * 100\n",
    "test_mape = np.mean(np.abs((y_test - y_pred) / y_test)) * 100\n",
    "print(\"Validation MAPE:\", valid_mape)\n",
    "print(\"Testing MAPE:\", test_mape)\n",
    "\n",
    "# calculate the MAE\n",
    "valid_mae = np.mean(np.abs(y_vpred - y_val))\n",
    "test_mae = np.mean(np.abs(y_pred - y_test))\n",
    "print(\"Validation MAE:\", valid_mae)\n",
    "print(\"Testing MAPE:\", test_mape)"
   ]
  },
  {
   "cell_type": "code",
   "execution_count": 12,
   "metadata": {
    "colab": {
     "base_uri": "https://localhost:8080/",
     "height": 430
    },
    "id": "dd8GpZQ69LJI",
    "outputId": "1af97258-ad1a-4e6e-8fc5-a6b5afda4703"
   },
   "outputs": [
    {
     "data": {
      "image/png": "[encoded data removed]",
      "text/plain": [
       "<Figure size 432x288 with 1 Axes>"
      ]
     },
     "metadata": {
      "needs_background": "light"
     },
     "output_type": "display_data"
    }
   ],
   "source": [
    "# ploting the actual values and predicted values\n",
    "plt.plot(test_data.index, test_data['Price'])\n",
    "plt.plot(val_data.index, val_data['Price'])\n",
    "plt.plot(test_data.index[-len(y_pred):], y_pred)\n",
    "plt.plot(val_data.index[-len(y_vpred):], y_vpred)\n",
    "plt.legend(['Test','Validate', 'Predictions_test','Predictions_validate'])\n",
    "plt.show()"
   ]
  },
  {
   "cell_type": "code",
   "execution_count": null,
   "metadata": {
    "id": "D7QT1tPo5eSX"
   },
   "outputs": [],
   "source": []
  },
  {
   "cell_type": "code",
   "execution_count": null,
   "metadata": {
    "id": "AUsTfrKK-rCe"
   },
   "outputs": [],
   "source": []
  }
 ],
 "metadata": {
  "accelerator": "GPU",
  "colab": {
   "gpuType": "T4",
   "provenance": []
  },
  "gpuClass": "standard",
  "kernelspec": {
   "display_name": "Python 3 (ipykernel)",
   "language": "python",
   "name": "python3"
  },
  "language_info": {
   "codemirror_mode": {
    "name": "ipython",
    "version": 3
   },
   "file_extension": ".py",
   "mimetype": "text/x-python",
   "name": "python",
   "nbconvert_exporter": "python",
   "pygments_lexer": "ipython3",
   "version": "3.9.12"
  }
 },
 "nbformat": 4,
 "nbformat_minor": 1
}

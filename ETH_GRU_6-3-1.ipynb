{
  "cells": [
    {
      "cell_type": "code",
      "execution_count": 68,
      "metadata": {
        "id": "FMDKda-XIUAK"
      },
      "outputs": [],
      "source": [
        "# 1. Import thư viện cần thiết\n",
        "import numpy as np\n",
        "import pandas as pd\n",
        "import matplotlib.pyplot as plt\n",
        "from sklearn.preprocessing import MinMaxScaler\n",
        "from keras.models import Sequential\n",
        "from keras.layers import Dense, GRU"
      ]
    },
    {
      "cell_type": "code",
      "execution_count": 69,
      "metadata": {
        "id": "aRm9GQ8KJJ5N"
      },
      "outputs": [],
      "source": [
        "# 2. Đọc file csv và gắng index với giá Close\n",
        "df = pd.read_csv('/content/ETH.csv')\n",
        "df1=df.reset_index()['Price']"
      ]
    },
    {
      "cell_type": "code",
      "execution_count": 70,
      "metadata": {
        "id": "RdVpDho2JgL5"
      },
      "outputs": [],
      "source": [
        "# 3. Scaler data\n",
        "scaler=MinMaxScaler(feature_range=(0,1))\n",
        "df1=scaler.fit_transform(np.array(df1).reshape(-1,1))"
      ]
    },
    {
      "cell_type": "code",
      "execution_count": 71,
      "metadata": {
        "id": "B5JXpenzJoR3"
      },
      "outputs": [],
      "source": [
        "# 4. Chia train test 6:3:1\n",
        "train_size = int(0.6 * len(df1))\n",
        "test_size = int(0.3 * len(df1))\n",
        "val_size = len(df1) - train_size - test_size\n",
        "\n",
        "train_data = df1[:train_size]\n",
        "test_data = df1[train_size:train_size+test_size]\n",
        "val_data = df1[train_size+test_size:]"
      ]
    },
    {
      "cell_type": "code",
      "execution_count": 72,
      "metadata": {
        "id": "yJfmuBORLSfC"
      },
      "outputs": [],
      "source": [
        "# 5. Hàm Create Dataset\n",
        "import numpy\n",
        "# convert an array of values into a dataset matrix\n",
        "def create_dataset(dataset, time_step=1):\n",
        "\tdataX, dataY = [], []\n",
        "\tfor i in range(len(dataset)-time_step-1):\n",
        "\t\ta = dataset[i:(i+time_step), 0]   ###i=0, X=0,1,2,3-----99   Y=100\n",
        "\t\tdataX.append(a)\n",
        "\t\tdataY.append(dataset[i + time_step, 0])\n",
        "\treturn numpy.array(dataX), numpy.array(dataY)"
      ]
    },
    {
      "cell_type": "code",
      "execution_count": 73,
      "metadata": {
        "id": "e81cKq03LXFB"
      },
      "outputs": [],
      "source": [
        "#6. Reshape into X=t,t+1,t+2..t+99 and Y=t+100\n",
        "\n",
        "time_step = 100\n",
        "X_train, y_train = create_dataset(train_data, time_step)\n",
        "X_val, yval = create_dataset(val_data, time_step)\n",
        "X_test, ytest = create_dataset(test_data, time_step)"
      ]
    },
    {
      "cell_type": "code",
      "execution_count": 74,
      "metadata": {
        "id": "RdBVfku7O2qb"
      },
      "outputs": [],
      "source": [
        "# 7. Reshape input to be [samples, time steps, features] which is required for LSTM\n",
        "X_train =X_train.reshape(X_train.shape[0],X_train.shape[1] , 1)\n",
        "X_test = X_test.reshape(X_test.shape[0],X_test.shape[1] , 1)\n",
        "X_val = X_val.reshape(X_val.shape[0],X_val.shape[1] , 1)"
      ]
    },
    {
      "cell_type": "code",
      "execution_count": 75,
      "metadata": {
        "id": "sSfxrE7BO9vX"
      },
      "outputs": [],
      "source": [
        "# 8. Define GRU Model\n",
        "\n",
        "model = Sequential()\n",
        "model.add(GRU(64, input_shape=(time_step, 1)))\n",
        "model.add(Dense(1))\n",
        "model.compile(optimizer='adam', loss='mean_squared_error')"
      ]
    },
    {
      "cell_type": "code",
      "execution_count": 76,
      "metadata": {
        "colab": {
          "base_uri": "https://localhost:8080/"
        },
        "id": "zgfeujZSPEKr",
        "outputId": "5c679c6a-8502-4ac7-ef1c-68da936e506c"
      },
      "outputs": [
        {
          "output_type": "stream",
          "name": "stdout",
          "text": [
            "Epoch 1/100\n",
            "16/16 [==============================] - 8s 117ms/step - loss: 0.0130 - val_loss: 0.0285\n",
            "Epoch 2/100\n",
            "16/16 [==============================] - 1s 67ms/step - loss: 0.0013 - val_loss: 0.0166\n",
            "Epoch 3/100\n",
            "16/16 [==============================] - 1s 93ms/step - loss: 3.3159e-04 - val_loss: 0.0015\n",
            "Epoch 4/100\n",
            "16/16 [==============================] - 2s 108ms/step - loss: 2.1337e-04 - val_loss: 0.0016\n",
            "Epoch 5/100\n",
            "16/16 [==============================] - 2s 100ms/step - loss: 1.8428e-04 - val_loss: 0.0023\n",
            "Epoch 6/100\n",
            "16/16 [==============================] - 1s 67ms/step - loss: 1.7500e-04 - val_loss: 0.0015\n",
            "Epoch 7/100\n",
            "16/16 [==============================] - 1s 69ms/step - loss: 1.6892e-04 - val_loss: 0.0021\n",
            "Epoch 8/100\n",
            "16/16 [==============================] - 1s 69ms/step - loss: 1.7005e-04 - val_loss: 0.0020\n",
            "Epoch 9/100\n",
            "16/16 [==============================] - 1s 68ms/step - loss: 1.6990e-04 - val_loss: 0.0018\n",
            "Epoch 10/100\n",
            "16/16 [==============================] - 1s 67ms/step - loss: 1.6544e-04 - val_loss: 0.0018\n",
            "Epoch 11/100\n",
            "16/16 [==============================] - 1s 68ms/step - loss: 1.7205e-04 - val_loss: 0.0024\n",
            "Epoch 12/100\n",
            "16/16 [==============================] - 1s 67ms/step - loss: 1.6751e-04 - val_loss: 0.0015\n",
            "Epoch 13/100\n",
            "16/16 [==============================] - 1s 67ms/step - loss: 1.7221e-04 - val_loss: 0.0017\n",
            "Epoch 14/100\n",
            "16/16 [==============================] - 1s 68ms/step - loss: 1.6281e-04 - val_loss: 0.0020\n",
            "Epoch 15/100\n",
            "16/16 [==============================] - 2s 124ms/step - loss: 1.6821e-04 - val_loss: 0.0019\n",
            "Epoch 16/100\n",
            "16/16 [==============================] - 2s 106ms/step - loss: 1.5767e-04 - val_loss: 0.0018\n",
            "Epoch 17/100\n",
            "16/16 [==============================] - 1s 68ms/step - loss: 1.5286e-04 - val_loss: 0.0016\n",
            "Epoch 18/100\n",
            "16/16 [==============================] - 1s 70ms/step - loss: 1.5189e-04 - val_loss: 0.0014\n",
            "Epoch 19/100\n",
            "16/16 [==============================] - 1s 69ms/step - loss: 1.5830e-04 - val_loss: 0.0014\n",
            "Epoch 20/100\n",
            "16/16 [==============================] - 1s 69ms/step - loss: 1.5737e-04 - val_loss: 0.0017\n",
            "Epoch 21/100\n",
            "16/16 [==============================] - 1s 68ms/step - loss: 1.5084e-04 - val_loss: 0.0014\n",
            "Epoch 22/100\n",
            "16/16 [==============================] - 1s 69ms/step - loss: 1.4619e-04 - val_loss: 0.0012\n",
            "Epoch 23/100\n",
            "16/16 [==============================] - 1s 66ms/step - loss: 1.5319e-04 - val_loss: 0.0011\n",
            "Epoch 24/100\n",
            "16/16 [==============================] - 1s 68ms/step - loss: 1.5424e-04 - val_loss: 0.0013\n",
            "Epoch 25/100\n",
            "16/16 [==============================] - 1s 68ms/step - loss: 1.4502e-04 - val_loss: 0.0014\n",
            "Epoch 26/100\n",
            "16/16 [==============================] - 2s 120ms/step - loss: 1.5955e-04 - val_loss: 0.0011\n",
            "Epoch 27/100\n",
            "16/16 [==============================] - 2s 108ms/step - loss: 1.4201e-04 - val_loss: 0.0012\n",
            "Epoch 28/100\n",
            "16/16 [==============================] - 1s 68ms/step - loss: 1.3547e-04 - val_loss: 0.0013\n",
            "Epoch 29/100\n",
            "16/16 [==============================] - 1s 67ms/step - loss: 1.3031e-04 - val_loss: 0.0012\n",
            "Epoch 30/100\n",
            "16/16 [==============================] - 1s 68ms/step - loss: 1.3947e-04 - val_loss: 9.9597e-04\n",
            "Epoch 31/100\n",
            "16/16 [==============================] - 1s 69ms/step - loss: 1.4425e-04 - val_loss: 0.0012\n",
            "Epoch 32/100\n",
            "16/16 [==============================] - 1s 68ms/step - loss: 1.3419e-04 - val_loss: 0.0010\n",
            "Epoch 33/100\n",
            "16/16 [==============================] - 1s 70ms/step - loss: 1.3144e-04 - val_loss: 0.0014\n",
            "Epoch 34/100\n",
            "16/16 [==============================] - 1s 69ms/step - loss: 1.4861e-04 - val_loss: 0.0013\n",
            "Epoch 35/100\n",
            "16/16 [==============================] - 1s 67ms/step - loss: 1.4100e-04 - val_loss: 0.0010\n",
            "Epoch 36/100\n",
            "16/16 [==============================] - 1s 68ms/step - loss: 1.2389e-04 - val_loss: 0.0011\n",
            "Epoch 37/100\n",
            "16/16 [==============================] - 2s 110ms/step - loss: 1.2599e-04 - val_loss: 0.0011\n",
            "Epoch 38/100\n",
            "16/16 [==============================] - 2s 114ms/step - loss: 1.2580e-04 - val_loss: 9.9707e-04\n",
            "Epoch 39/100\n",
            "16/16 [==============================] - 1s 77ms/step - loss: 1.2407e-04 - val_loss: 0.0010\n",
            "Epoch 40/100\n",
            "16/16 [==============================] - 1s 70ms/step - loss: 1.2470e-04 - val_loss: 0.0013\n",
            "Epoch 41/100\n",
            "16/16 [==============================] - 1s 68ms/step - loss: 1.2601e-04 - val_loss: 9.5078e-04\n",
            "Epoch 42/100\n",
            "16/16 [==============================] - 1s 69ms/step - loss: 1.3094e-04 - val_loss: 9.9495e-04\n",
            "Epoch 43/100\n",
            "16/16 [==============================] - 1s 67ms/step - loss: 1.3314e-04 - val_loss: 0.0010\n",
            "Epoch 44/100\n",
            "16/16 [==============================] - 1s 68ms/step - loss: 1.2751e-04 - val_loss: 8.8919e-04\n",
            "Epoch 45/100\n",
            "16/16 [==============================] - 1s 67ms/step - loss: 1.2133e-04 - val_loss: 9.0952e-04\n",
            "Epoch 46/100\n",
            "16/16 [==============================] - 1s 68ms/step - loss: 1.1768e-04 - val_loss: 9.6287e-04\n",
            "Epoch 47/100\n",
            "16/16 [==============================] - 1s 67ms/step - loss: 1.1605e-04 - val_loss: 0.0011\n",
            "Epoch 48/100\n",
            "16/16 [==============================] - 1s 89ms/step - loss: 1.2353e-04 - val_loss: 8.4352e-04\n",
            "Epoch 49/100\n",
            "16/16 [==============================] - 2s 107ms/step - loss: 1.2295e-04 - val_loss: 8.7993e-04\n",
            "Epoch 50/100\n",
            "16/16 [==============================] - 2s 96ms/step - loss: 1.1935e-04 - val_loss: 9.4985e-04\n",
            "Epoch 51/100\n",
            "16/16 [==============================] - 1s 68ms/step - loss: 1.1190e-04 - val_loss: 8.6695e-04\n",
            "Epoch 52/100\n",
            "16/16 [==============================] - 1s 69ms/step - loss: 1.1148e-04 - val_loss: 9.2767e-04\n",
            "Epoch 53/100\n",
            "16/16 [==============================] - 1s 68ms/step - loss: 1.1707e-04 - val_loss: 8.8735e-04\n",
            "Epoch 54/100\n",
            "16/16 [==============================] - 1s 72ms/step - loss: 1.3277e-04 - val_loss: 8.7560e-04\n",
            "Epoch 55/100\n",
            "16/16 [==============================] - 1s 67ms/step - loss: 1.2837e-04 - val_loss: 8.8807e-04\n",
            "Epoch 56/100\n",
            "16/16 [==============================] - 1s 68ms/step - loss: 1.2233e-04 - val_loss: 8.4244e-04\n",
            "Epoch 57/100\n",
            "16/16 [==============================] - 1s 69ms/step - loss: 1.2282e-04 - val_loss: 8.1276e-04\n",
            "Epoch 58/100\n",
            "16/16 [==============================] - 1s 70ms/step - loss: 1.1805e-04 - val_loss: 9.0116e-04\n",
            "Epoch 59/100\n",
            "16/16 [==============================] - 1s 84ms/step - loss: 1.1175e-04 - val_loss: 8.0390e-04\n",
            "Epoch 60/100\n",
            "16/16 [==============================] - 2s 110ms/step - loss: 1.0749e-04 - val_loss: 9.1066e-04\n",
            "Epoch 61/100\n",
            "16/16 [==============================] - 2s 108ms/step - loss: 1.1698e-04 - val_loss: 8.1877e-04\n",
            "Epoch 62/100\n",
            "16/16 [==============================] - 1s 70ms/step - loss: 1.1786e-04 - val_loss: 8.3712e-04\n",
            "Epoch 63/100\n",
            "16/16 [==============================] - 1s 68ms/step - loss: 1.1387e-04 - val_loss: 8.2197e-04\n",
            "Epoch 64/100\n",
            "16/16 [==============================] - 1s 68ms/step - loss: 1.0797e-04 - val_loss: 9.9963e-04\n",
            "Epoch 65/100\n",
            "16/16 [==============================] - 1s 69ms/step - loss: 1.2086e-04 - val_loss: 9.6948e-04\n",
            "Epoch 66/100\n",
            "16/16 [==============================] - 1s 69ms/step - loss: 1.3282e-04 - val_loss: 7.7276e-04\n",
            "Epoch 67/100\n",
            "16/16 [==============================] - 1s 68ms/step - loss: 1.1110e-04 - val_loss: 9.4977e-04\n",
            "Epoch 68/100\n",
            "16/16 [==============================] - 1s 67ms/step - loss: 1.1154e-04 - val_loss: 7.7328e-04\n",
            "Epoch 69/100\n",
            "16/16 [==============================] - 1s 67ms/step - loss: 1.0640e-04 - val_loss: 9.9121e-04\n",
            "Epoch 70/100\n",
            "16/16 [==============================] - 1s 67ms/step - loss: 1.0639e-04 - val_loss: 7.9451e-04\n",
            "Epoch 71/100\n",
            "16/16 [==============================] - 2s 115ms/step - loss: 1.0837e-04 - val_loss: 8.2052e-04\n",
            "Epoch 72/100\n",
            "16/16 [==============================] - 1s 91ms/step - loss: 1.0340e-04 - val_loss: 7.9870e-04\n",
            "Epoch 73/100\n",
            "16/16 [==============================] - 1s 68ms/step - loss: 1.0844e-04 - val_loss: 8.7106e-04\n",
            "Epoch 74/100\n",
            "16/16 [==============================] - 1s 71ms/step - loss: 1.0523e-04 - val_loss: 7.7865e-04\n",
            "Epoch 75/100\n",
            "16/16 [==============================] - 1s 66ms/step - loss: 1.0978e-04 - val_loss: 7.7322e-04\n",
            "Epoch 76/100\n",
            "16/16 [==============================] - 1s 69ms/step - loss: 1.1376e-04 - val_loss: 0.0010\n",
            "Epoch 77/100\n",
            "16/16 [==============================] - 1s 66ms/step - loss: 1.1525e-04 - val_loss: 7.6687e-04\n",
            "Epoch 78/100\n",
            "16/16 [==============================] - 1s 69ms/step - loss: 1.1659e-04 - val_loss: 8.3014e-04\n",
            "Epoch 79/100\n",
            "16/16 [==============================] - 1s 67ms/step - loss: 1.0556e-04 - val_loss: 7.5858e-04\n",
            "Epoch 80/100\n",
            "16/16 [==============================] - 1s 68ms/step - loss: 1.1095e-04 - val_loss: 7.9734e-04\n",
            "Epoch 81/100\n",
            "16/16 [==============================] - 1s 75ms/step - loss: 1.1282e-04 - val_loss: 7.8736e-04\n",
            "Epoch 82/100\n",
            "16/16 [==============================] - 2s 122ms/step - loss: 1.1206e-04 - val_loss: 0.0010\n",
            "Epoch 83/100\n",
            "16/16 [==============================] - 1s 78ms/step - loss: 1.0316e-04 - val_loss: 8.1567e-04\n",
            "Epoch 84/100\n",
            "16/16 [==============================] - 1s 69ms/step - loss: 1.0834e-04 - val_loss: 8.4689e-04\n",
            "Epoch 85/100\n",
            "16/16 [==============================] - 1s 69ms/step - loss: 1.0653e-04 - val_loss: 7.5920e-04\n",
            "Epoch 86/100\n",
            "16/16 [==============================] - 1s 69ms/step - loss: 1.0998e-04 - val_loss: 7.5626e-04\n",
            "Epoch 87/100\n",
            "16/16 [==============================] - 1s 68ms/step - loss: 1.0200e-04 - val_loss: 7.5715e-04\n",
            "Epoch 88/100\n",
            "16/16 [==============================] - 1s 68ms/step - loss: 1.0652e-04 - val_loss: 7.6024e-04\n",
            "Epoch 89/100\n",
            "16/16 [==============================] - 1s 68ms/step - loss: 9.8534e-05 - val_loss: 8.6375e-04\n",
            "Epoch 90/100\n",
            "16/16 [==============================] - 1s 68ms/step - loss: 1.0598e-04 - val_loss: 7.4718e-04\n",
            "Epoch 91/100\n",
            "16/16 [==============================] - 1s 69ms/step - loss: 1.1500e-04 - val_loss: 7.4782e-04\n",
            "Epoch 92/100\n",
            "16/16 [==============================] - 2s 99ms/step - loss: 1.0259e-04 - val_loss: 8.1082e-04\n",
            "Epoch 93/100\n",
            "16/16 [==============================] - 2s 107ms/step - loss: 1.1249e-04 - val_loss: 8.0892e-04\n",
            "Epoch 94/100\n",
            "16/16 [==============================] - 1s 67ms/step - loss: 1.0975e-04 - val_loss: 7.6829e-04\n",
            "Epoch 95/100\n",
            "16/16 [==============================] - 1s 68ms/step - loss: 1.0591e-04 - val_loss: 8.2369e-04\n",
            "Epoch 96/100\n",
            "16/16 [==============================] - 1s 69ms/step - loss: 1.1274e-04 - val_loss: 7.5787e-04\n",
            "Epoch 97/100\n",
            "16/16 [==============================] - 1s 68ms/step - loss: 1.0335e-04 - val_loss: 7.3135e-04\n",
            "Epoch 98/100\n",
            "16/16 [==============================] - 1s 69ms/step - loss: 1.0022e-04 - val_loss: 7.6049e-04\n",
            "Epoch 99/100\n",
            "16/16 [==============================] - 1s 69ms/step - loss: 1.0500e-04 - val_loss: 7.3215e-04\n",
            "Epoch 100/100\n",
            "16/16 [==============================] - 1s 68ms/step - loss: 9.9766e-05 - val_loss: 8.0447e-04\n"
          ]
        },
        {
          "output_type": "execute_result",
          "data": {
            "text/plain": [
              "<keras.callbacks.History at 0x7f658e8bb760>"
            ]
          },
          "metadata": {},
          "execution_count": 76
        }
      ],
      "source": [
        "# Fit mô hình với dữ liệu train\n",
        "model.fit(X_train,y_train,validation_data=(X_test,ytest),epochs=100,batch_size=64,verbose=1)"
      ]
    },
    {
      "cell_type": "code",
      "execution_count": 77,
      "metadata": {
        "colab": {
          "base_uri": "https://localhost:8080/"
        },
        "id": "Rxx_KQSkQpBG",
        "outputId": "0a133830-a4f4-4a96-c722-cba401b01471"
      },
      "outputs": [
        {
          "output_type": "stream",
          "name": "stdout",
          "text": [
            "32/32 [==============================] - 1s 12ms/step\n",
            "14/14 [==============================] - 0s 13ms/step\n",
            "3/3 [==============================] - 0s 12ms/step\n"
          ]
        }
      ],
      "source": [
        "# Dự báo dữ liệu test, val\n",
        "train_predict=model.predict(X_train)\n",
        "y_pred=model.predict(X_test)\n",
        "y_pred_val=model.predict(X_val)"
      ]
    },
    {
      "cell_type": "code",
      "execution_count": 78,
      "metadata": {
        "id": "5rwTN10LQ7rj"
      },
      "outputs": [],
      "source": [
        "# 11. Chuẩn hóa dữ liệu y_pred, y_pred_val\n",
        "train_predict=scaler.inverse_transform(train_predict)\n",
        "y_pred=scaler.inverse_transform(y_pred)\n",
        "y_pred_val=scaler.inverse_transform(y_pred_val)"
      ]
    },
    {
      "cell_type": "code",
      "source": [],
      "metadata": {
        "id": "InM2U4y2DNVY"
      },
      "execution_count": 78,
      "outputs": []
    },
    {
      "cell_type": "code",
      "execution_count": 79,
      "metadata": {
        "colab": {
          "base_uri": "https://localhost:8080/",
          "height": 432
        },
        "id": "KSa_mX51a654",
        "outputId": "75a4927f-e946-4107-a8dc-42ac8ae377b2"
      },
      "outputs": [
        {
          "output_type": "display_data",
          "data": {
            "text/plain": [
              "<Figure size 640x480 with 1 Axes>"
            ],
            "image/png": "[encoded data removed]"
          },
          "metadata": {}
        }
      ],
      "source": [
        "# 14.Vẽ hình\n",
        "\n",
        "train_data_index = pd.RangeIndex(start=0, stop=train_size, step=1)\n",
        "plt.plot(scaler.inverse_transform(train_data))\n",
        "test_data_index = pd.RangeIndex(start=train_size, stop=train_size+test_size, step=1)\n",
        "plt.plot(test_data_index,scaler.inverse_transform(test_data))\n",
        "test_data_index = pd.RangeIndex(start=train_size+101, stop=train_size+test_size, step=1)\n",
        "plt.plot(test_data_index,(y_pred))\n",
        "val_data_index = pd.RangeIndex(start=train_size+test_size, stop=train_size+test_size+val_size, step=1)\n",
        "plt.plot(val_data_index,scaler.inverse_transform(val_data))\n",
        "val_data_index = pd.RangeIndex(start=train_size+test_size+101, stop=train_size+test_size+val_size, step=1)\n",
        "plt.plot(val_data_index,y_pred_val)\n",
        "\n",
        "plt.legend(['Train','Test','Predict','Validate','ValidatePred'])\n",
        "plt.show()"
      ]
    },
    {
      "cell_type": "code",
      "source": [
        "# Respliting train test\n",
        "train_size1 = int(0.6 * len(df))\n",
        "test_size1 = int(0.3 * len(df))\n",
        "train_data1 = df[:train_size1]\n",
        "test_data1 = df[train_size1:train_size1+test_size1]\n",
        "val_data1 = df[train_size1+test_size1:]\n",
        "# Repredictions on the testing set\n",
        "x_test1 = np.array(test_data1.drop('Price', axis=1))  # Use the features (excluding the target variable)\n",
        "y_test1 = np.array(test_data1['Price'])\n",
        "\n",
        "# Repredictions on the validation set\n",
        "x_val1 = np.array(val_data1.drop('Price', axis=1))  # Use the features (excluding the target variable)\n",
        "y_val1 = np.array(val_data1['Price'])"
      ],
      "metadata": {
        "id": "ppabpKY7NDD3"
      },
      "execution_count": 80,
      "outputs": []
    },
    {
      "cell_type": "code",
      "execution_count": 81,
      "metadata": {
        "id": "kfYYR-fkwPot",
        "colab": {
          "base_uri": "https://localhost:8080/"
        },
        "outputId": "475fa9fe-34c4-4320-9c18-71db32fe6be0"
      },
      "outputs": [
        {
          "output_type": "stream",
          "name": "stdout",
          "text": [
            "Validation RMSE: 397.2423681842071\n",
            "Testing RMSE: 1454.1723458154772\n",
            "Validation MAPE: 23.0408683711429\n",
            "Testing MAPE: 54.58385773447687\n",
            "Validation MAE: 318.39292701701874\n",
            "Testing MAE: 1181.3924806157788\n"
          ]
        }
      ],
      "source": [
        "# Calculate evalution\n",
        "#RMSE\n",
        "valid_rmse = np.sqrt(np.mean((y_pred_val - y_val1)**2))\n",
        "test_rmse = np.sqrt(np.mean((y_pred - y_test1)**2))\n",
        "print('Validation RMSE:', valid_rmse)\n",
        "print('Testing RMSE:', test_rmse)\n",
        "\n",
        "#MAPE\n",
        "valid_mape = np.mean(np.abs((y_val1 - y_pred_val) / y_val1)) * 100\n",
        "test_mape = np.mean(np.abs((y_test1 - y_pred) / y_test1)) * 100\n",
        "print('Validation MAPE:', valid_mape)\n",
        "print('Testing MAPE:', test_mape)\n",
        "\n",
        "#MAE\n",
        "valid_mae = np.mean(np.abs(y_pred_val - y_val1))\n",
        "test_mae = np.mean(np.abs(y_pred - y_test1))\n",
        "print('Validation MAE:', valid_mae)\n",
        "print('Testing MAE:', test_mae)"
      ]
    }
  ],
  "metadata": {
    "colab": {
      "provenance": []
    },
    "kernelspec": {
      "display_name": "Python 3 (ipykernel)",
      "language": "python",
      "name": "python3"
    },
    "language_info": {
      "codemirror_mode": {
        "name": "ipython",
        "version": 3
      },
      "file_extension": ".py",
      "mimetype": "text/x-python",
      "name": "python",
      "nbconvert_exporter": "python",
      "pygments_lexer": "ipython3",
      "version": "3.9.12"
    }
  },
  "nbformat": 4,
  "nbformat_minor": 0
}
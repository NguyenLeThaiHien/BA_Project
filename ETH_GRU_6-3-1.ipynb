{
  "cells": [
    {
      "cell_type": "code",
      "execution_count": 16,
      "metadata": {
        "id": "FMDKda-XIUAK"
      },
      "outputs": [],
      "source": [
        "# 1. Import thư viện cần thiết\n",
        "import numpy as np\n",
        "import pandas as pd\n",
        "import matplotlib.pyplot as plt\n",
        "from sklearn.preprocessing import MinMaxScaler\n",
        "from keras.models import Sequential\n",
        "from keras.layers import Dense, GRU"
      ]
    },
    {
      "cell_type": "code",
      "execution_count": 17,
      "metadata": {
        "id": "aRm9GQ8KJJ5N"
      },
      "outputs": [],
      "source": [
        "# 2. Đọc file csv và gắng index với giá Close\n",
        "df = pd.read_csv('/content/ETH.csv')\n",
        "df1=df.reset_index()['Price']"
      ]
    },
    {
      "cell_type": "code",
      "execution_count": 18,
      "metadata": {
        "id": "RdVpDho2JgL5"
      },
      "outputs": [],
      "source": [
        "# 3. Scaler data\n",
        "scaler=MinMaxScaler(feature_range=(0,1))\n",
        "df1=scaler.fit_transform(np.array(df1).reshape(-1,1))"
      ]
    },
    {
      "cell_type": "code",
      "execution_count": 19,
      "metadata": {
        "id": "B5JXpenzJoR3"
      },
      "outputs": [],
      "source": [
        "# 4. Chia train test 6:3:1\n",
        "train_size = int(0.6 * len(df1))\n",
        "test_size = int(0.3 * len(df1))\n",
        "val_size = len(df1) - train_size - test_size\n",
        "\n",
        "train_data = df1[:train_size]\n",
        "test_data = df1[train_size:train_size+test_size]\n",
        "val_data = df1[train_size+test_size:]"
      ]
    },
    {
      "cell_type": "code",
      "execution_count": 20,
      "metadata": {
        "id": "yJfmuBORLSfC"
      },
      "outputs": [],
      "source": [
        "# 5. Hàm Create Dataset\n",
        "import numpy\n",
        "# convert an array of values into a dataset matrix\n",
        "def create_dataset(dataset, time_step=1):\n",
        "\tdataX, dataY = [], []\n",
        "\tfor i in range(len(dataset)-time_step-1):\n",
        "\t\ta = dataset[i:(i+time_step), 0]   ###i=0, X=0,1,2,3-----99   Y=100\n",
        "\t\tdataX.append(a)\n",
        "\t\tdataY.append(dataset[i + time_step, 0])\n",
        "\treturn numpy.array(dataX), numpy.array(dataY)"
      ]
    },
    {
      "cell_type": "code",
      "execution_count": 21,
      "metadata": {
        "id": "e81cKq03LXFB"
      },
      "outputs": [],
      "source": [
        "#6. Reshape into X=t,t+1,t+2..t+99 and Y=t+100\n",
        "\n",
        "time_step = 100\n",
        "X_train, y_train = create_dataset(train_data, time_step)\n",
        "X_val, yval = create_dataset(val_data, time_step)\n",
        "X_test, ytest = create_dataset(test_data, time_step)"
      ]
    },
    {
      "cell_type": "code",
      "execution_count": 22,
      "metadata": {
        "id": "RdBVfku7O2qb"
      },
      "outputs": [],
      "source": [
        "# 7. Reshape input to be [samples, time steps, features] which is required for LSTM\n",
        "X_train =X_train.reshape(X_train.shape[0],X_train.shape[1] , 1)\n",
        "X_test = X_test.reshape(X_test.shape[0],X_test.shape[1] , 1)\n",
        "X_val = X_val.reshape(X_val.shape[0],X_val.shape[1] , 1)"
      ]
    },
    {
      "cell_type": "code",
      "execution_count": 23,
      "metadata": {
        "id": "sSfxrE7BO9vX"
      },
      "outputs": [],
      "source": [
        "# 8. Define GRU Model\n",
        "\n",
        "model = Sequential()\n",
        "model.add(GRU(64, input_shape=(time_step, 1)))\n",
        "model.add(Dense(1))\n",
        "model.compile(optimizer='adam', loss='mean_squared_error')"
      ]
    },
    {
      "cell_type": "code",
      "execution_count": 24,
      "metadata": {
        "colab": {
          "base_uri": "https://localhost:8080/"
        },
        "id": "zgfeujZSPEKr",
        "outputId": "0a6726a5-a9bb-4a4a-ec1a-ea3f8a44dd08"
      },
      "outputs": [
        {
          "output_type": "stream",
          "name": "stdout",
          "text": [
            "Epoch 1/100\n",
            "16/16 [==============================] - 5s 100ms/step - loss: 0.0152 - val_loss: 0.0508\n",
            "Epoch 2/100\n",
            "16/16 [==============================] - 1s 65ms/step - loss: 0.0017 - val_loss: 0.0166\n",
            "Epoch 3/100\n",
            "16/16 [==============================] - 1s 68ms/step - loss: 4.4625e-04 - val_loss: 0.0017\n",
            "Epoch 4/100\n",
            "16/16 [==============================] - 1s 65ms/step - loss: 2.4947e-04 - val_loss: 0.0017\n",
            "Epoch 5/100\n",
            "16/16 [==============================] - 1s 64ms/step - loss: 1.8332e-04 - val_loss: 0.0027\n",
            "Epoch 6/100\n",
            "16/16 [==============================] - 1s 65ms/step - loss: 1.6968e-04 - val_loss: 0.0018\n",
            "Epoch 7/100\n",
            "16/16 [==============================] - 1s 68ms/step - loss: 1.7989e-04 - val_loss: 0.0020\n",
            "Epoch 8/100\n",
            "16/16 [==============================] - 1s 65ms/step - loss: 1.7907e-04 - val_loss: 0.0016\n",
            "Epoch 9/100\n",
            "16/16 [==============================] - 2s 96ms/step - loss: 1.7689e-04 - val_loss: 0.0017\n",
            "Epoch 10/100\n",
            "16/16 [==============================] - 2s 116ms/step - loss: 1.7980e-04 - val_loss: 0.0015\n",
            "Epoch 11/100\n",
            "16/16 [==============================] - 1s 67ms/step - loss: 1.7772e-04 - val_loss: 0.0015\n",
            "Epoch 12/100\n",
            "16/16 [==============================] - 1s 66ms/step - loss: 1.6351e-04 - val_loss: 0.0016\n",
            "Epoch 13/100\n",
            "16/16 [==============================] - 1s 65ms/step - loss: 1.6253e-04 - val_loss: 0.0017\n",
            "Epoch 14/100\n",
            "16/16 [==============================] - 1s 63ms/step - loss: 1.7066e-04 - val_loss: 0.0018\n",
            "Epoch 15/100\n",
            "16/16 [==============================] - 1s 66ms/step - loss: 1.6949e-04 - val_loss: 0.0017\n",
            "Epoch 16/100\n",
            "16/16 [==============================] - 1s 66ms/step - loss: 1.4945e-04 - val_loss: 0.0015\n",
            "Epoch 17/100\n",
            "16/16 [==============================] - 1s 66ms/step - loss: 1.5152e-04 - val_loss: 0.0013\n",
            "Epoch 18/100\n",
            "16/16 [==============================] - 1s 65ms/step - loss: 1.4942e-04 - val_loss: 0.0013\n",
            "Epoch 19/100\n",
            "16/16 [==============================] - 1s 65ms/step - loss: 1.4492e-04 - val_loss: 0.0016\n",
            "Epoch 20/100\n",
            "16/16 [==============================] - 1s 95ms/step - loss: 1.4841e-04 - val_loss: 0.0013\n",
            "Epoch 21/100\n",
            "16/16 [==============================] - 2s 114ms/step - loss: 1.4763e-04 - val_loss: 0.0012\n",
            "Epoch 22/100\n",
            "16/16 [==============================] - 1s 66ms/step - loss: 1.5026e-04 - val_loss: 0.0014\n",
            "Epoch 23/100\n",
            "16/16 [==============================] - 1s 65ms/step - loss: 1.3950e-04 - val_loss: 0.0015\n",
            "Epoch 24/100\n",
            "16/16 [==============================] - 1s 64ms/step - loss: 1.3746e-04 - val_loss: 0.0012\n",
            "Epoch 25/100\n",
            "16/16 [==============================] - 1s 66ms/step - loss: 1.4104e-04 - val_loss: 0.0012\n",
            "Epoch 26/100\n",
            "16/16 [==============================] - 1s 64ms/step - loss: 1.4704e-04 - val_loss: 0.0012\n",
            "Epoch 27/100\n",
            "16/16 [==============================] - 1s 65ms/step - loss: 1.3958e-04 - val_loss: 0.0015\n",
            "Epoch 28/100\n",
            "16/16 [==============================] - 1s 67ms/step - loss: 1.3624e-04 - val_loss: 0.0011\n",
            "Epoch 29/100\n",
            "16/16 [==============================] - 1s 68ms/step - loss: 1.3477e-04 - val_loss: 0.0012\n",
            "Epoch 30/100\n",
            "16/16 [==============================] - 1s 67ms/step - loss: 1.2751e-04 - val_loss: 0.0011\n",
            "Epoch 31/100\n",
            "16/16 [==============================] - 2s 100ms/step - loss: 1.2931e-04 - val_loss: 0.0013\n",
            "Epoch 32/100\n",
            "16/16 [==============================] - 2s 104ms/step - loss: 1.3130e-04 - val_loss: 0.0014\n",
            "Epoch 33/100\n",
            "16/16 [==============================] - 1s 64ms/step - loss: 1.4590e-04 - val_loss: 0.0011\n",
            "Epoch 34/100\n",
            "16/16 [==============================] - 1s 65ms/step - loss: 1.2679e-04 - val_loss: 0.0012\n",
            "Epoch 35/100\n",
            "16/16 [==============================] - 1s 67ms/step - loss: 1.2492e-04 - val_loss: 0.0010\n",
            "Epoch 36/100\n",
            "16/16 [==============================] - 1s 64ms/step - loss: 1.2536e-04 - val_loss: 0.0012\n",
            "Epoch 37/100\n",
            "16/16 [==============================] - 1s 65ms/step - loss: 1.2273e-04 - val_loss: 0.0010\n",
            "Epoch 38/100\n",
            "16/16 [==============================] - 1s 67ms/step - loss: 1.2703e-04 - val_loss: 0.0010\n",
            "Epoch 39/100\n",
            "16/16 [==============================] - 1s 65ms/step - loss: 1.1900e-04 - val_loss: 9.9145e-04\n",
            "Epoch 40/100\n",
            "16/16 [==============================] - 1s 65ms/step - loss: 1.2704e-04 - val_loss: 0.0014\n",
            "Epoch 41/100\n",
            "16/16 [==============================] - 1s 67ms/step - loss: 1.2741e-04 - val_loss: 8.6930e-04\n",
            "Epoch 42/100\n",
            "16/16 [==============================] - 1s 82ms/step - loss: 1.3798e-04 - val_loss: 0.0011\n",
            "Epoch 43/100\n",
            "16/16 [==============================] - 2s 113ms/step - loss: 1.2346e-04 - val_loss: 9.6609e-04\n",
            "Epoch 44/100\n",
            "16/16 [==============================] - 1s 70ms/step - loss: 1.1832e-04 - val_loss: 9.9864e-04\n",
            "Epoch 45/100\n",
            "16/16 [==============================] - 1s 64ms/step - loss: 1.1943e-04 - val_loss: 8.8606e-04\n",
            "Epoch 46/100\n",
            "16/16 [==============================] - 1s 64ms/step - loss: 1.1462e-04 - val_loss: 9.2990e-04\n",
            "Epoch 47/100\n",
            "16/16 [==============================] - 1s 65ms/step - loss: 1.1299e-04 - val_loss: 9.3456e-04\n",
            "Epoch 48/100\n",
            "16/16 [==============================] - 1s 66ms/step - loss: 1.1898e-04 - val_loss: 9.5338e-04\n",
            "Epoch 49/100\n",
            "16/16 [==============================] - 1s 64ms/step - loss: 1.1832e-04 - val_loss: 0.0010\n",
            "Epoch 50/100\n",
            "16/16 [==============================] - 1s 64ms/step - loss: 1.1265e-04 - val_loss: 8.7076e-04\n",
            "Epoch 51/100\n",
            "16/16 [==============================] - 1s 65ms/step - loss: 1.1313e-04 - val_loss: 9.8798e-04\n",
            "Epoch 52/100\n",
            "16/16 [==============================] - 1s 65ms/step - loss: 1.1898e-04 - val_loss: 8.3274e-04\n",
            "Epoch 53/100\n",
            "16/16 [==============================] - 1s 70ms/step - loss: 1.1116e-04 - val_loss: 0.0011\n",
            "Epoch 54/100\n",
            "16/16 [==============================] - 2s 107ms/step - loss: 1.2210e-04 - val_loss: 8.1773e-04\n",
            "Epoch 55/100\n",
            "16/16 [==============================] - 1s 85ms/step - loss: 1.2276e-04 - val_loss: 9.0365e-04\n",
            "Epoch 56/100\n",
            "16/16 [==============================] - 1s 65ms/step - loss: 1.3099e-04 - val_loss: 8.0414e-04\n",
            "Epoch 57/100\n",
            "16/16 [==============================] - 1s 64ms/step - loss: 1.2204e-04 - val_loss: 0.0012\n",
            "Epoch 58/100\n",
            "16/16 [==============================] - 1s 66ms/step - loss: 1.1013e-04 - val_loss: 8.0113e-04\n",
            "Epoch 59/100\n",
            "16/16 [==============================] - 1s 68ms/step - loss: 1.1952e-04 - val_loss: 8.0334e-04\n",
            "Epoch 60/100\n",
            "16/16 [==============================] - 1s 66ms/step - loss: 1.1941e-04 - val_loss: 7.8934e-04\n",
            "Epoch 61/100\n",
            "16/16 [==============================] - 1s 67ms/step - loss: 1.1106e-04 - val_loss: 9.2157e-04\n",
            "Epoch 62/100\n",
            "16/16 [==============================] - 1s 67ms/step - loss: 1.0997e-04 - val_loss: 7.7658e-04\n",
            "Epoch 63/100\n",
            "16/16 [==============================] - 1s 67ms/step - loss: 1.1244e-04 - val_loss: 8.1879e-04\n",
            "Epoch 64/100\n",
            "16/16 [==============================] - 1s 67ms/step - loss: 1.0892e-04 - val_loss: 7.8879e-04\n",
            "Epoch 65/100\n",
            "16/16 [==============================] - 2s 106ms/step - loss: 1.1818e-04 - val_loss: 7.6057e-04\n",
            "Epoch 66/100\n",
            "16/16 [==============================] - 1s 93ms/step - loss: 1.2065e-04 - val_loss: 9.0804e-04\n",
            "Epoch 67/100\n",
            "16/16 [==============================] - 1s 68ms/step - loss: 1.0840e-04 - val_loss: 7.8718e-04\n",
            "Epoch 68/100\n",
            "16/16 [==============================] - 1s 65ms/step - loss: 1.1916e-04 - val_loss: 0.0014\n",
            "Epoch 69/100\n",
            "16/16 [==============================] - 1s 68ms/step - loss: 1.1480e-04 - val_loss: 7.5453e-04\n",
            "Epoch 70/100\n",
            "16/16 [==============================] - 1s 67ms/step - loss: 1.0814e-04 - val_loss: 8.7898e-04\n",
            "Epoch 71/100\n",
            "16/16 [==============================] - 1s 65ms/step - loss: 1.1600e-04 - val_loss: 7.6818e-04\n",
            "Epoch 72/100\n",
            "16/16 [==============================] - 1s 67ms/step - loss: 1.2139e-04 - val_loss: 8.5617e-04\n",
            "Epoch 73/100\n",
            "16/16 [==============================] - 1s 65ms/step - loss: 1.0285e-04 - val_loss: 7.4277e-04\n",
            "Epoch 74/100\n",
            "16/16 [==============================] - 1s 66ms/step - loss: 1.1417e-04 - val_loss: 0.0012\n",
            "Epoch 75/100\n",
            "16/16 [==============================] - 1s 67ms/step - loss: 1.1026e-04 - val_loss: 7.4614e-04\n",
            "Epoch 76/100\n",
            "16/16 [==============================] - 2s 101ms/step - loss: 9.9954e-05 - val_loss: 9.1542e-04\n",
            "Epoch 77/100\n",
            "16/16 [==============================] - 2s 102ms/step - loss: 1.0365e-04 - val_loss: 7.3805e-04\n",
            "Epoch 78/100\n",
            "16/16 [==============================] - 1s 65ms/step - loss: 1.0681e-04 - val_loss: 7.7369e-04\n",
            "Epoch 79/100\n",
            "16/16 [==============================] - 1s 65ms/step - loss: 1.0447e-04 - val_loss: 7.9999e-04\n",
            "Epoch 80/100\n",
            "16/16 [==============================] - 1s 66ms/step - loss: 1.1495e-04 - val_loss: 7.3932e-04\n",
            "Epoch 81/100\n",
            "16/16 [==============================] - 1s 65ms/step - loss: 1.0440e-04 - val_loss: 8.3152e-04\n",
            "Epoch 82/100\n",
            "16/16 [==============================] - 1s 66ms/step - loss: 1.0260e-04 - val_loss: 7.2433e-04\n",
            "Epoch 83/100\n",
            "16/16 [==============================] - 1s 67ms/step - loss: 1.0398e-04 - val_loss: 7.9351e-04\n",
            "Epoch 84/100\n",
            "16/16 [==============================] - 1s 64ms/step - loss: 1.0588e-04 - val_loss: 7.2841e-04\n",
            "Epoch 85/100\n",
            "16/16 [==============================] - 1s 66ms/step - loss: 1.0460e-04 - val_loss: 8.9748e-04\n",
            "Epoch 86/100\n",
            "16/16 [==============================] - 1s 65ms/step - loss: 1.0496e-04 - val_loss: 7.4312e-04\n",
            "Epoch 87/100\n",
            "16/16 [==============================] - 2s 98ms/step - loss: 1.6159e-04 - val_loss: 0.0013\n",
            "Epoch 88/100\n",
            "16/16 [==============================] - 2s 107ms/step - loss: 1.2016e-04 - val_loss: 8.9939e-04\n",
            "Epoch 89/100\n",
            "16/16 [==============================] - 1s 65ms/step - loss: 1.0808e-04 - val_loss: 9.8817e-04\n",
            "Epoch 90/100\n",
            "16/16 [==============================] - 1s 67ms/step - loss: 1.0301e-04 - val_loss: 7.1433e-04\n",
            "Epoch 91/100\n",
            "16/16 [==============================] - 1s 66ms/step - loss: 9.9300e-05 - val_loss: 7.2246e-04\n",
            "Epoch 92/100\n",
            "16/16 [==============================] - 1s 66ms/step - loss: 1.0170e-04 - val_loss: 7.6931e-04\n",
            "Epoch 93/100\n",
            "16/16 [==============================] - 1s 67ms/step - loss: 1.0221e-04 - val_loss: 7.1865e-04\n",
            "Epoch 94/100\n",
            "16/16 [==============================] - 1s 67ms/step - loss: 1.0422e-04 - val_loss: 7.1462e-04\n",
            "Epoch 95/100\n",
            "16/16 [==============================] - 1s 68ms/step - loss: 9.9088e-05 - val_loss: 8.9850e-04\n",
            "Epoch 96/100\n",
            "16/16 [==============================] - 1s 68ms/step - loss: 1.0527e-04 - val_loss: 7.1068e-04\n",
            "Epoch 97/100\n",
            "16/16 [==============================] - 1s 67ms/step - loss: 9.7514e-05 - val_loss: 7.4972e-04\n",
            "Epoch 98/100\n",
            "16/16 [==============================] - 1s 93ms/step - loss: 1.0436e-04 - val_loss: 7.1791e-04\n",
            "Epoch 99/100\n",
            "16/16 [==============================] - 2s 117ms/step - loss: 1.1863e-04 - val_loss: 8.9698e-04\n",
            "Epoch 100/100\n",
            "16/16 [==============================] - 1s 67ms/step - loss: 9.7263e-05 - val_loss: 7.1348e-04\n"
          ]
        },
        {
          "output_type": "execute_result",
          "data": {
            "text/plain": [
              "<keras.callbacks.History at 0x7f659d0e70a0>"
            ]
          },
          "metadata": {},
          "execution_count": 24
        }
      ],
      "source": [
        "# Fit mô hình với dữ liệu train\n",
        "model.fit(X_train,y_train,validation_data=(X_test,ytest),epochs=100,batch_size=64,verbose=1)"
      ]
    },
    {
      "cell_type": "code",
      "execution_count": 25,
      "metadata": {
        "colab": {
          "base_uri": "https://localhost:8080/"
        },
        "id": "Rxx_KQSkQpBG",
        "outputId": "38a9b78f-0f26-4bbb-8c10-e60fa5a3cc46"
      },
      "outputs": [
        {
          "output_type": "stream",
          "name": "stdout",
          "text": [
            "32/32 [==============================] - 1s 13ms/step\n",
            "14/14 [==============================] - 0s 13ms/step\n",
            "3/3 [==============================] - 0s 13ms/step\n"
          ]
        }
      ],
      "source": [
        "# Dự báo dữ liệu test, val\n",
        "train_predict=model.predict(X_train)\n",
        "y_pred=model.predict(X_test)\n",
        "y_pred_val=model.predict(X_val)"
      ]
    },
    {
      "cell_type": "code",
      "execution_count": 26,
      "metadata": {
        "id": "5rwTN10LQ7rj"
      },
      "outputs": [],
      "source": [
        "# 11. Chuẩn hóa dữ liệu y_pred, y_pred_val\n",
        "train_predict=scaler.inverse_transform(train_predict)\n",
        "y_pred=scaler.inverse_transform(y_pred)\n",
        "y_pred_val=scaler.inverse_transform(y_pred_val)"
      ]
    },
    {
      "cell_type": "code",
      "source": [],
      "metadata": {
        "id": "InM2U4y2DNVY"
      },
      "execution_count": 26,
      "outputs": []
    },
    {
      "cell_type": "code",
      "execution_count": 29,
      "metadata": {
        "colab": {
          "base_uri": "https://localhost:8080/",
          "height": 432
        },
        "id": "KSa_mX51a654",
        "outputId": "4dc5996f-8f29-4da4-cb28-37fd624193ec"
      },
      "outputs": [
        {
          "output_type": "display_data",
          "data": {
            "text/plain": [
              "<Figure size 640x480 with 1 Axes>"
            ],
            "image/png": "[encoded data removed]"
          },
          "metadata": {}
        }
      ],
      "source": [
        "# 14.Vẽ hình\n",
        "\n",
        "train_data_index = pd.RangeIndex(start=0, stop=train_size, step=1)\n",
        "plt.plot(scaler.inverse_transform(train_data))\n",
        "test_data_index = pd.RangeIndex(start=train_size, stop=train_size+test_size, step=1)\n",
        "plt.plot(test_data_index,scaler.inverse_transform(test_data))\n",
        "test_data_index = pd.RangeIndex(start=train_size+101, stop=train_size+test_size, step=1)\n",
        "plt.plot(test_data_index,(y_pred))\n",
        "val_data_index = pd.RangeIndex(start=train_size+test_size, stop=train_size+test_size+val_size, step=1)\n",
        "plt.plot(val_data_index,scaler.inverse_transform(val_data))\n",
        "val_data_index = pd.RangeIndex(start=train_size+test_size+101, stop=train_size+test_size+val_size, step=1)\n",
        "plt.plot(val_data_index,y_pred_val)\n",
        "\n",
        "plt.legend(['Train','Test','Predict','Validate','ValidatePred'])\n",
        "plt.show()"
      ]
    },
    {
      "cell_type": "code",
      "source": [
        "# Respliting train test\n",
        "train_size1 = int(0.7 * len(df))\n",
        "test_size1 = int(0.2 * len(df))\n",
        "train_data1 = df[:train_size1]\n",
        "test_data1 = df[train_size1:train_size1+test_size1]\n",
        "val_data1 = df[train_size1+test_size1:]\n",
        "# Repredictions on the testing set\n",
        "x_test1 = np.array(test_data1.drop('Price', axis=1))  # Use the features (excluding the target variable)\n",
        "y_test1 = np.array(test_data1['Price'])\n",
        "\n",
        "# Repredictions on the validation set\n",
        "x_val1 = np.array(val_data1.drop('Price', axis=1))  # Use the features (excluding the target variable)\n",
        "y_val1 = np.array(val_data1['Price'])"
      ],
      "metadata": {
        "id": "ppabpKY7NDD3"
      },
      "execution_count": 30,
      "outputs": []
    },
    {
      "cell_type": "code",
      "execution_count": 31,
      "metadata": {
        "id": "kfYYR-fkwPot",
        "colab": {
          "base_uri": "https://localhost:8080/"
        },
        "outputId": "df20ef2c-b6cb-42af-a538-36b75d237c89"
      },
      "outputs": [
        {
          "output_type": "stream",
          "name": "stdout",
          "text": [
            "Validation RMSE: 371.730180510059\n",
            "Testing RMSE: 1458.5511688907768\n",
            "Validation MAPE: 21.45216375702462\n",
            "Testing MAPE: 60.7867149930941\n",
            "Validation MAE: 296.5948120337251\n",
            "Testing MAE: 1176.60947842704\n"
          ]
        }
      ],
      "source": [
        "# Calculate evalution\n",
        "#RMSE\n",
        "valid_rmse = np.sqrt(np.mean((y_pred_val - y_val1)**2))\n",
        "test_rmse = np.sqrt(np.mean((y_pred - y_test1)**2))\n",
        "print('Validation RMSE:', valid_rmse)\n",
        "print('Testing RMSE:', test_rmse)\n",
        "\n",
        "#MAPE\n",
        "valid_mape = np.mean(np.abs((y_val1 - y_pred_val) / y_val1)) * 100\n",
        "test_mape = np.mean(np.abs((y_test1 - y_pred) / y_test1)) * 100\n",
        "print('Validation MAPE:', valid_mape)\n",
        "print('Testing MAPE:', test_mape)\n",
        "\n",
        "#MAE\n",
        "valid_mae = np.mean(np.abs(y_pred_val - y_val1))\n",
        "test_mae = np.mean(np.abs(y_pred - y_test1))\n",
        "print('Validation MAE:', valid_mae)\n",
        "print('Testing MAE:', test_mae)"
      ]
    }
  ],
  "metadata": {
    "colab": {
      "provenance": []
    },
    "kernelspec": {
      "display_name": "Python 3 (ipykernel)",
      "language": "python",
      "name": "python3"
    },
    "language_info": {
      "codemirror_mode": {
        "name": "ipython",
        "version": 3
      },
      "file_extension": ".py",
      "mimetype": "text/x-python",
      "name": "python",
      "nbconvert_exporter": "python",
      "pygments_lexer": "ipython3",
      "version": "3.9.12"
    }
  },
  "nbformat": 4,
  "nbformat_minor": 0
}
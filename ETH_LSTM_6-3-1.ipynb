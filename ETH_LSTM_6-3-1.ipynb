{
 "cells": [
  {
   "cell_type": "code",
   "execution_count": 1,
   "metadata": {
    "colab": {
     "base_uri": "https://localhost:8080/"
    },
    "id": "FMDKda-XIUAK",
    "outputId": "be988c00-2f6c-43b6-a7bf-69a486a7845c"
   },
   "outputs": [
    {
     "name": "stderr",
     "output_type": "stream",
     "text": [
      "C:\\Users\\Duy Khanh\\anaconda3\\lib\\site-packages\\scipy\\__init__.py:146: UserWarning: A NumPy version >=1.16.5 and <1.23.0 is required for this version of SciPy (detected version 1.24.3\n",
      "  warnings.warn(f\"A NumPy version >={np_minversion} and <{np_maxversion}\"\n"
     ]
    }
   ],
   "source": [
    "# 1. Import thư viện cần thiết\n",
    "import numpy as np\n",
    "import pandas as pd\n",
    "import matplotlib.pyplot as plt\n",
    "from sklearn.preprocessing import MinMaxScaler\n",
    "from keras.models import Sequential\n",
    "from keras.layers import Dense, LSTM"
   ]
  },
  {
   "cell_type": "code",
   "execution_count": 2,
   "metadata": {
    "id": "aRm9GQ8KJJ5N"
   },
   "outputs": [],
   "source": [
    "# 2. Đọc file csv và gắng index với giá Price\n",
    "df = pd.read_csv('ETH.csv')\n",
    "df1=df.reset_index()['Price']"
   ]
  },
  {
   "cell_type": "code",
   "execution_count": 3,
   "metadata": {
    "id": "RdVpDho2JgL5"
   },
   "outputs": [],
   "source": [
    "# 3. Scaler data\n",
    "scaler=MinMaxScaler(feature_range=(0,1))\n",
    "df1=scaler.fit_transform(np.array(df1).reshape(-1,1))"
   ]
  },
  {
   "cell_type": "code",
   "execution_count": 4,
   "metadata": {
    "id": "B5JXpenzJoR3"
   },
   "outputs": [],
   "source": [
    "# 4. Chia train test với tỉ kệ 6:3:1\n",
    "train_size = int(0.6 * len(df1))\n",
    "test_size = int(0.3 * len(df1))\n",
    "val_size = len(df1) - train_size - test_size\n",
    "\n",
    "train_data = df1[:train_size]\n",
    "test_data = df1[train_size:train_size+test_size]\n",
    "val_data = df1[train_size+test_size:]"
   ]
  },
  {
   "cell_type": "code",
   "execution_count": 5,
   "metadata": {
    "id": "yJfmuBORLSfC"
   },
   "outputs": [],
   "source": [
    "# 5. Hàm Create Dataset\n",
    "import numpy\n",
    "# convert an array of values into a dataset matrix\n",
    "def create_dataset(dataset, time_step=1):\n",
    "\tdataX, dataY = [], []\n",
    "\tfor i in range(len(dataset)-time_step-1):\n",
    "\t\ta = dataset[i:(i+time_step), 0]   ###i=0, X=0,1,2,3-----99   Y=100 \n",
    "\t\tdataX.append(a)\n",
    "\t\tdataY.append(dataset[i + time_step, 0])\n",
    "\treturn numpy.array(dataX), numpy.array(dataY)"
   ]
  },
  {
   "cell_type": "code",
   "execution_count": 6,
   "metadata": {
    "id": "e81cKq03LXFB"
   },
   "outputs": [],
   "source": [
    "#6. Reshape into X=t,t+1,t+2..t+99 and Y=t+100\n",
    "time_step = 100\n",
    "X_train, y_train = create_dataset(train_data, time_step)\n",
    "X_val, yval = create_dataset(val_data, time_step)\n",
    "X_test, ytest = create_dataset(test_data, time_step)"
   ]
  },
  {
   "cell_type": "code",
   "execution_count": 7,
   "metadata": {
    "id": "RdBVfku7O2qb"
   },
   "outputs": [],
   "source": [
    "# 7. Reshape input to be [samples, time steps, features] which is required for LSTM\n",
    "X_train =X_train.reshape(X_train.shape[0],X_train.shape[1] , 1)\n",
    "X_test = X_test.reshape(X_test.shape[0],X_test.shape[1] , 1)\n",
    "X_val = X_val.reshape(X_val.shape[0],X_val.shape[1] , 1)"
   ]
  },
  {
   "cell_type": "code",
   "execution_count": 8,
   "metadata": {
    "id": "sSfxrE7BO9vX"
   },
   "outputs": [],
   "source": [
    "# 8. Define LSTM Model\n",
    "model=Sequential()\n",
    "model.add(LSTM(50,return_sequences=True,input_shape=(100,1)))\n",
    "model.add(LSTM(50,return_sequences=True))\n",
    "model.add(LSTM(50))\n",
    "model.add(Dense(1))\n",
    "model.compile(loss='mean_squared_error',optimizer='adam')"
   ]
  },
  {
   "cell_type": "code",
   "execution_count": 9,
   "metadata": {
    "colab": {
     "base_uri": "https://localhost:8080/"
    },
    "id": "zgfeujZSPEKr",
    "outputId": "87151598-3792-46b5-857d-e7626c6a63de"
   },
   "outputs": [
    {
     "name": "stdout",
     "output_type": "stream",
     "text": [
      "Epoch 1/100\n",
      "16/16 [==============================] - 87s 1s/step - loss: 0.0137 - val_loss: 0.1170\n",
      "Epoch 2/100\n",
      "16/16 [==============================] - 7s 465ms/step - loss: 0.0018 - val_loss: 0.0356\n",
      "Epoch 3/100\n",
      "16/16 [==============================] - 8s 474ms/step - loss: 8.3143e-04 - val_loss: 0.0095\n",
      "Epoch 4/100\n",
      "16/16 [==============================] - 8s 521ms/step - loss: 0.0010 - val_loss: 0.0116\n",
      "Epoch 5/100\n",
      "16/16 [==============================] - 9s 560ms/step - loss: 6.7896e-04 - val_loss: 0.0138\n",
      "Epoch 6/100\n",
      "16/16 [==============================] - 8s 520ms/step - loss: 7.1725e-04 - val_loss: 0.0585\n",
      "Epoch 7/100\n",
      "16/16 [==============================] - 9s 538ms/step - loss: 6.7357e-04 - val_loss: 0.0423\n",
      "Epoch 8/100\n",
      "16/16 [==============================] - 10s 657ms/step - loss: 5.4673e-04 - val_loss: 0.0264\n",
      "Epoch 9/100\n",
      "16/16 [==============================] - 10s 633ms/step - loss: 6.7857e-04 - val_loss: 0.0538\n",
      "Epoch 10/100\n",
      "16/16 [==============================] - 10s 642ms/step - loss: 6.6358e-04 - val_loss: 0.0123\n",
      "Epoch 11/100\n",
      "16/16 [==============================] - 10s 659ms/step - loss: 5.6650e-04 - val_loss: 0.0226\n",
      "Epoch 12/100\n",
      "16/16 [==============================] - 10s 638ms/step - loss: 5.9950e-04 - val_loss: 0.0196\n",
      "Epoch 13/100\n",
      "16/16 [==============================] - 8s 516ms/step - loss: 4.7758e-04 - val_loss: 0.0380\n",
      "Epoch 14/100\n",
      "16/16 [==============================] - 8s 477ms/step - loss: 5.1473e-04 - val_loss: 0.0283\n",
      "Epoch 15/100\n",
      "16/16 [==============================] - 7s 463ms/step - loss: 5.6710e-04 - val_loss: 0.0171\n",
      "Epoch 16/100\n",
      "16/16 [==============================] - 8s 497ms/step - loss: 4.9477e-04 - val_loss: 0.0293\n",
      "Epoch 17/100\n",
      "16/16 [==============================] - 8s 500ms/step - loss: 5.3415e-04 - val_loss: 0.0308\n",
      "Epoch 18/100\n",
      "16/16 [==============================] - 8s 523ms/step - loss: 5.2056e-04 - val_loss: 0.0206\n",
      "Epoch 19/100\n",
      "16/16 [==============================] - 9s 541ms/step - loss: 4.9086e-04 - val_loss: 0.0091\n",
      "Epoch 20/100\n",
      "16/16 [==============================] - 8s 500ms/step - loss: 5.4832e-04 - val_loss: 0.0156\n",
      "Epoch 21/100\n",
      "16/16 [==============================] - 9s 571ms/step - loss: 4.8574e-04 - val_loss: 0.0128\n",
      "Epoch 22/100\n",
      "16/16 [==============================] - 10s 657ms/step - loss: 4.9151e-04 - val_loss: 0.0079\n",
      "Epoch 23/100\n",
      "16/16 [==============================] - 9s 544ms/step - loss: 4.7786e-04 - val_loss: 0.0108\n",
      "Epoch 24/100\n",
      "16/16 [==============================] - 9s 585ms/step - loss: 4.4237e-04 - val_loss: 0.0115\n",
      "Epoch 25/100\n",
      "16/16 [==============================] - 10s 625ms/step - loss: 4.5850e-04 - val_loss: 0.0181\n",
      "Epoch 26/100\n",
      "16/16 [==============================] - 9s 571ms/step - loss: 5.8998e-04 - val_loss: 0.0052\n",
      "Epoch 27/100\n",
      "16/16 [==============================] - 10s 597ms/step - loss: 6.1741e-04 - val_loss: 0.0069\n",
      "Epoch 28/100\n",
      "16/16 [==============================] - 9s 541ms/step - loss: 4.1674e-04 - val_loss: 0.0165\n",
      "Epoch 29/100\n",
      "16/16 [==============================] - 9s 550ms/step - loss: 3.8682e-04 - val_loss: 0.0088\n",
      "Epoch 30/100\n",
      "16/16 [==============================] - 9s 594ms/step - loss: 4.1632e-04 - val_loss: 0.0113\n",
      "Epoch 31/100\n",
      "16/16 [==============================] - 8s 517ms/step - loss: 3.8946e-04 - val_loss: 0.0053\n",
      "Epoch 32/100\n",
      "16/16 [==============================] - 8s 539ms/step - loss: 3.5473e-04 - val_loss: 0.0116\n",
      "Epoch 33/100\n",
      "16/16 [==============================] - 9s 586ms/step - loss: 4.4150e-04 - val_loss: 0.0109\n",
      "Epoch 34/100\n",
      "16/16 [==============================] - 9s 533ms/step - loss: 4.5263e-04 - val_loss: 0.0034\n",
      "Epoch 35/100\n",
      "16/16 [==============================] - 8s 522ms/step - loss: 3.4094e-04 - val_loss: 0.0025\n",
      "Epoch 36/100\n",
      "16/16 [==============================] - 9s 559ms/step - loss: 5.7940e-04 - val_loss: 0.0034\n",
      "Epoch 37/100\n",
      "16/16 [==============================] - 9s 549ms/step - loss: 4.5297e-04 - val_loss: 0.0057\n",
      "Epoch 38/100\n",
      "16/16 [==============================] - 9s 551ms/step - loss: 3.6341e-04 - val_loss: 0.0046\n",
      "Epoch 39/100\n",
      "16/16 [==============================] - 8s 527ms/step - loss: 3.7878e-04 - val_loss: 0.0060\n",
      "Epoch 40/100\n",
      "16/16 [==============================] - 8s 524ms/step - loss: 3.3839e-04 - val_loss: 0.0046\n",
      "Epoch 41/100\n",
      "16/16 [==============================] - 9s 552ms/step - loss: 3.4233e-04 - val_loss: 0.0030\n",
      "Epoch 42/100\n",
      "16/16 [==============================] - 9s 569ms/step - loss: 2.9817e-04 - val_loss: 0.0067\n",
      "Epoch 43/100\n",
      "16/16 [==============================] - 8s 515ms/step - loss: 2.7489e-04 - val_loss: 0.0067\n",
      "Epoch 44/100\n",
      "16/16 [==============================] - 9s 551ms/step - loss: 2.9119e-04 - val_loss: 0.0062\n",
      "Epoch 45/100\n",
      "16/16 [==============================] - 8s 504ms/step - loss: 2.6039e-04 - val_loss: 0.0035\n",
      "Epoch 46/100\n",
      "16/16 [==============================] - 9s 603ms/step - loss: 2.4745e-04 - val_loss: 0.0039\n",
      "Epoch 47/100\n",
      "16/16 [==============================] - 9s 579ms/step - loss: 2.1273e-04 - val_loss: 0.0046\n",
      "Epoch 48/100\n",
      "16/16 [==============================] - 9s 567ms/step - loss: 2.1594e-04 - val_loss: 0.0034\n",
      "Epoch 49/100\n",
      "16/16 [==============================] - 9s 532ms/step - loss: 2.1903e-04 - val_loss: 0.0059\n",
      "Epoch 50/100\n",
      "16/16 [==============================] - 10s 609ms/step - loss: 2.4047e-04 - val_loss: 0.0055\n",
      "Epoch 51/100\n",
      "16/16 [==============================] - 8s 517ms/step - loss: 2.1848e-04 - val_loss: 0.0068\n",
      "Epoch 52/100\n",
      "16/16 [==============================] - 8s 528ms/step - loss: 2.2092e-04 - val_loss: 0.0024\n",
      "Epoch 53/100\n",
      "16/16 [==============================] - 8s 516ms/step - loss: 3.1193e-04 - val_loss: 0.0034\n",
      "Epoch 54/100\n",
      "16/16 [==============================] - 9s 574ms/step - loss: 2.7432e-04 - val_loss: 0.0045\n",
      "Epoch 55/100\n",
      "16/16 [==============================] - 7s 461ms/step - loss: 2.2937e-04 - val_loss: 0.0058\n",
      "Epoch 56/100\n",
      "16/16 [==============================] - 7s 468ms/step - loss: 2.0772e-04 - val_loss: 0.0037\n",
      "Epoch 57/100\n",
      "16/16 [==============================] - 7s 448ms/step - loss: 2.0239e-04 - val_loss: 0.0031\n",
      "Epoch 58/100\n",
      "16/16 [==============================] - 7s 413ms/step - loss: 1.8638e-04 - val_loss: 0.0035\n",
      "Epoch 59/100\n",
      "16/16 [==============================] - 8s 490ms/step - loss: 1.9703e-04 - val_loss: 0.0057\n",
      "Epoch 60/100\n",
      "16/16 [==============================] - 7s 458ms/step - loss: 1.9352e-04 - val_loss: 0.0071\n",
      "Epoch 61/100\n",
      "16/16 [==============================] - 8s 492ms/step - loss: 1.9676e-04 - val_loss: 0.0053\n",
      "Epoch 62/100\n",
      "16/16 [==============================] - 8s 503ms/step - loss: 2.2156e-04 - val_loss: 0.0069\n",
      "Epoch 63/100\n",
      "16/16 [==============================] - 8s 511ms/step - loss: 1.9175e-04 - val_loss: 0.0054\n",
      "Epoch 64/100\n",
      "16/16 [==============================] - 7s 459ms/step - loss: 1.9016e-04 - val_loss: 0.0074\n",
      "Epoch 65/100\n",
      "16/16 [==============================] - 7s 449ms/step - loss: 1.8283e-04 - val_loss: 0.0083\n",
      "Epoch 66/100\n",
      "16/16 [==============================] - 8s 510ms/step - loss: 1.9477e-04 - val_loss: 0.0031\n",
      "Epoch 67/100\n",
      "16/16 [==============================] - 6s 361ms/step - loss: 1.6677e-04 - val_loss: 0.0033\n",
      "Epoch 68/100\n",
      "16/16 [==============================] - 6s 407ms/step - loss: 1.8357e-04 - val_loss: 0.0051\n",
      "Epoch 69/100\n",
      "16/16 [==============================] - 7s 424ms/step - loss: 1.7208e-04 - val_loss: 0.0035\n",
      "Epoch 70/100\n",
      "16/16 [==============================] - 7s 459ms/step - loss: 1.7892e-04 - val_loss: 0.0026\n",
      "Epoch 71/100\n",
      "16/16 [==============================] - 6s 355ms/step - loss: 2.2225e-04 - val_loss: 0.0053\n",
      "Epoch 72/100\n",
      "16/16 [==============================] - 6s 355ms/step - loss: 1.9283e-04 - val_loss: 0.0024\n",
      "Epoch 73/100\n",
      "16/16 [==============================] - 6s 367ms/step - loss: 2.6587e-04 - val_loss: 0.0071\n",
      "Epoch 74/100\n",
      "16/16 [==============================] - 6s 356ms/step - loss: 2.1969e-04 - val_loss: 0.0075\n",
      "Epoch 75/100\n",
      "16/16 [==============================] - 6s 351ms/step - loss: 1.7956e-04 - val_loss: 0.0053\n",
      "Epoch 76/100\n",
      "16/16 [==============================] - 5s 334ms/step - loss: 1.7438e-04 - val_loss: 0.0105\n",
      "Epoch 77/100\n",
      "16/16 [==============================] - 5s 326ms/step - loss: 1.9224e-04 - val_loss: 0.0052\n",
      "Epoch 78/100\n",
      "16/16 [==============================] - 5s 292ms/step - loss: 1.6725e-04 - val_loss: 0.0092\n",
      "Epoch 79/100\n",
      "16/16 [==============================] - 5s 308ms/step - loss: 1.7521e-04 - val_loss: 0.0063\n",
      "Epoch 80/100\n",
      "16/16 [==============================] - 5s 324ms/step - loss: 1.7541e-04 - val_loss: 0.0109\n",
      "Epoch 81/100\n",
      "16/16 [==============================] - 5s 315ms/step - loss: 1.8723e-04 - val_loss: 0.0072\n",
      "Epoch 82/100\n",
      "16/16 [==============================] - 5s 289ms/step - loss: 2.0335e-04 - val_loss: 0.0061\n",
      "Epoch 83/100\n",
      "16/16 [==============================] - 6s 356ms/step - loss: 1.6693e-04 - val_loss: 0.0044\n",
      "Epoch 84/100\n",
      "16/16 [==============================] - 5s 342ms/step - loss: 1.6559e-04 - val_loss: 0.0088\n",
      "Epoch 85/100\n",
      "16/16 [==============================] - 5s 342ms/step - loss: 1.9209e-04 - val_loss: 0.0052\n",
      "Epoch 86/100\n",
      "16/16 [==============================] - 5s 317ms/step - loss: 1.5493e-04 - val_loss: 0.0040\n",
      "Epoch 87/100\n",
      "16/16 [==============================] - 6s 360ms/step - loss: 1.5172e-04 - val_loss: 0.0051\n",
      "Epoch 88/100\n",
      "16/16 [==============================] - 6s 366ms/step - loss: 1.5478e-04 - val_loss: 0.0044\n",
      "Epoch 89/100\n",
      "16/16 [==============================] - 6s 400ms/step - loss: 1.6747e-04 - val_loss: 0.0036\n",
      "Epoch 90/100\n",
      "16/16 [==============================] - 6s 353ms/step - loss: 1.5543e-04 - val_loss: 0.0021\n",
      "Epoch 91/100\n",
      "16/16 [==============================] - 5s 343ms/step - loss: 1.6673e-04 - val_loss: 0.0030\n",
      "Epoch 92/100\n",
      "16/16 [==============================] - 6s 390ms/step - loss: 1.5710e-04 - val_loss: 0.0034\n",
      "Epoch 93/100\n",
      "16/16 [==============================] - 6s 371ms/step - loss: 1.6241e-04 - val_loss: 0.0033\n",
      "Epoch 94/100\n",
      "16/16 [==============================] - 6s 343ms/step - loss: 1.6887e-04 - val_loss: 0.0079\n",
      "Epoch 95/100\n",
      "16/16 [==============================] - 6s 355ms/step - loss: 1.7008e-04 - val_loss: 0.0034\n",
      "Epoch 96/100\n",
      "16/16 [==============================] - 6s 348ms/step - loss: 1.8183e-04 - val_loss: 0.0076\n",
      "Epoch 97/100\n",
      "16/16 [==============================] - 6s 369ms/step - loss: 1.4571e-04 - val_loss: 0.0023\n",
      "Epoch 98/100\n",
      "16/16 [==============================] - 5s 343ms/step - loss: 1.6567e-04 - val_loss: 0.0055\n",
      "Epoch 99/100\n",
      "16/16 [==============================] - 6s 357ms/step - loss: 1.3674e-04 - val_loss: 0.0074\n",
      "Epoch 100/100\n",
      "16/16 [==============================] - 4s 280ms/step - loss: 1.5052e-04 - val_loss: 0.0037\n"
     ]
    },
    {
     "data": {
      "text/plain": [
       "<keras.callbacks.History at 0x17cdc447160>"
      ]
     },
     "execution_count": 9,
     "metadata": {},
     "output_type": "execute_result"
    }
   ],
   "source": [
    "# 9. Fit mô hình với dữ liệu train\n",
    "model.fit(X_train,y_train,validation_data=(X_test,ytest),epochs=100,batch_size=64,verbose=1)"
   ]
  },
  {
   "cell_type": "code",
   "execution_count": 10,
   "metadata": {
    "colab": {
     "base_uri": "https://localhost:8080/"
    },
    "id": "Rxx_KQSkQpBG",
    "outputId": "838b0243-c20c-4627-f6a3-a1d23b99fffc"
   },
   "outputs": [
    {
     "name": "stdout",
     "output_type": "stream",
     "text": [
      "32/32 [==============================] - 4s 60ms/step\n",
      "14/14 [==============================] - 1s 58ms/step\n",
      "3/3 [==============================] - 0s 60ms/step\n"
     ]
    }
   ],
   "source": [
    "# 10. Dự báo dữ liệu test, val\n",
    "train_predict=model.predict(X_train)\n",
    "y_pred=model.predict(X_test)\n",
    "y_pred_val=model.predict(X_val)"
   ]
  },
  {
   "cell_type": "code",
   "execution_count": 11,
   "metadata": {},
   "outputs": [
    {
     "name": "stdout",
     "output_type": "stream",
     "text": [
      "Validation RMSE: 0.04811089810504352\n",
      "Testing RMSE: 0.33687974454274455\n",
      "Validation MAPE: 10.997579648502711\n",
      "Testing MAPE: 64.76552214655752\n",
      "Validation MAE: 0.03855050292798812\n",
      "Testing MAE: 0.2725814504541465\n"
     ]
    }
   ],
   "source": [
    "# calculate the RMSE\n",
    "valid_rmse = np.sqrt(np.mean((y_pred_val - yval)**2))\n",
    "test_rmse = np.sqrt(np.mean((y_pred - ytest)**2))\n",
    "print('Validation RMSE:', valid_rmse)\n",
    "print('Testing RMSE:', test_rmse)\n",
    "\n",
    "# calculate the MAPE\n",
    "valid_mape = np.mean(np.abs((yval - y_pred_val) / yval)) * 100\n",
    "test_mape = np.mean(np.abs((ytest - y_pred) / ytest)) * 100\n",
    "print(\"Validation MAPE:\", valid_mape)\n",
    "print(\"Testing MAPE:\", test_mape)\n",
    "\n",
    "# calculate the MAE\n",
    "valid_mae = np.mean(np.abs(y_pred_val - yval))\n",
    "test_mae = np.mean(np.abs(y_pred - ytest))\n",
    "print(\"Validation MAE:\", valid_mae)\n",
    "print(\"Testing MAE:\", test_mae)"
   ]
  },
  {
   "cell_type": "code",
   "execution_count": 12,
   "metadata": {
    "id": "5rwTN10LQ7rj"
   },
   "outputs": [],
   "source": [
    "# 11. Chuẩn hóa dữ liệu y_pred, y_pred_val\n",
    "train_predict=scaler.inverse_transform(train_predict)\n",
    "y_pred=scaler.inverse_transform(y_pred)\n",
    "y_pred_val=scaler.inverse_transform(y_pred_val)"
   ]
  },
  {
   "cell_type": "code",
   "execution_count": 13,
   "metadata": {
    "colab": {
     "base_uri": "https://localhost:8080/",
     "height": 430
    },
    "id": "KSa_mX51a654",
    "outputId": "a46b0393-ed53-41d8-b391-c22820d72e83"
   },
   "outputs": [
    {
     "data": {
      "image/png": "[encoded data removed]",
      "text/plain": [
       "<Figure size 432x288 with 1 Axes>"
      ]
     },
     "metadata": {
      "needs_background": "light"
     },
     "output_type": "display_data"
    }
   ],
   "source": [
    "# 14.Vẽ hình\n",
    "\n",
    "train_data_index = pd.RangeIndex(start=0, stop=train_size, step=1)\n",
    "plt.plot(scaler.inverse_transform(train_data))\n",
    "test_data_index = pd.RangeIndex(start=train_size, stop=train_size+test_size, step=1)\n",
    "plt.plot(test_data_index,scaler.inverse_transform(test_data))\n",
    "test_data_index = pd.RangeIndex(start=train_size+101, stop=train_size+test_size, step=1)\n",
    "plt.plot(test_data_index,(y_pred))\n",
    "val_data_index = pd.RangeIndex(start=train_size+test_size, stop=train_size+test_size+val_size, step=1)\n",
    "plt.plot(val_data_index,scaler.inverse_transform(val_data))\n",
    "val_data_index = pd.RangeIndex(start=train_size+test_size+101, stop=train_size+test_size+val_size, step=1)\n",
    "plt.plot(val_data_index,y_pred_val)\n",
    "plt.legend(['Train','Test','Predict','Validate','ValidatePred'])\n",
    "plt.show()"
   ]
  },
  {
   "cell_type": "code",
   "execution_count": null,
   "metadata": {},
   "outputs": [],
   "source": []
  }
 ],
 "metadata": {
  "colab": {
   "provenance": []
  },
  "kernelspec": {
   "display_name": "Python 3 (ipykernel)",
   "language": "python",
   "name": "python3"
  },
  "language_info": {
   "codemirror_mode": {
    "name": "ipython",
    "version": 3
   },
   "file_extension": ".py",
   "mimetype": "text/x-python",
   "name": "python",
   "nbconvert_exporter": "python",
   "pygments_lexer": "ipython3",
   "version": "3.9.12"
  }
 },
 "nbformat": 4,
 "nbformat_minor": 1
}

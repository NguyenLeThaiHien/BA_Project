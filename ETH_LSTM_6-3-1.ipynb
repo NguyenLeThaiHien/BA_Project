{
  "cells": [
    {
      "cell_type": "code",
      "execution_count": 1,
      "metadata": {
        "id": "FMDKda-XIUAK"
      },
      "outputs": [],
      "source": [
        "from google.colab import drive\n",
        "\n",
        "# 1. Import thư viện cần thiết\n",
        "import numpy as np\n",
        "import pandas as pd\n",
        "import matplotlib.pyplot as plt\n",
        "from sklearn.preprocessing import MinMaxScaler\n",
        "from keras.models import Sequential\n",
        "from keras.layers import Dense, LSTM"
      ]
    },
    {
      "cell_type": "code",
      "execution_count": 2,
      "metadata": {
        "id": "aRm9GQ8KJJ5N"
      },
      "outputs": [],
      "source": [
        "# 2. Đọc file csv và gắng index với giá Price\n",
        "df = pd.read_csv('/content/ETH.csv')\n",
        "df1=df.reset_index()['Price']"
      ]
    },
    {
      "cell_type": "code",
      "execution_count": 3,
      "metadata": {
        "id": "RdVpDho2JgL5"
      },
      "outputs": [],
      "source": [
        "# 3. Scaler data\n",
        "scaler=MinMaxScaler(feature_range=(0,1))\n",
        "df1=scaler.fit_transform(np.array(df1).reshape(-1,1))"
      ]
    },
    {
      "cell_type": "code",
      "execution_count": 4,
      "metadata": {
        "id": "B5JXpenzJoR3"
      },
      "outputs": [],
      "source": [
        "# 4. Chia train test với tỉ kệ 6:3:1\n",
        "train_size = int(0.6 * len(df1))\n",
        "test_size = int(0.3 * len(df1))\n",
        "val_size = len(df1) - train_size - test_size\n",
        "\n",
        "train_data = df1[:train_size]\n",
        "test_data = df1[train_size:train_size+test_size]\n",
        "val_data = df1[train_size+test_size:]"
      ]
    },
    {
      "cell_type": "code",
      "execution_count": 5,
      "metadata": {
        "id": "yJfmuBORLSfC"
      },
      "outputs": [],
      "source": [
        "# 5. Hàm Create Dataset\n",
        "import numpy\n",
        "# convert an array of values into a dataset matrix\n",
        "def create_dataset(dataset, time_step=1):\n",
        "\tdataX, dataY = [], []\n",
        "\tfor i in range(len(dataset)-time_step-1):\n",
        "\t\ta = dataset[i:(i+time_step), 0]   ###i=0, X=0,1,2,3-----99   Y=100\n",
        "\t\tdataX.append(a)\n",
        "\t\tdataY.append(dataset[i + time_step, 0])\n",
        "\treturn numpy.array(dataX), numpy.array(dataY)"
      ]
    },
    {
      "cell_type": "code",
      "execution_count": 6,
      "metadata": {
        "id": "e81cKq03LXFB"
      },
      "outputs": [],
      "source": [
        "#6. Reshape into X=t,t+1,t+2..t+99 and Y=t+100\n",
        "time_step = 100\n",
        "X_train, y_train = create_dataset(train_data, time_step)\n",
        "X_val, yval = create_dataset(val_data, time_step)\n",
        "X_test, ytest = create_dataset(test_data, time_step)"
      ]
    },
    {
      "cell_type": "code",
      "execution_count": 7,
      "metadata": {
        "id": "RdBVfku7O2qb"
      },
      "outputs": [],
      "source": [
        "# 7. Reshape input to be [samples, time steps, features] which is required for LSTM\n",
        "X_train =X_train.reshape(X_train.shape[0],X_train.shape[1] , 1)\n",
        "X_test = X_test.reshape(X_test.shape[0],X_test.shape[1] , 1)\n",
        "X_val = X_val.reshape(X_val.shape[0],X_val.shape[1] , 1)"
      ]
    },
    {
      "cell_type": "code",
      "execution_count": 8,
      "metadata": {
        "id": "sSfxrE7BO9vX"
      },
      "outputs": [],
      "source": [
        "# 8. Define LSTM Model\n",
        "model=Sequential()\n",
        "model.add(LSTM(50,return_sequences=True,input_shape=(100,1)))\n",
        "model.add(LSTM(50,return_sequences=True))\n",
        "model.add(LSTM(50))\n",
        "model.add(Dense(1))\n",
        "model.compile(loss='mean_squared_error',optimizer='adam')"
      ]
    },
    {
      "cell_type": "code",
      "execution_count": 9,
      "metadata": {
        "colab": {
          "base_uri": "https://localhost:8080/"
        },
        "id": "zgfeujZSPEKr",
        "outputId": "141a4db4-df34-4540-85c9-452b82ec0c27"
      },
      "outputs": [
        {
          "output_type": "stream",
          "name": "stdout",
          "text": [
            "Epoch 1/100\n",
            "16/16 [==============================] - 13s 412ms/step - loss: 0.0091 - val_loss: 0.0370\n",
            "Epoch 2/100\n",
            "16/16 [==============================] - 4s 230ms/step - loss: 9.8751e-04 - val_loss: 0.0314\n",
            "Epoch 3/100\n",
            "16/16 [==============================] - 4s 228ms/step - loss: 5.6950e-04 - val_loss: 0.0179\n",
            "Epoch 4/100\n",
            "16/16 [==============================] - 5s 308ms/step - loss: 6.4832e-04 - val_loss: 0.0625\n",
            "Epoch 5/100\n",
            "16/16 [==============================] - 4s 232ms/step - loss: 6.1081e-04 - val_loss: 0.0207\n",
            "Epoch 6/100\n",
            "16/16 [==============================] - 4s 220ms/step - loss: 5.3176e-04 - val_loss: 0.0282\n",
            "Epoch 7/100\n",
            "16/16 [==============================] - 5s 313ms/step - loss: 4.8381e-04 - val_loss: 0.0282\n",
            "Epoch 8/100\n",
            "16/16 [==============================] - 4s 244ms/step - loss: 5.3203e-04 - val_loss: 0.0059\n",
            "Epoch 9/100\n",
            "16/16 [==============================] - 4s 232ms/step - loss: 6.2660e-04 - val_loss: 0.0257\n",
            "Epoch 10/100\n",
            "16/16 [==============================] - 5s 330ms/step - loss: 5.0113e-04 - val_loss: 0.0200\n",
            "Epoch 11/100\n",
            "16/16 [==============================] - 4s 226ms/step - loss: 5.4735e-04 - val_loss: 0.0163\n",
            "Epoch 12/100\n",
            "16/16 [==============================] - 4s 228ms/step - loss: 4.5976e-04 - val_loss: 0.0310\n",
            "Epoch 13/100\n",
            "16/16 [==============================] - 5s 312ms/step - loss: 5.2039e-04 - val_loss: 0.0171\n",
            "Epoch 14/100\n",
            "16/16 [==============================] - 4s 248ms/step - loss: 4.6087e-04 - val_loss: 0.0087\n",
            "Epoch 15/100\n",
            "16/16 [==============================] - 4s 227ms/step - loss: 4.5955e-04 - val_loss: 0.0203\n",
            "Epoch 16/100\n",
            "16/16 [==============================] - 4s 255ms/step - loss: 4.7443e-04 - val_loss: 0.0174\n",
            "Epoch 17/100\n",
            "16/16 [==============================] - 5s 282ms/step - loss: 4.3025e-04 - val_loss: 0.0045\n",
            "Epoch 18/100\n",
            "16/16 [==============================] - 4s 245ms/step - loss: 5.3570e-04 - val_loss: 0.0129\n",
            "Epoch 19/100\n",
            "16/16 [==============================] - 4s 238ms/step - loss: 4.9157e-04 - val_loss: 0.0067\n",
            "Epoch 20/100\n",
            "16/16 [==============================] - 5s 288ms/step - loss: 4.1224e-04 - val_loss: 0.0082\n",
            "Epoch 21/100\n",
            "16/16 [==============================] - 4s 220ms/step - loss: 4.3225e-04 - val_loss: 0.0067\n",
            "Epoch 22/100\n",
            "16/16 [==============================] - 4s 265ms/step - loss: 4.1449e-04 - val_loss: 0.0077\n",
            "Epoch 23/100\n",
            "16/16 [==============================] - 5s 320ms/step - loss: 4.0438e-04 - val_loss: 0.0050\n",
            "Epoch 24/100\n",
            "16/16 [==============================] - 3s 216ms/step - loss: 4.8075e-04 - val_loss: 0.0093\n",
            "Epoch 25/100\n",
            "16/16 [==============================] - 4s 238ms/step - loss: 4.1500e-04 - val_loss: 0.0068\n",
            "Epoch 26/100\n",
            "16/16 [==============================] - 5s 310ms/step - loss: 3.3459e-04 - val_loss: 0.0101\n",
            "Epoch 27/100\n",
            "16/16 [==============================] - 4s 223ms/step - loss: 3.7665e-04 - val_loss: 0.0026\n",
            "Epoch 28/100\n",
            "16/16 [==============================] - 4s 260ms/step - loss: 4.0677e-04 - val_loss: 0.0066\n",
            "Epoch 29/100\n",
            "16/16 [==============================] - 5s 309ms/step - loss: 3.4493e-04 - val_loss: 0.0037\n",
            "Epoch 30/100\n",
            "16/16 [==============================] - 4s 237ms/step - loss: 3.5571e-04 - val_loss: 0.0052\n",
            "Epoch 31/100\n",
            "16/16 [==============================] - 4s 222ms/step - loss: 3.2904e-04 - val_loss: 0.0023\n",
            "Epoch 32/100\n",
            "16/16 [==============================] - 4s 265ms/step - loss: 3.6527e-04 - val_loss: 0.0085\n",
            "Epoch 33/100\n",
            "16/16 [==============================] - 4s 246ms/step - loss: 3.2401e-04 - val_loss: 0.0026\n",
            "Epoch 34/100\n",
            "16/16 [==============================] - 4s 233ms/step - loss: 3.3455e-04 - val_loss: 0.0035\n",
            "Epoch 35/100\n",
            "16/16 [==============================] - 3s 219ms/step - loss: 2.8095e-04 - val_loss: 0.0041\n",
            "Epoch 36/100\n",
            "16/16 [==============================] - 5s 317ms/step - loss: 2.2826e-04 - val_loss: 0.0021\n",
            "Epoch 37/100\n",
            "16/16 [==============================] - 4s 223ms/step - loss: 2.7054e-04 - val_loss: 0.0047\n",
            "Epoch 38/100\n",
            "16/16 [==============================] - 4s 243ms/step - loss: 2.1028e-04 - val_loss: 0.0035\n",
            "Epoch 39/100\n",
            "16/16 [==============================] - 5s 319ms/step - loss: 2.1748e-04 - val_loss: 0.0043\n",
            "Epoch 40/100\n",
            "16/16 [==============================] - 4s 226ms/step - loss: 2.5253e-04 - val_loss: 0.0049\n",
            "Epoch 41/100\n",
            "16/16 [==============================] - 4s 242ms/step - loss: 2.3793e-04 - val_loss: 0.0023\n",
            "Epoch 42/100\n",
            "16/16 [==============================] - 5s 339ms/step - loss: 2.3500e-04 - val_loss: 0.0052\n",
            "Epoch 43/100\n",
            "16/16 [==============================] - 4s 243ms/step - loss: 2.2087e-04 - val_loss: 0.0027\n",
            "Epoch 44/100\n",
            "16/16 [==============================] - 4s 236ms/step - loss: 2.2326e-04 - val_loss: 0.0030\n",
            "Epoch 45/100\n",
            "16/16 [==============================] - 5s 302ms/step - loss: 1.7938e-04 - val_loss: 0.0030\n",
            "Epoch 46/100\n",
            "16/16 [==============================] - 4s 230ms/step - loss: 2.0536e-04 - val_loss: 0.0044\n",
            "Epoch 47/100\n",
            "16/16 [==============================] - 4s 234ms/step - loss: 2.7635e-04 - val_loss: 0.0040\n",
            "Epoch 48/100\n",
            "16/16 [==============================] - 4s 258ms/step - loss: 1.8018e-04 - val_loss: 0.0043\n",
            "Epoch 49/100\n",
            "16/16 [==============================] - 4s 271ms/step - loss: 1.6964e-04 - val_loss: 0.0030\n",
            "Epoch 50/100\n",
            "16/16 [==============================] - 3s 215ms/step - loss: 1.8063e-04 - val_loss: 0.0055\n",
            "Epoch 51/100\n",
            "16/16 [==============================] - 3s 216ms/step - loss: 1.7188e-04 - val_loss: 0.0042\n",
            "Epoch 52/100\n",
            "16/16 [==============================] - 5s 297ms/step - loss: 1.7150e-04 - val_loss: 0.0028\n",
            "Epoch 53/100\n",
            "16/16 [==============================] - 4s 220ms/step - loss: 1.7262e-04 - val_loss: 0.0031\n",
            "Epoch 54/100\n",
            "16/16 [==============================] - 4s 231ms/step - loss: 1.7108e-04 - val_loss: 0.0029\n",
            "Epoch 55/100\n",
            "16/16 [==============================] - 5s 288ms/step - loss: 1.8864e-04 - val_loss: 0.0050\n",
            "Epoch 56/100\n",
            "16/16 [==============================] - 4s 216ms/step - loss: 1.9053e-04 - val_loss: 0.0038\n",
            "Epoch 57/100\n",
            "16/16 [==============================] - 3s 216ms/step - loss: 2.0512e-04 - val_loss: 0.0037\n",
            "Epoch 58/100\n",
            "16/16 [==============================] - 4s 229ms/step - loss: 1.6817e-04 - val_loss: 0.0053\n",
            "Epoch 59/100\n",
            "16/16 [==============================] - 5s 285ms/step - loss: 1.8318e-04 - val_loss: 0.0054\n",
            "Epoch 60/100\n",
            "16/16 [==============================] - 3s 211ms/step - loss: 1.6354e-04 - val_loss: 0.0029\n",
            "Epoch 61/100\n",
            "16/16 [==============================] - 4s 234ms/step - loss: 1.5990e-04 - val_loss: 0.0037\n",
            "Epoch 62/100\n",
            "16/16 [==============================] - 5s 296ms/step - loss: 1.5919e-04 - val_loss: 0.0026\n",
            "Epoch 63/100\n",
            "16/16 [==============================] - 3s 219ms/step - loss: 1.7872e-04 - val_loss: 0.0029\n",
            "Epoch 64/100\n",
            "16/16 [==============================] - 4s 225ms/step - loss: 1.6138e-04 - val_loss: 0.0042\n",
            "Epoch 65/100\n",
            "16/16 [==============================] - 4s 270ms/step - loss: 1.6887e-04 - val_loss: 0.0036\n",
            "Epoch 66/100\n",
            "16/16 [==============================] - 4s 236ms/step - loss: 1.5999e-04 - val_loss: 0.0019\n",
            "Epoch 67/100\n",
            "16/16 [==============================] - 3s 213ms/step - loss: 1.7148e-04 - val_loss: 0.0049\n",
            "Epoch 68/100\n",
            "16/16 [==============================] - 4s 220ms/step - loss: 1.5894e-04 - val_loss: 0.0023\n",
            "Epoch 69/100\n",
            "16/16 [==============================] - 5s 316ms/step - loss: 2.3615e-04 - val_loss: 0.0130\n",
            "Epoch 70/100\n",
            "16/16 [==============================] - 4s 245ms/step - loss: 2.4667e-04 - val_loss: 0.0034\n",
            "Epoch 71/100\n",
            "16/16 [==============================] - 4s 225ms/step - loss: 1.5705e-04 - val_loss: 0.0047\n",
            "Epoch 72/100\n",
            "16/16 [==============================] - 5s 316ms/step - loss: 1.4534e-04 - val_loss: 0.0034\n",
            "Epoch 73/100\n",
            "16/16 [==============================] - 3s 219ms/step - loss: 1.4529e-04 - val_loss: 0.0037\n",
            "Epoch 74/100\n",
            "16/16 [==============================] - 3s 217ms/step - loss: 1.6636e-04 - val_loss: 0.0092\n",
            "Epoch 75/100\n",
            "16/16 [==============================] - 5s 348ms/step - loss: 2.3848e-04 - val_loss: 0.0053\n",
            "Epoch 76/100\n",
            "16/16 [==============================] - 4s 228ms/step - loss: 1.5223e-04 - val_loss: 0.0063\n",
            "Epoch 77/100\n",
            "16/16 [==============================] - 4s 225ms/step - loss: 1.8702e-04 - val_loss: 0.0058\n",
            "Epoch 78/100\n",
            "16/16 [==============================] - 4s 255ms/step - loss: 1.5376e-04 - val_loss: 0.0042\n",
            "Epoch 79/100\n",
            "16/16 [==============================] - 4s 255ms/step - loss: 1.4447e-04 - val_loss: 0.0045\n",
            "Epoch 80/100\n",
            "16/16 [==============================] - 4s 227ms/step - loss: 1.7837e-04 - val_loss: 0.0021\n",
            "Epoch 81/100\n",
            "16/16 [==============================] - 4s 222ms/step - loss: 1.7997e-04 - val_loss: 0.0060\n",
            "Epoch 82/100\n",
            "16/16 [==============================] - 5s 302ms/step - loss: 1.5847e-04 - val_loss: 0.0096\n",
            "Epoch 83/100\n",
            "16/16 [==============================] - 4s 244ms/step - loss: 1.4836e-04 - val_loss: 0.0062\n",
            "Epoch 84/100\n",
            "16/16 [==============================] - 4s 229ms/step - loss: 1.4653e-04 - val_loss: 0.0132\n",
            "Epoch 85/100\n",
            "16/16 [==============================] - 5s 317ms/step - loss: 1.5656e-04 - val_loss: 0.0061\n",
            "Epoch 86/100\n",
            "16/16 [==============================] - 4s 223ms/step - loss: 1.8951e-04 - val_loss: 0.0112\n",
            "Epoch 87/100\n",
            "16/16 [==============================] - 3s 219ms/step - loss: 2.2506e-04 - val_loss: 0.0199\n",
            "Epoch 88/100\n",
            "16/16 [==============================] - 4s 268ms/step - loss: 1.8361e-04 - val_loss: 0.0198\n",
            "Epoch 89/100\n",
            "16/16 [==============================] - 4s 265ms/step - loss: 1.5631e-04 - val_loss: 0.0147\n",
            "Epoch 90/100\n",
            "16/16 [==============================] - 4s 229ms/step - loss: 1.6391e-04 - val_loss: 0.0048\n",
            "Epoch 91/100\n",
            "16/16 [==============================] - 4s 232ms/step - loss: 1.9970e-04 - val_loss: 0.0164\n",
            "Epoch 92/100\n",
            "16/16 [==============================] - 5s 280ms/step - loss: 1.5056e-04 - val_loss: 0.0137\n",
            "Epoch 93/100\n",
            "16/16 [==============================] - 4s 222ms/step - loss: 1.5721e-04 - val_loss: 0.0019\n",
            "Epoch 94/100\n",
            "16/16 [==============================] - 3s 213ms/step - loss: 1.5019e-04 - val_loss: 0.0021\n",
            "Epoch 95/100\n",
            "16/16 [==============================] - 5s 311ms/step - loss: 1.4515e-04 - val_loss: 0.0059\n",
            "Epoch 96/100\n",
            "16/16 [==============================] - 3s 220ms/step - loss: 1.3624e-04 - val_loss: 0.0067\n",
            "Epoch 97/100\n",
            "16/16 [==============================] - 4s 235ms/step - loss: 1.4400e-04 - val_loss: 0.0060\n",
            "Epoch 98/100\n",
            "16/16 [==============================] - 4s 270ms/step - loss: 1.5633e-04 - val_loss: 0.0058\n",
            "Epoch 99/100\n",
            "16/16 [==============================] - 4s 253ms/step - loss: 1.3727e-04 - val_loss: 0.0070\n",
            "Epoch 100/100\n",
            "16/16 [==============================] - 3s 218ms/step - loss: 1.3761e-04 - val_loss: 0.0069\n"
          ]
        },
        {
          "output_type": "execute_result",
          "data": {
            "text/plain": [
              "<keras.callbacks.History at 0x7f7d9ca4d750>"
            ]
          },
          "metadata": {},
          "execution_count": 9
        }
      ],
      "source": [
        "# 9. Fit mô hình với dữ liệu train\n",
        "model.fit(X_train,y_train,validation_data=(X_test,ytest),epochs=100,batch_size=64,verbose=1)"
      ]
    },
    {
      "cell_type": "code",
      "execution_count": 10,
      "metadata": {
        "colab": {
          "base_uri": "https://localhost:8080/"
        },
        "id": "Rxx_KQSkQpBG",
        "outputId": "37df7cfb-87dc-4f05-eb5e-c233390e7f0a"
      },
      "outputs": [
        {
          "output_type": "stream",
          "name": "stdout",
          "text": [
            "32/32 [==============================] - 3s 41ms/step\n",
            "14/14 [==============================] - 1s 45ms/step\n",
            "3/3 [==============================] - 0s 39ms/step\n"
          ]
        }
      ],
      "source": [
        "# 10. Dự báo dữ liệu test, val\n",
        "train_predict=model.predict(X_train)\n",
        "y_pred=model.predict(X_test)\n",
        "y_pred_val=model.predict(X_val)"
      ]
    },
    {
      "cell_type": "code",
      "execution_count": 11,
      "metadata": {
        "id": "5rwTN10LQ7rj"
      },
      "outputs": [],
      "source": [
        "# 11. Chuẩn hóa dữ liệu y_pred, y_pred_val\n",
        "train_predict=scaler.inverse_transform(train_predict)\n",
        "y_pred=scaler.inverse_transform(y_pred)\n",
        "y_pred_val=scaler.inverse_transform(y_pred_val)"
      ]
    },
    {
      "cell_type": "code",
      "execution_count": 13,
      "metadata": {
        "colab": {
          "base_uri": "https://localhost:8080/",
          "height": 430
        },
        "id": "KSa_mX51a654",
        "outputId": "c4ae0d40-c3a0-424e-ce41-0576350f0743"
      },
      "outputs": [
        {
          "output_type": "display_data",
          "data": {
            "text/plain": [
              "<Figure size 640x480 with 1 Axes>"
            ],
            "image/png": "[encoded data removed]"
          },
          "metadata": {}
        }
      ],
      "source": [
        "# 14.Vẽ hình\n",
        "\n",
        "train_data_index = pd.RangeIndex(start=0, stop=train_size, step=1)\n",
        "plt.plot(scaler.inverse_transform(train_data))\n",
        "test_data_index = pd.RangeIndex(start=train_size, stop=train_size+test_size, step=1)\n",
        "plt.plot(test_data_index,scaler.inverse_transform(test_data))\n",
        "test_data_index = pd.RangeIndex(start=train_size+101, stop=train_size+test_size, step=1)\n",
        "plt.plot(test_data_index,(y_pred))\n",
        "val_data_index = pd.RangeIndex(start=train_size+test_size, stop=train_size+test_size+val_size, step=1)\n",
        "plt.plot(val_data_index,scaler.inverse_transform(val_data))\n",
        "val_data_index = pd.RangeIndex(start=train_size+test_size+101, stop=train_size+test_size+val_size, step=1)\n",
        "plt.plot(val_data_index,y_pred_val)\n",
        "plt.legend(['Train','Test','Predict','Validate','ValidatePred'])\n",
        "plt.show()"
      ]
    },
    {
      "cell_type": "code",
      "execution_count": 16,
      "metadata": {
        "id": "96uMCvWbTYTW"
      },
      "outputs": [],
      "source": [
        "# Respliting train test\n",
        "train_size1 = int(0.6 * len(df))\n",
        "test_size1 = int(0.3 * len(df))\n",
        "train_data1 = df[:train_size1]\n",
        "test_data1 = df[train_size1:train_size1+test_size1]\n",
        "val_data1 = df[train_size1+test_size1:]\n",
        "# Repredictions on the testing set\n",
        "x_test1 = np.array(test_data1.drop('Price', axis=1))  # Use the features (excluding the target variable)\n",
        "y_test1 = np.array(test_data1['Price'])\n",
        "\n",
        "# Repredictions on the validation set\n",
        "x_val1 = np.array(val_data1.drop('Price', axis=1))  # Use the features (excluding the target variable)\n",
        "y_val1 = np.array(val_data1['Price'])"
      ]
    },
    {
      "cell_type": "code",
      "source": [
        "# Calculate evalution\n",
        "#RMSE\n",
        "valid_rmse = np.sqrt(np.mean((y_pred_val - y_val1)**2))\n",
        "test_rmse = np.sqrt(np.mean((y_pred - y_test1)**2))\n",
        "print('Validation RMSE:', valid_rmse)\n",
        "print('Testing RMSE:', test_rmse)\n",
        "\n",
        "#MAPE\n",
        "valid_mape = np.mean(np.abs((y_val1 - y_pred_val) / y_val1)) * 100\n",
        "test_mape = np.mean(np.abs((y_test1 - y_pred) / y_test1)) * 100\n",
        "print('Validation MAPE:', valid_mape)\n",
        "print('Testing MAPE:', test_mape)\n",
        "\n",
        "#MAE\n",
        "valid_mae = np.mean(np.abs(y_pred_val - y_val1))\n",
        "test_mae = np.mean(np.abs(y_pred - y_test1))\n",
        "print('Validation MAE:', valid_mae)\n",
        "print('Testing MAE:', test_mae)"
      ],
      "metadata": {
        "colab": {
          "base_uri": "https://localhost:8080/"
        },
        "id": "Om6Bfy6kTsMZ",
        "outputId": "0a065e5c-7c2a-4a2b-a116-6d48ab80b8c3"
      },
      "execution_count": 19,
      "outputs": [
        {
          "output_type": "stream",
          "name": "stdout",
          "text": [
            "Validation RMSE: 400.3938870129212\n",
            "Testing RMSE: 1594.2091049141425\n",
            "Validation MAPE: 23.221347005043924\n",
            "Testing MAPE: 60.622127716433425\n",
            "Validation MAE: 321.59828222356884\n",
            "Testing MAE: 1290.3392062891367\n"
          ]
        }
      ]
    }
  ],
  "metadata": {
    "colab": {
      "provenance": []
    },
    "kernelspec": {
      "display_name": "Python 3 (ipykernel)",
      "language": "python",
      "name": "python3"
    },
    "language_info": {
      "codemirror_mode": {
        "name": "ipython",
        "version": 3
      },
      "file_extension": ".py",
      "mimetype": "text/x-python",
      "name": "python",
      "nbconvert_exporter": "python",
      "pygments_lexer": "ipython3",
      "version": "3.9.12"
    }
  },
  "nbformat": 4,
  "nbformat_minor": 0
}
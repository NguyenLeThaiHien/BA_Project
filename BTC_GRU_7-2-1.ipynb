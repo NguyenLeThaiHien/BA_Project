{
 "cells": [
  {
   "cell_type": "code",
   "execution_count": 1,
   "metadata": {
    "colab": {
     "base_uri": "https://localhost:8080/"
    },
    "id": "FMDKda-XIUAK",
    "outputId": "83f83310-8d4b-4925-a7d3-764d810f45e1"
   },
   "outputs": [],
   "source": [
    "# 1. Import thư viện cần thiết\n",
    "import numpy as np\n",
    "import pandas as pd\n",
    "import matplotlib.pyplot as plt\n",
    "from sklearn.preprocessing import MinMaxScaler\n",
    "from keras.models import Sequential\n",
    "from keras.layers import Dense, GRU"
   ]
  },
  {
   "cell_type": "code",
   "execution_count": 2,
   "metadata": {
    "id": "aRm9GQ8KJJ5N"
   },
   "outputs": [],
   "source": [
    "# 2. Đọc file csv và gắng index với giá Close\n",
    "df = pd.read_csv('BTC.csv')\n",
    "df1=df.reset_index()['Price']"
   ]
  },
  {
   "cell_type": "code",
   "execution_count": 3,
   "metadata": {
    "id": "RdVpDho2JgL5"
   },
   "outputs": [],
   "source": [
    "# 3. Scaler data\n",
    "scaler=MinMaxScaler(feature_range=(0,1))\n",
    "df1=scaler.fit_transform(np.array(df1).reshape(-1,1))"
   ]
  },
  {
   "cell_type": "code",
   "execution_count": 4,
   "metadata": {
    "id": "B5JXpenzJoR3"
   },
   "outputs": [],
   "source": [
    "# 4. Chia train test 7:2:1\n",
    "train_size = int(0.7 * len(df1))\n",
    "test_size = int(0.2 * len(df1))\n",
    "val_size = len(df1) - train_size - test_size\n",
    "\n",
    "train_data = df1[:train_size]\n",
    "test_data = df1[train_size:train_size+test_size]\n",
    "val_data = df1[train_size+test_size:]"
   ]
  },
  {
   "cell_type": "code",
   "execution_count": 5,
   "metadata": {
    "id": "yJfmuBORLSfC"
   },
   "outputs": [],
   "source": [
    "# 5. Hàm Create Dataset\n",
    "import numpy\n",
    "# convert an array of values into a dataset matrix\n",
    "def create_dataset(dataset, time_step=1):\n",
    "\tdataX, dataY = [], []\n",
    "\tfor i in range(len(dataset)-time_step-1):\n",
    "\t\ta = dataset[i:(i+time_step), 0]   ###i=0, X=0,1,2,3-----99   Y=100 \n",
    "\t\tdataX.append(a)\n",
    "\t\tdataY.append(dataset[i + time_step, 0])\n",
    "\treturn numpy.array(dataX), numpy.array(dataY)"
   ]
  },
  {
   "cell_type": "code",
   "execution_count": 6,
   "metadata": {
    "id": "e81cKq03LXFB"
   },
   "outputs": [],
   "source": [
    "#6. Reshape into X=t,t+1,t+2..t+99 and Y=t+100\n",
    "\n",
    "time_step = 100\n",
    "X_train, y_train = create_dataset(train_data, time_step)\n",
    "X_val, yval = create_dataset(val_data, time_step)\n",
    "X_test, ytest = create_dataset(test_data, time_step)"
   ]
  },
  {
   "cell_type": "code",
   "execution_count": 7,
   "metadata": {
    "id": "RdBVfku7O2qb"
   },
   "outputs": [],
   "source": [
    "# 7. Reshape input to be [samples, time steps, features] which is required for LSTM\n",
    "X_train =X_train.reshape(X_train.shape[0],X_train.shape[1] , 1)\n",
    "X_test = X_test.reshape(X_test.shape[0],X_test.shape[1] , 1)\n",
    "X_val = X_val.reshape(X_val.shape[0],X_val.shape[1] , 1)"
   ]
  },
  {
   "cell_type": "code",
   "execution_count": 8,
   "metadata": {
    "id": "sSfxrE7BO9vX"
   },
   "outputs": [],
   "source": [
    "# 8. Define GRU Model\n",
    "\n",
    "model = Sequential()\n",
    "model.add(GRU(64, input_shape=(time_step, 1)))\n",
    "model.add(Dense(1))\n",
    "model.compile(optimizer='adam', loss='mean_squared_error')"
   ]
  },
  {
   "cell_type": "code",
   "execution_count": 9,
   "metadata": {
    "colab": {
     "base_uri": "https://localhost:8080/"
    },
    "id": "zgfeujZSPEKr",
    "outputId": "5479b5c5-22d1-4e02-8803-d6637b0f9e03"
   },
   "outputs": [
    {
     "name": "stdout",
     "output_type": "stream",
     "text": [
      "Epoch 1/100\n",
      "19/19 [==============================] - 8s 148ms/step - loss: 0.0573 - val_loss: 0.0087\n",
      "Epoch 2/100\n",
      "19/19 [==============================] - 2s 89ms/step - loss: 0.0082 - val_loss: 0.0015\n",
      "Epoch 3/100\n",
      "19/19 [==============================] - 2s 86ms/step - loss: 0.0010 - val_loss: 6.2642e-04\n",
      "Epoch 4/100\n",
      "19/19 [==============================] - 2s 92ms/step - loss: 7.1993e-04 - val_loss: 7.5722e-04\n",
      "Epoch 5/100\n",
      "19/19 [==============================] - 2s 79ms/step - loss: 5.8137e-04 - val_loss: 5.1916e-04\n",
      "Epoch 6/100\n",
      "19/19 [==============================] - 2s 81ms/step - loss: 5.3321e-04 - val_loss: 5.0267e-04\n",
      "Epoch 7/100\n",
      "19/19 [==============================] - 1s 78ms/step - loss: 5.1430e-04 - val_loss: 5.1685e-04\n",
      "Epoch 8/100\n",
      "19/19 [==============================] - 1s 77ms/step - loss: 5.0228e-04 - val_loss: 4.8211e-04\n",
      "Epoch 9/100\n",
      "19/19 [==============================] - 2s 82ms/step - loss: 5.0753e-04 - val_loss: 5.6752e-04\n",
      "Epoch 10/100\n",
      "19/19 [==============================] - 2s 86ms/step - loss: 4.8956e-04 - val_loss: 4.7447e-04\n",
      "Epoch 11/100\n",
      "19/19 [==============================] - 2s 93ms/step - loss: 4.6359e-04 - val_loss: 4.5135e-04\n",
      "Epoch 12/100\n",
      "19/19 [==============================] - 2s 87ms/step - loss: 4.7307e-04 - val_loss: 4.5524e-04\n",
      "Epoch 13/100\n",
      "19/19 [==============================] - 2s 82ms/step - loss: 4.4380e-04 - val_loss: 4.6022e-04\n",
      "Epoch 14/100\n",
      "19/19 [==============================] - 1s 79ms/step - loss: 4.2840e-04 - val_loss: 4.3979e-04\n",
      "Epoch 15/100\n",
      "19/19 [==============================] - 1s 77ms/step - loss: 4.2001e-04 - val_loss: 4.3572e-04\n",
      "Epoch 16/100\n",
      "19/19 [==============================] - 2s 86ms/step - loss: 4.1168e-04 - val_loss: 4.1398e-04\n",
      "Epoch 17/100\n",
      "19/19 [==============================] - 2s 81ms/step - loss: 4.0846e-04 - val_loss: 4.0808e-04\n",
      "Epoch 18/100\n",
      "19/19 [==============================] - 2s 91ms/step - loss: 3.9547e-04 - val_loss: 4.7382e-04\n",
      "Epoch 19/100\n",
      "19/19 [==============================] - 1s 75ms/step - loss: 3.9603e-04 - val_loss: 5.1874e-04\n",
      "Epoch 20/100\n",
      "19/19 [==============================] - 2s 96ms/step - loss: 3.8917e-04 - val_loss: 4.0995e-04\n",
      "Epoch 21/100\n",
      "19/19 [==============================] - 2s 110ms/step - loss: 3.8751e-04 - val_loss: 4.0979e-04\n",
      "Epoch 22/100\n",
      "19/19 [==============================] - 2s 88ms/step - loss: 3.9349e-04 - val_loss: 4.7144e-04\n",
      "Epoch 23/100\n",
      "19/19 [==============================] - 2s 81ms/step - loss: 3.8726e-04 - val_loss: 4.4797e-04\n",
      "Epoch 24/100\n",
      "19/19 [==============================] - 2s 87ms/step - loss: 3.7035e-04 - val_loss: 3.8485e-04\n",
      "Epoch 25/100\n",
      "19/19 [==============================] - 2s 90ms/step - loss: 3.5841e-04 - val_loss: 3.7258e-04\n",
      "Epoch 26/100\n",
      "19/19 [==============================] - 2s 95ms/step - loss: 3.6011e-04 - val_loss: 3.8978e-04\n",
      "Epoch 27/100\n",
      "19/19 [==============================] - 2s 101ms/step - loss: 3.5260e-04 - val_loss: 3.6797e-04\n",
      "Epoch 28/100\n",
      "19/19 [==============================] - 2s 85ms/step - loss: 4.0531e-04 - val_loss: 3.7173e-04\n",
      "Epoch 29/100\n",
      "19/19 [==============================] - 2s 100ms/step - loss: 3.4848e-04 - val_loss: 3.9913e-04\n",
      "Epoch 30/100\n",
      "19/19 [==============================] - 2s 93ms/step - loss: 3.4493e-04 - val_loss: 3.6216e-04\n",
      "Epoch 31/100\n",
      "19/19 [==============================] - 2s 85ms/step - loss: 3.4875e-04 - val_loss: 3.7594e-04\n",
      "Epoch 32/100\n",
      "19/19 [==============================] - 2s 97ms/step - loss: 3.5748e-04 - val_loss: 6.0690e-04\n",
      "Epoch 33/100\n",
      "19/19 [==============================] - 2s 83ms/step - loss: 3.4703e-04 - val_loss: 4.0157e-04\n",
      "Epoch 34/100\n",
      "19/19 [==============================] - 2s 81ms/step - loss: 3.3238e-04 - val_loss: 4.4504e-04\n",
      "Epoch 35/100\n",
      "19/19 [==============================] - 2s 80ms/step - loss: 3.4653e-04 - val_loss: 4.7297e-04\n",
      "Epoch 36/100\n",
      "19/19 [==============================] - 1s 73ms/step - loss: 3.3187e-04 - val_loss: 4.0345e-04\n",
      "Epoch 37/100\n",
      "19/19 [==============================] - 2s 82ms/step - loss: 3.3160e-04 - val_loss: 3.8108e-04\n",
      "Epoch 38/100\n",
      "19/19 [==============================] - 2s 99ms/step - loss: 3.3605e-04 - val_loss: 3.9850e-04\n",
      "Epoch 39/100\n",
      "19/19 [==============================] - 2s 100ms/step - loss: 3.3924e-04 - val_loss: 3.4049e-04\n",
      "Epoch 40/100\n",
      "19/19 [==============================] - 2s 83ms/step - loss: 3.2038e-04 - val_loss: 4.0224e-04\n",
      "Epoch 41/100\n",
      "19/19 [==============================] - 1s 78ms/step - loss: 3.3117e-04 - val_loss: 3.7931e-04\n",
      "Epoch 42/100\n",
      "19/19 [==============================] - 2s 88ms/step - loss: 3.1945e-04 - val_loss: 4.1755e-04\n",
      "Epoch 43/100\n",
      "19/19 [==============================] - 2s 80ms/step - loss: 3.2019e-04 - val_loss: 3.4832e-04\n",
      "Epoch 44/100\n",
      "19/19 [==============================] - 2s 84ms/step - loss: 3.1563e-04 - val_loss: 4.3179e-04\n",
      "Epoch 45/100\n",
      "19/19 [==============================] - 2s 94ms/step - loss: 3.1954e-04 - val_loss: 4.9194e-04\n",
      "Epoch 46/100\n",
      "19/19 [==============================] - 2s 98ms/step - loss: 3.1801e-04 - val_loss: 3.8726e-04\n",
      "Epoch 47/100\n",
      "19/19 [==============================] - 1s 78ms/step - loss: 3.1116e-04 - val_loss: 3.2071e-04\n",
      "Epoch 48/100\n",
      "19/19 [==============================] - 2s 82ms/step - loss: 3.1128e-04 - val_loss: 4.0850e-04\n",
      "Epoch 49/100\n",
      "19/19 [==============================] - 2s 82ms/step - loss: 3.3852e-04 - val_loss: 3.3796e-04\n",
      "Epoch 50/100\n",
      "19/19 [==============================] - 1s 78ms/step - loss: 3.0906e-04 - val_loss: 3.7777e-04\n",
      "Epoch 51/100\n",
      "19/19 [==============================] - 2s 81ms/step - loss: 3.0713e-04 - val_loss: 3.5424e-04\n",
      "Epoch 52/100\n",
      "19/19 [==============================] - 1s 75ms/step - loss: 3.1805e-04 - val_loss: 3.2295e-04\n",
      "Epoch 53/100\n",
      "19/19 [==============================] - 1s 73ms/step - loss: 3.0150e-04 - val_loss: 3.3441e-04\n",
      "Epoch 54/100\n",
      "19/19 [==============================] - 2s 90ms/step - loss: 3.0028e-04 - val_loss: 4.0277e-04\n",
      "Epoch 55/100\n",
      "19/19 [==============================] - 2s 82ms/step - loss: 3.0788e-04 - val_loss: 3.7189e-04\n",
      "Epoch 56/100\n",
      "19/19 [==============================] - 1s 74ms/step - loss: 3.0491e-04 - val_loss: 4.5213e-04\n",
      "Epoch 57/100\n",
      "19/19 [==============================] - 1s 74ms/step - loss: 3.0159e-04 - val_loss: 3.2370e-04\n",
      "Epoch 58/100\n",
      "19/19 [==============================] - 1s 71ms/step - loss: 2.9913e-04 - val_loss: 3.5958e-04\n",
      "Epoch 59/100\n",
      "19/19 [==============================] - 1s 77ms/step - loss: 2.9826e-04 - val_loss: 3.0626e-04\n",
      "Epoch 60/100\n",
      "19/19 [==============================] - 1s 75ms/step - loss: 3.0493e-04 - val_loss: 3.8106e-04\n",
      "Epoch 61/100\n",
      "19/19 [==============================] - 1s 75ms/step - loss: 3.2213e-04 - val_loss: 3.2328e-04\n",
      "Epoch 62/100\n",
      "19/19 [==============================] - 1s 72ms/step - loss: 3.1036e-04 - val_loss: 3.5311e-04\n",
      "Epoch 63/100\n",
      "19/19 [==============================] - 1s 75ms/step - loss: 3.1572e-04 - val_loss: 3.0074e-04\n",
      "Epoch 64/100\n",
      "19/19 [==============================] - 1s 74ms/step - loss: 2.9798e-04 - val_loss: 4.2955e-04\n",
      "Epoch 65/100\n",
      "19/19 [==============================] - 1s 76ms/step - loss: 3.0992e-04 - val_loss: 3.0321e-04\n",
      "Epoch 66/100\n",
      "19/19 [==============================] - 1s 76ms/step - loss: 3.1646e-04 - val_loss: 3.1305e-04\n",
      "Epoch 67/100\n",
      "19/19 [==============================] - 1s 75ms/step - loss: 2.9655e-04 - val_loss: 3.4979e-04\n",
      "Epoch 68/100\n",
      "19/19 [==============================] - 1s 77ms/step - loss: 2.8945e-04 - val_loss: 3.3708e-04\n",
      "Epoch 69/100\n",
      "19/19 [==============================] - 2s 88ms/step - loss: 2.9798e-04 - val_loss: 3.6913e-04\n",
      "Epoch 70/100\n",
      "19/19 [==============================] - 2s 83ms/step - loss: 2.8755e-04 - val_loss: 3.9996e-04\n",
      "Epoch 71/100\n",
      "19/19 [==============================] - 2s 82ms/step - loss: 2.9365e-04 - val_loss: 2.9421e-04\n",
      "Epoch 72/100\n",
      "19/19 [==============================] - 2s 84ms/step - loss: 2.9933e-04 - val_loss: 5.6795e-04\n",
      "Epoch 73/100\n",
      "19/19 [==============================] - 1s 72ms/step - loss: 3.1451e-04 - val_loss: 2.9557e-04\n",
      "Epoch 74/100\n",
      "19/19 [==============================] - 2s 85ms/step - loss: 3.2348e-04 - val_loss: 3.5696e-04\n",
      "Epoch 75/100\n",
      "19/19 [==============================] - 2s 96ms/step - loss: 2.9399e-04 - val_loss: 3.4241e-04\n",
      "Epoch 76/100\n",
      "19/19 [==============================] - 2s 82ms/step - loss: 2.8970e-04 - val_loss: 2.9970e-04\n",
      "Epoch 77/100\n",
      "19/19 [==============================] - 2s 94ms/step - loss: 2.8732e-04 - val_loss: 3.5446e-04\n",
      "Epoch 78/100\n",
      "19/19 [==============================] - 2s 101ms/step - loss: 2.8769e-04 - val_loss: 3.6071e-04\n",
      "Epoch 79/100\n",
      "19/19 [==============================] - 2s 95ms/step - loss: 3.0087e-04 - val_loss: 3.4724e-04\n",
      "Epoch 80/100\n",
      "19/19 [==============================] - 2s 96ms/step - loss: 2.9287e-04 - val_loss: 3.1299e-04\n",
      "Epoch 81/100\n",
      "19/19 [==============================] - 2s 99ms/step - loss: 3.0330e-04 - val_loss: 3.3343e-04\n",
      "Epoch 82/100\n",
      "19/19 [==============================] - 2s 104ms/step - loss: 2.9602e-04 - val_loss: 2.9401e-04\n",
      "Epoch 83/100\n",
      "19/19 [==============================] - 2s 90ms/step - loss: 2.9416e-04 - val_loss: 5.0375e-04\n",
      "Epoch 84/100\n",
      "19/19 [==============================] - 2s 87ms/step - loss: 3.1051e-04 - val_loss: 3.0918e-04\n",
      "Epoch 85/100\n",
      "19/19 [==============================] - 2s 83ms/step - loss: 3.0327e-04 - val_loss: 4.8675e-04\n",
      "Epoch 86/100\n",
      "19/19 [==============================] - 1s 77ms/step - loss: 2.9979e-04 - val_loss: 2.9048e-04\n",
      "Epoch 87/100\n",
      "19/19 [==============================] - 1s 73ms/step - loss: 3.1438e-04 - val_loss: 4.1409e-04\n",
      "Epoch 88/100\n",
      "19/19 [==============================] - 2s 85ms/step - loss: 3.0163e-04 - val_loss: 2.9527e-04\n",
      "Epoch 89/100\n",
      "19/19 [==============================] - 2s 83ms/step - loss: 2.8236e-04 - val_loss: 3.8068e-04\n",
      "Epoch 90/100\n",
      "19/19 [==============================] - 2s 80ms/step - loss: 2.9162e-04 - val_loss: 3.2908e-04\n",
      "Epoch 91/100\n",
      "19/19 [==============================] - 1s 74ms/step - loss: 2.9548e-04 - val_loss: 2.9782e-04\n",
      "Epoch 92/100\n",
      "19/19 [==============================] - 2s 80ms/step - loss: 2.9105e-04 - val_loss: 2.8410e-04\n",
      "Epoch 93/100\n",
      "19/19 [==============================] - 1s 74ms/step - loss: 2.8669e-04 - val_loss: 3.4513e-04\n",
      "Epoch 94/100\n",
      "19/19 [==============================] - 1s 76ms/step - loss: 2.7522e-04 - val_loss: 2.8298e-04\n",
      "Epoch 95/100\n",
      "19/19 [==============================] - 1s 76ms/step - loss: 2.8506e-04 - val_loss: 3.1324e-04\n",
      "Epoch 96/100\n",
      "19/19 [==============================] - 1s 78ms/step - loss: 2.7731e-04 - val_loss: 3.4488e-04\n",
      "Epoch 97/100\n",
      "19/19 [==============================] - 2s 88ms/step - loss: 2.8220e-04 - val_loss: 3.0084e-04\n",
      "Epoch 98/100\n",
      "19/19 [==============================] - 2s 81ms/step - loss: 2.8950e-04 - val_loss: 4.4514e-04\n",
      "Epoch 99/100\n",
      "19/19 [==============================] - 1s 75ms/step - loss: 2.9233e-04 - val_loss: 2.8442e-04\n",
      "Epoch 100/100\n",
      "19/19 [==============================] - 2s 81ms/step - loss: 3.0314e-04 - val_loss: 5.9040e-04\n"
     ]
    },
    {
     "data": {
      "text/plain": [
       "<keras.callbacks.History at 0x1aad193db80>"
      ]
     },
     "execution_count": 9,
     "metadata": {},
     "output_type": "execute_result"
    }
   ],
   "source": [
    "# Fit mô hình với dữ liệu train\n",
    "model.fit(X_train,y_train,validation_data=(X_test,ytest),epochs=100,batch_size=64,verbose=1)"
   ]
  },
  {
   "cell_type": "code",
   "execution_count": 10,
   "metadata": {
    "colab": {
     "base_uri": "https://localhost:8080/"
    },
    "id": "Rxx_KQSkQpBG",
    "outputId": "cf0fb697-d4e6-4c79-9af8-47462ffe5053"
   },
   "outputs": [
    {
     "name": "stdout",
     "output_type": "stream",
     "text": [
      "37/37 [==============================] - 2s 16ms/step\n",
      "9/9 [==============================] - 0s 15ms/step\n",
      "3/3 [==============================] - 0s 17ms/step\n"
     ]
    }
   ],
   "source": [
    "# Dự báo dữ liệu test, val\n",
    "train_predict=model.predict(X_train)\n",
    "y_pred=model.predict(X_test)\n",
    "y_pred_val=model.predict(X_val)"
   ]
  },
  {
   "cell_type": "code",
   "execution_count": 13,
   "metadata": {},
   "outputs": [
    {
     "name": "stdout",
     "output_type": "stream",
     "text": [
      "Validation RMSE: 0.06090347101561698\n",
      "Testing RMSE: 0.20325203850784218\n",
      "Validation MAPE: 13.852899364482077\n",
      "Testing MAPE: 44.14321737298095\n",
      "Validation MAE: 0.04747597913091346\n",
      "Testing MAE: 0.15618630482507953\n"
     ]
    }
   ],
   "source": [
    "# calculate the RMSE\n",
    "valid_rmse = np.sqrt(np.mean((y_pred_val - yval)**2))\n",
    "test_rmse = np.sqrt(np.mean((y_pred - ytest)**2))\n",
    "print('Validation RMSE:', valid_rmse)\n",
    "print('Testing RMSE:', test_rmse)\n",
    "\n",
    "# calculate the MAPE\n",
    "valid_mape = np.mean(np.abs((yval - y_pred_val) / yval)) * 100\n",
    "test_mape = np.mean(np.abs((ytest - y_pred) / ytest)) * 100\n",
    "print(\"Validation MAPE:\", valid_mape)\n",
    "print(\"Testing MAPE:\", test_mape)\n",
    "\n",
    "# calculate the MAE\n",
    "valid_mae = np.mean(np.abs(y_pred_val - yval))\n",
    "test_mae = np.mean(np.abs(y_pred - ytest))\n",
    "print(\"Validation MAE:\", valid_mae)\n",
    "print(\"Testing MAE:\", test_mae)"
   ]
  },
  {
   "cell_type": "code",
   "execution_count": 14,
   "metadata": {
    "id": "5rwTN10LQ7rj"
   },
   "outputs": [],
   "source": [
    "# Chuẩn hóa dữ liệu y_pred, y_pred_val\n",
    "train_predict=scaler.inverse_transform(train_predict)\n",
    "y_pred=scaler.inverse_transform(y_pred)\n",
    "y_pred_val=scaler.inverse_transform(y_pred_val)"
   ]
  },
  {
   "cell_type": "code",
   "execution_count": 15,
   "metadata": {
    "colab": {
     "base_uri": "https://localhost:8080/",
     "height": 430
    },
    "id": "KSa_mX51a654",
    "outputId": "a17abc33-966c-4a6a-c645-f142e7e9ffb3"
   },
   "outputs": [
    {
     "data": {
      "image/png": "[encoded data removed]",
      "text/plain": [
       "<Figure size 432x288 with 1 Axes>"
      ]
     },
     "metadata": {
      "needs_background": "light"
     },
     "output_type": "display_data"
    }
   ],
   "source": [
    "# 14.Vẽ hình\n",
    "\n",
    "train_data_index = pd.RangeIndex(start=0, stop=train_size, step=1)\n",
    "plt.plot(scaler.inverse_transform(train_data))\n",
    "test_data_index = pd.RangeIndex(start=train_size, stop=train_size+test_size, step=1)\n",
    "plt.plot(test_data_index,scaler.inverse_transform(test_data))\n",
    "test_data_index = pd.RangeIndex(start=train_size+101, stop=train_size+test_size, step=1)\n",
    "plt.plot(test_data_index,(y_pred))\n",
    "val_data_index = pd.RangeIndex(start=train_size+test_size, stop=train_size+test_size+val_size, step=1)\n",
    "plt.plot(val_data_index,scaler.inverse_transform(val_data))\n",
    "val_data_index = pd.RangeIndex(start=train_size+test_size+101, stop=train_size+test_size+val_size, step=1)\n",
    "plt.plot(val_data_index,y_pred_val)\n",
    "plt.legend(['Train','Test','Predict','Validate','ValidatePred'])\n",
    "plt.show()"
   ]
  },
  {
   "cell_type": "code",
   "execution_count": null,
   "metadata": {},
   "outputs": [],
   "source": []
  }
 ],
 "metadata": {
  "colab": {
   "provenance": []
  },
  "kernelspec": {
   "display_name": "Python 3 (ipykernel)",
   "language": "python",
   "name": "python3"
  },
  "language_info": {
   "codemirror_mode": {
    "name": "ipython",
    "version": 3
   },
   "file_extension": ".py",
   "mimetype": "text/x-python",
   "name": "python",
   "nbconvert_exporter": "python",
   "pygments_lexer": "ipython3",
   "version": "3.9.12"
  }
 },
 "nbformat": 4,
 "nbformat_minor": 1
}

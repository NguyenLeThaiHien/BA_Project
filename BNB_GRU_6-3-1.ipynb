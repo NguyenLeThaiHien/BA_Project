{
 "cells": [
  {
   "cell_type": "code",
   "execution_count": 1,
   "id": "0330a794",
   "metadata": {},
   "outputs": [],
   "source": [
    "# 1. Import thư viện cần thiết\n",
    "import numpy as np\n",
    "import pandas as pd\n",
    "import matplotlib.pyplot as plt\n",
    "from sklearn.preprocessing import MinMaxScaler\n",
    "from keras.models import Sequential\n",
    "from keras.layers import Dense, GRU"
   ]
  },
  {
   "cell_type": "code",
   "execution_count": 2,
   "id": "11ba29de",
   "metadata": {},
   "outputs": [],
   "source": [
    "# 2. Đọc file csv và gắng index với giá Close\n",
    "df = pd.read_csv('BNB.csv',sep=\";\")\n",
    "df1=df.reset_index()['Price']"
   ]
  },
  {
   "cell_type": "code",
   "execution_count": 3,
   "id": "e80afc8f",
   "metadata": {},
   "outputs": [],
   "source": [
    "# 3. Scaler data\n",
    "scaler=MinMaxScaler(feature_range=(0,1))\n",
    "df1=scaler.fit_transform(np.array(df1).reshape(-1,1))"
   ]
  },
  {
   "cell_type": "code",
   "execution_count": 4,
   "id": "9229094e",
   "metadata": {},
   "outputs": [],
   "source": [
    "# 4. Chia train test\n",
    "train_size = int(0.6 * len(df1))\n",
    "test_size = int(0.3 * len(df1))\n",
    "val_size = len(df1) - train_size - test_size\n",
    "\n",
    "train_data = df1[:train_size]\n",
    "test_data = df1[train_size:train_size+test_size]\n",
    "val_data = df1[train_size+test_size:]"
   ]
  },
  {
   "cell_type": "code",
   "execution_count": 5,
   "id": "762e320d",
   "metadata": {},
   "outputs": [],
   "source": [
    "# 5. Hàm Create Dataset\n",
    "import numpy\n",
    "# convert an array of values into a dataset matrix\n",
    "def create_dataset(dataset, time_step=1):\n",
    "    dataX, dataY = [], []\n",
    "    for i in range(len(dataset)-time_step-1):\n",
    "        a = dataset[i:(i+time_step), 0]   ###i=0, X=0,1,2,3-----99   Y=100 \n",
    "        dataX.append(a)\n",
    "        dataY.append(dataset[i + time_step, 0])\n",
    "    return numpy.array(dataX), numpy.array(dataY)"
   ]
  },
  {
   "cell_type": "code",
   "execution_count": 6,
   "id": "d8b10484",
   "metadata": {},
   "outputs": [],
   "source": [
    "#6. Reshape into X=t,t+1,t+2..t+99 and Y=t+100\n",
    "\n",
    "time_step = 100\n",
    "X_train, y_train = create_dataset(train_data, time_step)\n",
    "X_val, yval = create_dataset(val_data, time_step)\n",
    "X_test, ytest = create_dataset(test_data, time_step)"
   ]
  },
  {
   "cell_type": "code",
   "execution_count": 7,
   "id": "544bbe97",
   "metadata": {},
   "outputs": [],
   "source": [
    "# 7. Reshape input to be [samples, time steps, features] which is required for LSTM\n",
    "X_train =X_train.reshape(X_train.shape[0],X_train.shape[1] , 1)\n",
    "X_test = X_test.reshape(X_test.shape[0],X_test.shape[1] , 1)\n",
    "X_val = X_val.reshape(X_val.shape[0],X_val.shape[1] , 1)"
   ]
  },
  {
   "cell_type": "code",
   "execution_count": 8,
   "id": "93514322",
   "metadata": {},
   "outputs": [],
   "source": [
    "# 8. Define GRU Model\n",
    "\n",
    "model = Sequential()\n",
    "model.add(GRU(64, input_shape=(time_step, 1)))\n",
    "model.add(Dense(1))\n",
    "model.compile(optimizer='adam', loss='mean_squared_error')"
   ]
  },
  {
   "cell_type": "code",
   "execution_count": 9,
   "id": "7f912405",
   "metadata": {},
   "outputs": [
    {
     "name": "stdout",
     "output_type": "stream",
     "text": [
      "Epoch 1/100\n",
      "16/16 [==============================] - 3s 71ms/step - loss: 0.0203 - val_loss: 0.0494\n",
      "Epoch 2/100\n",
      "16/16 [==============================] - 1s 44ms/step - loss: 0.0033 - val_loss: 0.0080\n",
      "Epoch 3/100\n",
      "16/16 [==============================] - 1s 47ms/step - loss: 8.6845e-04 - val_loss: 0.0013\n",
      "Epoch 4/100\n",
      "16/16 [==============================] - 1s 48ms/step - loss: 4.5917e-04 - val_loss: 0.0011\n",
      "Epoch 5/100\n",
      "16/16 [==============================] - 1s 46ms/step - loss: 3.8524e-04 - val_loss: 0.0016\n",
      "Epoch 6/100\n",
      "16/16 [==============================] - 1s 44ms/step - loss: 3.7701e-04 - val_loss: 0.0012\n",
      "Epoch 7/100\n",
      "16/16 [==============================] - 1s 54ms/step - loss: 3.8616e-04 - val_loss: 0.0013\n",
      "Epoch 8/100\n",
      "16/16 [==============================] - 1s 46ms/step - loss: 3.5317e-04 - val_loss: 0.0017\n",
      "Epoch 9/100\n",
      "16/16 [==============================] - 1s 46ms/step - loss: 3.5333e-04 - val_loss: 0.0013\n",
      "Epoch 10/100\n",
      "16/16 [==============================] - 1s 45ms/step - loss: 3.5054e-04 - val_loss: 0.0012\n",
      "Epoch 11/100\n",
      "16/16 [==============================] - 1s 47ms/step - loss: 3.4525e-04 - val_loss: 0.0017\n",
      "Epoch 12/100\n",
      "16/16 [==============================] - 1s 45ms/step - loss: 3.2735e-04 - val_loss: 0.0010\n",
      "Epoch 13/100\n",
      "16/16 [==============================] - 1s 51ms/step - loss: 3.3178e-04 - val_loss: 0.0013\n",
      "Epoch 14/100\n",
      "16/16 [==============================] - 1s 49ms/step - loss: 3.2275e-04 - val_loss: 0.0012\n",
      "Epoch 15/100\n",
      "16/16 [==============================] - 1s 50ms/step - loss: 3.1606e-04 - val_loss: 0.0011\n",
      "Epoch 16/100\n",
      "16/16 [==============================] - 1s 49ms/step - loss: 3.1719e-04 - val_loss: 0.0011\n",
      "Epoch 17/100\n",
      "16/16 [==============================] - 1s 43ms/step - loss: 3.0555e-04 - val_loss: 0.0013\n",
      "Epoch 18/100\n",
      "16/16 [==============================] - 1s 44ms/step - loss: 2.9968e-04 - val_loss: 0.0013\n",
      "Epoch 19/100\n",
      "16/16 [==============================] - 1s 44ms/step - loss: 3.0980e-04 - val_loss: 0.0016\n",
      "Epoch 20/100\n",
      "16/16 [==============================] - 1s 44ms/step - loss: 3.2405e-04 - val_loss: 9.3439e-04\n",
      "Epoch 21/100\n",
      "16/16 [==============================] - 1s 43ms/step - loss: 3.2331e-04 - val_loss: 0.0013\n",
      "Epoch 22/100\n",
      "16/16 [==============================] - 1s 44ms/step - loss: 3.2971e-04 - val_loss: 8.8792e-04\n",
      "Epoch 23/100\n",
      "16/16 [==============================] - 1s 41ms/step - loss: 3.0051e-04 - val_loss: 0.0012\n",
      "Epoch 24/100\n",
      "16/16 [==============================] - 1s 45ms/step - loss: 2.9180e-04 - val_loss: 0.0012\n",
      "Epoch 25/100\n",
      "16/16 [==============================] - 1s 45ms/step - loss: 2.8641e-04 - val_loss: 0.0011\n",
      "Epoch 26/100\n",
      "16/16 [==============================] - 1s 45ms/step - loss: 2.6877e-04 - val_loss: 0.0010\n",
      "Epoch 27/100\n",
      "16/16 [==============================] - 1s 45ms/step - loss: 2.7942e-04 - val_loss: 0.0010\n",
      "Epoch 28/100\n",
      "16/16 [==============================] - 1s 43ms/step - loss: 2.9164e-04 - val_loss: 8.0053e-04\n",
      "Epoch 29/100\n",
      "16/16 [==============================] - 1s 48ms/step - loss: 2.9779e-04 - val_loss: 0.0018\n",
      "Epoch 30/100\n",
      "16/16 [==============================] - 1s 44ms/step - loss: 2.9186e-04 - val_loss: 7.9628e-04\n",
      "Epoch 31/100\n",
      "16/16 [==============================] - 1s 48ms/step - loss: 2.8253e-04 - val_loss: 0.0011\n",
      "Epoch 32/100\n",
      "16/16 [==============================] - 1s 45ms/step - loss: 2.6575e-04 - val_loss: 8.9433e-04\n",
      "Epoch 33/100\n",
      "16/16 [==============================] - 1s 44ms/step - loss: 2.6292e-04 - val_loss: 9.7125e-04\n",
      "Epoch 34/100\n",
      "16/16 [==============================] - 1s 45ms/step - loss: 2.5559e-04 - val_loss: 0.0010\n",
      "Epoch 35/100\n",
      "16/16 [==============================] - 1s 49ms/step - loss: 2.6485e-04 - val_loss: 0.0013\n",
      "Epoch 36/100\n",
      "16/16 [==============================] - 1s 46ms/step - loss: 2.7620e-04 - val_loss: 8.2143e-04\n",
      "Epoch 37/100\n",
      "16/16 [==============================] - 1s 49ms/step - loss: 2.6364e-04 - val_loss: 9.5308e-04\n",
      "Epoch 38/100\n",
      "16/16 [==============================] - 1s 48ms/step - loss: 2.6651e-04 - val_loss: 8.6883e-04\n",
      "Epoch 39/100\n",
      "16/16 [==============================] - 1s 46ms/step - loss: 2.5755e-04 - val_loss: 0.0012\n",
      "Epoch 40/100\n",
      "16/16 [==============================] - 1s 42ms/step - loss: 2.6254e-04 - val_loss: 8.9373e-04\n",
      "Epoch 41/100\n",
      "16/16 [==============================] - 1s 45ms/step - loss: 2.5913e-04 - val_loss: 8.5074e-04\n",
      "Epoch 42/100\n",
      "16/16 [==============================] - 1s 45ms/step - loss: 2.4608e-04 - val_loss: 0.0014\n",
      "Epoch 43/100\n",
      "16/16 [==============================] - 1s 43ms/step - loss: 2.5742e-04 - val_loss: 9.2822e-04\n",
      "Epoch 44/100\n",
      "16/16 [==============================] - 1s 43ms/step - loss: 2.4130e-04 - val_loss: 9.6215e-04\n",
      "Epoch 45/100\n",
      "16/16 [==============================] - 1s 45ms/step - loss: 2.4116e-04 - val_loss: 0.0011\n",
      "Epoch 46/100\n",
      "16/16 [==============================] - 1s 45ms/step - loss: 2.4693e-04 - val_loss: 0.0010\n",
      "Epoch 47/100\n",
      "16/16 [==============================] - 1s 44ms/step - loss: 2.5253e-04 - val_loss: 0.0015\n",
      "Epoch 48/100\n",
      "16/16 [==============================] - 1s 43ms/step - loss: 2.6120e-04 - val_loss: 7.1006e-04\n",
      "Epoch 49/100\n",
      "16/16 [==============================] - 1s 44ms/step - loss: 2.4512e-04 - val_loss: 8.4241e-04\n",
      "Epoch 50/100\n",
      "16/16 [==============================] - 1s 42ms/step - loss: 2.4390e-04 - val_loss: 8.9290e-04\n",
      "Epoch 51/100\n",
      "16/16 [==============================] - 1s 44ms/step - loss: 2.4184e-04 - val_loss: 0.0012\n",
      "Epoch 52/100\n",
      "16/16 [==============================] - 1s 48ms/step - loss: 2.5553e-04 - val_loss: 7.8039e-04\n",
      "Epoch 53/100\n",
      "16/16 [==============================] - 1s 44ms/step - loss: 2.3596e-04 - val_loss: 8.8480e-04\n",
      "Epoch 54/100\n",
      "16/16 [==============================] - 1s 46ms/step - loss: 2.3658e-04 - val_loss: 7.2179e-04\n",
      "Epoch 55/100\n",
      "16/16 [==============================] - 1s 46ms/step - loss: 2.2985e-04 - val_loss: 9.8528e-04\n",
      "Epoch 56/100\n",
      "16/16 [==============================] - 1s 44ms/step - loss: 2.6835e-04 - val_loss: 7.3223e-04\n",
      "Epoch 57/100\n",
      "16/16 [==============================] - 1s 44ms/step - loss: 2.6240e-04 - val_loss: 0.0012\n",
      "Epoch 58/100\n",
      "16/16 [==============================] - 1s 50ms/step - loss: 2.3350e-04 - val_loss: 7.0444e-04\n",
      "Epoch 59/100\n",
      "16/16 [==============================] - 1s 46ms/step - loss: 2.4160e-04 - val_loss: 0.0011\n",
      "Epoch 60/100\n",
      "16/16 [==============================] - 1s 50ms/step - loss: 2.4131e-04 - val_loss: 6.7522e-04\n",
      "Epoch 61/100\n",
      "16/16 [==============================] - 1s 45ms/step - loss: 2.5366e-04 - val_loss: 9.7024e-04\n",
      "Epoch 62/100\n",
      "16/16 [==============================] - 1s 44ms/step - loss: 2.4729e-04 - val_loss: 8.0219e-04\n",
      "Epoch 63/100\n",
      "16/16 [==============================] - 1s 45ms/step - loss: 2.4138e-04 - val_loss: 8.0168e-04\n",
      "Epoch 64/100\n",
      "16/16 [==============================] - 1s 46ms/step - loss: 2.3731e-04 - val_loss: 0.0012\n",
      "Epoch 65/100\n",
      "16/16 [==============================] - 1s 44ms/step - loss: 2.4623e-04 - val_loss: 7.0680e-04\n",
      "Epoch 66/100\n",
      "16/16 [==============================] - 1s 43ms/step - loss: 2.4343e-04 - val_loss: 8.0376e-04\n",
      "Epoch 67/100\n",
      "16/16 [==============================] - 1s 45ms/step - loss: 2.4908e-04 - val_loss: 6.8698e-04\n",
      "Epoch 68/100\n",
      "16/16 [==============================] - 1s 44ms/step - loss: 2.5308e-04 - val_loss: 9.6437e-04\n",
      "Epoch 69/100\n",
      "16/16 [==============================] - 1s 44ms/step - loss: 2.2593e-04 - val_loss: 8.4169e-04\n",
      "Epoch 70/100\n",
      "16/16 [==============================] - 1s 44ms/step - loss: 2.2421e-04 - val_loss: 6.7784e-04\n",
      "Epoch 71/100\n",
      "16/16 [==============================] - 1s 41ms/step - loss: 2.4675e-04 - val_loss: 6.9644e-04\n",
      "Epoch 72/100\n",
      "16/16 [==============================] - 1s 42ms/step - loss: 2.3546e-04 - val_loss: 0.0011\n",
      "Epoch 73/100\n",
      "16/16 [==============================] - 1s 43ms/step - loss: 2.2378e-04 - val_loss: 6.8660e-04\n",
      "Epoch 74/100\n",
      "16/16 [==============================] - 1s 49ms/step - loss: 2.5860e-04 - val_loss: 8.7530e-04\n",
      "Epoch 75/100\n",
      "16/16 [==============================] - 1s 48ms/step - loss: 2.4057e-04 - val_loss: 7.5013e-04\n",
      "Epoch 76/100\n",
      "16/16 [==============================] - 1s 43ms/step - loss: 2.3776e-04 - val_loss: 6.8750e-04\n",
      "Epoch 77/100\n",
      "16/16 [==============================] - 1s 44ms/step - loss: 2.2479e-04 - val_loss: 0.0012\n"
     ]
    },
    {
     "name": "stdout",
     "output_type": "stream",
     "text": [
      "Epoch 78/100\n",
      "16/16 [==============================] - 1s 40ms/step - loss: 2.5787e-04 - val_loss: 6.7355e-04\n",
      "Epoch 79/100\n",
      "16/16 [==============================] - 1s 43ms/step - loss: 2.8288e-04 - val_loss: 6.7765e-04\n",
      "Epoch 80/100\n",
      "16/16 [==============================] - 1s 52ms/step - loss: 2.4741e-04 - val_loss: 0.0011\n",
      "Epoch 81/100\n",
      "16/16 [==============================] - 1s 45ms/step - loss: 2.3288e-04 - val_loss: 7.2994e-04\n",
      "Epoch 82/100\n",
      "16/16 [==============================] - 1s 47ms/step - loss: 2.1966e-04 - val_loss: 7.5770e-04\n",
      "Epoch 83/100\n",
      "16/16 [==============================] - 1s 45ms/step - loss: 2.3975e-04 - val_loss: 6.6183e-04\n",
      "Epoch 84/100\n",
      "16/16 [==============================] - 1s 45ms/step - loss: 2.4269e-04 - val_loss: 9.4214e-04\n",
      "Epoch 85/100\n",
      "16/16 [==============================] - 1s 44ms/step - loss: 2.2089e-04 - val_loss: 8.6332e-04\n",
      "Epoch 86/100\n",
      "16/16 [==============================] - 1s 50ms/step - loss: 2.2743e-04 - val_loss: 6.5670e-04\n",
      "Epoch 87/100\n",
      "16/16 [==============================] - 1s 45ms/step - loss: 2.3449e-04 - val_loss: 9.9507e-04\n",
      "Epoch 88/100\n",
      "16/16 [==============================] - 1s 43ms/step - loss: 2.3064e-04 - val_loss: 6.6692e-04\n",
      "Epoch 89/100\n",
      "16/16 [==============================] - 1s 45ms/step - loss: 2.5193e-04 - val_loss: 7.9400e-04\n",
      "Epoch 90/100\n",
      "16/16 [==============================] - 1s 46ms/step - loss: 2.1717e-04 - val_loss: 7.0620e-04\n",
      "Epoch 91/100\n",
      "16/16 [==============================] - 1s 49ms/step - loss: 2.2072e-04 - val_loss: 9.6552e-04\n",
      "Epoch 92/100\n",
      "16/16 [==============================] - 1s 43ms/step - loss: 2.1824e-04 - val_loss: 6.4609e-04\n",
      "Epoch 93/100\n",
      "16/16 [==============================] - 1s 42ms/step - loss: 2.4215e-04 - val_loss: 0.0011\n",
      "Epoch 94/100\n",
      "16/16 [==============================] - 1s 42ms/step - loss: 2.2523e-04 - val_loss: 6.4926e-04\n",
      "Epoch 95/100\n",
      "16/16 [==============================] - 1s 43ms/step - loss: 2.2960e-04 - val_loss: 7.2516e-04\n",
      "Epoch 96/100\n",
      "16/16 [==============================] - 1s 45ms/step - loss: 2.2369e-04 - val_loss: 9.5574e-04\n",
      "Epoch 97/100\n",
      "16/16 [==============================] - 1s 44ms/step - loss: 2.2902e-04 - val_loss: 6.4747e-04\n",
      "Epoch 98/100\n",
      "16/16 [==============================] - 1s 43ms/step - loss: 2.3117e-04 - val_loss: 7.9280e-04\n",
      "Epoch 99/100\n",
      "16/16 [==============================] - 1s 43ms/step - loss: 2.2218e-04 - val_loss: 0.0010\n",
      "Epoch 100/100\n",
      "16/16 [==============================] - 1s 43ms/step - loss: 2.3226e-04 - val_loss: 6.9410e-04\n"
     ]
    },
    {
     "data": {
      "text/plain": [
       "<keras.callbacks.History at 0x12ea7673d60>"
      ]
     },
     "execution_count": 9,
     "metadata": {},
     "output_type": "execute_result"
    }
   ],
   "source": [
    "# Fit mô hình với dữ liệu train\n",
    "model.fit(X_train,y_train,validation_data=(X_test,ytest),epochs=100,batch_size=64,verbose=1)"
   ]
  },
  {
   "cell_type": "code",
   "execution_count": 10,
   "id": "7437e9b1",
   "metadata": {},
   "outputs": [
    {
     "name": "stdout",
     "output_type": "stream",
     "text": [
      "32/32 [==============================] - 1s 9ms/step\n",
      "14/14 [==============================] - 0s 8ms/step\n",
      "3/3 [==============================] - 0s 12ms/step\n"
     ]
    }
   ],
   "source": [
    "# Dự báo dữ liệu test, val\n",
    "train_predict=model.predict(X_train)\n",
    "y_pred=model.predict(X_test)\n",
    "y_pred_val=model.predict(X_val)"
   ]
  },
  {
   "cell_type": "code",
   "execution_count": 11,
   "id": "0488f2e8",
   "metadata": {},
   "outputs": [
    {
     "name": "stdout",
     "output_type": "stream",
     "text": [
      "Validation RMSE: 0.034151133469982733\n",
      "Testing RMSE: 0.22640791155813197\n",
      "Validation MAPE: 5.976529496173116\n",
      "Testing MAPE: 34.43194891177582\n",
      "Validation MAE: 0.02708373009410687\n",
      "Testing MAE: 0.18094559704815572\n"
     ]
    }
   ],
   "source": [
    "# calculate the RMSE\n",
    "valid_rmse = np.sqrt(np.mean((y_pred_val - yval)**2))\n",
    "test_rmse = np.sqrt(np.mean((y_pred - ytest)**2))\n",
    "print('Validation RMSE:', valid_rmse)\n",
    "print('Testing RMSE:', test_rmse)\n",
    "\n",
    "# calculate the MAPE\n",
    "valid_mape = np.mean(np.abs((yval - y_pred_val) / yval)) * 100\n",
    "test_mape = np.mean(np.abs((ytest - y_pred) / ytest)) * 100\n",
    "print(\"Validation MAPE:\", valid_mape)\n",
    "print(\"Testing MAPE:\", test_mape)\n",
    "\n",
    "# calculate the MAE\n",
    "valid_mae = np.mean(np.abs(y_pred_val - yval))\n",
    "test_mae = np.mean(np.abs(y_pred - ytest))\n",
    "print(\"Validation MAE:\", valid_mae)\n",
    "print(\"Testing MAE:\", test_mae)"
   ]
  },
  {
   "cell_type": "code",
   "execution_count": 12,
   "id": "721a5f50",
   "metadata": {},
   "outputs": [],
   "source": [
    "# Chuẩn hóa dữ liệu y_pred, y_pred_val\n",
    "train_predict=scaler.inverse_transform(train_predict)\n",
    "y_pred=scaler.inverse_transform(y_pred)\n",
    "y_pred_val=scaler.inverse_transform(y_pred_val)"
   ]
  },
  {
   "cell_type": "code",
   "execution_count": 13,
   "id": "0a7d2a25",
   "metadata": {},
   "outputs": [
    {
     "data": {
      "image/png": "[encoded data removed]",
      "text/plain": [
       "<Figure size 432x288 with 1 Axes>"
      ]
     },
     "metadata": {
      "needs_background": "light"
     },
     "output_type": "display_data"
    }
   ],
   "source": [
    "# 14.Vẽ hình\n",
    "\n",
    "train_data_index = pd.RangeIndex(start=0, stop=train_size, step=1)\n",
    "plt.plot(scaler.inverse_transform(train_data))\n",
    "test_data_index = pd.RangeIndex(start=train_size, stop=train_size+test_size, step=1)\n",
    "plt.plot(test_data_index,scaler.inverse_transform(test_data))\n",
    "test_data_index = pd.RangeIndex(start=train_size+101, stop=train_size+test_size, step=1)\n",
    "plt.plot(test_data_index,(y_pred))\n",
    "val_data_index = pd.RangeIndex(start=train_size+test_size, stop=train_size+test_size+val_size, step=1)\n",
    "plt.plot(val_data_index,scaler.inverse_transform(val_data))\n",
    "val_data_index = pd.RangeIndex(start=train_size+test_size+101, stop=train_size+test_size+val_size, step=1)\n",
    "plt.plot(val_data_index,y_pred_val)\n",
    "plt.legend(['Train','Test','Predict','Validate','ValidatePred'])\n",
    "plt.show()"
   ]
  }
 ],
 "metadata": {
  "kernelspec": {
   "display_name": "Python 3 (ipykernel)",
   "language": "python",
   "name": "python3"
  },
  "language_info": {
   "codemirror_mode": {
    "name": "ipython",
    "version": 3
   },
   "file_extension": ".py",
   "mimetype": "text/x-python",
   "name": "python",
   "nbconvert_exporter": "python",
   "pygments_lexer": "ipython3",
   "version": "3.9.12"
  }
 },
 "nbformat": 4,
 "nbformat_minor": 5
}

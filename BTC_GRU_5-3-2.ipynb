{
 "cells": [
  {
   "cell_type": "code",
   "execution_count": 1,
   "metadata": {
    "colab": {
     "base_uri": "https://localhost:8080/"
    },
    "id": "FMDKda-XIUAK",
    "outputId": "83f83310-8d4b-4925-a7d3-764d810f45e1"
   },
   "outputs": [],
   "source": [
    "# 1. Import thư viện cần thiết\n",
    "import numpy as np\n",
    "import pandas as pd\n",
    "import matplotlib.pyplot as plt\n",
    "from sklearn.preprocessing import MinMaxScaler\n",
    "from keras.models import Sequential\n",
    "from keras.layers import Dense, GRU"
   ]
  },
  {
   "cell_type": "code",
   "execution_count": 2,
   "metadata": {
    "id": "aRm9GQ8KJJ5N"
   },
   "outputs": [],
   "source": [
    "# 2. Đọc file csv và gắng index với giá Close\n",
    "df = pd.read_csv('BTC.csv')\n",
    "df1=df.reset_index()['Price']"
   ]
  },
  {
   "cell_type": "code",
   "execution_count": 3,
   "metadata": {
    "id": "RdVpDho2JgL5"
   },
   "outputs": [],
   "source": [
    "# 3. Scaler data\n",
    "scaler=MinMaxScaler(feature_range=(0,1))\n",
    "df1=scaler.fit_transform(np.array(df1).reshape(-1,1))"
   ]
  },
  {
   "cell_type": "code",
   "execution_count": 4,
   "metadata": {
    "id": "B5JXpenzJoR3"
   },
   "outputs": [],
   "source": [
    "# 4. Chia train test 5:3:2\n",
    "train_size = int(0.5 * len(df1))\n",
    "test_size = int(0.3 * len(df1))\n",
    "val_size = len(df1) - train_size - test_size\n",
    "\n",
    "train_data = df1[:train_size]\n",
    "test_data = df1[train_size:train_size+test_size]\n",
    "val_data = df1[train_size+test_size:]"
   ]
  },
  {
   "cell_type": "code",
   "execution_count": 5,
   "metadata": {
    "id": "yJfmuBORLSfC"
   },
   "outputs": [],
   "source": [
    "# 5. Hàm Create Dataset\n",
    "import numpy\n",
    "# convert an array of values into a dataset matrix\n",
    "def create_dataset(dataset, time_step=1):\n",
    "\tdataX, dataY = [], []\n",
    "\tfor i in range(len(dataset)-time_step-1):\n",
    "\t\ta = dataset[i:(i+time_step), 0]   ###i=0, X=0,1,2,3-----99   Y=100 \n",
    "\t\tdataX.append(a)\n",
    "\t\tdataY.append(dataset[i + time_step, 0])\n",
    "\treturn numpy.array(dataX), numpy.array(dataY)"
   ]
  },
  {
   "cell_type": "code",
   "execution_count": 6,
   "metadata": {
    "id": "e81cKq03LXFB"
   },
   "outputs": [],
   "source": [
    "#6. Reshape into X=t,t+1,t+2..t+99 and Y=t+100\n",
    "\n",
    "time_step = 100\n",
    "X_train, y_train = create_dataset(train_data, time_step)\n",
    "X_val, yval = create_dataset(val_data, time_step)\n",
    "X_test, ytest = create_dataset(test_data, time_step)"
   ]
  },
  {
   "cell_type": "code",
   "execution_count": 7,
   "metadata": {
    "id": "RdBVfku7O2qb"
   },
   "outputs": [],
   "source": [
    "# 7. Reshape input to be [samples, time steps, features] which is required for LSTM\n",
    "X_train =X_train.reshape(X_train.shape[0],X_train.shape[1] , 1)\n",
    "X_test = X_test.reshape(X_test.shape[0],X_test.shape[1] , 1)\n",
    "X_val = X_val.reshape(X_val.shape[0],X_val.shape[1] , 1)"
   ]
  },
  {
   "cell_type": "code",
   "execution_count": 8,
   "metadata": {
    "id": "sSfxrE7BO9vX"
   },
   "outputs": [],
   "source": [
    "# 8. Define GRU Model\n",
    "\n",
    "model = Sequential()\n",
    "model.add(GRU(64, input_shape=(time_step, 1)))\n",
    "model.add(Dense(1))\n",
    "model.compile(optimizer='adam', loss='mean_squared_error')"
   ]
  },
  {
   "cell_type": "code",
   "execution_count": 9,
   "metadata": {
    "colab": {
     "base_uri": "https://localhost:8080/"
    },
    "id": "zgfeujZSPEKr",
    "outputId": "5479b5c5-22d1-4e02-8803-d6637b0f9e03"
   },
   "outputs": [
    {
     "name": "stdout",
     "output_type": "stream",
     "text": [
      "Epoch 1/100\n",
      "13/13 [==============================] - 4s 112ms/step - loss: 0.0028 - val_loss: 0.1859\n",
      "Epoch 2/100\n",
      "13/13 [==============================] - 1s 61ms/step - loss: 0.0011 - val_loss: 0.1302\n",
      "Epoch 3/100\n",
      "13/13 [==============================] - 1s 64ms/step - loss: 5.5716e-04 - val_loss: 0.0562\n",
      "Epoch 4/100\n",
      "13/13 [==============================] - 1s 73ms/step - loss: 2.4251e-04 - val_loss: 0.0113\n",
      "Epoch 5/100\n",
      "13/13 [==============================] - 1s 69ms/step - loss: 8.1065e-05 - val_loss: 0.0018\n",
      "Epoch 6/100\n",
      "13/13 [==============================] - 1s 96ms/step - loss: 5.8912e-05 - val_loss: 0.0031\n",
      "Epoch 7/100\n",
      "13/13 [==============================] - 1s 113ms/step - loss: 5.5588e-05 - val_loss: 0.0020\n",
      "Epoch 8/100\n",
      "13/13 [==============================] - 1s 104ms/step - loss: 5.2687e-05 - val_loss: 0.0017\n",
      "Epoch 9/100\n",
      "13/13 [==============================] - 1s 105ms/step - loss: 5.2680e-05 - val_loss: 0.0017\n",
      "Epoch 10/100\n",
      "13/13 [==============================] - 1s 115ms/step - loss: 5.2634e-05 - val_loss: 0.0018\n",
      "Epoch 11/100\n",
      "13/13 [==============================] - 1s 106ms/step - loss: 5.1650e-05 - val_loss: 0.0017\n",
      "Epoch 12/100\n",
      "13/13 [==============================] - 1s 113ms/step - loss: 4.9629e-05 - val_loss: 0.0017\n",
      "Epoch 13/100\n",
      "13/13 [==============================] - 2s 120ms/step - loss: 4.9224e-05 - val_loss: 0.0017\n",
      "Epoch 14/100\n",
      "13/13 [==============================] - 1s 110ms/step - loss: 4.9341e-05 - val_loss: 0.0016\n",
      "Epoch 15/100\n",
      "13/13 [==============================] - 1s 114ms/step - loss: 4.8947e-05 - val_loss: 0.0016\n",
      "Epoch 16/100\n",
      "13/13 [==============================] - 2s 136ms/step - loss: 4.8090e-05 - val_loss: 0.0016\n",
      "Epoch 17/100\n",
      "13/13 [==============================] - 1s 104ms/step - loss: 4.7005e-05 - val_loss: 0.0016\n",
      "Epoch 18/100\n",
      "13/13 [==============================] - 1s 116ms/step - loss: 4.6088e-05 - val_loss: 0.0016\n",
      "Epoch 19/100\n",
      "13/13 [==============================] - 1s 106ms/step - loss: 4.5383e-05 - val_loss: 0.0016\n",
      "Epoch 20/100\n",
      "13/13 [==============================] - 1s 100ms/step - loss: 4.4893e-05 - val_loss: 0.0015\n",
      "Epoch 21/100\n",
      "13/13 [==============================] - 1s 91ms/step - loss: 4.3807e-05 - val_loss: 0.0015\n",
      "Epoch 22/100\n",
      "13/13 [==============================] - 1s 99ms/step - loss: 4.3826e-05 - val_loss: 0.0015\n",
      "Epoch 23/100\n",
      "13/13 [==============================] - 1s 100ms/step - loss: 4.3156e-05 - val_loss: 0.0015\n",
      "Epoch 24/100\n",
      "13/13 [==============================] - 1s 92ms/step - loss: 4.2440e-05 - val_loss: 0.0014\n",
      "Epoch 25/100\n",
      "13/13 [==============================] - 1s 103ms/step - loss: 4.2340e-05 - val_loss: 0.0014\n",
      "Epoch 26/100\n",
      "13/13 [==============================] - 1s 93ms/step - loss: 4.1760e-05 - val_loss: 0.0014\n",
      "Epoch 27/100\n",
      "13/13 [==============================] - 1s 100ms/step - loss: 4.0952e-05 - val_loss: 0.0014\n",
      "Epoch 28/100\n",
      "13/13 [==============================] - 1s 102ms/step - loss: 4.0793e-05 - val_loss: 0.0014\n",
      "Epoch 29/100\n",
      "13/13 [==============================] - 1s 102ms/step - loss: 4.1074e-05 - val_loss: 0.0013\n",
      "Epoch 30/100\n",
      "13/13 [==============================] - 1s 98ms/step - loss: 3.9779e-05 - val_loss: 0.0014\n",
      "Epoch 31/100\n",
      "13/13 [==============================] - 1s 97ms/step - loss: 3.9165e-05 - val_loss: 0.0013\n",
      "Epoch 32/100\n",
      "13/13 [==============================] - 1s 88ms/step - loss: 3.8624e-05 - val_loss: 0.0013\n",
      "Epoch 33/100\n",
      "13/13 [==============================] - 1s 93ms/step - loss: 3.8534e-05 - val_loss: 0.0013\n",
      "Epoch 34/100\n",
      "13/13 [==============================] - 1s 91ms/step - loss: 3.7925e-05 - val_loss: 0.0013\n",
      "Epoch 35/100\n",
      "13/13 [==============================] - 1s 98ms/step - loss: 3.7600e-05 - val_loss: 0.0013\n",
      "Epoch 36/100\n",
      "13/13 [==============================] - 1s 113ms/step - loss: 3.8330e-05 - val_loss: 0.0013\n",
      "Epoch 37/100\n",
      "13/13 [==============================] - 2s 132ms/step - loss: 3.7237e-05 - val_loss: 0.0013\n",
      "Epoch 38/100\n",
      "13/13 [==============================] - 2s 131ms/step - loss: 3.8714e-05 - val_loss: 0.0012\n",
      "Epoch 39/100\n",
      "13/13 [==============================] - 2s 128ms/step - loss: 3.6841e-05 - val_loss: 0.0012\n",
      "Epoch 40/100\n",
      "13/13 [==============================] - 1s 101ms/step - loss: 3.6413e-05 - val_loss: 0.0012\n",
      "Epoch 41/100\n",
      "13/13 [==============================] - 1s 93ms/step - loss: 3.6656e-05 - val_loss: 0.0012\n",
      "Epoch 42/100\n",
      "13/13 [==============================] - 1s 96ms/step - loss: 3.5422e-05 - val_loss: 0.0011\n",
      "Epoch 43/100\n",
      "13/13 [==============================] - 1s 108ms/step - loss: 3.5507e-05 - val_loss: 0.0012\n",
      "Epoch 44/100\n",
      "13/13 [==============================] - 1s 113ms/step - loss: 3.6862e-05 - val_loss: 0.0011\n",
      "Epoch 45/100\n",
      "13/13 [==============================] - 2s 119ms/step - loss: 3.6553e-05 - val_loss: 0.0011\n",
      "Epoch 46/100\n",
      "13/13 [==============================] - 1s 109ms/step - loss: 3.7146e-05 - val_loss: 0.0012\n",
      "Epoch 47/100\n",
      "13/13 [==============================] - 1s 115ms/step - loss: 3.4110e-05 - val_loss: 0.0011\n",
      "Epoch 48/100\n",
      "13/13 [==============================] - 1s 107ms/step - loss: 3.4289e-05 - val_loss: 0.0011\n",
      "Epoch 49/100\n",
      "13/13 [==============================] - 1s 110ms/step - loss: 3.3892e-05 - val_loss: 0.0012\n",
      "Epoch 50/100\n",
      "13/13 [==============================] - 1s 100ms/step - loss: 3.5301e-05 - val_loss: 0.0010\n",
      "Epoch 51/100\n",
      "13/13 [==============================] - 1s 102ms/step - loss: 3.3467e-05 - val_loss: 0.0010\n",
      "Epoch 52/100\n",
      "13/13 [==============================] - 1s 95ms/step - loss: 3.3978e-05 - val_loss: 0.0012\n",
      "Epoch 53/100\n",
      "13/13 [==============================] - 1s 93ms/step - loss: 3.5351e-05 - val_loss: 0.0010\n",
      "Epoch 54/100\n",
      "13/13 [==============================] - 1s 92ms/step - loss: 3.2163e-05 - val_loss: 0.0010\n",
      "Epoch 55/100\n",
      "13/13 [==============================] - 1s 95ms/step - loss: 3.2790e-05 - val_loss: 0.0011\n",
      "Epoch 56/100\n",
      "13/13 [==============================] - 1s 105ms/step - loss: 3.4336e-05 - val_loss: 0.0010\n",
      "Epoch 57/100\n",
      "13/13 [==============================] - 1s 107ms/step - loss: 3.1802e-05 - val_loss: 0.0010\n",
      "Epoch 58/100\n",
      "13/13 [==============================] - 2s 120ms/step - loss: 3.1779e-05 - val_loss: 9.8712e-04\n",
      "Epoch 59/100\n",
      "13/13 [==============================] - 1s 100ms/step - loss: 3.1877e-05 - val_loss: 9.9511e-04\n",
      "Epoch 60/100\n",
      "13/13 [==============================] - 1s 111ms/step - loss: 3.0930e-05 - val_loss: 9.9814e-04\n",
      "Epoch 61/100\n",
      "13/13 [==============================] - 2s 129ms/step - loss: 3.1227e-05 - val_loss: 9.8442e-04\n",
      "Epoch 62/100\n",
      "13/13 [==============================] - 2s 118ms/step - loss: 3.2051e-05 - val_loss: 9.9959e-04\n",
      "Epoch 63/100\n",
      "13/13 [==============================] - 2s 126ms/step - loss: 3.2784e-05 - val_loss: 9.4665e-04\n",
      "Epoch 64/100\n",
      "13/13 [==============================] - 1s 91ms/step - loss: 3.2495e-05 - val_loss: 9.5946e-04\n",
      "Epoch 65/100\n",
      "13/13 [==============================] - 1s 97ms/step - loss: 3.0674e-05 - val_loss: 9.4357e-04\n",
      "Epoch 66/100\n",
      "13/13 [==============================] - 1s 90ms/step - loss: 3.0671e-05 - val_loss: 9.4598e-04\n",
      "Epoch 67/100\n",
      "13/13 [==============================] - 1s 95ms/step - loss: 3.0637e-05 - val_loss: 9.2233e-04\n",
      "Epoch 68/100\n",
      "13/13 [==============================] - 1s 92ms/step - loss: 3.1208e-05 - val_loss: 9.5574e-04\n",
      "Epoch 69/100\n",
      "13/13 [==============================] - 1s 101ms/step - loss: 2.9689e-05 - val_loss: 9.4076e-04\n",
      "Epoch 70/100\n",
      "13/13 [==============================] - 1s 102ms/step - loss: 3.0046e-05 - val_loss: 9.1708e-04\n",
      "Epoch 71/100\n",
      "13/13 [==============================] - 1s 94ms/step - loss: 3.0992e-05 - val_loss: 9.1831e-04\n",
      "Epoch 72/100\n",
      "13/13 [==============================] - 1s 94ms/step - loss: 3.1257e-05 - val_loss: 9.3811e-04\n",
      "Epoch 73/100\n",
      "13/13 [==============================] - 1s 95ms/step - loss: 3.2508e-05 - val_loss: 8.9610e-04\n",
      "Epoch 74/100\n",
      "13/13 [==============================] - 1s 95ms/step - loss: 3.0020e-05 - val_loss: 9.4163e-04\n",
      "Epoch 75/100\n",
      "13/13 [==============================] - 1s 98ms/step - loss: 2.9709e-05 - val_loss: 8.9324e-04\n",
      "Epoch 76/100\n",
      "13/13 [==============================] - 1s 96ms/step - loss: 2.9405e-05 - val_loss: 8.8459e-04\n",
      "Epoch 77/100\n",
      "13/13 [==============================] - 1s 94ms/step - loss: 2.8525e-05 - val_loss: 8.8101e-04\n",
      "Epoch 78/100\n",
      "13/13 [==============================] - 1s 94ms/step - loss: 2.8729e-05 - val_loss: 9.3429e-04\n",
      "Epoch 79/100\n",
      "13/13 [==============================] - 1s 93ms/step - loss: 3.0531e-05 - val_loss: 8.7422e-04\n",
      "Epoch 80/100\n",
      "13/13 [==============================] - 1s 94ms/step - loss: 2.8159e-05 - val_loss: 8.7955e-04\n",
      "Epoch 81/100\n",
      "13/13 [==============================] - 1s 89ms/step - loss: 2.8472e-05 - val_loss: 9.1124e-04\n",
      "Epoch 82/100\n",
      "13/13 [==============================] - 1s 94ms/step - loss: 2.8251e-05 - val_loss: 8.6493e-04\n",
      "Epoch 83/100\n",
      "13/13 [==============================] - 1s 90ms/step - loss: 2.8073e-05 - val_loss: 8.5990e-04\n",
      "Epoch 84/100\n",
      "13/13 [==============================] - 1s 93ms/step - loss: 2.8092e-05 - val_loss: 8.6983e-04\n",
      "Epoch 85/100\n",
      "13/13 [==============================] - 1s 106ms/step - loss: 2.8416e-05 - val_loss: 8.6441e-04\n",
      "Epoch 86/100\n",
      "13/13 [==============================] - 1s 94ms/step - loss: 2.7749e-05 - val_loss: 8.5821e-04\n",
      "Epoch 87/100\n",
      "13/13 [==============================] - 1s 104ms/step - loss: 2.7583e-05 - val_loss: 8.6252e-04\n",
      "Epoch 88/100\n",
      "13/13 [==============================] - 1s 107ms/step - loss: 2.7404e-05 - val_loss: 8.5909e-04\n",
      "Epoch 89/100\n",
      "13/13 [==============================] - 1s 108ms/step - loss: 2.8148e-05 - val_loss: 8.4394e-04\n",
      "Epoch 90/100\n",
      "13/13 [==============================] - 1s 108ms/step - loss: 2.9064e-05 - val_loss: 8.5705e-04\n",
      "Epoch 91/100\n",
      "13/13 [==============================] - 1s 93ms/step - loss: 2.7099e-05 - val_loss: 8.3972e-04\n",
      "Epoch 92/100\n",
      "13/13 [==============================] - 1s 102ms/step - loss: 2.7191e-05 - val_loss: 8.3995e-04\n",
      "Epoch 93/100\n",
      "13/13 [==============================] - 1s 94ms/step - loss: 2.6901e-05 - val_loss: 8.4173e-04\n",
      "Epoch 94/100\n",
      "13/13 [==============================] - 1s 92ms/step - loss: 2.7539e-05 - val_loss: 8.3190e-04\n",
      "Epoch 95/100\n",
      "13/13 [==============================] - 1s 97ms/step - loss: 2.8934e-05 - val_loss: 8.4802e-04\n",
      "Epoch 96/100\n",
      "13/13 [==============================] - 1s 96ms/step - loss: 2.8528e-05 - val_loss: 8.2717e-04\n",
      "Epoch 97/100\n",
      "13/13 [==============================] - 1s 91ms/step - loss: 2.6904e-05 - val_loss: 8.2447e-04\n",
      "Epoch 98/100\n",
      "13/13 [==============================] - 1s 93ms/step - loss: 2.7317e-05 - val_loss: 8.2226e-04\n",
      "Epoch 99/100\n",
      "13/13 [==============================] - 1s 92ms/step - loss: 2.7585e-05 - val_loss: 8.2289e-04\n",
      "Epoch 100/100\n",
      "13/13 [==============================] - 1s 95ms/step - loss: 2.6602e-05 - val_loss: 8.1883e-04\n"
     ]
    },
    {
     "data": {
      "text/plain": [
       "<keras.callbacks.History at 0x1fec4bdfd90>"
      ]
     },
     "execution_count": 9,
     "metadata": {},
     "output_type": "execute_result"
    }
   ],
   "source": [
    "# Fit mô hình với dữ liệu train\n",
    "model.fit(X_train,y_train,validation_data=(X_test,ytest),epochs=100,batch_size=64,verbose=1)"
   ]
  },
  {
   "cell_type": "code",
   "execution_count": 10,
   "metadata": {
    "colab": {
     "base_uri": "https://localhost:8080/"
    },
    "id": "Rxx_KQSkQpBG",
    "outputId": "cf0fb697-d4e6-4c79-9af8-47462ffe5053"
   },
   "outputs": [
    {
     "name": "stdout",
     "output_type": "stream",
     "text": [
      "26/26 [==============================] - 2s 18ms/step\n",
      "14/14 [==============================] - 0s 20ms/step\n",
      "9/9 [==============================] - 0s 22ms/step\n"
     ]
    }
   ],
   "source": [
    "# Dự báo dữ liệu test, val\n",
    "train_predict=model.predict(X_train)\n",
    "y_pred=model.predict(X_test)\n",
    "y_pred_val=model.predict(X_val)"
   ]
  },
  {
   "cell_type": "code",
   "execution_count": 11,
   "metadata": {},
   "outputs": [
    {
     "name": "stdout",
     "output_type": "stream",
     "text": [
      "Validation RMSE: 0.09326251409075652\n",
      "Testing RMSE: 0.19805586082349236\n",
      "Validation MAPE: 26.336009322399068\n",
      "Testing MAPE: 24.854642429866285\n",
      "Validation MAE: 0.0743667255775119\n",
      "Testing MAE: 0.16005017602542043\n"
     ]
    }
   ],
   "source": [
    "# calculate the RMSE\n",
    "valid_rmse = np.sqrt(np.mean((y_pred_val - yval)**2))\n",
    "test_rmse = np.sqrt(np.mean((y_pred - ytest)**2))\n",
    "print('Validation RMSE:', valid_rmse)\n",
    "print('Testing RMSE:', test_rmse)\n",
    "\n",
    "# calculate the MAPE\n",
    "valid_mape = np.mean(np.abs((yval - y_pred_val) / yval)) * 100\n",
    "test_mape = np.mean(np.abs((ytest - y_pred) / ytest)) * 100\n",
    "print(\"Validation MAPE:\", valid_mape)\n",
    "print(\"Testing MAPE:\", test_mape)\n",
    "\n",
    "# calculate the MAE\n",
    "valid_mae = np.mean(np.abs(y_pred_val - yval))\n",
    "test_mae = np.mean(np.abs(y_pred - ytest))\n",
    "print(\"Validation MAE:\", valid_mae)\n",
    "print(\"Testing MAE:\", test_mae)"
   ]
  },
  {
   "cell_type": "code",
   "execution_count": 12,
   "metadata": {
    "id": "5rwTN10LQ7rj"
   },
   "outputs": [],
   "source": [
    "# Chuẩn hóa dữ liệu y_pred, y_pred_val\n",
    "train_predict=scaler.inverse_transform(train_predict)\n",
    "y_pred=scaler.inverse_transform(y_pred)\n",
    "y_pred_val=scaler.inverse_transform(y_pred_val)"
   ]
  },
  {
   "cell_type": "code",
   "execution_count": 13,
   "metadata": {
    "colab": {
     "base_uri": "https://localhost:8080/",
     "height": 430
    },
    "id": "KSa_mX51a654",
    "outputId": "a17abc33-966c-4a6a-c645-f142e7e9ffb3"
   },
   "outputs": [
    {
     "data": {
      "image/png": "[encoded data removed]",
      "text/plain": [
       "<Figure size 432x288 with 1 Axes>"
      ]
     },
     "metadata": {
      "needs_background": "light"
     },
     "output_type": "display_data"
    }
   ],
   "source": [
    "# 14.Vẽ hình\n",
    "\n",
    "train_data_index = pd.RangeIndex(start=0, stop=train_size, step=1)\n",
    "plt.plot(scaler.inverse_transform(train_data))\n",
    "test_data_index = pd.RangeIndex(start=train_size, stop=train_size+test_size, step=1)\n",
    "plt.plot(test_data_index,scaler.inverse_transform(test_data))\n",
    "test_data_index = pd.RangeIndex(start=train_size+101, stop=train_size+test_size, step=1)\n",
    "plt.plot(test_data_index,(y_pred))\n",
    "val_data_index = pd.RangeIndex(start=train_size+test_size, stop=train_size+test_size+val_size, step=1)\n",
    "plt.plot(val_data_index,scaler.inverse_transform(val_data))\n",
    "val_data_index = pd.RangeIndex(start=train_size+test_size+101, stop=train_size+test_size+val_size, step=1)\n",
    "plt.plot(val_data_index,y_pred_val)\n",
    "plt.legend(['Train','Test','Predict','Validate','ValidatePred'])\n",
    "plt.show()"
   ]
  },
  {
   "cell_type": "code",
   "execution_count": null,
   "metadata": {},
   "outputs": [],
   "source": []
  }
 ],
 "metadata": {
  "colab": {
   "provenance": []
  },
  "kernelspec": {
   "display_name": "Python 3 (ipykernel)",
   "language": "python",
   "name": "python3"
  },
  "language_info": {
   "codemirror_mode": {
    "name": "ipython",
    "version": 3
   },
   "file_extension": ".py",
   "mimetype": "text/x-python",
   "name": "python",
   "nbconvert_exporter": "python",
   "pygments_lexer": "ipython3",
   "version": "3.9.12"
  }
 },
 "nbformat": 4,
 "nbformat_minor": 1
}

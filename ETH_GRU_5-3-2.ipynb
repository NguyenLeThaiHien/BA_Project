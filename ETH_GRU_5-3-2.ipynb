{
  "cells": [
    {
      "cell_type": "code",
      "execution_count": null,
      "metadata": {
        "id": "FMDKda-XIUAK"
      },
      "outputs": [],
      "source": [
        "# 1. Import thư viện cần thiết\n",
        "import numpy as np\n",
        "import pandas as pd\n",
        "import matplotlib.pyplot as plt\n",
        "from sklearn.preprocessing import MinMaxScaler\n",
        "from keras.models import Sequential\n",
        "from keras.layers import Dense, GRU"
      ]
    },
    {
      "cell_type": "code",
      "execution_count": null,
      "metadata": {
        "id": "aRm9GQ8KJJ5N"
      },
      "outputs": [],
      "source": [
        "# 2. Đọc file csv và gắng index với giá Close\n",
        "df = pd.read_csv('/content/ETH.csv')\n",
        "df1=df.reset_index()['Price']"
      ]
    },
    {
      "cell_type": "code",
      "execution_count": null,
      "metadata": {
        "id": "RdVpDho2JgL5"
      },
      "outputs": [],
      "source": [
        "# 3. Scaler data\n",
        "scaler=MinMaxScaler(feature_range=(0,1))\n",
        "df1=scaler.fit_transform(np.array(df1).reshape(-1,1))"
      ]
    },
    {
      "cell_type": "code",
      "execution_count": null,
      "metadata": {
        "id": "B5JXpenzJoR3"
      },
      "outputs": [],
      "source": [
        "# 4. Chia train test 5:3:2\n",
        "train_size = int(0.6 * len(df1))\n",
        "test_size = int(0.3 * len(df1))\n",
        "val_size = len(df1) - train_size - test_size\n",
        "\n",
        "train_data = df1[:train_size]\n",
        "test_data = df1[train_size:train_size+test_size]\n",
        "val_data = df1[train_size+test_size:]"
      ]
    },
    {
      "cell_type": "code",
      "execution_count": null,
      "metadata": {
        "id": "yJfmuBORLSfC"
      },
      "outputs": [],
      "source": [
        "# 5. Hàm Create Dataset\n",
        "import numpy\n",
        "# convert an array of values into a dataset matrix\n",
        "def create_dataset(dataset, time_step=1):\n",
        "\tdataX, dataY = [], []\n",
        "\tfor i in range(len(dataset)-time_step-1):\n",
        "\t\ta = dataset[i:(i+time_step), 0]   ###i=0, X=0,1,2,3-----99   Y=100\n",
        "\t\tdataX.append(a)\n",
        "\t\tdataY.append(dataset[i + time_step, 0])\n",
        "\treturn numpy.array(dataX), numpy.array(dataY)"
      ]
    },
    {
      "cell_type": "code",
      "execution_count": null,
      "metadata": {
        "id": "e81cKq03LXFB"
      },
      "outputs": [],
      "source": [
        "#6. Reshape into X=t,t+1,t+2..t+99 and Y=t+100\n",
        "\n",
        "time_step = 100\n",
        "X_train, y_train = create_dataset(train_data, time_step)\n",
        "X_val, yval = create_dataset(val_data, time_step)\n",
        "X_test, ytest = create_dataset(test_data, time_step)"
      ]
    },
    {
      "cell_type": "code",
      "execution_count": null,
      "metadata": {
        "id": "RdBVfku7O2qb"
      },
      "outputs": [],
      "source": [
        "# 7. Reshape input to be [samples, time steps, features] which is required for LSTM\n",
        "X_train =X_train.reshape(X_train.shape[0],X_train.shape[1] , 1)\n",
        "X_test = X_test.reshape(X_test.shape[0],X_test.shape[1] , 1)\n",
        "X_val = X_val.reshape(X_val.shape[0],X_val.shape[1] , 1)"
      ]
    },
    {
      "cell_type": "code",
      "execution_count": null,
      "metadata": {
        "id": "sSfxrE7BO9vX"
      },
      "outputs": [],
      "source": [
        "# 8. Define GRU Model\n",
        "\n",
        "model = Sequential()\n",
        "model.add(GRU(64, input_shape=(time_step, 1)))\n",
        "model.add(Dense(1))\n",
        "model.compile(optimizer='adam', loss='mean_squared_error')"
      ]
    },
    {
      "cell_type": "code",
      "execution_count": null,
      "metadata": {
        "colab": {
          "base_uri": "https://localhost:8080/"
        },
        "id": "zgfeujZSPEKr",
        "outputId": "e0befcba-e5f8-4d1f-dbb6-e4922134fbea"
      },
      "outputs": [
        {
          "output_type": "stream",
          "name": "stdout",
          "text": [
            "Epoch 1/100\n",
            "16/16 [==============================] - 5s 98ms/step - loss: 0.0065 - val_loss: 0.0043\n",
            "Epoch 2/100\n",
            "16/16 [==============================] - 1s 66ms/step - loss: 7.2858e-04 - val_loss: 0.0034\n",
            "Epoch 3/100\n",
            "16/16 [==============================] - 1s 65ms/step - loss: 2.9024e-04 - val_loss: 0.0013\n",
            "Epoch 4/100\n",
            "16/16 [==============================] - 1s 66ms/step - loss: 1.9543e-04 - val_loss: 0.0025\n",
            "Epoch 5/100\n",
            "16/16 [==============================] - 1s 68ms/step - loss: 1.5428e-04 - val_loss: 0.0014\n",
            "Epoch 6/100\n",
            "16/16 [==============================] - 1s 69ms/step - loss: 1.6481e-04 - val_loss: 0.0023\n",
            "Epoch 7/100\n",
            "16/16 [==============================] - 1s 67ms/step - loss: 1.6024e-04 - val_loss: 0.0013\n",
            "Epoch 8/100\n",
            "16/16 [==============================] - 1s 67ms/step - loss: 1.5188e-04 - val_loss: 0.0017\n",
            "Epoch 9/100\n",
            "16/16 [==============================] - 1s 90ms/step - loss: 1.5061e-04 - val_loss: 0.0013\n",
            "Epoch 10/100\n",
            "16/16 [==============================] - 2s 108ms/step - loss: 1.4705e-04 - val_loss: 0.0014\n",
            "Epoch 11/100\n",
            "16/16 [==============================] - 1s 68ms/step - loss: 1.4497e-04 - val_loss: 0.0013\n",
            "Epoch 12/100\n",
            "16/16 [==============================] - 1s 68ms/step - loss: 1.4837e-04 - val_loss: 0.0012\n",
            "Epoch 13/100\n",
            "16/16 [==============================] - 1s 64ms/step - loss: 1.5587e-04 - val_loss: 0.0015\n",
            "Epoch 14/100\n",
            "16/16 [==============================] - 1s 68ms/step - loss: 1.3948e-04 - val_loss: 0.0014\n",
            "Epoch 15/100\n",
            "16/16 [==============================] - 1s 66ms/step - loss: 1.4372e-04 - val_loss: 0.0013\n",
            "Epoch 16/100\n",
            "16/16 [==============================] - 1s 66ms/step - loss: 1.5140e-04 - val_loss: 0.0020\n",
            "Epoch 17/100\n",
            "16/16 [==============================] - 1s 69ms/step - loss: 1.5039e-04 - val_loss: 9.9421e-04\n",
            "Epoch 18/100\n",
            "16/16 [==============================] - 1s 65ms/step - loss: 1.4896e-04 - val_loss: 0.0014\n",
            "Epoch 19/100\n",
            "16/16 [==============================] - 1s 67ms/step - loss: 1.4351e-04 - val_loss: 0.0010\n",
            "Epoch 20/100\n",
            "16/16 [==============================] - 1s 89ms/step - loss: 1.7092e-04 - val_loss: 0.0018\n",
            "Epoch 21/100\n",
            "16/16 [==============================] - 2s 120ms/step - loss: 1.5027e-04 - val_loss: 9.6184e-04\n",
            "Epoch 22/100\n",
            "16/16 [==============================] - 1s 71ms/step - loss: 1.2948e-04 - val_loss: 0.0014\n",
            "Epoch 23/100\n",
            "16/16 [==============================] - 1s 68ms/step - loss: 1.2688e-04 - val_loss: 0.0010\n",
            "Epoch 24/100\n",
            "16/16 [==============================] - 1s 69ms/step - loss: 1.3350e-04 - val_loss: 0.0012\n",
            "Epoch 25/100\n",
            "16/16 [==============================] - 1s 67ms/step - loss: 1.2307e-04 - val_loss: 0.0013\n",
            "Epoch 26/100\n",
            "16/16 [==============================] - 1s 66ms/step - loss: 1.3850e-04 - val_loss: 9.6461e-04\n",
            "Epoch 27/100\n",
            "16/16 [==============================] - 1s 67ms/step - loss: 1.2812e-04 - val_loss: 0.0015\n",
            "Epoch 28/100\n",
            "16/16 [==============================] - 1s 66ms/step - loss: 1.3179e-04 - val_loss: 9.6603e-04\n",
            "Epoch 29/100\n",
            "16/16 [==============================] - 1s 67ms/step - loss: 1.2571e-04 - val_loss: 0.0012\n",
            "Epoch 30/100\n",
            "16/16 [==============================] - 1s 70ms/step - loss: 1.3122e-04 - val_loss: 0.0011\n",
            "Epoch 31/100\n",
            "16/16 [==============================] - 2s 110ms/step - loss: 1.1881e-04 - val_loss: 8.7060e-04\n",
            "Epoch 32/100\n",
            "16/16 [==============================] - 2s 95ms/step - loss: 1.3070e-04 - val_loss: 0.0012\n",
            "Epoch 33/100\n",
            "16/16 [==============================] - 1s 67ms/step - loss: 1.3767e-04 - val_loss: 9.0850e-04\n",
            "Epoch 34/100\n",
            "16/16 [==============================] - 1s 66ms/step - loss: 1.2315e-04 - val_loss: 8.6087e-04\n",
            "Epoch 35/100\n",
            "16/16 [==============================] - 1s 65ms/step - loss: 1.2422e-04 - val_loss: 9.9772e-04\n",
            "Epoch 36/100\n",
            "16/16 [==============================] - 1s 68ms/step - loss: 1.1634e-04 - val_loss: 8.6531e-04\n",
            "Epoch 37/100\n",
            "16/16 [==============================] - 1s 68ms/step - loss: 1.2075e-04 - val_loss: 0.0011\n",
            "Epoch 38/100\n",
            "16/16 [==============================] - 1s 67ms/step - loss: 1.2538e-04 - val_loss: 8.1378e-04\n",
            "Epoch 39/100\n",
            "16/16 [==============================] - 1s 66ms/step - loss: 1.1967e-04 - val_loss: 9.4725e-04\n",
            "Epoch 40/100\n",
            "16/16 [==============================] - 1s 65ms/step - loss: 1.1296e-04 - val_loss: 8.7365e-04\n",
            "Epoch 41/100\n",
            "16/16 [==============================] - 1s 64ms/step - loss: 1.1151e-04 - val_loss: 8.7244e-04\n",
            "Epoch 42/100\n",
            "16/16 [==============================] - 2s 103ms/step - loss: 1.2092e-04 - val_loss: 9.4042e-04\n",
            "Epoch 43/100\n",
            "16/16 [==============================] - 2s 99ms/step - loss: 1.1781e-04 - val_loss: 8.8429e-04\n",
            "Epoch 44/100\n",
            "16/16 [==============================] - 1s 65ms/step - loss: 1.1126e-04 - val_loss: 7.9731e-04\n",
            "Epoch 45/100\n",
            "16/16 [==============================] - 1s 65ms/step - loss: 1.1311e-04 - val_loss: 0.0013\n",
            "Epoch 46/100\n",
            "16/16 [==============================] - 1s 66ms/step - loss: 1.2153e-04 - val_loss: 8.3236e-04\n",
            "Epoch 47/100\n",
            "16/16 [==============================] - 1s 67ms/step - loss: 1.0806e-04 - val_loss: 9.8658e-04\n",
            "Epoch 48/100\n",
            "16/16 [==============================] - 1s 64ms/step - loss: 1.1266e-04 - val_loss: 8.8645e-04\n",
            "Epoch 49/100\n",
            "16/16 [==============================] - 1s 67ms/step - loss: 1.1610e-04 - val_loss: 7.7048e-04\n",
            "Epoch 50/100\n",
            "16/16 [==============================] - 1s 66ms/step - loss: 1.1437e-04 - val_loss: 0.0011\n",
            "Epoch 51/100\n",
            "16/16 [==============================] - 1s 66ms/step - loss: 1.1706e-04 - val_loss: 7.8086e-04\n",
            "Epoch 52/100\n",
            "16/16 [==============================] - 1s 66ms/step - loss: 1.2165e-04 - val_loss: 7.5563e-04\n",
            "Epoch 53/100\n",
            "16/16 [==============================] - 1s 92ms/step - loss: 1.2628e-04 - val_loss: 0.0012\n",
            "Epoch 54/100\n",
            "16/16 [==============================] - 2s 118ms/step - loss: 1.2051e-04 - val_loss: 8.6492e-04\n",
            "Epoch 55/100\n",
            "16/16 [==============================] - 1s 65ms/step - loss: 1.0859e-04 - val_loss: 7.8383e-04\n",
            "Epoch 56/100\n",
            "16/16 [==============================] - 1s 66ms/step - loss: 1.0422e-04 - val_loss: 7.7702e-04\n",
            "Epoch 57/100\n",
            "16/16 [==============================] - 1s 65ms/step - loss: 1.0868e-04 - val_loss: 7.7726e-04\n",
            "Epoch 58/100\n",
            "16/16 [==============================] - 1s 65ms/step - loss: 1.1508e-04 - val_loss: 9.5544e-04\n",
            "Epoch 59/100\n",
            "16/16 [==============================] - 1s 66ms/step - loss: 1.0344e-04 - val_loss: 7.5442e-04\n",
            "Epoch 60/100\n",
            "16/16 [==============================] - 1s 66ms/step - loss: 1.1841e-04 - val_loss: 0.0012\n",
            "Epoch 61/100\n",
            "16/16 [==============================] - 1s 68ms/step - loss: 1.1142e-04 - val_loss: 7.4408e-04\n",
            "Epoch 62/100\n",
            "16/16 [==============================] - 1s 67ms/step - loss: 1.0396e-04 - val_loss: 8.1402e-04\n",
            "Epoch 63/100\n",
            "16/16 [==============================] - 1s 67ms/step - loss: 1.0603e-04 - val_loss: 8.0251e-04\n",
            "Epoch 64/100\n",
            "16/16 [==============================] - 2s 99ms/step - loss: 1.1356e-04 - val_loss: 8.3876e-04\n",
            "Epoch 65/100\n",
            "16/16 [==============================] - 2s 107ms/step - loss: 1.0612e-04 - val_loss: 8.1066e-04\n",
            "Epoch 66/100\n",
            "16/16 [==============================] - 1s 68ms/step - loss: 1.0537e-04 - val_loss: 8.1436e-04\n",
            "Epoch 67/100\n",
            "16/16 [==============================] - 1s 66ms/step - loss: 1.1524e-04 - val_loss: 7.8738e-04\n",
            "Epoch 68/100\n",
            "16/16 [==============================] - 1s 66ms/step - loss: 1.1757e-04 - val_loss: 7.4010e-04\n",
            "Epoch 69/100\n",
            "16/16 [==============================] - 1s 67ms/step - loss: 1.0456e-04 - val_loss: 7.2202e-04\n",
            "Epoch 70/100\n",
            "16/16 [==============================] - 1s 66ms/step - loss: 1.0555e-04 - val_loss: 8.4027e-04\n",
            "Epoch 71/100\n",
            "16/16 [==============================] - 1s 67ms/step - loss: 9.8847e-05 - val_loss: 7.2046e-04\n",
            "Epoch 72/100\n",
            "16/16 [==============================] - 1s 67ms/step - loss: 1.0146e-04 - val_loss: 8.7021e-04\n",
            "Epoch 73/100\n",
            "16/16 [==============================] - 1s 69ms/step - loss: 1.0850e-04 - val_loss: 7.3449e-04\n",
            "Epoch 74/100\n",
            "16/16 [==============================] - 1s 66ms/step - loss: 1.1161e-04 - val_loss: 7.1432e-04\n",
            "Epoch 75/100\n",
            "16/16 [==============================] - 2s 96ms/step - loss: 1.1324e-04 - val_loss: 7.4951e-04\n",
            "Epoch 76/100\n",
            "16/16 [==============================] - 2s 106ms/step - loss: 1.0789e-04 - val_loss: 7.1681e-04\n",
            "Epoch 77/100\n",
            "16/16 [==============================] - 1s 65ms/step - loss: 1.0426e-04 - val_loss: 7.1572e-04\n",
            "Epoch 78/100\n",
            "16/16 [==============================] - 1s 65ms/step - loss: 1.0130e-04 - val_loss: 8.2093e-04\n",
            "Epoch 79/100\n",
            "16/16 [==============================] - 1s 67ms/step - loss: 1.1197e-04 - val_loss: 7.1299e-04\n",
            "Epoch 80/100\n",
            "16/16 [==============================] - 1s 66ms/step - loss: 1.0371e-04 - val_loss: 8.7678e-04\n",
            "Epoch 81/100\n",
            "16/16 [==============================] - 1s 66ms/step - loss: 9.8515e-05 - val_loss: 7.0942e-04\n",
            "Epoch 82/100\n",
            "16/16 [==============================] - 1s 65ms/step - loss: 1.0056e-04 - val_loss: 8.4516e-04\n",
            "Epoch 83/100\n",
            "16/16 [==============================] - 1s 66ms/step - loss: 1.1214e-04 - val_loss: 7.1130e-04\n",
            "Epoch 84/100\n",
            "16/16 [==============================] - 1s 69ms/step - loss: 1.0017e-04 - val_loss: 8.0375e-04\n",
            "Epoch 85/100\n",
            "16/16 [==============================] - 1s 67ms/step - loss: 9.8643e-05 - val_loss: 7.5032e-04\n",
            "Epoch 86/100\n",
            "16/16 [==============================] - 2s 102ms/step - loss: 1.1258e-04 - val_loss: 7.7340e-04\n",
            "Epoch 87/100\n",
            "16/16 [==============================] - 2s 106ms/step - loss: 1.1590e-04 - val_loss: 7.9658e-04\n",
            "Epoch 88/100\n",
            "16/16 [==============================] - 1s 69ms/step - loss: 1.0506e-04 - val_loss: 6.9643e-04\n",
            "Epoch 89/100\n",
            "16/16 [==============================] - 1s 66ms/step - loss: 1.0949e-04 - val_loss: 7.7588e-04\n",
            "Epoch 90/100\n",
            "16/16 [==============================] - 1s 69ms/step - loss: 1.0710e-04 - val_loss: 7.4839e-04\n",
            "Epoch 91/100\n",
            "16/16 [==============================] - 1s 68ms/step - loss: 1.0168e-04 - val_loss: 6.9398e-04\n",
            "Epoch 92/100\n",
            "16/16 [==============================] - 1s 68ms/step - loss: 9.7694e-05 - val_loss: 6.9181e-04\n",
            "Epoch 93/100\n",
            "16/16 [==============================] - 1s 68ms/step - loss: 1.0666e-04 - val_loss: 8.3846e-04\n",
            "Epoch 94/100\n",
            "16/16 [==============================] - 1s 66ms/step - loss: 1.1132e-04 - val_loss: 7.6245e-04\n",
            "Epoch 95/100\n",
            "16/16 [==============================] - 1s 66ms/step - loss: 1.0065e-04 - val_loss: 6.9103e-04\n",
            "Epoch 96/100\n",
            "16/16 [==============================] - 1s 66ms/step - loss: 9.8068e-05 - val_loss: 7.8036e-04\n",
            "Epoch 97/100\n",
            "16/16 [==============================] - 2s 112ms/step - loss: 1.1264e-04 - val_loss: 8.6982e-04\n",
            "Epoch 98/100\n",
            "16/16 [==============================] - 1s 94ms/step - loss: 1.0030e-04 - val_loss: 7.1934e-04\n",
            "Epoch 99/100\n",
            "16/16 [==============================] - 1s 67ms/step - loss: 1.2488e-04 - val_loss: 7.5676e-04\n",
            "Epoch 100/100\n",
            "16/16 [==============================] - 1s 68ms/step - loss: 1.1240e-04 - val_loss: 0.0013\n"
          ]
        },
        {
          "output_type": "execute_result",
          "data": {
            "text/plain": [
              "<keras.callbacks.History at 0x7f658fb4c730>"
            ]
          },
          "metadata": {},
          "execution_count": 40
        }
      ],
      "source": [
        "# Fit mô hình với dữ liệu train\n",
        "model.fit(X_train,y_train,validation_data=(X_test,ytest),epochs=100,batch_size=64,verbose=1)"
      ]
    },
    {
      "cell_type": "code",
      "execution_count": null,
      "metadata": {
        "colab": {
          "base_uri": "https://localhost:8080/"
        },
        "id": "Rxx_KQSkQpBG",
        "outputId": "5add23a1-340e-4bac-f3f8-90e3b8e7290f"
      },
      "outputs": [
        {
          "output_type": "stream",
          "name": "stdout",
          "text": [
            "32/32 [==============================] - 1s 12ms/step\n",
            "14/14 [==============================] - 0s 12ms/step\n",
            "3/3 [==============================] - 0s 11ms/step\n"
          ]
        }
      ],
      "source": [
        "# Dự báo dữ liệu test, val\n",
        "train_predict=model.predict(X_train)\n",
        "y_pred=model.predict(X_test)\n",
        "y_pred_val=model.predict(X_val)"
      ]
    },
    {
      "cell_type": "code",
      "execution_count": null,
      "metadata": {
        "id": "5rwTN10LQ7rj"
      },
      "outputs": [],
      "source": [
        "# 11. Chuẩn hóa dữ liệu y_pred, y_pred_val\n",
        "train_predict=scaler.inverse_transform(train_predict)\n",
        "y_pred=scaler.inverse_transform(y_pred)\n",
        "y_pred_val=scaler.inverse_transform(y_pred_val)"
      ]
    },
    {
      "cell_type": "code",
      "source": [],
      "metadata": {
        "id": "InM2U4y2DNVY"
      },
      "execution_count": null,
      "outputs": []
    },
    {
      "cell_type": "code",
      "execution_count": null,
      "metadata": {
        "colab": {
          "base_uri": "https://localhost:8080/",
          "height": 430
        },
        "id": "KSa_mX51a654",
        "outputId": "83ef59b5-18e7-4a1a-98be-e7e1d37e9422"
      },
      "outputs": [
        {
          "output_type": "display_data",
          "data": {
            "text/plain": [
              "<Figure size 640x480 with 1 Axes>"
            ],
            "image/png": "[encoded data removed]"
          },
          "metadata": {}
        }
      ],
      "source": [
        "# 14.Vẽ hình\n",
        "\n",
        "train_data_index = pd.RangeIndex(start=0, stop=train_size, step=1)\n",
        "plt.plot(scaler.inverse_transform(train_data))\n",
        "test_data_index = pd.RangeIndex(start=train_size, stop=train_size+test_size, step=1)\n",
        "plt.plot(test_data_index,scaler.inverse_transform(test_data))\n",
        "test_data_index = pd.RangeIndex(start=train_size+101, stop=train_size+test_size, step=1)\n",
        "plt.plot(test_data_index,(y_pred))\n",
        "val_data_index = pd.RangeIndex(start=train_size+test_size, stop=train_size+test_size+val_size, step=1)\n",
        "plt.plot(val_data_index,scaler.inverse_transform(val_data))\n",
        "val_data_index = pd.RangeIndex(start=train_size+test_size+101, stop=train_size+test_size+val_size, step=1)\n",
        "plt.plot(val_data_index,y_pred_val)\n",
        "\n",
        "plt.legend(['Train','Test','Predict','Validate','ValidatePred'])\n",
        "plt.show()"
      ]
    },
    {
      "cell_type": "code",
      "source": [
        "# Respliting train test\n",
        "train_size1 = int(0.5 * len(df))\n",
        "test_size1 = int(0.3 * len(df))\n",
        "train_data1 = df[:train_size1]\n",
        "test_data1 = df[train_size1:train_size1+test_size1]\n",
        "val_data1 = df[train_size1+test_size1:]\n",
        "# Repredictions on the testing set\n",
        "x_test1 = np.array(test_data1.drop('Price', axis=1))  # Use the features (excluding the target variable)\n",
        "y_test1 = np.array(test_data1['Price'])\n",
        "\n",
        "# Repredictions on the validation set\n",
        "x_val1 = np.array(val_data1.drop('Price', axis=1))  # Use the features (excluding the target variable)\n",
        "y_val1 = np.array(val_data1['Price'])"
      ],
      "metadata": {
        "id": "ppabpKY7NDD3"
      },
      "execution_count": 46,
      "outputs": []
    },
    {
      "cell_type": "code",
      "execution_count": 47,
      "metadata": {
        "id": "kfYYR-fkwPot",
        "colab": {
          "base_uri": "https://localhost:8080/"
        },
        "outputId": "d56367e5-cd05-4505-c936-3a04b8afcedc"
      },
      "outputs": [
        {
          "output_type": "stream",
          "name": "stdout",
          "text": [
            "Validation RMSE: 458.266160696125\n",
            "Testing RMSE: 1523.0647331160897\n",
            "Validation MAPE: 28.163667065965836\n",
            "Testing MAPE: 73.58444633066587\n",
            "Validation MAE: 379.869903139981\n",
            "Testing MAE: 1243.7567715962252\n"
          ]
        }
      ],
      "source": [
        "# Calculate evalution\n",
        "#RMSE\n",
        "valid_rmse = np.sqrt(np.mean((y_pred_val - y_val1)**2))\n",
        "test_rmse = np.sqrt(np.mean((y_pred - y_test1)**2))\n",
        "print('Validation RMSE:', valid_rmse)\n",
        "print('Testing RMSE:', test_rmse)\n",
        "\n",
        "#MAPE\n",
        "valid_mape = np.mean(np.abs((y_val1 - y_pred_val) / y_val1)) * 100\n",
        "test_mape = np.mean(np.abs((y_test1 - y_pred) / y_test1)) * 100\n",
        "print('Validation MAPE:', valid_mape)\n",
        "print('Testing MAPE:', test_mape)\n",
        "\n",
        "#MAE\n",
        "valid_mae = np.mean(np.abs(y_pred_val - y_val1))\n",
        "test_mae = np.mean(np.abs(y_pred - y_test1))\n",
        "print('Validation MAE:', valid_mae)\n",
        "print('Testing MAE:', test_mae)"
      ]
    }
  ],
  "metadata": {
    "colab": {
      "provenance": []
    },
    "kernelspec": {
      "display_name": "Python 3 (ipykernel)",
      "language": "python",
      "name": "python3"
    },
    "language_info": {
      "codemirror_mode": {
        "name": "ipython",
        "version": 3
      },
      "file_extension": ".py",
      "mimetype": "text/x-python",
      "name": "python",
      "nbconvert_exporter": "python",
      "pygments_lexer": "ipython3",
      "version": "3.9.12"
    }
  },
  "nbformat": 4,
  "nbformat_minor": 0
}
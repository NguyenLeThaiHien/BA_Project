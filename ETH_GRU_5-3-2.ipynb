{
  "cells": [
    {
      "cell_type": "code",
      "execution_count": 82,
      "metadata": {
        "id": "FMDKda-XIUAK"
      },
      "outputs": [],
      "source": [
        "# 1. Import thư viện cần thiết\n",
        "import numpy as np\n",
        "import pandas as pd\n",
        "import matplotlib.pyplot as plt\n",
        "from sklearn.preprocessing import MinMaxScaler\n",
        "from keras.models import Sequential\n",
        "from keras.layers import Dense, GRU"
      ]
    },
    {
      "cell_type": "code",
      "execution_count": 83,
      "metadata": {
        "id": "aRm9GQ8KJJ5N"
      },
      "outputs": [],
      "source": [
        "# 2. Đọc file csv và gắng index với giá Close\n",
        "df = pd.read_csv('/content/ETH.csv')\n",
        "df1=df.reset_index()['Price']"
      ]
    },
    {
      "cell_type": "code",
      "execution_count": 84,
      "metadata": {
        "id": "RdVpDho2JgL5"
      },
      "outputs": [],
      "source": [
        "# 3. Scaler data\n",
        "scaler=MinMaxScaler(feature_range=(0,1))\n",
        "df1=scaler.fit_transform(np.array(df1).reshape(-1,1))"
      ]
    },
    {
      "cell_type": "code",
      "execution_count": 85,
      "metadata": {
        "id": "B5JXpenzJoR3"
      },
      "outputs": [],
      "source": [
        "# 4. Chia train test 5:3:3\n",
        "train_size = int(0.5 * len(df1))\n",
        "test_size = int(0.3 * len(df1))\n",
        "val_size = len(df1) - train_size - test_size\n",
        "\n",
        "train_data = df1[:train_size]\n",
        "test_data = df1[train_size:train_size+test_size]\n",
        "val_data = df1[train_size+test_size:]"
      ]
    },
    {
      "cell_type": "code",
      "execution_count": 86,
      "metadata": {
        "id": "yJfmuBORLSfC"
      },
      "outputs": [],
      "source": [
        "# 5. Hàm Create Dataset\n",
        "import numpy\n",
        "# convert an array of values into a dataset matrix\n",
        "def create_dataset(dataset, time_step=1):\n",
        "\tdataX, dataY = [], []\n",
        "\tfor i in range(len(dataset)-time_step-1):\n",
        "\t\ta = dataset[i:(i+time_step), 0]   ###i=0, X=0,1,2,3-----99   Y=100\n",
        "\t\tdataX.append(a)\n",
        "\t\tdataY.append(dataset[i + time_step, 0])\n",
        "\treturn numpy.array(dataX), numpy.array(dataY)"
      ]
    },
    {
      "cell_type": "code",
      "execution_count": 87,
      "metadata": {
        "id": "e81cKq03LXFB"
      },
      "outputs": [],
      "source": [
        "#6. Reshape into X=t,t+1,t+2..t+99 and Y=t+100\n",
        "\n",
        "time_step = 100\n",
        "X_train, y_train = create_dataset(train_data, time_step)\n",
        "X_val, yval = create_dataset(val_data, time_step)\n",
        "X_test, ytest = create_dataset(test_data, time_step)"
      ]
    },
    {
      "cell_type": "code",
      "execution_count": 88,
      "metadata": {
        "id": "RdBVfku7O2qb"
      },
      "outputs": [],
      "source": [
        "# 7. Reshape input to be [samples, time steps, features] which is required for LSTM\n",
        "X_train =X_train.reshape(X_train.shape[0],X_train.shape[1] , 1)\n",
        "X_test = X_test.reshape(X_test.shape[0],X_test.shape[1] , 1)\n",
        "X_val = X_val.reshape(X_val.shape[0],X_val.shape[1] , 1)"
      ]
    },
    {
      "cell_type": "code",
      "execution_count": 89,
      "metadata": {
        "id": "sSfxrE7BO9vX"
      },
      "outputs": [],
      "source": [
        "# 8. Define GRU Model\n",
        "\n",
        "model = Sequential()\n",
        "model.add(GRU(64, input_shape=(time_step, 1)))\n",
        "model.add(Dense(1))\n",
        "model.compile(optimizer='adam', loss='mean_squared_error')"
      ]
    },
    {
      "cell_type": "code",
      "execution_count": 90,
      "metadata": {
        "colab": {
          "base_uri": "https://localhost:8080/"
        },
        "id": "zgfeujZSPEKr",
        "outputId": "a2a051a2-1570-4a2e-b4f3-7b2f7f790ac8"
      },
      "outputs": [
        {
          "output_type": "stream",
          "name": "stdout",
          "text": [
            "Epoch 1/100\n",
            "13/13 [==============================] - 4s 108ms/step - loss: 3.8601e-04 - val_loss: 0.1861\n",
            "Epoch 2/100\n",
            "13/13 [==============================] - 1s 69ms/step - loss: 1.5992e-04 - val_loss: 0.0939\n",
            "Epoch 3/100\n",
            "13/13 [==============================] - 1s 68ms/step - loss: 6.7417e-05 - val_loss: 0.0293\n",
            "Epoch 4/100\n",
            "13/13 [==============================] - 1s 69ms/step - loss: 2.5778e-05 - val_loss: 0.0031\n",
            "Epoch 5/100\n",
            "13/13 [==============================] - 1s 70ms/step - loss: 1.2183e-05 - val_loss: 0.0029\n",
            "Epoch 6/100\n",
            "13/13 [==============================] - 1s 113ms/step - loss: 1.2748e-05 - val_loss: 0.0020\n",
            "Epoch 7/100\n",
            "13/13 [==============================] - 1s 109ms/step - loss: 1.2117e-05 - val_loss: 0.0019\n",
            "Epoch 8/100\n",
            "13/13 [==============================] - 1s 68ms/step - loss: 1.0990e-05 - val_loss: 0.0019\n",
            "Epoch 9/100\n",
            "13/13 [==============================] - 1s 68ms/step - loss: 1.0623e-05 - val_loss: 0.0018\n",
            "Epoch 10/100\n",
            "13/13 [==============================] - 1s 68ms/step - loss: 1.0399e-05 - val_loss: 0.0018\n",
            "Epoch 11/100\n",
            "13/13 [==============================] - 1s 71ms/step - loss: 1.0300e-05 - val_loss: 0.0018\n",
            "Epoch 12/100\n",
            "13/13 [==============================] - 1s 69ms/step - loss: 1.0498e-05 - val_loss: 0.0017\n",
            "Epoch 13/100\n",
            "13/13 [==============================] - 1s 71ms/step - loss: 1.0420e-05 - val_loss: 0.0017\n",
            "Epoch 14/100\n",
            "13/13 [==============================] - 1s 68ms/step - loss: 1.0575e-05 - val_loss: 0.0017\n",
            "Epoch 15/100\n",
            "13/13 [==============================] - 1s 68ms/step - loss: 1.0058e-05 - val_loss: 0.0017\n",
            "Epoch 16/100\n",
            "13/13 [==============================] - 1s 68ms/step - loss: 9.4710e-06 - val_loss: 0.0017\n",
            "Epoch 17/100\n",
            "13/13 [==============================] - 1s 71ms/step - loss: 9.9020e-06 - val_loss: 0.0016\n",
            "Epoch 18/100\n",
            "13/13 [==============================] - 1s 68ms/step - loss: 9.5308e-06 - val_loss: 0.0016\n",
            "Epoch 19/100\n",
            "13/13 [==============================] - 2s 121ms/step - loss: 9.4339e-06 - val_loss: 0.0016\n",
            "Epoch 20/100\n",
            "13/13 [==============================] - 1s 106ms/step - loss: 9.0571e-06 - val_loss: 0.0016\n",
            "Epoch 21/100\n",
            "13/13 [==============================] - 1s 69ms/step - loss: 9.7353e-06 - val_loss: 0.0016\n",
            "Epoch 22/100\n",
            "13/13 [==============================] - 1s 69ms/step - loss: 9.4665e-06 - val_loss: 0.0015\n",
            "Epoch 23/100\n",
            "13/13 [==============================] - 1s 67ms/step - loss: 8.7685e-06 - val_loss: 0.0015\n",
            "Epoch 24/100\n",
            "13/13 [==============================] - 1s 67ms/step - loss: 8.6788e-06 - val_loss: 0.0015\n",
            "Epoch 25/100\n",
            "13/13 [==============================] - 1s 68ms/step - loss: 8.6002e-06 - val_loss: 0.0015\n",
            "Epoch 26/100\n",
            "13/13 [==============================] - 1s 68ms/step - loss: 8.7311e-06 - val_loss: 0.0015\n",
            "Epoch 27/100\n",
            "13/13 [==============================] - 1s 68ms/step - loss: 8.4425e-06 - val_loss: 0.0015\n",
            "Epoch 28/100\n",
            "13/13 [==============================] - 1s 68ms/step - loss: 8.5202e-06 - val_loss: 0.0015\n",
            "Epoch 29/100\n",
            "13/13 [==============================] - 1s 69ms/step - loss: 8.3169e-06 - val_loss: 0.0014\n",
            "Epoch 30/100\n",
            "13/13 [==============================] - 1s 67ms/step - loss: 8.1437e-06 - val_loss: 0.0014\n",
            "Epoch 31/100\n",
            "13/13 [==============================] - 1s 68ms/step - loss: 8.6216e-06 - val_loss: 0.0014\n",
            "Epoch 32/100\n",
            "13/13 [==============================] - 1s 118ms/step - loss: 8.4853e-06 - val_loss: 0.0014\n",
            "Epoch 33/100\n",
            "13/13 [==============================] - 1s 117ms/step - loss: 8.1900e-06 - val_loss: 0.0014\n",
            "Epoch 34/100\n",
            "13/13 [==============================] - 1s 69ms/step - loss: 8.3763e-06 - val_loss: 0.0014\n",
            "Epoch 35/100\n",
            "13/13 [==============================] - 1s 68ms/step - loss: 8.8051e-06 - val_loss: 0.0014\n",
            "Epoch 36/100\n",
            "13/13 [==============================] - 1s 68ms/step - loss: 8.6688e-06 - val_loss: 0.0013\n",
            "Epoch 37/100\n",
            "13/13 [==============================] - 1s 71ms/step - loss: 8.6500e-06 - val_loss: 0.0013\n",
            "Epoch 38/100\n",
            "13/13 [==============================] - 1s 69ms/step - loss: 7.5341e-06 - val_loss: 0.0013\n",
            "Epoch 39/100\n",
            "13/13 [==============================] - 1s 68ms/step - loss: 7.3934e-06 - val_loss: 0.0013\n",
            "Epoch 40/100\n",
            "13/13 [==============================] - 1s 68ms/step - loss: 7.4196e-06 - val_loss: 0.0013\n",
            "Epoch 41/100\n",
            "13/13 [==============================] - 1s 67ms/step - loss: 7.4263e-06 - val_loss: 0.0013\n",
            "Epoch 42/100\n",
            "13/13 [==============================] - 1s 69ms/step - loss: 8.0240e-06 - val_loss: 0.0013\n",
            "Epoch 43/100\n",
            "13/13 [==============================] - 1s 69ms/step - loss: 7.5938e-06 - val_loss: 0.0013\n",
            "Epoch 44/100\n",
            "13/13 [==============================] - 1s 73ms/step - loss: 8.0372e-06 - val_loss: 0.0013\n",
            "Epoch 45/100\n",
            "13/13 [==============================] - 1s 120ms/step - loss: 7.1511e-06 - val_loss: 0.0012\n",
            "Epoch 46/100\n",
            "13/13 [==============================] - 1s 110ms/step - loss: 7.2454e-06 - val_loss: 0.0012\n",
            "Epoch 47/100\n",
            "13/13 [==============================] - 1s 68ms/step - loss: 7.1685e-06 - val_loss: 0.0012\n",
            "Epoch 48/100\n",
            "13/13 [==============================] - 1s 69ms/step - loss: 7.2337e-06 - val_loss: 0.0012\n",
            "Epoch 49/100\n",
            "13/13 [==============================] - 1s 68ms/step - loss: 7.0452e-06 - val_loss: 0.0012\n",
            "Epoch 50/100\n",
            "13/13 [==============================] - 1s 68ms/step - loss: 7.8525e-06 - val_loss: 0.0012\n",
            "Epoch 51/100\n",
            "13/13 [==============================] - 1s 69ms/step - loss: 7.6353e-06 - val_loss: 0.0012\n",
            "Epoch 52/100\n",
            "13/13 [==============================] - 1s 71ms/step - loss: 7.5279e-06 - val_loss: 0.0012\n",
            "Epoch 53/100\n",
            "13/13 [==============================] - 1s 69ms/step - loss: 7.7112e-06 - val_loss: 0.0012\n",
            "Epoch 54/100\n",
            "13/13 [==============================] - 1s 70ms/step - loss: 6.8393e-06 - val_loss: 0.0012\n",
            "Epoch 55/100\n",
            "13/13 [==============================] - 1s 67ms/step - loss: 7.1699e-06 - val_loss: 0.0012\n",
            "Epoch 56/100\n",
            "13/13 [==============================] - 1s 69ms/step - loss: 6.6929e-06 - val_loss: 0.0012\n",
            "Epoch 57/100\n",
            "13/13 [==============================] - 1s 71ms/step - loss: 6.5401e-06 - val_loss: 0.0012\n",
            "Epoch 58/100\n",
            "13/13 [==============================] - 2s 123ms/step - loss: 6.5472e-06 - val_loss: 0.0012\n",
            "Epoch 59/100\n",
            "13/13 [==============================] - 1s 104ms/step - loss: 7.5151e-06 - val_loss: 0.0011\n",
            "Epoch 60/100\n",
            "13/13 [==============================] - 1s 70ms/step - loss: 7.0534e-06 - val_loss: 0.0011\n",
            "Epoch 61/100\n",
            "13/13 [==============================] - 1s 69ms/step - loss: 6.6488e-06 - val_loss: 0.0011\n",
            "Epoch 62/100\n",
            "13/13 [==============================] - 1s 69ms/step - loss: 7.0814e-06 - val_loss: 0.0011\n",
            "Epoch 63/100\n",
            "13/13 [==============================] - 1s 69ms/step - loss: 6.7536e-06 - val_loss: 0.0011\n",
            "Epoch 64/100\n",
            "13/13 [==============================] - 1s 70ms/step - loss: 6.4955e-06 - val_loss: 0.0011\n",
            "Epoch 65/100\n",
            "13/13 [==============================] - 1s 69ms/step - loss: 6.8020e-06 - val_loss: 0.0012\n",
            "Epoch 66/100\n",
            "13/13 [==============================] - 1s 74ms/step - loss: 7.8871e-06 - val_loss: 0.0011\n",
            "Epoch 67/100\n",
            "13/13 [==============================] - 1s 69ms/step - loss: 6.9070e-06 - val_loss: 0.0011\n",
            "Epoch 68/100\n",
            "13/13 [==============================] - 1s 70ms/step - loss: 6.1976e-06 - val_loss: 0.0011\n",
            "Epoch 69/100\n",
            "13/13 [==============================] - 1s 69ms/step - loss: 6.3008e-06 - val_loss: 0.0011\n",
            "Epoch 70/100\n",
            "13/13 [==============================] - 1s 85ms/step - loss: 7.2907e-06 - val_loss: 0.0011\n",
            "Epoch 71/100\n",
            "13/13 [==============================] - 1s 111ms/step - loss: 6.7075e-06 - val_loss: 0.0011\n",
            "Epoch 72/100\n",
            "13/13 [==============================] - 1s 99ms/step - loss: 6.1461e-06 - val_loss: 0.0011\n",
            "Epoch 73/100\n",
            "13/13 [==============================] - 1s 67ms/step - loss: 6.3294e-06 - val_loss: 0.0011\n",
            "Epoch 74/100\n",
            "13/13 [==============================] - 1s 70ms/step - loss: 6.0593e-06 - val_loss: 0.0011\n",
            "Epoch 75/100\n",
            "13/13 [==============================] - 1s 114ms/step - loss: 6.0163e-06 - val_loss: 0.0011\n",
            "Epoch 76/100\n",
            "13/13 [==============================] - 1s 112ms/step - loss: 6.4912e-06 - val_loss: 0.0011\n",
            "Epoch 77/100\n",
            "13/13 [==============================] - 1s 71ms/step - loss: 6.4870e-06 - val_loss: 0.0011\n",
            "Epoch 78/100\n",
            "13/13 [==============================] - 1s 72ms/step - loss: 5.9820e-06 - val_loss: 0.0011\n",
            "Epoch 79/100\n",
            "13/13 [==============================] - 1s 71ms/step - loss: 5.8640e-06 - val_loss: 0.0011\n",
            "Epoch 80/100\n",
            "13/13 [==============================] - 1s 70ms/step - loss: 6.1789e-06 - val_loss: 0.0011\n",
            "Epoch 81/100\n",
            "13/13 [==============================] - 1s 70ms/step - loss: 7.4204e-06 - val_loss: 0.0011\n",
            "Epoch 82/100\n",
            "13/13 [==============================] - 1s 97ms/step - loss: 8.7207e-06 - val_loss: 0.0011\n",
            "Epoch 83/100\n",
            "13/13 [==============================] - 2s 126ms/step - loss: 6.3250e-06 - val_loss: 0.0010\n",
            "Epoch 84/100\n",
            "13/13 [==============================] - 1s 79ms/step - loss: 5.9361e-06 - val_loss: 0.0011\n",
            "Epoch 85/100\n",
            "13/13 [==============================] - 1s 71ms/step - loss: 6.2768e-06 - val_loss: 0.0011\n",
            "Epoch 86/100\n",
            "13/13 [==============================] - 1s 70ms/step - loss: 6.7902e-06 - val_loss: 0.0011\n",
            "Epoch 87/100\n",
            "13/13 [==============================] - 1s 73ms/step - loss: 5.8784e-06 - val_loss: 0.0010\n",
            "Epoch 88/100\n",
            "13/13 [==============================] - 1s 72ms/step - loss: 5.7499e-06 - val_loss: 0.0011\n",
            "Epoch 89/100\n",
            "13/13 [==============================] - 1s 69ms/step - loss: 5.8132e-06 - val_loss: 0.0010\n",
            "Epoch 90/100\n",
            "13/13 [==============================] - 1s 71ms/step - loss: 6.1442e-06 - val_loss: 0.0010\n",
            "Epoch 91/100\n",
            "13/13 [==============================] - 1s 70ms/step - loss: 5.9128e-06 - val_loss: 0.0010\n",
            "Epoch 92/100\n",
            "13/13 [==============================] - 1s 70ms/step - loss: 5.7874e-06 - val_loss: 0.0010\n",
            "Epoch 93/100\n",
            "13/13 [==============================] - 1s 70ms/step - loss: 7.1276e-06 - val_loss: 0.0011\n",
            "Epoch 94/100\n",
            "13/13 [==============================] - 1s 70ms/step - loss: 6.6231e-06 - val_loss: 0.0010\n",
            "Epoch 95/100\n",
            "13/13 [==============================] - 1s 112ms/step - loss: 6.6567e-06 - val_loss: 0.0011\n",
            "Epoch 96/100\n",
            "13/13 [==============================] - 1s 114ms/step - loss: 7.0337e-06 - val_loss: 0.0010\n",
            "Epoch 97/100\n",
            "13/13 [==============================] - 1s 72ms/step - loss: 7.1643e-06 - val_loss: 0.0010\n",
            "Epoch 98/100\n",
            "13/13 [==============================] - 1s 71ms/step - loss: 7.0592e-06 - val_loss: 0.0010\n",
            "Epoch 99/100\n",
            "13/13 [==============================] - 1s 69ms/step - loss: 5.6730e-06 - val_loss: 0.0010\n",
            "Epoch 100/100\n",
            "13/13 [==============================] - 1s 70ms/step - loss: 6.3414e-06 - val_loss: 0.0010\n"
          ]
        },
        {
          "output_type": "execute_result",
          "data": {
            "text/plain": [
              "<keras.callbacks.History at 0x7f6588424910>"
            ]
          },
          "metadata": {},
          "execution_count": 90
        }
      ],
      "source": [
        "# Fit mô hình với dữ liệu train\n",
        "model.fit(X_train,y_train,validation_data=(X_test,ytest),epochs=100,batch_size=64,verbose=1)"
      ]
    },
    {
      "cell_type": "code",
      "execution_count": 91,
      "metadata": {
        "colab": {
          "base_uri": "https://localhost:8080/"
        },
        "id": "Rxx_KQSkQpBG",
        "outputId": "3d930ce5-1d22-47eb-c238-180a6b242196"
      },
      "outputs": [
        {
          "output_type": "stream",
          "name": "stdout",
          "text": [
            "26/26 [==============================] - 1s 16ms/step\n",
            "14/14 [==============================] - 0s 19ms/step\n",
            "9/9 [==============================] - 0s 21ms/step\n"
          ]
        }
      ],
      "source": [
        "# Dự báo dữ liệu test, val\n",
        "train_predict=model.predict(X_train)\n",
        "y_pred=model.predict(X_test)\n",
        "y_pred_val=model.predict(X_val)"
      ]
    },
    {
      "cell_type": "code",
      "execution_count": 92,
      "metadata": {
        "id": "5rwTN10LQ7rj"
      },
      "outputs": [],
      "source": [
        "# 11. Chuẩn hóa dữ liệu y_pred, y_pred_val\n",
        "train_predict=scaler.inverse_transform(train_predict)\n",
        "y_pred=scaler.inverse_transform(y_pred)\n",
        "y_pred_val=scaler.inverse_transform(y_pred_val)"
      ]
    },
    {
      "cell_type": "code",
      "source": [],
      "metadata": {
        "id": "InM2U4y2DNVY"
      },
      "execution_count": 92,
      "outputs": []
    },
    {
      "cell_type": "code",
      "execution_count": 93,
      "metadata": {
        "colab": {
          "base_uri": "https://localhost:8080/",
          "height": 432
        },
        "id": "KSa_mX51a654",
        "outputId": "dca54328-79a2-49a8-81d2-e7bd1c929379"
      },
      "outputs": [
        {
          "output_type": "display_data",
          "data": {
            "text/plain": [
              "<Figure size 640x480 with 1 Axes>"
            ],
            "image/png": "[encoded data removed]"
          },
          "metadata": {}
        }
      ],
      "source": [
        "# 14.Vẽ hình\n",
        "\n",
        "train_data_index = pd.RangeIndex(start=0, stop=train_size, step=1)\n",
        "plt.plot(scaler.inverse_transform(train_data))\n",
        "test_data_index = pd.RangeIndex(start=train_size, stop=train_size+test_size, step=1)\n",
        "plt.plot(test_data_index,scaler.inverse_transform(test_data))\n",
        "test_data_index = pd.RangeIndex(start=train_size+101, stop=train_size+test_size, step=1)\n",
        "plt.plot(test_data_index,(y_pred))\n",
        "val_data_index = pd.RangeIndex(start=train_size+test_size, stop=train_size+test_size+val_size, step=1)\n",
        "plt.plot(val_data_index,scaler.inverse_transform(val_data))\n",
        "val_data_index = pd.RangeIndex(start=train_size+test_size+101, stop=train_size+test_size+val_size, step=1)\n",
        "plt.plot(val_data_index,y_pred_val)\n",
        "\n",
        "plt.legend(['Train','Test','Predict','Validate','ValidatePred'])\n",
        "plt.show()"
      ]
    },
    {
      "cell_type": "code",
      "source": [
        "# Respliting train test\n",
        "train_size1 = int(0.5 * len(df))\n",
        "test_size1 = int(0.3 * len(df))\n",
        "train_data1 = df[:train_size1]\n",
        "test_data1 = df[train_size1:train_size1+test_size1]\n",
        "val_data1 = df[train_size1+test_size1:]\n",
        "# Repredictions on the testing set\n",
        "x_test1 = np.array(test_data1.drop('Price', axis=1))  # Use the features (excluding the target variable)\n",
        "y_test1 = np.array(test_data1['Price'])\n",
        "\n",
        "# Repredictions on the validation set\n",
        "x_val1 = np.array(val_data1.drop('Price', axis=1))  # Use the features (excluding the target variable)\n",
        "y_val1 = np.array(val_data1['Price'])"
      ],
      "metadata": {
        "id": "ppabpKY7NDD3"
      },
      "execution_count": 94,
      "outputs": []
    },
    {
      "cell_type": "code",
      "execution_count": 95,
      "metadata": {
        "id": "kfYYR-fkwPot",
        "colab": {
          "base_uri": "https://localhost:8080/"
        },
        "outputId": "dbe69cdd-4b24-4d14-8351-038b50710f38"
      },
      "outputs": [
        {
          "output_type": "stream",
          "name": "stdout",
          "text": [
            "Validation RMSE: 359.35541949926716\n",
            "Testing RMSE: 1356.168150823222\n",
            "Validation MAPE: 19.59585610214012\n",
            "Testing MAPE: 72.27880938709984\n",
            "Validation MAE: 291.4784954951662\n",
            "Testing MAE: 1087.9215261635957\n"
          ]
        }
      ],
      "source": [
        "# Calculate evalution\n",
        "#RMSE\n",
        "valid_rmse = np.sqrt(np.mean((y_pred_val - y_val1)**2))\n",
        "test_rmse = np.sqrt(np.mean((y_pred - y_test1)**2))\n",
        "print('Validation RMSE:', valid_rmse)\n",
        "print('Testing RMSE:', test_rmse)\n",
        "\n",
        "#MAPE\n",
        "valid_mape = np.mean(np.abs((y_val1 - y_pred_val) / y_val1)) * 100\n",
        "test_mape = np.mean(np.abs((y_test1 - y_pred) / y_test1)) * 100\n",
        "print('Validation MAPE:', valid_mape)\n",
        "print('Testing MAPE:', test_mape)\n",
        "\n",
        "#MAE\n",
        "valid_mae = np.mean(np.abs(y_pred_val - y_val1))\n",
        "test_mae = np.mean(np.abs(y_pred - y_test1))\n",
        "print('Validation MAE:', valid_mae)\n",
        "print('Testing MAE:', test_mae)"
      ]
    }
  ],
  "metadata": {
    "colab": {
      "provenance": []
    },
    "kernelspec": {
      "display_name": "Python 3 (ipykernel)",
      "language": "python",
      "name": "python3"
    },
    "language_info": {
      "codemirror_mode": {
        "name": "ipython",
        "version": 3
      },
      "file_extension": ".py",
      "mimetype": "text/x-python",
      "name": "python",
      "nbconvert_exporter": "python",
      "pygments_lexer": "ipython3",
      "version": "3.9.12"
    }
  },
  "nbformat": 4,
  "nbformat_minor": 0
}
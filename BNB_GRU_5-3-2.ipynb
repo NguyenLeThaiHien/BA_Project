{
 "cells": [
  {
   "cell_type": "code",
   "execution_count": 1,
   "id": "27592f2f",
   "metadata": {},
   "outputs": [],
   "source": [
    "# 1. Import thư viện cần thiết\n",
    "import numpy as np\n",
    "import pandas as pd\n",
    "import matplotlib.pyplot as plt\n",
    "from sklearn.preprocessing import MinMaxScaler\n",
    "from keras.models import Sequential\n",
    "from keras.layers import Dense, GRU"
   ]
  },
  {
   "cell_type": "code",
   "execution_count": 2,
   "id": "f3410ca8",
   "metadata": {},
   "outputs": [],
   "source": [
    "# 2. Đọc file csv và gắng index với giá Close\n",
    "df = pd.read_csv('BNB.csv',sep=\";\")\n",
    "df1=df.reset_index()['Price']"
   ]
  },
  {
   "cell_type": "code",
   "execution_count": 3,
   "id": "530a5891",
   "metadata": {},
   "outputs": [],
   "source": [
    "# 3. Scaler data\n",
    "scaler=MinMaxScaler(feature_range=(0,1))\n",
    "df1=scaler.fit_transform(np.array(df1).reshape(-1,1))"
   ]
  },
  {
   "cell_type": "code",
   "execution_count": 4,
   "id": "5493b4f7",
   "metadata": {},
   "outputs": [],
   "source": [
    "# 4. Chia train test\n",
    "train_size = int(0.5 * len(df1))\n",
    "test_size = int(0.3 * len(df1))\n",
    "val_size = len(df1) - train_size - test_size\n",
    "\n",
    "train_data = df1[:train_size]\n",
    "test_data = df1[train_size:train_size+test_size]\n",
    "val_data = df1[train_size+test_size:]"
   ]
  },
  {
   "cell_type": "code",
   "execution_count": 5,
   "id": "5f1f26a7",
   "metadata": {},
   "outputs": [],
   "source": [
    "# 5. Hàm Create Dataset\n",
    "import numpy\n",
    "# convert an array of values into a dataset matrix\n",
    "def create_dataset(dataset, time_step=1):\n",
    "    dataX, dataY = [], []\n",
    "    for i in range(len(dataset)-time_step-1):\n",
    "        a = dataset[i:(i+time_step), 0]   ###i=0, X=0,1,2,3-----99   Y=100 \n",
    "        dataX.append(a)\n",
    "        dataY.append(dataset[i + time_step, 0])\n",
    "    return numpy.array(dataX), numpy.array(dataY)"
   ]
  },
  {
   "cell_type": "code",
   "execution_count": 6,
   "id": "9b1952a3",
   "metadata": {},
   "outputs": [],
   "source": [
    "#6. Reshape into X=t,t+1,t+2..t+99 and Y=t+100\n",
    "\n",
    "time_step = 100\n",
    "X_train, y_train = create_dataset(train_data, time_step)\n",
    "X_val, yval = create_dataset(val_data, time_step)\n",
    "X_test, ytest = create_dataset(test_data, time_step)"
   ]
  },
  {
   "cell_type": "code",
   "execution_count": 7,
   "id": "58c5f7e9",
   "metadata": {},
   "outputs": [],
   "source": [
    "# 7. Reshape input to be [samples, time steps, features] which is required for LSTM\n",
    "X_train =X_train.reshape(X_train.shape[0],X_train.shape[1] , 1)\n",
    "X_test = X_test.reshape(X_test.shape[0],X_test.shape[1] , 1)\n",
    "X_val = X_val.reshape(X_val.shape[0],X_val.shape[1] , 1)"
   ]
  },
  {
   "cell_type": "code",
   "execution_count": 8,
   "id": "8f8d3bd1",
   "metadata": {},
   "outputs": [],
   "source": [
    "# 8. Define GRU Model\n",
    "\n",
    "model = Sequential()\n",
    "model.add(GRU(64, input_shape=(time_step, 1)))\n",
    "model.add(Dense(1))\n",
    "model.compile(optimizer='adam', loss='mean_squared_error')"
   ]
  },
  {
   "cell_type": "code",
   "execution_count": 9,
   "id": "292cf935",
   "metadata": {},
   "outputs": [
    {
     "name": "stdout",
     "output_type": "stream",
     "text": [
      "Epoch 1/100\n",
      "13/13 [==============================] - 3s 94ms/step - loss: 1.9311e-04 - val_loss: 0.1927\n",
      "Epoch 2/100\n",
      "13/13 [==============================] - 1s 52ms/step - loss: 9.6280e-05 - val_loss: 0.1266\n",
      "Epoch 3/100\n",
      "13/13 [==============================] - 1s 46ms/step - loss: 4.5894e-05 - val_loss: 0.0704\n",
      "Epoch 4/100\n",
      "13/13 [==============================] - 1s 50ms/step - loss: 2.1024e-05 - val_loss: 0.0284\n",
      "Epoch 5/100\n",
      "13/13 [==============================] - 1s 52ms/step - loss: 8.4072e-06 - val_loss: 0.0066\n",
      "Epoch 6/100\n",
      "13/13 [==============================] - 1s 51ms/step - loss: 3.9923e-06 - val_loss: 0.0023\n",
      "Epoch 7/100\n",
      "13/13 [==============================] - 1s 53ms/step - loss: 3.8150e-06 - val_loss: 0.0023\n",
      "Epoch 8/100\n",
      "13/13 [==============================] - 1s 49ms/step - loss: 4.2740e-06 - val_loss: 0.0024\n",
      "Epoch 9/100\n",
      "13/13 [==============================] - 1s 51ms/step - loss: 3.5334e-06 - val_loss: 0.0028\n",
      "Epoch 10/100\n",
      "13/13 [==============================] - 1s 56ms/step - loss: 3.4402e-06 - val_loss: 0.0026\n",
      "Epoch 11/100\n",
      "13/13 [==============================] - 1s 50ms/step - loss: 3.4596e-06 - val_loss: 0.0025\n",
      "Epoch 12/100\n",
      "13/13 [==============================] - 1s 51ms/step - loss: 3.4906e-06 - val_loss: 0.0025\n",
      "Epoch 13/100\n",
      "13/13 [==============================] - 1s 49ms/step - loss: 3.4607e-06 - val_loss: 0.0025\n",
      "Epoch 14/100\n",
      "13/13 [==============================] - 1s 53ms/step - loss: 3.3892e-06 - val_loss: 0.0024\n",
      "Epoch 15/100\n",
      "13/13 [==============================] - 1s 55ms/step - loss: 3.4000e-06 - val_loss: 0.0024\n",
      "Epoch 16/100\n",
      "13/13 [==============================] - 1s 57ms/step - loss: 3.4132e-06 - val_loss: 0.0024\n",
      "Epoch 17/100\n",
      "13/13 [==============================] - 1s 50ms/step - loss: 3.4270e-06 - val_loss: 0.0024\n",
      "Epoch 18/100\n",
      "13/13 [==============================] - 1s 49ms/step - loss: 3.3223e-06 - val_loss: 0.0024\n",
      "Epoch 19/100\n",
      "13/13 [==============================] - 1s 53ms/step - loss: 3.2284e-06 - val_loss: 0.0023\n",
      "Epoch 20/100\n",
      "13/13 [==============================] - 1s 50ms/step - loss: 3.3151e-06 - val_loss: 0.0023\n",
      "Epoch 21/100\n",
      "13/13 [==============================] - 1s 51ms/step - loss: 3.3147e-06 - val_loss: 0.0023\n",
      "Epoch 22/100\n",
      "13/13 [==============================] - 1s 53ms/step - loss: 3.3633e-06 - val_loss: 0.0024\n",
      "Epoch 23/100\n",
      "13/13 [==============================] - 1s 47ms/step - loss: 3.1296e-06 - val_loss: 0.0022\n",
      "Epoch 24/100\n",
      "13/13 [==============================] - 1s 49ms/step - loss: 3.1926e-06 - val_loss: 0.0023\n",
      "Epoch 25/100\n",
      "13/13 [==============================] - 1s 47ms/step - loss: 3.0990e-06 - val_loss: 0.0023\n",
      "Epoch 26/100\n",
      "13/13 [==============================] - 1s 47ms/step - loss: 3.0772e-06 - val_loss: 0.0022\n",
      "Epoch 27/100\n",
      "13/13 [==============================] - 1s 46ms/step - loss: 3.0496e-06 - val_loss: 0.0022\n",
      "Epoch 28/100\n",
      "13/13 [==============================] - 1s 44ms/step - loss: 3.2866e-06 - val_loss: 0.0023\n",
      "Epoch 29/100\n",
      "13/13 [==============================] - 1s 44ms/step - loss: 3.1864e-06 - val_loss: 0.0023\n",
      "Epoch 30/100\n",
      "13/13 [==============================] - 1s 46ms/step - loss: 2.9962e-06 - val_loss: 0.0021\n",
      "Epoch 31/100\n",
      "13/13 [==============================] - 1s 45ms/step - loss: 3.0733e-06 - val_loss: 0.0022\n",
      "Epoch 32/100\n",
      "13/13 [==============================] - 1s 45ms/step - loss: 3.1756e-06 - val_loss: 0.0022\n",
      "Epoch 33/100\n",
      "13/13 [==============================] - 1s 44ms/step - loss: 3.0327e-06 - val_loss: 0.0022\n",
      "Epoch 34/100\n",
      "13/13 [==============================] - 1s 47ms/step - loss: 3.0912e-06 - val_loss: 0.0021\n",
      "Epoch 35/100\n",
      "13/13 [==============================] - 1s 43ms/step - loss: 3.0542e-06 - val_loss: 0.0020\n",
      "Epoch 36/100\n",
      "13/13 [==============================] - 1s 47ms/step - loss: 3.1672e-06 - val_loss: 0.0021\n",
      "Epoch 37/100\n",
      "13/13 [==============================] - 1s 46ms/step - loss: 3.0155e-06 - val_loss: 0.0021\n",
      "Epoch 38/100\n",
      "13/13 [==============================] - 1s 44ms/step - loss: 2.8247e-06 - val_loss: 0.0020\n",
      "Epoch 39/100\n",
      "13/13 [==============================] - 1s 44ms/step - loss: 2.8014e-06 - val_loss: 0.0019\n",
      "Epoch 40/100\n",
      "13/13 [==============================] - 1s 47ms/step - loss: 2.8395e-06 - val_loss: 0.0020\n",
      "Epoch 41/100\n",
      "13/13 [==============================] - 1s 44ms/step - loss: 2.9463e-06 - val_loss: 0.0020\n",
      "Epoch 42/100\n",
      "13/13 [==============================] - 1s 45ms/step - loss: 2.7901e-06 - val_loss: 0.0020\n",
      "Epoch 43/100\n",
      "13/13 [==============================] - 1s 42ms/step - loss: 2.8450e-06 - val_loss: 0.0019\n",
      "Epoch 44/100\n",
      "13/13 [==============================] - 1s 46ms/step - loss: 3.5077e-06 - val_loss: 0.0019\n",
      "Epoch 45/100\n",
      "13/13 [==============================] - 1s 45ms/step - loss: 2.9369e-06 - val_loss: 0.0020\n",
      "Epoch 46/100\n",
      "13/13 [==============================] - 1s 44ms/step - loss: 2.6913e-06 - val_loss: 0.0019\n",
      "Epoch 47/100\n",
      "13/13 [==============================] - 1s 43ms/step - loss: 3.1931e-06 - val_loss: 0.0019\n",
      "Epoch 48/100\n",
      "13/13 [==============================] - 1s 45ms/step - loss: 3.1126e-06 - val_loss: 0.0019\n",
      "Epoch 49/100\n",
      "13/13 [==============================] - 1s 46ms/step - loss: 3.0020e-06 - val_loss: 0.0020\n",
      "Epoch 50/100\n",
      "13/13 [==============================] - 1s 50ms/step - loss: 2.6897e-06 - val_loss: 0.0017\n",
      "Epoch 51/100\n",
      "13/13 [==============================] - 1s 49ms/step - loss: 3.1246e-06 - val_loss: 0.0019\n",
      "Epoch 52/100\n",
      "13/13 [==============================] - 1s 49ms/step - loss: 2.6837e-06 - val_loss: 0.0019\n",
      "Epoch 53/100\n",
      "13/13 [==============================] - 1s 46ms/step - loss: 2.9074e-06 - val_loss: 0.0020\n",
      "Epoch 54/100\n",
      "13/13 [==============================] - 1s 48ms/step - loss: 2.6384e-06 - val_loss: 0.0018\n",
      "Epoch 55/100\n",
      "13/13 [==============================] - 1s 44ms/step - loss: 2.5497e-06 - val_loss: 0.0017\n",
      "Epoch 56/100\n",
      "13/13 [==============================] - 1s 44ms/step - loss: 2.6040e-06 - val_loss: 0.0018\n",
      "Epoch 57/100\n",
      "13/13 [==============================] - 1s 44ms/step - loss: 2.5771e-06 - val_loss: 0.0018\n",
      "Epoch 58/100\n",
      "13/13 [==============================] - 1s 44ms/step - loss: 2.6769e-06 - val_loss: 0.0018\n",
      "Epoch 59/100\n",
      "13/13 [==============================] - 1s 47ms/step - loss: 2.9958e-06 - val_loss: 0.0017\n",
      "Epoch 60/100\n",
      "13/13 [==============================] - 1s 46ms/step - loss: 2.6143e-06 - val_loss: 0.0018\n",
      "Epoch 61/100\n",
      "13/13 [==============================] - 1s 43ms/step - loss: 2.5897e-06 - val_loss: 0.0017\n",
      "Epoch 62/100\n",
      "13/13 [==============================] - 1s 44ms/step - loss: 2.5607e-06 - val_loss: 0.0019\n",
      "Epoch 63/100\n",
      "13/13 [==============================] - 1s 45ms/step - loss: 2.4961e-06 - val_loss: 0.0017\n",
      "Epoch 64/100\n",
      "13/13 [==============================] - 1s 42ms/step - loss: 2.4683e-06 - val_loss: 0.0017\n",
      "Epoch 65/100\n",
      "13/13 [==============================] - 1s 47ms/step - loss: 2.4417e-06 - val_loss: 0.0017\n",
      "Epoch 66/100\n",
      "13/13 [==============================] - 1s 44ms/step - loss: 2.5261e-06 - val_loss: 0.0017\n",
      "Epoch 67/100\n",
      "13/13 [==============================] - 1s 44ms/step - loss: 2.4357e-06 - val_loss: 0.0016\n",
      "Epoch 68/100\n",
      "13/13 [==============================] - 1s 43ms/step - loss: 2.4139e-06 - val_loss: 0.0017\n",
      "Epoch 69/100\n",
      "13/13 [==============================] - 1s 42ms/step - loss: 2.5135e-06 - val_loss: 0.0016\n",
      "Epoch 70/100\n",
      "13/13 [==============================] - 1s 43ms/step - loss: 2.5385e-06 - val_loss: 0.0017\n",
      "Epoch 71/100\n",
      "13/13 [==============================] - 1s 43ms/step - loss: 2.5089e-06 - val_loss: 0.0017\n",
      "Epoch 72/100\n",
      "13/13 [==============================] - 1s 44ms/step - loss: 2.4667e-06 - val_loss: 0.0016\n",
      "Epoch 73/100\n",
      "13/13 [==============================] - 1s 41ms/step - loss: 2.6398e-06 - val_loss: 0.0016\n",
      "Epoch 74/100\n",
      "13/13 [==============================] - 1s 44ms/step - loss: 2.7260e-06 - val_loss: 0.0016\n",
      "Epoch 75/100\n",
      "13/13 [==============================] - 1s 43ms/step - loss: 2.3896e-06 - val_loss: 0.0015\n",
      "Epoch 76/100\n",
      "13/13 [==============================] - 1s 41ms/step - loss: 2.6318e-06 - val_loss: 0.0016\n",
      "Epoch 77/100\n",
      "13/13 [==============================] - 1s 48ms/step - loss: 2.7190e-06 - val_loss: 0.0017\n",
      "Epoch 78/100\n",
      "13/13 [==============================] - 1s 47ms/step - loss: 2.5660e-06 - val_loss: 0.0016\n",
      "Epoch 79/100\n"
     ]
    },
    {
     "name": "stdout",
     "output_type": "stream",
     "text": [
      "13/13 [==============================] - 1s 49ms/step - loss: 2.6510e-06 - val_loss: 0.0016\n",
      "Epoch 80/100\n",
      "13/13 [==============================] - 1s 49ms/step - loss: 2.3586e-06 - val_loss: 0.0016\n",
      "Epoch 81/100\n",
      "13/13 [==============================] - 1s 44ms/step - loss: 2.2433e-06 - val_loss: 0.0015\n",
      "Epoch 82/100\n",
      "13/13 [==============================] - 1s 44ms/step - loss: 2.6985e-06 - val_loss: 0.0015\n",
      "Epoch 83/100\n",
      "13/13 [==============================] - 1s 42ms/step - loss: 3.1036e-06 - val_loss: 0.0015\n",
      "Epoch 84/100\n",
      "13/13 [==============================] - 1s 43ms/step - loss: 2.5763e-06 - val_loss: 0.0015\n",
      "Epoch 85/100\n",
      "13/13 [==============================] - 1s 44ms/step - loss: 2.4893e-06 - val_loss: 0.0016\n",
      "Epoch 86/100\n",
      "13/13 [==============================] - 1s 43ms/step - loss: 2.2323e-06 - val_loss: 0.0016\n",
      "Epoch 87/100\n",
      "13/13 [==============================] - 1s 48ms/step - loss: 2.3789e-06 - val_loss: 0.0015\n",
      "Epoch 88/100\n",
      "13/13 [==============================] - 1s 44ms/step - loss: 2.2324e-06 - val_loss: 0.0015\n",
      "Epoch 89/100\n",
      "13/13 [==============================] - 1s 47ms/step - loss: 2.2243e-06 - val_loss: 0.0015\n",
      "Epoch 90/100\n",
      "13/13 [==============================] - 1s 44ms/step - loss: 2.2320e-06 - val_loss: 0.0015\n",
      "Epoch 91/100\n",
      "13/13 [==============================] - 1s 44ms/step - loss: 2.1735e-06 - val_loss: 0.0015\n",
      "Epoch 92/100\n",
      "13/13 [==============================] - 1s 42ms/step - loss: 2.1762e-06 - val_loss: 0.0015\n",
      "Epoch 93/100\n",
      "13/13 [==============================] - 1s 43ms/step - loss: 2.3134e-06 - val_loss: 0.0015\n",
      "Epoch 94/100\n",
      "13/13 [==============================] - 1s 46ms/step - loss: 2.3063e-06 - val_loss: 0.0015\n",
      "Epoch 95/100\n",
      "13/13 [==============================] - 1s 42ms/step - loss: 2.3248e-06 - val_loss: 0.0015\n",
      "Epoch 96/100\n",
      "13/13 [==============================] - 1s 43ms/step - loss: 2.1342e-06 - val_loss: 0.0015\n",
      "Epoch 97/100\n",
      "13/13 [==============================] - 1s 42ms/step - loss: 2.1608e-06 - val_loss: 0.0016\n",
      "Epoch 98/100\n",
      "13/13 [==============================] - 1s 44ms/step - loss: 2.4474e-06 - val_loss: 0.0014\n",
      "Epoch 99/100\n",
      "13/13 [==============================] - 1s 47ms/step - loss: 2.8748e-06 - val_loss: 0.0016\n",
      "Epoch 100/100\n",
      "13/13 [==============================] - 1s 43ms/step - loss: 2.5735e-06 - val_loss: 0.0015\n"
     ]
    },
    {
     "data": {
      "text/plain": [
       "<keras.callbacks.History at 0x1865a4822e0>"
      ]
     },
     "execution_count": 9,
     "metadata": {},
     "output_type": "execute_result"
    }
   ],
   "source": [
    "# Fit mô hình với dữ liệu train\n",
    "model.fit(X_train,y_train,validation_data=(X_test,ytest),epochs=100,batch_size=64,verbose=1)"
   ]
  },
  {
   "cell_type": "code",
   "execution_count": 10,
   "id": "d019ca8a",
   "metadata": {},
   "outputs": [
    {
     "name": "stdout",
     "output_type": "stream",
     "text": [
      "26/26 [==============================] - 1s 8ms/step\n",
      "14/14 [==============================] - 0s 8ms/step\n",
      "9/9 [==============================] - 0s 8ms/step\n"
     ]
    }
   ],
   "source": [
    "# Dự báo dữ liệu test, val\n",
    "train_predict=model.predict(X_train)\n",
    "y_pred=model.predict(X_test)\n",
    "y_pred_val=model.predict(X_val)"
   ]
  },
  {
   "cell_type": "code",
   "execution_count": 11,
   "id": "cc61f45b",
   "metadata": {},
   "outputs": [
    {
     "name": "stdout",
     "output_type": "stream",
     "text": [
      "Validation RMSE: 0.05300115402361112\n",
      "Testing RMSE: 0.21896188786635123\n",
      "Validation MAPE: 9.977403560070906\n",
      "Testing MAPE: 29.89586801030619\n",
      "Validation MAE: 0.04281187320433556\n",
      "Testing MAE: 0.17580476574101703\n"
     ]
    }
   ],
   "source": [
    "# calculate the RMSE\n",
    "valid_rmse = np.sqrt(np.mean((y_pred_val - yval)**2))\n",
    "test_rmse = np.sqrt(np.mean((y_pred - ytest)**2))\n",
    "print('Validation RMSE:', valid_rmse)\n",
    "print('Testing RMSE:', test_rmse)\n",
    "\n",
    "# calculate the MAPE\n",
    "valid_mape = np.mean(np.abs((yval - y_pred_val) / yval)) * 100\n",
    "test_mape = np.mean(np.abs((ytest - y_pred) / ytest)) * 100\n",
    "print(\"Validation MAPE:\", valid_mape)\n",
    "print(\"Testing MAPE:\", test_mape)\n",
    "\n",
    "# calculate the MAE\n",
    "valid_mae = np.mean(np.abs(y_pred_val - yval))\n",
    "test_mae = np.mean(np.abs(y_pred - ytest))\n",
    "print(\"Validation MAE:\", valid_mae)\n",
    "print(\"Testing MAE:\", test_mae)"
   ]
  },
  {
   "cell_type": "code",
   "execution_count": 12,
   "id": "bff3caca",
   "metadata": {},
   "outputs": [],
   "source": [
    "# Chuẩn hóa dữ liệu y_pred, y_pred_val\n",
    "train_predict=scaler.inverse_transform(train_predict)\n",
    "y_pred=scaler.inverse_transform(y_pred)\n",
    "y_pred_val=scaler.inverse_transform(y_pred_val)"
   ]
  },
  {
   "cell_type": "code",
   "execution_count": 13,
   "id": "35fb7c1b",
   "metadata": {},
   "outputs": [
    {
     "data": {
      "image/png": "[encoded data removed]",
      "text/plain": [
       "<Figure size 432x288 with 1 Axes>"
      ]
     },
     "metadata": {
      "needs_background": "light"
     },
     "output_type": "display_data"
    }
   ],
   "source": [
    "# 14.Vẽ hình\n",
    "\n",
    "train_data_index = pd.RangeIndex(start=0, stop=train_size, step=1)\n",
    "plt.plot(scaler.inverse_transform(train_data))\n",
    "test_data_index = pd.RangeIndex(start=train_size, stop=train_size+test_size, step=1)\n",
    "plt.plot(test_data_index,scaler.inverse_transform(test_data))\n",
    "test_data_index = pd.RangeIndex(start=train_size+101, stop=train_size+test_size, step=1)\n",
    "plt.plot(test_data_index,(y_pred))\n",
    "val_data_index = pd.RangeIndex(start=train_size+test_size, stop=train_size+test_size+val_size, step=1)\n",
    "plt.plot(val_data_index,scaler.inverse_transform(val_data))\n",
    "val_data_index = pd.RangeIndex(start=train_size+test_size+101, stop=train_size+test_size+val_size, step=1)\n",
    "plt.plot(val_data_index,y_pred_val)\n",
    "plt.legend(['Train','Test','Predict','Validate','ValidatePred'])\n",
    "plt.show()"
   ]
  }
 ],
 "metadata": {
  "kernelspec": {
   "display_name": "Python 3 (ipykernel)",
   "language": "python",
   "name": "python3"
  },
  "language_info": {
   "codemirror_mode": {
    "name": "ipython",
    "version": 3
   },
   "file_extension": ".py",
   "mimetype": "text/x-python",
   "name": "python",
   "nbconvert_exporter": "python",
   "pygments_lexer": "ipython3",
   "version": "3.9.12"
  }
 },
 "nbformat": 4,
 "nbformat_minor": 5
}

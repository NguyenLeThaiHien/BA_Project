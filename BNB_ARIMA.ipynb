{
 "cells": [
  {
   "cell_type": "code",
   "execution_count": 1,
   "id": "e306925d",
   "metadata": {},
   "outputs": [],
   "source": [
    "# Import libraries\n",
    "import numpy as np\n",
    "import pandas as pd\n",
    "import matplotlib.pyplot as plt\n",
    "from sklearn.preprocessing import MinMaxScaler\n",
    "from sklearn.linear_model import LinearRegression"
   ]
  },
  {
   "cell_type": "code",
   "execution_count": 2,
   "id": "38346759",
   "metadata": {},
   "outputs": [],
   "source": [
    "# Read dataset file\n",
    "df = pd.read_csv('BNB.csv',sep=\";\")\n",
    "df = df[['Price']]\n",
    "df = df.dropna() # Drop missing values\n",
    "df = df.reset_index(drop=True) # Reset the index"
   ]
  },
  {
   "cell_type": "code",
   "execution_count": 3,
   "id": "32f18771",
   "metadata": {},
   "outputs": [],
   "source": [
    "# Split the data into training, testing, and validation sets by 7:2:1\n",
    "train_size = int(0.7 * len(df))\n",
    "test_size = int(0.2 * len(df))\n",
    "val_size = len(df) - train_size - test_size\n",
    "\n",
    "train_data = df[:train_size]\n",
    "test_data = df[train_size:train_size+test_size]\n",
    "val_data = df[train_size+test_size:]"
   ]
  },
  {
   "cell_type": "code",
   "execution_count": 4,
   "id": "27043103",
   "metadata": {},
   "outputs": [
    {
     "name": "stdout",
     "output_type": "stream",
     "text": [
      "Performing stepwise search to minimize aic\n",
      " ARIMA(2,1,2)(0,0,0)[0] intercept   : AIC=10107.898, Time=1.12 sec\n",
      " ARIMA(0,1,0)(0,0,0)[0] intercept   : AIC=10172.680, Time=0.04 sec\n",
      " ARIMA(1,1,0)(0,0,0)[0] intercept   : AIC=10142.506, Time=0.09 sec\n",
      " ARIMA(0,1,1)(0,0,0)[0] intercept   : AIC=10148.224, Time=0.21 sec\n",
      " ARIMA(0,1,0)(0,0,0)[0]             : AIC=10172.459, Time=0.03 sec\n",
      " ARIMA(1,1,2)(0,0,0)[0] intercept   : AIC=10126.436, Time=0.59 sec\n",
      " ARIMA(2,1,1)(0,0,0)[0] intercept   : AIC=10131.189, Time=0.72 sec\n",
      " ARIMA(3,1,2)(0,0,0)[0] intercept   : AIC=10109.199, Time=1.67 sec\n",
      " ARIMA(2,1,3)(0,0,0)[0] intercept   : AIC=10109.376, Time=1.28 sec\n",
      " ARIMA(1,1,1)(0,0,0)[0] intercept   : AIC=10138.477, Time=0.33 sec\n",
      " ARIMA(1,1,3)(0,0,0)[0] intercept   : AIC=10125.982, Time=0.78 sec\n",
      " ARIMA(3,1,1)(0,0,0)[0] intercept   : AIC=10130.570, Time=0.49 sec\n",
      " ARIMA(3,1,3)(0,0,0)[0] intercept   : AIC=10095.539, Time=1.93 sec\n",
      " ARIMA(4,1,3)(0,0,0)[0] intercept   : AIC=10091.484, Time=2.17 sec\n",
      " ARIMA(4,1,2)(0,0,0)[0] intercept   : AIC=10095.193, Time=1.94 sec\n",
      " ARIMA(5,1,3)(0,0,0)[0] intercept   : AIC=10093.116, Time=2.40 sec\n",
      " ARIMA(4,1,4)(0,0,0)[0] intercept   : AIC=10092.417, Time=2.70 sec\n",
      " ARIMA(3,1,4)(0,0,0)[0] intercept   : AIC=10091.922, Time=2.39 sec\n",
      " ARIMA(5,1,2)(0,0,0)[0] intercept   : AIC=10096.375, Time=2.14 sec\n",
      " ARIMA(5,1,4)(0,0,0)[0] intercept   : AIC=10093.552, Time=2.76 sec\n",
      " ARIMA(4,1,3)(0,0,0)[0]             : AIC=10091.411, Time=0.73 sec\n",
      " ARIMA(3,1,3)(0,0,0)[0]             : AIC=10095.773, Time=0.92 sec\n",
      " ARIMA(4,1,2)(0,0,0)[0]             : AIC=10094.962, Time=0.73 sec\n",
      " ARIMA(5,1,3)(0,0,0)[0]             : AIC=10092.934, Time=0.88 sec\n",
      " ARIMA(4,1,4)(0,0,0)[0]             : AIC=10091.899, Time=1.40 sec\n",
      " ARIMA(3,1,2)(0,0,0)[0]             : AIC=10109.379, Time=0.72 sec\n",
      " ARIMA(3,1,4)(0,0,0)[0]             : AIC=10091.854, Time=1.08 sec\n",
      " ARIMA(5,1,2)(0,0,0)[0]             : AIC=10096.235, Time=1.14 sec\n",
      " ARIMA(5,1,4)(0,0,0)[0]             : AIC=10092.936, Time=1.55 sec\n",
      "\n",
      "Best model:  ARIMA(4,1,3)(0,0,0)[0]          \n",
      "Total fit time: 34.948 seconds\n"
     ]
    },
    {
     "data": {
      "text/plain": [
       "ARIMA(order=(4, 1, 3), scoring_args={}, suppress_warnings=True,\n",
       "      with_intercept=False)"
      ]
     },
     "execution_count": 4,
     "metadata": {},
     "output_type": "execute_result"
    }
   ],
   "source": [
    "# Training process\n",
    "x_train = np.array(train_data.index).reshape(-1, 1)\n",
    "y_train = np.array(train_data['Price'])\n",
    "\n",
    "# Find the best ARIMA model using auto_arima\n",
    "from pmdarima.arima import auto_arima\n",
    "model = auto_arima(y_train, trace=True, error_action='ignore', suppress_warnings=True)\n",
    "\n",
    "# Fit the model\n",
    "model.fit(y_train)"
   ]
  },
  {
   "cell_type": "code",
   "execution_count": 5,
   "id": "1dec59f8",
   "metadata": {},
   "outputs": [],
   "source": [
    "# make predictions on the testing set\n",
    "x_test = np.array(test_data.index).reshape(-1, 1)\n",
    "y_test = np.array(test_data['Price'])\n",
    "y_pred = model.predict(n_periods=len(y_test))\n",
    "\n",
    "# make predictions on the validate set\n",
    "x_val= np.array(val_data.index).reshape(-1, 1)\n",
    "y_val = np.array(val_data['Price'])\n",
    "y_pred_val =  model.predict(n_periods=len(y_val))"
   ]
  },
  {
   "cell_type": "code",
   "execution_count": 6,
   "id": "d580b157",
   "metadata": {},
   "outputs": [
    {
     "name": "stdout",
     "output_type": "stream",
     "text": [
      "Validation RMSE: 332.3937061611008\n",
      "Testing RMSE: 288.8306322889591\n",
      "Validation MAPE: 112.37316387547676\n",
      "Testing MAPE: 88.2233037989812\n",
      "Validation MAE: 331.32873386027313\n",
      "Testing MAE: 269.59230720576966\n"
     ]
    }
   ],
   "source": [
    "# calculate the RMSE\n",
    "valid_rmse = np.sqrt(np.mean((y_pred_val - y_val)**2))\n",
    "test_rmse = np.sqrt(np.mean((y_pred - y_test)**2))\n",
    "print('Validation RMSE:', valid_rmse)\n",
    "print('Testing RMSE:', test_rmse)\n",
    "\n",
    "# calculate the MAPE\n",
    "valid_mape = np.mean(np.abs((y_val - y_pred_val) / y_val)) * 100\n",
    "test_mape = np.mean(np.abs((y_test - y_pred) / y_test)) * 100\n",
    "print(\"Validation MAPE:\", valid_mape)\n",
    "print(\"Testing MAPE:\", test_mape)\n",
    "\n",
    "# calculate the MAE\n",
    "valid_mae = np.mean(np.abs(y_pred_val - y_val))\n",
    "test_mae = np.mean(np.abs(y_pred - y_test))\n",
    "print(\"Validation MAE:\", valid_mae)\n",
    "print(\"Testing MAE:\", test_mae)"
   ]
  },
  {
   "cell_type": "code",
   "execution_count": 7,
   "id": "63c9d97f",
   "metadata": {},
   "outputs": [
    {
     "data": {
      "image/png": "[encoded data removed]",
      "text/plain": [
       "<Figure size 432x288 with 1 Axes>"
      ]
     },
     "metadata": {
      "needs_background": "light"
     },
     "output_type": "display_data"
    }
   ],
   "source": [
    "# ploting the actual values and predicted values\n",
    "plt.plot(train_data.index, train_data['Price'])\n",
    "plt.plot(test_data.index, test_data['Price'])\n",
    "plt.plot(val_data.index, val_data['Price'])\n",
    "plt.plot(test_data.index, y_pred)\n",
    "plt.plot(val_data.index, y_pred_val)\n",
    "plt.legend(['Train', 'Test','Validate', 'Predictions_test','Predictions_validate'])\n",
    "plt.show()"
   ]
  },
  {
   "cell_type": "code",
   "execution_count": null,
   "id": "53463f1e",
   "metadata": {},
   "outputs": [],
   "source": []
  }
 ],
 "metadata": {
  "kernelspec": {
   "display_name": "Python 3 (ipykernel)",
   "language": "python",
   "name": "python3"
  },
  "language_info": {
   "codemirror_mode": {
    "name": "ipython",
    "version": 3
   },
   "file_extension": ".py",
   "mimetype": "text/x-python",
   "name": "python",
   "nbconvert_exporter": "python",
   "pygments_lexer": "ipython3",
   "version": "3.9.12"
  }
 },
 "nbformat": 4,
 "nbformat_minor": 5
}

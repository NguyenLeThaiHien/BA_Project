{
 "cells": [
  {
   "cell_type": "code",
   "execution_count": 1,
   "id": "a5b4e509",
   "metadata": {},
   "outputs": [],
   "source": [
    "# 1. Import thư viện cần thiết\n",
    "import numpy as np\n",
    "import pandas as pd\n",
    "import matplotlib.pyplot as plt\n",
    "from sklearn.preprocessing import MinMaxScaler\n",
    "from keras.models import Sequential\n",
    "from keras.layers import Dense, LSTM"
   ]
  },
  {
   "cell_type": "code",
   "execution_count": 2,
   "id": "29d15f67",
   "metadata": {},
   "outputs": [],
   "source": [
    "# 2. Đọc file csv và gắng index với giá Close\n",
    "df = pd.read_csv('BNB.csv',sep=\";\")\n",
    "df1=df.reset_index()['Price']"
   ]
  },
  {
   "cell_type": "code",
   "execution_count": 3,
   "id": "490f0260",
   "metadata": {},
   "outputs": [],
   "source": [
    "# 3. Scaler data\n",
    "scaler=MinMaxScaler(feature_range=(0,1))\n",
    "df1=scaler.fit_transform(np.array(df1).reshape(-1,1))"
   ]
  },
  {
   "cell_type": "code",
   "execution_count": 4,
   "id": "d65ab013",
   "metadata": {},
   "outputs": [],
   "source": [
    "# 4. Chia train test\n",
    "train_size = int(0.5 * len(df1))\n",
    "test_size = int(0.3 * len(df1))\n",
    "val_size = len(df1) - train_size - test_size\n",
    "\n",
    "train_data = df1[:train_size]\n",
    "test_data = df1[train_size:train_size+test_size]\n",
    "val_data = df1[train_size+test_size:]"
   ]
  },
  {
   "cell_type": "code",
   "execution_count": 5,
   "id": "0f7c361e",
   "metadata": {},
   "outputs": [],
   "source": [
    "# 5. Hàm Create Dataset\n",
    "import numpy\n",
    "# convert an array of values into a dataset matrix\n",
    "def create_dataset(dataset, time_step=1):\n",
    "    dataX, dataY = [], []\n",
    "    for i in range(len(dataset)-time_step-1):\n",
    "        a = dataset[i:(i+time_step), 0]   ###i=0, X=0,1,2,3-----99   Y=100 \n",
    "        dataX.append(a)\n",
    "        dataY.append(dataset[i + time_step, 0])\n",
    "    return numpy.array(dataX), numpy.array(dataY)"
   ]
  },
  {
   "cell_type": "code",
   "execution_count": 6,
   "id": "72fa9e9e",
   "metadata": {},
   "outputs": [],
   "source": [
    "#6. Reshape into X=t,t+1,t+2..t+99 and Y=t+100\n",
    "time_step = 100\n",
    "X_train, y_train = create_dataset(train_data, time_step)\n",
    "X_val, yval = create_dataset(val_data, time_step)\n",
    "X_test, ytest = create_dataset(test_data, time_step)"
   ]
  },
  {
   "cell_type": "code",
   "execution_count": 7,
   "id": "9dbff4ae",
   "metadata": {},
   "outputs": [],
   "source": [
    "# 7. Reshape input to be [samples, time steps, features] which is required for LSTM\n",
    "X_train =X_train.reshape(X_train.shape[0],X_train.shape[1] , 1)\n",
    "X_test = X_test.reshape(X_test.shape[0],X_test.shape[1] , 1)\n",
    "X_val = X_val.reshape(X_val.shape[0],X_val.shape[1] , 1)"
   ]
  },
  {
   "cell_type": "code",
   "execution_count": 8,
   "id": "6d59b051",
   "metadata": {},
   "outputs": [],
   "source": [
    "# 8. Define LSTM Model\n",
    "model=Sequential()\n",
    "model.add(LSTM(50,return_sequences=True,input_shape=(100,1)))\n",
    "model.add(LSTM(50,return_sequences=True))\n",
    "model.add(LSTM(50))\n",
    "model.add(Dense(1))\n",
    "model.compile(loss='mean_squared_error',optimizer='adam')"
   ]
  },
  {
   "cell_type": "code",
   "execution_count": 9,
   "id": "56beb2a1",
   "metadata": {},
   "outputs": [
    {
     "name": "stdout",
     "output_type": "stream",
     "text": [
      "Epoch 1/100\n",
      "13/13 [==============================] - 8s 254ms/step - loss: 1.8284e-04 - val_loss: 0.2414\n",
      "Epoch 2/100\n",
      "13/13 [==============================] - 2s 157ms/step - loss: 7.8133e-05 - val_loss: 0.0852\n",
      "Epoch 3/100\n",
      "13/13 [==============================] - 2s 167ms/step - loss: 2.5816e-05 - val_loss: 0.0195\n",
      "Epoch 4/100\n",
      "13/13 [==============================] - 2s 150ms/step - loss: 1.8179e-05 - val_loss: 0.0265\n",
      "Epoch 5/100\n",
      "13/13 [==============================] - 2s 154ms/step - loss: 1.6535e-05 - val_loss: 0.0184\n",
      "Epoch 6/100\n",
      "13/13 [==============================] - 2s 149ms/step - loss: 1.3808e-05 - val_loss: 0.0183\n",
      "Epoch 7/100\n",
      "13/13 [==============================] - 2s 143ms/step - loss: 1.3086e-05 - val_loss: 0.0186\n",
      "Epoch 8/100\n",
      "13/13 [==============================] - 2s 145ms/step - loss: 1.2856e-05 - val_loss: 0.0145\n",
      "Epoch 9/100\n",
      "13/13 [==============================] - 2s 144ms/step - loss: 1.2861e-05 - val_loss: 0.0179\n",
      "Epoch 10/100\n",
      "13/13 [==============================] - 2s 144ms/step - loss: 1.2777e-05 - val_loss: 0.0138\n",
      "Epoch 11/100\n",
      "13/13 [==============================] - 2s 156ms/step - loss: 1.1152e-05 - val_loss: 0.0122\n",
      "Epoch 12/100\n",
      "13/13 [==============================] - 2s 155ms/step - loss: 1.1494e-05 - val_loss: 0.0139\n",
      "Epoch 13/100\n",
      "13/13 [==============================] - 2s 146ms/step - loss: 1.1285e-05 - val_loss: 0.0111\n",
      "Epoch 14/100\n",
      "13/13 [==============================] - 2s 143ms/step - loss: 1.0662e-05 - val_loss: 0.0113\n",
      "Epoch 15/100\n",
      "13/13 [==============================] - 2s 145ms/step - loss: 1.2613e-05 - val_loss: 0.0164\n",
      "Epoch 16/100\n",
      "13/13 [==============================] - 2s 145ms/step - loss: 1.0210e-05 - val_loss: 0.0114\n",
      "Epoch 17/100\n",
      "13/13 [==============================] - 2s 144ms/step - loss: 1.0337e-05 - val_loss: 0.0117\n",
      "Epoch 18/100\n",
      "13/13 [==============================] - 2s 145ms/step - loss: 9.3812e-06 - val_loss: 0.0150\n",
      "Epoch 19/100\n",
      "13/13 [==============================] - 2s 152ms/step - loss: 9.5121e-06 - val_loss: 0.0124\n",
      "Epoch 20/100\n",
      "13/13 [==============================] - 2s 161ms/step - loss: 9.0937e-06 - val_loss: 0.0108\n",
      "Epoch 21/100\n",
      "13/13 [==============================] - 2s 147ms/step - loss: 9.9834e-06 - val_loss: 0.0098\n",
      "Epoch 22/100\n",
      "13/13 [==============================] - 2s 148ms/step - loss: 8.9910e-06 - val_loss: 0.0098\n",
      "Epoch 23/100\n",
      "13/13 [==============================] - 2s 144ms/step - loss: 8.6255e-06 - val_loss: 0.0115\n",
      "Epoch 24/100\n",
      "13/13 [==============================] - 2s 144ms/step - loss: 8.5465e-06 - val_loss: 0.0135\n",
      "Epoch 25/100\n",
      "13/13 [==============================] - 2s 146ms/step - loss: 9.0536e-06 - val_loss: 0.0114\n",
      "Epoch 26/100\n",
      "13/13 [==============================] - 2s 147ms/step - loss: 1.0084e-05 - val_loss: 0.0100\n",
      "Epoch 27/100\n",
      "13/13 [==============================] - 2s 146ms/step - loss: 1.0030e-05 - val_loss: 0.0091\n",
      "Epoch 28/100\n",
      "13/13 [==============================] - 2s 163ms/step - loss: 1.1147e-05 - val_loss: 0.0127\n",
      "Epoch 29/100\n",
      "13/13 [==============================] - 2s 150ms/step - loss: 1.0056e-05 - val_loss: 0.0130\n",
      "Epoch 30/100\n",
      "13/13 [==============================] - 2s 143ms/step - loss: 9.4874e-06 - val_loss: 0.0105\n",
      "Epoch 31/100\n",
      "13/13 [==============================] - 2s 147ms/step - loss: 8.7118e-06 - val_loss: 0.0086\n",
      "Epoch 32/100\n",
      "13/13 [==============================] - 2s 151ms/step - loss: 7.9415e-06 - val_loss: 0.0115\n",
      "Epoch 33/100\n",
      "13/13 [==============================] - 2s 151ms/step - loss: 8.4814e-06 - val_loss: 0.0139\n",
      "Epoch 34/100\n",
      "13/13 [==============================] - 2s 150ms/step - loss: 8.6973e-06 - val_loss: 0.0105\n",
      "Epoch 35/100\n",
      "13/13 [==============================] - 2s 149ms/step - loss: 7.7844e-06 - val_loss: 0.0121\n",
      "Epoch 36/100\n",
      "13/13 [==============================] - 2s 154ms/step - loss: 7.3505e-06 - val_loss: 0.0105\n",
      "Epoch 37/100\n",
      "13/13 [==============================] - 2s 148ms/step - loss: 7.4217e-06 - val_loss: 0.0125\n",
      "Epoch 38/100\n",
      "13/13 [==============================] - 2s 148ms/step - loss: 8.0264e-06 - val_loss: 0.0107\n",
      "Epoch 39/100\n",
      "13/13 [==============================] - 2s 144ms/step - loss: 7.2004e-06 - val_loss: 0.0085\n",
      "Epoch 40/100\n",
      "13/13 [==============================] - 2s 143ms/step - loss: 7.6958e-06 - val_loss: 0.0131\n",
      "Epoch 41/100\n",
      "13/13 [==============================] - 2s 148ms/step - loss: 7.2293e-06 - val_loss: 0.0108\n",
      "Epoch 42/100\n",
      "13/13 [==============================] - 2s 147ms/step - loss: 7.8317e-06 - val_loss: 0.0072\n",
      "Epoch 43/100\n",
      "13/13 [==============================] - 2s 145ms/step - loss: 8.5114e-06 - val_loss: 0.0090\n",
      "Epoch 44/100\n",
      "13/13 [==============================] - 2s 149ms/step - loss: 7.0112e-06 - val_loss: 0.0137\n",
      "Epoch 45/100\n",
      "13/13 [==============================] - 2s 161ms/step - loss: 7.3822e-06 - val_loss: 0.0113\n",
      "Epoch 46/100\n",
      "13/13 [==============================] - 2s 149ms/step - loss: 7.2192e-06 - val_loss: 0.0078\n",
      "Epoch 47/100\n",
      "13/13 [==============================] - 2s 146ms/step - loss: 6.9447e-06 - val_loss: 0.0084\n",
      "Epoch 48/100\n",
      "13/13 [==============================] - 2s 149ms/step - loss: 6.7732e-06 - val_loss: 0.0093\n",
      "Epoch 49/100\n",
      "13/13 [==============================] - 2s 145ms/step - loss: 6.6160e-06 - val_loss: 0.0106\n",
      "Epoch 50/100\n",
      "13/13 [==============================] - 2s 145ms/step - loss: 6.6559e-06 - val_loss: 0.0106\n",
      "Epoch 51/100\n",
      "13/13 [==============================] - 2s 144ms/step - loss: 6.2019e-06 - val_loss: 0.0105\n",
      "Epoch 52/100\n",
      "13/13 [==============================] - 2s 144ms/step - loss: 6.2740e-06 - val_loss: 0.0108\n",
      "Epoch 53/100\n",
      "13/13 [==============================] - 2s 167ms/step - loss: 5.9531e-06 - val_loss: 0.0068\n",
      "Epoch 54/100\n",
      "13/13 [==============================] - 2s 149ms/step - loss: 6.4370e-06 - val_loss: 0.0107\n",
      "Epoch 55/100\n",
      "13/13 [==============================] - 2s 146ms/step - loss: 6.4968e-06 - val_loss: 0.0094\n",
      "Epoch 56/100\n",
      "13/13 [==============================] - 2s 146ms/step - loss: 6.1842e-06 - val_loss: 0.0097\n",
      "Epoch 57/100\n",
      "13/13 [==============================] - 2s 143ms/step - loss: 6.1729e-06 - val_loss: 0.0115\n",
      "Epoch 58/100\n",
      "13/13 [==============================] - 2s 143ms/step - loss: 6.2194e-06 - val_loss: 0.0098\n",
      "Epoch 59/100\n",
      "13/13 [==============================] - 2s 145ms/step - loss: 6.2417e-06 - val_loss: 0.0088\n",
      "Epoch 60/100\n",
      "13/13 [==============================] - 2s 146ms/step - loss: 6.0654e-06 - val_loss: 0.0080\n",
      "Epoch 61/100\n",
      "13/13 [==============================] - 2s 152ms/step - loss: 5.6379e-06 - val_loss: 0.0063\n",
      "Epoch 62/100\n",
      "13/13 [==============================] - 2s 159ms/step - loss: 7.3697e-06 - val_loss: 0.0103\n",
      "Epoch 63/100\n",
      "13/13 [==============================] - 2s 152ms/step - loss: 6.3386e-06 - val_loss: 0.0082\n",
      "Epoch 64/100\n",
      "13/13 [==============================] - 2s 146ms/step - loss: 5.6390e-06 - val_loss: 0.0092\n",
      "Epoch 65/100\n",
      "13/13 [==============================] - 2s 145ms/step - loss: 5.3022e-06 - val_loss: 0.0096\n",
      "Epoch 66/100\n",
      "13/13 [==============================] - 2s 145ms/step - loss: 5.2572e-06 - val_loss: 0.0075\n",
      "Epoch 67/100\n",
      "13/13 [==============================] - 2s 154ms/step - loss: 5.7140e-06 - val_loss: 0.0079\n",
      "Epoch 68/100\n",
      "13/13 [==============================] - 2s 150ms/step - loss: 5.2067e-06 - val_loss: 0.0082\n",
      "Epoch 69/100\n",
      "13/13 [==============================] - 2s 155ms/step - loss: 5.6273e-06 - val_loss: 0.0120\n",
      "Epoch 70/100\n",
      "13/13 [==============================] - 2s 155ms/step - loss: 5.6198e-06 - val_loss: 0.0078\n",
      "Epoch 71/100\n",
      "13/13 [==============================] - 2s 147ms/step - loss: 5.1600e-06 - val_loss: 0.0079\n",
      "Epoch 72/100\n",
      "13/13 [==============================] - 2s 145ms/step - loss: 5.8899e-06 - val_loss: 0.0067\n",
      "Epoch 73/100\n",
      "13/13 [==============================] - 2s 145ms/step - loss: 7.0670e-06 - val_loss: 0.0082\n",
      "Epoch 74/100\n",
      "13/13 [==============================] - 2s 143ms/step - loss: 5.5808e-06 - val_loss: 0.0098\n",
      "Epoch 75/100\n",
      "13/13 [==============================] - 2s 145ms/step - loss: 5.1007e-06 - val_loss: 0.0122\n",
      "Epoch 76/100\n",
      "13/13 [==============================] - 2s 145ms/step - loss: 4.6173e-06 - val_loss: 0.0105\n",
      "Epoch 77/100\n",
      "13/13 [==============================] - 2s 144ms/step - loss: 5.2209e-06 - val_loss: 0.0117\n",
      "Epoch 78/100\n"
     ]
    },
    {
     "name": "stdout",
     "output_type": "stream",
     "text": [
      "13/13 [==============================] - 2s 157ms/step - loss: 4.5558e-06 - val_loss: 0.0140\n",
      "Epoch 79/100\n",
      "13/13 [==============================] - 2s 157ms/step - loss: 4.7429e-06 - val_loss: 0.0109\n",
      "Epoch 80/100\n",
      "13/13 [==============================] - 2s 148ms/step - loss: 4.5504e-06 - val_loss: 0.0092\n",
      "Epoch 81/100\n",
      "13/13 [==============================] - 2s 143ms/step - loss: 4.4195e-06 - val_loss: 0.0092\n",
      "Epoch 82/100\n",
      "13/13 [==============================] - 2s 143ms/step - loss: 4.5698e-06 - val_loss: 0.0091\n",
      "Epoch 83/100\n",
      "13/13 [==============================] - 2s 144ms/step - loss: 5.9352e-06 - val_loss: 0.0060\n",
      "Epoch 84/100\n",
      "13/13 [==============================] - 2s 145ms/step - loss: 5.0190e-06 - val_loss: 0.0105\n",
      "Epoch 85/100\n",
      "13/13 [==============================] - 2s 146ms/step - loss: 4.9854e-06 - val_loss: 0.0102\n",
      "Epoch 86/100\n",
      "13/13 [==============================] - 2s 155ms/step - loss: 4.9669e-06 - val_loss: 0.0107\n",
      "Epoch 87/100\n",
      "13/13 [==============================] - 2s 159ms/step - loss: 5.1668e-06 - val_loss: 0.0104\n",
      "Epoch 88/100\n",
      "13/13 [==============================] - 2s 151ms/step - loss: 4.1852e-06 - val_loss: 0.0144\n",
      "Epoch 89/100\n",
      "13/13 [==============================] - 2s 153ms/step - loss: 4.6348e-06 - val_loss: 0.0122\n",
      "Epoch 90/100\n",
      "13/13 [==============================] - 2s 145ms/step - loss: 5.2452e-06 - val_loss: 0.0140\n",
      "Epoch 91/100\n",
      "13/13 [==============================] - 2s 148ms/step - loss: 4.0962e-06 - val_loss: 0.0106\n",
      "Epoch 92/100\n",
      "13/13 [==============================] - 2s 145ms/step - loss: 4.1070e-06 - val_loss: 0.0080\n",
      "Epoch 93/100\n",
      "13/13 [==============================] - 2s 146ms/step - loss: 4.0680e-06 - val_loss: 0.0083\n",
      "Epoch 94/100\n",
      "13/13 [==============================] - 2s 145ms/step - loss: 4.1540e-06 - val_loss: 0.0067\n",
      "Epoch 95/100\n",
      "13/13 [==============================] - 2s 161ms/step - loss: 3.9678e-06 - val_loss: 0.0088\n",
      "Epoch 96/100\n",
      "13/13 [==============================] - 2s 155ms/step - loss: 4.9572e-06 - val_loss: 0.0112\n",
      "Epoch 97/100\n",
      "13/13 [==============================] - 2s 147ms/step - loss: 4.1060e-06 - val_loss: 0.0095\n",
      "Epoch 98/100\n",
      "13/13 [==============================] - 2s 147ms/step - loss: 3.9374e-06 - val_loss: 0.0095\n",
      "Epoch 99/100\n",
      "13/13 [==============================] - 2s 145ms/step - loss: 4.9921e-06 - val_loss: 0.0102\n",
      "Epoch 100/100\n",
      "13/13 [==============================] - 2s 145ms/step - loss: 4.5874e-06 - val_loss: 0.0081\n"
     ]
    },
    {
     "data": {
      "text/plain": [
       "<keras.callbacks.History at 0x2b847703c70>"
      ]
     },
     "execution_count": 9,
     "metadata": {},
     "output_type": "execute_result"
    }
   ],
   "source": [
    "# 9. Fit mô hình với dữ liệu train\n",
    "model.fit(X_train,y_train,validation_data=(X_test,ytest),epochs=100,batch_size=64,verbose=1)"
   ]
  },
  {
   "cell_type": "code",
   "execution_count": 10,
   "id": "769b8e94",
   "metadata": {},
   "outputs": [
    {
     "name": "stdout",
     "output_type": "stream",
     "text": [
      "26/26 [==============================] - 2s 30ms/step\n",
      "14/14 [==============================] - 0s 32ms/step\n",
      "9/9 [==============================] - 0s 25ms/step\n"
     ]
    }
   ],
   "source": [
    "# 10. Dự báo dữ liệu test, val\n",
    "train_predict=model.predict(X_train)\n",
    "y_pred=model.predict(X_test)\n",
    "y_pred_val=model.predict(X_val)"
   ]
  },
  {
   "cell_type": "code",
   "execution_count": 11,
   "id": "c61d6198",
   "metadata": {},
   "outputs": [
    {
     "name": "stdout",
     "output_type": "stream",
     "text": [
      "Validation RMSE: 0.057952602952203315\n",
      "Testing RMSE: 0.20982658479831198\n",
      "Validation MAPE: 10.66686929161328\n",
      "Testing MAPE: 26.925663935901184\n",
      "Validation MAE: 0.0470962566819893\n",
      "Testing MAE: 0.167648161312008\n"
     ]
    }
   ],
   "source": [
    "# calculate the RMSE\n",
    "valid_rmse = np.sqrt(np.mean((y_pred_val - yval)**2))\n",
    "test_rmse = np.sqrt(np.mean((y_pred - ytest)**2))\n",
    "print('Validation RMSE:', valid_rmse)\n",
    "print('Testing RMSE:', test_rmse)\n",
    "\n",
    "# calculate the MAPE\n",
    "valid_mape = np.mean(np.abs((yval - y_pred_val) / yval)) * 100\n",
    "test_mape = np.mean(np.abs((ytest - y_pred) / ytest)) * 100\n",
    "print(\"Validation MAPE:\", valid_mape)\n",
    "print(\"Testing MAPE:\", test_mape)\n",
    "\n",
    "# calculate the MAE\n",
    "valid_mae = np.mean(np.abs(y_pred_val - yval))\n",
    "test_mae = np.mean(np.abs(y_pred - ytest))\n",
    "print(\"Validation MAE:\", valid_mae)\n",
    "print(\"Testing MAE:\", test_mae)"
   ]
  },
  {
   "cell_type": "code",
   "execution_count": 12,
   "id": "1b7444f9",
   "metadata": {},
   "outputs": [],
   "source": [
    "# 11. Chuẩn hóa dữ liệu y_pred, y_pred_val\n",
    "train_predict=scaler.inverse_transform(train_predict)\n",
    "y_pred=scaler.inverse_transform(y_pred)\n",
    "y_pred_val=scaler.inverse_transform(y_pred_val)"
   ]
  },
  {
   "cell_type": "code",
   "execution_count": 13,
   "id": "6a2ab455",
   "metadata": {},
   "outputs": [
    {
     "data": {
      "image/png": "[encoded data removed]",
      "text/plain": [
       "<Figure size 432x288 with 1 Axes>"
      ]
     },
     "metadata": {
      "needs_background": "light"
     },
     "output_type": "display_data"
    }
   ],
   "source": [
    "# 14.Vẽ hình\n",
    "\n",
    "train_data_index = pd.RangeIndex(start=0, stop=train_size, step=1)\n",
    "plt.plot(scaler.inverse_transform(train_data))\n",
    "test_data_index = pd.RangeIndex(start=train_size, stop=train_size+test_size, step=1)\n",
    "plt.plot(test_data_index,scaler.inverse_transform(test_data))\n",
    "test_data_index = pd.RangeIndex(start=train_size+101, stop=train_size+test_size, step=1)\n",
    "plt.plot(test_data_index,(y_pred))\n",
    "val_data_index = pd.RangeIndex(start=train_size+test_size, stop=train_size+test_size+val_size, step=1)\n",
    "plt.plot(val_data_index,scaler.inverse_transform(val_data))\n",
    "val_data_index = pd.RangeIndex(start=train_size+test_size+101, stop=train_size+test_size+val_size, step=1)\n",
    "plt.plot(val_data_index,y_pred_val)\n",
    "plt.legend(['Train','Test','Predict','Validate','ValidatePred'])\n",
    "plt.show()"
   ]
  }
 ],
 "metadata": {
  "kernelspec": {
   "display_name": "Python 3 (ipykernel)",
   "language": "python",
   "name": "python3"
  },
  "language_info": {
   "codemirror_mode": {
    "name": "ipython",
    "version": 3
   },
   "file_extension": ".py",
   "mimetype": "text/x-python",
   "name": "python",
   "nbconvert_exporter": "python",
   "pygments_lexer": "ipython3",
   "version": "3.9.12"
  }
 },
 "nbformat": 4,
 "nbformat_minor": 5
}

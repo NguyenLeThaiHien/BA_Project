{
 "cells": [
  {
   "cell_type": "code",
   "execution_count": 1,
   "id": "17b63580",
   "metadata": {},
   "outputs": [],
   "source": [
    "import pandas as pd\n",
    "import numpy as np\n",
    "import xgboost as xgb\n",
    "from sklearn.metrics import mean_squared_error, mean_absolute_error\n",
    "from sklearn.model_selection import train_test_split"
   ]
  },
  {
   "cell_type": "code",
   "execution_count": 2,
   "id": "f6680029",
   "metadata": {},
   "outputs": [
    {
     "data": {
      "text/plain": [
       "<bound method NDFrame.head of            Date   Price    Open    High     Low      Vol  Change\n",
       "0     5/18/2018   15.11   12.37   16.23   12.01  5630000  0.2218\n",
       "1     5/19/2018   14.33   15.11   15.65   13.95  3390000 -0.0516\n",
       "2     5/20/2018   14.17   14.33   14.39   13.69  2410000 -0.0113\n",
       "3     5/21/2018   14.67   14.17   14.80   14.08  2550000  0.0357\n",
       "4     5/22/2018   13.88   14.67   14.84   13.71  2360000 -0.0540\n",
       "...         ...     ...     ...     ...     ...      ...     ...\n",
       "1822  5/14/2023  312.09  310.71  314.70  309.50   199430  0.0045\n",
       "1823  5/15/2023  313.40  312.09  316.20  310.70   208510  0.0042\n",
       "1824  5/16/2023  311.30  313.40  314.00  309.40   190080 -0.0067\n",
       "1825  5/17/2023  314.29  311.30  314.30  307.20   229040  0.0096\n",
       "1826  5/18/2023  309.40  314.29  314.80  306.21   245410 -0.0156\n",
       "\n",
       "[1827 rows x 7 columns]>"
      ]
     },
     "execution_count": 2,
     "metadata": {},
     "output_type": "execute_result"
    }
   ],
   "source": [
    "# Read csv file\n",
    "df = pd.read_csv('BNB.csv',sep=\";\")\n",
    "df.head"
   ]
  },
  {
   "cell_type": "code",
   "execution_count": 3,
   "id": "69ac9d4a",
   "metadata": {},
   "outputs": [],
   "source": [
    "# Convert 'Date' column to datetime\n",
    "df['Date'] = pd.to_datetime(df['Date'])\n",
    "\n",
    "# Sort the dataframe by date in ascending order\n",
    "df.sort_values('Date', inplace=True)"
   ]
  },
  {
   "cell_type": "code",
   "execution_count": 4,
   "id": "7367b3a5",
   "metadata": {},
   "outputs": [],
   "source": [
    "# Splitting the dataset into features (X) and target variable (y)\n",
    "X = df.drop(['Date', 'Price'], axis=1)\n",
    "y = df['Price']\n",
    "\n",
    "# Splitting the dataset into train, test, and validation sets \n",
    "# with 7:2:1 scale\n",
    "X_train, X_test, y_train, y_test = train_test_split(X, y, test_size=0.3)\n",
    "X_test, X_val, y_test, y_val = train_test_split(X_test, y_test, test_size=0.33)"
   ]
  },
  {
   "cell_type": "code",
   "execution_count": 5,
   "id": "9d7ba955",
   "metadata": {},
   "outputs": [],
   "source": [
    "# Create an instance of the XGBoost regressor\n",
    "xgb_model = xgb.XGBRegressor()\n",
    "\n",
    "# Fit the model on the training data\n",
    "xgb_model.fit(X_train, y_train)\n",
    "\n",
    "# Make predictions on the validation set\n",
    "y_pred_val = xgb_model.predict(X_val)"
   ]
  },
  {
   "cell_type": "code",
   "execution_count": 6,
   "id": "26a539dc",
   "metadata": {},
   "outputs": [
    {
     "name": "stdout",
     "output_type": "stream",
     "text": [
      "RMSE on the validation set: 4.9443512469771305\n",
      "MAPE on the validation set: 1.6656287511254229\n",
      "MAE on the validation set: 2.4064599333752645\n"
     ]
    }
   ],
   "source": [
    "# Calculate predictions on the validation set\n",
    "y_pred_val = xgb_model.predict(X_val)\n",
    "\n",
    "# Calculate RMSE on the validation set\n",
    "rmse_val = np.sqrt(mean_squared_error(y_val, y_pred_val))\n",
    "print(\"RMSE on the validation set:\", rmse_val)\n",
    "\n",
    "# Calculate MAPE on the validation set\n",
    "mape_val = np.mean(np.abs((y_val - y_pred_val) / y_val)) * 100\n",
    "print(\"MAPE on the validation set:\", mape_val)\n",
    "\n",
    "# Calculate MAE on the validation set\n",
    "mae_val = mean_absolute_error(y_val, y_pred_val)\n",
    "print(\"MAE on the validation set:\", mae_val)"
   ]
  },
  {
   "cell_type": "code",
   "execution_count": 7,
   "id": "873c9cb3",
   "metadata": {},
   "outputs": [
    {
     "data": {
      "text/plain": [
       "XGBRegressor(base_score=None, booster=None, callbacks=None,\n",
       "             colsample_bylevel=None, colsample_bynode=None,\n",
       "             colsample_bytree=None, early_stopping_rounds=None,\n",
       "             enable_categorical=False, eval_metric=None, feature_types=None,\n",
       "             gamma=None, gpu_id=None, grow_policy=None, importance_type=None,\n",
       "             interaction_constraints=None, learning_rate=None, max_bin=None,\n",
       "             max_cat_threshold=None, max_cat_to_onehot=None,\n",
       "             max_delta_step=None, max_depth=None, max_leaves=None,\n",
       "             min_child_weight=None, missing=nan, monotone_constraints=None,\n",
       "             n_estimators=100, n_jobs=None, num_parallel_tree=None,\n",
       "             predictor=None, random_state=None, ...)"
      ]
     },
     "execution_count": 7,
     "metadata": {},
     "output_type": "execute_result"
    }
   ],
   "source": [
    "# Combine the train and validation sets for final model training\n",
    "X_train_final = pd.concat([X_train, X_val])\n",
    "y_train_final = pd.concat([y_train, y_val])\n",
    "\n",
    "# Retrain the model on the combined dataset\n",
    "xgb_model_final = xgb.XGBRegressor()\n",
    "xgb_model_final.fit(X_train_final, y_train_final)"
   ]
  },
  {
   "cell_type": "code",
   "execution_count": 8,
   "id": "4ec04eee",
   "metadata": {},
   "outputs": [
    {
     "name": "stdout",
     "output_type": "stream",
     "text": [
      "RMSE on the test set: 4.210939833115011\n",
      "MAPE on the test set: 1.4459997708492036\n",
      "MAE on the test set: 1.8965127582186254\n"
     ]
    }
   ],
   "source": [
    "# Calculate predictions on the test set\n",
    "y_pred_test = xgb_model.predict(X_test)\n",
    "\n",
    "# Calculate RMSE on the test set\n",
    "rmse_test = np.sqrt(mean_squared_error(y_test, y_pred_test))\n",
    "print(\"RMSE on the test set:\", rmse_test)\n",
    "\n",
    "# Calculate MAPE on the test set\n",
    "mape_test = np.mean(np.abs((y_test - y_pred_test) / y_test)) * 100\n",
    "print(\"MAPE on the test set:\", mape_test)\n",
    "\n",
    "# Calculate MAE on the test set\n",
    "mae_test = mean_absolute_error(y_test, y_pred_test)\n",
    "print(\"MAE on the test set:\", mae_test)"
   ]
  },
  {
   "cell_type": "code",
   "execution_count": 9,
   "id": "169604ba",
   "metadata": {},
   "outputs": [],
   "source": [
    "# Splitting the dataset into features (X) and target variable (y)\n",
    "X = df.drop(['Date', 'Price'], axis=1)\n",
    "y = df['Price']\n",
    "\n",
    "# Splitting the dataset into train, test, and validation sets\n",
    "# with 6:3:1 scale\n",
    "X_train, X_test, y_train, y_test = train_test_split(X, y, test_size=0.4)\n",
    "X_test, X_val, y_test, y_val = train_test_split(X_test, y_test, test_size=0.25)"
   ]
  },
  {
   "cell_type": "code",
   "execution_count": 10,
   "id": "dd9870d4",
   "metadata": {},
   "outputs": [],
   "source": [
    "# Create an instance of the XGBoost regressor\n",
    "xgb_model = xgb.XGBRegressor()\n",
    "\n",
    "# Fit the model on the training data\n",
    "xgb_model.fit(X_train, y_train)\n",
    "\n",
    "# Make predictions on the validation set\n",
    "y_pred_val = xgb_model.predict(X_val)"
   ]
  },
  {
   "cell_type": "code",
   "execution_count": 11,
   "id": "f6816497",
   "metadata": {},
   "outputs": [
    {
     "name": "stdout",
     "output_type": "stream",
     "text": [
      "RMSE on the validation set: 4.107652392540158\n",
      "MAPE on the validation set: 1.6602642457616883\n",
      "MAE on the validation set: 2.2570317856210176\n"
     ]
    }
   ],
   "source": [
    "# Calculate predictions on the validation set\n",
    "y_pred_val = xgb_model.predict(X_val)\n",
    "\n",
    "# Calculate RMSE on the validation set\n",
    "rmse_val = np.sqrt(mean_squared_error(y_val, y_pred_val))\n",
    "print(\"RMSE on the validation set:\", rmse_val)\n",
    "\n",
    "# Calculate MAPE on the validation set\n",
    "mape_val = np.mean(np.abs((y_val - y_pred_val) / y_val)) * 100\n",
    "print(\"MAPE on the validation set:\", mape_val)\n",
    "\n",
    "# Calculate MAE on the validation set\n",
    "mae_val = mean_absolute_error(y_val, y_pred_val)\n",
    "print(\"MAE on the validation set:\", mae_val)"
   ]
  },
  {
   "cell_type": "code",
   "execution_count": 12,
   "id": "7125cb78",
   "metadata": {},
   "outputs": [
    {
     "data": {
      "text/plain": [
       "XGBRegressor(base_score=None, booster=None, callbacks=None,\n",
       "             colsample_bylevel=None, colsample_bynode=None,\n",
       "             colsample_bytree=None, early_stopping_rounds=None,\n",
       "             enable_categorical=False, eval_metric=None, feature_types=None,\n",
       "             gamma=None, gpu_id=None, grow_policy=None, importance_type=None,\n",
       "             interaction_constraints=None, learning_rate=None, max_bin=None,\n",
       "             max_cat_threshold=None, max_cat_to_onehot=None,\n",
       "             max_delta_step=None, max_depth=None, max_leaves=None,\n",
       "             min_child_weight=None, missing=nan, monotone_constraints=None,\n",
       "             n_estimators=100, n_jobs=None, num_parallel_tree=None,\n",
       "             predictor=None, random_state=None, ...)"
      ]
     },
     "execution_count": 12,
     "metadata": {},
     "output_type": "execute_result"
    }
   ],
   "source": [
    "# Combine the train and validation sets for final model training\n",
    "X_train_final = pd.concat([X_train, X_val])\n",
    "y_train_final = pd.concat([y_train, y_val])\n",
    "\n",
    "# Retrain the model on the combined dataset\n",
    "xgb_model_final = xgb.XGBRegressor()\n",
    "xgb_model_final.fit(X_train_final, y_train_final)"
   ]
  },
  {
   "cell_type": "code",
   "execution_count": 13,
   "id": "ec4a27c2",
   "metadata": {},
   "outputs": [
    {
     "name": "stdout",
     "output_type": "stream",
     "text": [
      "RMSE on the test set: 6.3765871358876245\n",
      "MAPE on the test set: 1.8283483655127153\n",
      "MAE on the test set: 2.539189751304848\n"
     ]
    }
   ],
   "source": [
    "# Calculate predictions on the test set\n",
    "y_pred_test = xgb_model.predict(X_test)\n",
    "\n",
    "# Calculate RMSE on the test set\n",
    "rmse_test = np.sqrt(mean_squared_error(y_test, y_pred_test))\n",
    "print(\"RMSE on the test set:\", rmse_test)\n",
    "\n",
    "# Calculate MAPE on the test set\n",
    "mape_test = np.mean(np.abs((y_test - y_pred_test) / y_test)) * 100\n",
    "print(\"MAPE on the test set:\", mape_test)\n",
    "\n",
    "# Calculate MAE on the test set\n",
    "mae_test = mean_absolute_error(y_test, y_pred_test)\n",
    "print(\"MAE on the test set:\", mae_test)"
   ]
  },
  {
   "cell_type": "code",
   "execution_count": 14,
   "id": "b60d6f8e",
   "metadata": {},
   "outputs": [],
   "source": [
    "# Splitting the dataset into features (X) and target variable (y)\n",
    "X = df.drop(['Date', 'Price'], axis=1)\n",
    "y = df['Price']\n",
    "\n",
    "# Splitting the dataset into train, test, and validation sets\n",
    "# with 5:3:2 scale\n",
    "X_train, X_test, y_train, y_test = train_test_split(X, y, test_size=0.5)\n",
    "X_test, X_val, y_test, y_val = train_test_split(X_test, y_test, test_size=0.4)"
   ]
  },
  {
   "cell_type": "code",
   "execution_count": 15,
   "id": "510a76c6",
   "metadata": {},
   "outputs": [],
   "source": [
    "# Create an instance of the XGBoost regressor\n",
    "xgb_model = xgb.XGBRegressor()\n",
    "\n",
    "# Fit the model on the training data\n",
    "xgb_model.fit(X_train, y_train)\n",
    "\n",
    "# Make predictions on the validation set\n",
    "y_pred_val = xgb_model.predict(X_val)"
   ]
  },
  {
   "cell_type": "code",
   "execution_count": 16,
   "id": "375c0777",
   "metadata": {},
   "outputs": [
    {
     "name": "stdout",
     "output_type": "stream",
     "text": [
      "RMSE on the validation set: 5.501530296288486\n",
      "MAPE on the validation set: 1.853914330632668\n",
      "MAE on the validation set: 2.7021549737648884\n"
     ]
    }
   ],
   "source": [
    "\n",
    "# Calculate predictions on the validation set\n",
    "y_pred_val = xgb_model.predict(X_val)\n",
    "\n",
    "# Calculate RMSE on the validation set\n",
    "rmse_val = np.sqrt(mean_squared_error(y_val, y_pred_val))\n",
    "print(\"RMSE on the validation set:\", rmse_val)\n",
    "\n",
    "# Calculate MAPE on the validation set\n",
    "mape_val = np.mean(np.abs((y_val - y_pred_val) / y_val)) * 100\n",
    "print(\"MAPE on the validation set:\", mape_val)\n",
    "\n",
    "# Calculate MAE on the validation set\n",
    "mae_val = mean_absolute_error(y_val, y_pred_val)\n",
    "print(\"MAE on the validation set:\", mae_val)"
   ]
  },
  {
   "cell_type": "code",
   "execution_count": 17,
   "id": "eb61868b",
   "metadata": {},
   "outputs": [
    {
     "data": {
      "text/plain": [
       "XGBRegressor(base_score=None, booster=None, callbacks=None,\n",
       "             colsample_bylevel=None, colsample_bynode=None,\n",
       "             colsample_bytree=None, early_stopping_rounds=None,\n",
       "             enable_categorical=False, eval_metric=None, feature_types=None,\n",
       "             gamma=None, gpu_id=None, grow_policy=None, importance_type=None,\n",
       "             interaction_constraints=None, learning_rate=None, max_bin=None,\n",
       "             max_cat_threshold=None, max_cat_to_onehot=None,\n",
       "             max_delta_step=None, max_depth=None, max_leaves=None,\n",
       "             min_child_weight=None, missing=nan, monotone_constraints=None,\n",
       "             n_estimators=100, n_jobs=None, num_parallel_tree=None,\n",
       "             predictor=None, random_state=None, ...)"
      ]
     },
     "execution_count": 17,
     "metadata": {},
     "output_type": "execute_result"
    }
   ],
   "source": [
    "# Combine the train and validation sets for final model training\n",
    "X_train_final = pd.concat([X_train, X_val])\n",
    "y_train_final = pd.concat([y_train, y_val])\n",
    "\n",
    "# Retrain the model on the combined dataset\n",
    "xgb_model_final = xgb.XGBRegressor()\n",
    "xgb_model_final.fit(X_train_final, y_train_final)"
   ]
  },
  {
   "cell_type": "code",
   "execution_count": 18,
   "id": "c92f2dcd",
   "metadata": {},
   "outputs": [
    {
     "name": "stdout",
     "output_type": "stream",
     "text": [
      "RMSE on the test set: 6.335278075379221\n",
      "MAPE on the test set: 1.8854877980960405\n",
      "MAE on the test set: 3.1696727493209567\n"
     ]
    }
   ],
   "source": [
    "# Calculate predictions on the test set\n",
    "y_pred_test = xgb_model.predict(X_test)\n",
    "\n",
    "# Calculate RMSE on the test set\n",
    "rmse_test = np.sqrt(mean_squared_error(y_test, y_pred_test))\n",
    "print(\"RMSE on the test set:\", rmse_test)\n",
    "\n",
    "# Calculate MAPE on the test set\n",
    "mape_test = np.mean(np.abs((y_test - y_pred_test) / y_test)) * 100\n",
    "print(\"MAPE on the test set:\", mape_test)\n",
    "\n",
    "# Calculate MAE on the test set\n",
    "mae_test = mean_absolute_error(y_test, y_pred_test)\n",
    "print(\"MAE on the test set:\", mae_test)"
   ]
  }
 ],
 "metadata": {
  "kernelspec": {
   "display_name": "Python 3 (ipykernel)",
   "language": "python",
   "name": "python3"
  },
  "language_info": {
   "codemirror_mode": {
    "name": "ipython",
    "version": 3
   },
   "file_extension": ".py",
   "mimetype": "text/x-python",
   "name": "python",
   "nbconvert_exporter": "python",
   "pygments_lexer": "ipython3",
   "version": "3.9.12"
  }
 },
 "nbformat": 4,
 "nbformat_minor": 5
}

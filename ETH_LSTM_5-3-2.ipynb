{
 "cells": [
  {
   "cell_type": "code",
   "execution_count": 1,
   "metadata": {
    "colab": {
     "base_uri": "https://localhost:8080/"
    },
    "id": "FMDKda-XIUAK",
    "outputId": "be988c00-2f6c-43b6-a7bf-69a486a7845c"
   },
   "outputs": [
    {
     "name": "stderr",
     "output_type": "stream",
     "text": [
      "C:\\Users\\Duy Khanh\\anaconda3\\lib\\site-packages\\scipy\\__init__.py:146: UserWarning: A NumPy version >=1.16.5 and <1.23.0 is required for this version of SciPy (detected version 1.24.3\n",
      "  warnings.warn(f\"A NumPy version >={np_minversion} and <{np_maxversion}\"\n"
     ]
    }
   ],
   "source": [
    "# 1. Import thư viện cần thiết\n",
    "import numpy as np\n",
    "import pandas as pd\n",
    "import matplotlib.pyplot as plt\n",
    "from sklearn.preprocessing import MinMaxScaler\n",
    "from keras.models import Sequential\n",
    "from keras.layers import Dense, LSTM"
   ]
  },
  {
   "cell_type": "code",
   "execution_count": 2,
   "metadata": {
    "id": "aRm9GQ8KJJ5N"
   },
   "outputs": [],
   "source": [
    "# 2. Đọc file csv và gắng index với giá Price\n",
    "df = pd.read_csv('ETH.csv')\n",
    "df1=df.reset_index()['Price']"
   ]
  },
  {
   "cell_type": "code",
   "execution_count": 3,
   "metadata": {
    "id": "RdVpDho2JgL5"
   },
   "outputs": [],
   "source": [
    "# 3. Scaler data\n",
    "scaler=MinMaxScaler(feature_range=(0,1))\n",
    "df1=scaler.fit_transform(np.array(df1).reshape(-1,1))"
   ]
  },
  {
   "cell_type": "code",
   "execution_count": 4,
   "metadata": {
    "id": "B5JXpenzJoR3"
   },
   "outputs": [],
   "source": [
    "# 4. Chia train test với tỉ kệ 5:3:2\n",
    "train_size = int(0.5 * len(df1))\n",
    "test_size = int(0.3 * len(df1))\n",
    "val_size = len(df1) - train_size - test_size\n",
    "\n",
    "train_data = df1[:train_size]\n",
    "test_data = df1[train_size:train_size+test_size]\n",
    "val_data = df1[train_size+test_size:]"
   ]
  },
  {
   "cell_type": "code",
   "execution_count": 5,
   "metadata": {
    "id": "yJfmuBORLSfC"
   },
   "outputs": [],
   "source": [
    "# 5. Hàm Create Dataset\n",
    "import numpy\n",
    "# convert an array of values into a dataset matrix\n",
    "def create_dataset(dataset, time_step=1):\n",
    "\tdataX, dataY = [], []\n",
    "\tfor i in range(len(dataset)-time_step-1):\n",
    "\t\ta = dataset[i:(i+time_step), 0]   ###i=0, X=0,1,2,3-----99   Y=100 \n",
    "\t\tdataX.append(a)\n",
    "\t\tdataY.append(dataset[i + time_step, 0])\n",
    "\treturn numpy.array(dataX), numpy.array(dataY)"
   ]
  },
  {
   "cell_type": "code",
   "execution_count": 6,
   "metadata": {
    "id": "e81cKq03LXFB"
   },
   "outputs": [],
   "source": [
    "#6. Reshape into X=t,t+1,t+2..t+99 and Y=t+100\n",
    "time_step = 100\n",
    "X_train, y_train = create_dataset(train_data, time_step)\n",
    "X_val, yval = create_dataset(val_data, time_step)\n",
    "X_test, ytest = create_dataset(test_data, time_step)"
   ]
  },
  {
   "cell_type": "code",
   "execution_count": 7,
   "metadata": {
    "id": "RdBVfku7O2qb"
   },
   "outputs": [],
   "source": [
    "# 7. Reshape input to be [samples, time steps, features] which is required for LSTM\n",
    "X_train =X_train.reshape(X_train.shape[0],X_train.shape[1] , 1)\n",
    "X_test = X_test.reshape(X_test.shape[0],X_test.shape[1] , 1)\n",
    "X_val = X_val.reshape(X_val.shape[0],X_val.shape[1] , 1)"
   ]
  },
  {
   "cell_type": "code",
   "execution_count": 8,
   "metadata": {
    "id": "sSfxrE7BO9vX"
   },
   "outputs": [],
   "source": [
    "# 8. Define LSTM Model\n",
    "model=Sequential()\n",
    "model.add(LSTM(50,return_sequences=True,input_shape=(100,1)))\n",
    "model.add(LSTM(50,return_sequences=True))\n",
    "model.add(LSTM(50))\n",
    "model.add(Dense(1))\n",
    "model.compile(loss='mean_squared_error',optimizer='adam')"
   ]
  },
  {
   "cell_type": "code",
   "execution_count": 9,
   "metadata": {
    "colab": {
     "base_uri": "https://localhost:8080/"
    },
    "id": "zgfeujZSPEKr",
    "outputId": "87151598-3792-46b5-857d-e7626c6a63de"
   },
   "outputs": [
    {
     "name": "stdout",
     "output_type": "stream",
     "text": [
      "Epoch 1/100\n",
      "13/13 [==============================] - 48s 1s/step - loss: 3.8815e-04 - val_loss: 0.1762\n",
      "Epoch 2/100\n",
      "13/13 [==============================] - 6s 431ms/step - loss: 1.2959e-04 - val_loss: 0.0256\n",
      "Epoch 3/100\n",
      "13/13 [==============================] - 5s 401ms/step - loss: 6.4047e-05 - val_loss: 0.0244\n",
      "Epoch 4/100\n",
      "13/13 [==============================] - 5s 402ms/step - loss: 5.0604e-05 - val_loss: 0.0168\n",
      "Epoch 5/100\n",
      "13/13 [==============================] - 6s 468ms/step - loss: 3.9873e-05 - val_loss: 0.0120\n",
      "Epoch 6/100\n",
      "13/13 [==============================] - 6s 462ms/step - loss: 3.7868e-05 - val_loss: 0.0125\n",
      "Epoch 7/100\n",
      "13/13 [==============================] - 6s 486ms/step - loss: 3.8660e-05 - val_loss: 0.0082\n",
      "Epoch 8/100\n",
      "13/13 [==============================] - 5s 416ms/step - loss: 3.1402e-05 - val_loss: 0.0070\n",
      "Epoch 9/100\n",
      "13/13 [==============================] - 6s 453ms/step - loss: 3.0843e-05 - val_loss: 0.0075\n",
      "Epoch 10/100\n",
      "13/13 [==============================] - 6s 444ms/step - loss: 2.9414e-05 - val_loss: 0.0076\n",
      "Epoch 11/100\n",
      "13/13 [==============================] - 7s 566ms/step - loss: 3.0298e-05 - val_loss: 0.0057\n",
      "Epoch 12/100\n",
      "13/13 [==============================] - 5s 411ms/step - loss: 2.6156e-05 - val_loss: 0.0071\n",
      "Epoch 13/100\n",
      "13/13 [==============================] - 5s 355ms/step - loss: 2.6704e-05 - val_loss: 0.0052\n",
      "Epoch 14/100\n",
      "13/13 [==============================] - 5s 409ms/step - loss: 2.8007e-05 - val_loss: 0.0051\n",
      "Epoch 15/100\n",
      "13/13 [==============================] - 6s 482ms/step - loss: 2.3799e-05 - val_loss: 0.0058\n",
      "Epoch 16/100\n",
      "13/13 [==============================] - 6s 479ms/step - loss: 2.4221e-05 - val_loss: 0.0047\n",
      "Epoch 17/100\n",
      "13/13 [==============================] - 6s 495ms/step - loss: 2.2915e-05 - val_loss: 0.0055\n",
      "Epoch 18/100\n",
      "13/13 [==============================] - 7s 531ms/step - loss: 2.4636e-05 - val_loss: 0.0042\n",
      "Epoch 19/100\n",
      "13/13 [==============================] - 7s 539ms/step - loss: 2.3184e-05 - val_loss: 0.0041\n",
      "Epoch 20/100\n",
      "13/13 [==============================] - 7s 547ms/step - loss: 2.4926e-05 - val_loss: 0.0047\n",
      "Epoch 21/100\n",
      "13/13 [==============================] - 7s 568ms/step - loss: 2.4385e-05 - val_loss: 0.0043\n",
      "Epoch 22/100\n",
      "13/13 [==============================] - 9s 677ms/step - loss: 2.3662e-05 - val_loss: 0.0039\n",
      "Epoch 23/100\n",
      "13/13 [==============================] - 9s 694ms/step - loss: 2.3124e-05 - val_loss: 0.0041\n",
      "Epoch 24/100\n",
      "13/13 [==============================] - 9s 718ms/step - loss: 2.1380e-05 - val_loss: 0.0038\n",
      "Epoch 25/100\n",
      "13/13 [==============================] - 8s 652ms/step - loss: 1.9744e-05 - val_loss: 0.0040\n",
      "Epoch 26/100\n",
      "13/13 [==============================] - 9s 667ms/step - loss: 2.0134e-05 - val_loss: 0.0036\n",
      "Epoch 27/100\n",
      "13/13 [==============================] - 9s 661ms/step - loss: 2.0397e-05 - val_loss: 0.0039\n",
      "Epoch 28/100\n",
      "13/13 [==============================] - 7s 497ms/step - loss: 2.0815e-05 - val_loss: 0.0040\n",
      "Epoch 29/100\n",
      "13/13 [==============================] - 6s 475ms/step - loss: 1.9461e-05 - val_loss: 0.0036\n",
      "Epoch 30/100\n",
      "13/13 [==============================] - 6s 465ms/step - loss: 2.1575e-05 - val_loss: 0.0034\n",
      "Epoch 31/100\n",
      "13/13 [==============================] - 7s 585ms/step - loss: 1.9828e-05 - val_loss: 0.0033\n",
      "Epoch 32/100\n",
      "13/13 [==============================] - 6s 495ms/step - loss: 1.8686e-05 - val_loss: 0.0033\n",
      "Epoch 33/100\n",
      "13/13 [==============================] - 6s 465ms/step - loss: 1.8717e-05 - val_loss: 0.0040\n",
      "Epoch 34/100\n",
      "13/13 [==============================] - 7s 557ms/step - loss: 1.8270e-05 - val_loss: 0.0035\n",
      "Epoch 35/100\n",
      "13/13 [==============================] - 8s 585ms/step - loss: 1.7608e-05 - val_loss: 0.0037\n",
      "Epoch 36/100\n",
      "13/13 [==============================] - 6s 493ms/step - loss: 1.7043e-05 - val_loss: 0.0033\n",
      "Epoch 37/100\n",
      "13/13 [==============================] - 7s 554ms/step - loss: 1.8517e-05 - val_loss: 0.0033\n",
      "Epoch 38/100\n",
      "13/13 [==============================] - 8s 592ms/step - loss: 1.6909e-05 - val_loss: 0.0030\n",
      "Epoch 39/100\n",
      "13/13 [==============================] - 8s 606ms/step - loss: 1.6831e-05 - val_loss: 0.0043\n",
      "Epoch 40/100\n",
      "13/13 [==============================] - 8s 581ms/step - loss: 1.7112e-05 - val_loss: 0.0034\n",
      "Epoch 41/100\n",
      "13/13 [==============================] - 8s 591ms/step - loss: 1.6513e-05 - val_loss: 0.0042\n",
      "Epoch 42/100\n",
      "13/13 [==============================] - 8s 636ms/step - loss: 1.9881e-05 - val_loss: 0.0039\n",
      "Epoch 43/100\n",
      "13/13 [==============================] - 7s 563ms/step - loss: 1.8457e-05 - val_loss: 0.0028\n",
      "Epoch 44/100\n",
      "13/13 [==============================] - 8s 608ms/step - loss: 1.8859e-05 - val_loss: 0.0029\n",
      "Epoch 45/100\n",
      "13/13 [==============================] - 8s 600ms/step - loss: 1.5491e-05 - val_loss: 0.0032\n",
      "Epoch 46/100\n",
      "13/13 [==============================] - 7s 552ms/step - loss: 1.4951e-05 - val_loss: 0.0031\n",
      "Epoch 47/100\n",
      "13/13 [==============================] - 7s 536ms/step - loss: 1.6473e-05 - val_loss: 0.0059\n",
      "Epoch 48/100\n",
      "13/13 [==============================] - 7s 550ms/step - loss: 1.5943e-05 - val_loss: 0.0053\n",
      "Epoch 49/100\n",
      "13/13 [==============================] - 8s 653ms/step - loss: 1.4652e-05 - val_loss: 0.0042\n",
      "Epoch 50/100\n",
      "13/13 [==============================] - 7s 543ms/step - loss: 1.7058e-05 - val_loss: 0.0033\n",
      "Epoch 51/100\n",
      "13/13 [==============================] - 7s 551ms/step - loss: 1.4670e-05 - val_loss: 0.0038\n",
      "Epoch 52/100\n",
      "13/13 [==============================] - 8s 611ms/step - loss: 1.4527e-05 - val_loss: 0.0028\n",
      "Epoch 53/100\n",
      "13/13 [==============================] - 7s 577ms/step - loss: 1.5181e-05 - val_loss: 0.0025\n",
      "Epoch 54/100\n",
      "13/13 [==============================] - 6s 508ms/step - loss: 1.3515e-05 - val_loss: 0.0033\n",
      "Epoch 55/100\n",
      "13/13 [==============================] - 7s 546ms/step - loss: 1.4899e-05 - val_loss: 0.0047\n",
      "Epoch 56/100\n",
      "13/13 [==============================] - 8s 597ms/step - loss: 1.4753e-05 - val_loss: 0.0057\n",
      "Epoch 57/100\n",
      "13/13 [==============================] - 7s 572ms/step - loss: 1.2694e-05 - val_loss: 0.0025\n",
      "Epoch 58/100\n",
      "13/13 [==============================] - 8s 591ms/step - loss: 1.2796e-05 - val_loss: 0.0023\n",
      "Epoch 59/100\n",
      "13/13 [==============================] - 7s 530ms/step - loss: 1.3025e-05 - val_loss: 0.0028\n",
      "Epoch 60/100\n",
      "13/13 [==============================] - 7s 545ms/step - loss: 1.4378e-05 - val_loss: 0.0063\n",
      "Epoch 61/100\n",
      "13/13 [==============================] - 7s 520ms/step - loss: 1.2254e-05 - val_loss: 0.0048\n",
      "Epoch 62/100\n",
      "13/13 [==============================] - 8s 597ms/step - loss: 1.2636e-05 - val_loss: 0.0024\n",
      "Epoch 63/100\n",
      "13/13 [==============================] - 8s 620ms/step - loss: 1.2911e-05 - val_loss: 0.0028\n",
      "Epoch 64/100\n",
      "13/13 [==============================] - 7s 563ms/step - loss: 1.3377e-05 - val_loss: 0.0025\n",
      "Epoch 65/100\n",
      "13/13 [==============================] - 8s 617ms/step - loss: 1.1718e-05 - val_loss: 0.0054\n",
      "Epoch 66/100\n",
      "13/13 [==============================] - 8s 592ms/step - loss: 1.3070e-05 - val_loss: 0.0024\n",
      "Epoch 67/100\n",
      "13/13 [==============================] - 8s 595ms/step - loss: 1.2736e-05 - val_loss: 0.0024\n",
      "Epoch 68/100\n",
      "13/13 [==============================] - 8s 620ms/step - loss: 1.2630e-05 - val_loss: 0.0038\n",
      "Epoch 69/100\n",
      "13/13 [==============================] - 8s 600ms/step - loss: 1.0803e-05 - val_loss: 0.0043\n",
      "Epoch 70/100\n",
      "13/13 [==============================] - 8s 638ms/step - loss: 1.1437e-05 - val_loss: 0.0038\n",
      "Epoch 71/100\n",
      "13/13 [==============================] - 7s 545ms/step - loss: 1.0464e-05 - val_loss: 0.0020\n",
      "Epoch 72/100\n",
      "13/13 [==============================] - 8s 625ms/step - loss: 1.0414e-05 - val_loss: 0.0029\n",
      "Epoch 73/100\n",
      "13/13 [==============================] - 8s 620ms/step - loss: 9.6025e-06 - val_loss: 0.0024\n",
      "Epoch 74/100\n",
      "13/13 [==============================] - 7s 558ms/step - loss: 1.0678e-05 - val_loss: 0.0025\n",
      "Epoch 75/100\n",
      "13/13 [==============================] - 7s 513ms/step - loss: 9.6421e-06 - val_loss: 0.0035\n",
      "Epoch 76/100\n",
      "13/13 [==============================] - 7s 563ms/step - loss: 1.0077e-05 - val_loss: 0.0020\n",
      "Epoch 77/100\n",
      "13/13 [==============================] - 7s 550ms/step - loss: 9.4839e-06 - val_loss: 0.0050\n",
      "Epoch 78/100\n",
      "13/13 [==============================] - 6s 491ms/step - loss: 9.2108e-06 - val_loss: 0.0038\n",
      "Epoch 79/100\n",
      "13/13 [==============================] - 7s 530ms/step - loss: 9.0584e-06 - val_loss: 0.0025\n",
      "Epoch 80/100\n",
      "13/13 [==============================] - 6s 485ms/step - loss: 8.7966e-06 - val_loss: 0.0022\n",
      "Epoch 81/100\n",
      "13/13 [==============================] - 6s 458ms/step - loss: 8.8857e-06 - val_loss: 0.0029\n",
      "Epoch 82/100\n",
      "13/13 [==============================] - 6s 457ms/step - loss: 1.0074e-05 - val_loss: 0.0060\n",
      "Epoch 83/100\n",
      "13/13 [==============================] - 7s 537ms/step - loss: 9.6162e-06 - val_loss: 0.0049\n",
      "Epoch 84/100\n",
      "13/13 [==============================] - 7s 511ms/step - loss: 8.6065e-06 - val_loss: 0.0024\n",
      "Epoch 85/100\n",
      "13/13 [==============================] - 7s 513ms/step - loss: 8.7427e-06 - val_loss: 0.0028\n",
      "Epoch 86/100\n",
      "13/13 [==============================] - 7s 534ms/step - loss: 8.5180e-06 - val_loss: 0.0031\n",
      "Epoch 87/100\n",
      "13/13 [==============================] - 7s 582ms/step - loss: 7.9927e-06 - val_loss: 0.0020\n",
      "Epoch 88/100\n",
      "13/13 [==============================] - 6s 493ms/step - loss: 8.0143e-06 - val_loss: 0.0030\n",
      "Epoch 89/100\n",
      "13/13 [==============================] - 6s 486ms/step - loss: 9.2124e-06 - val_loss: 0.0034\n",
      "Epoch 90/100\n",
      "13/13 [==============================] - 6s 483ms/step - loss: 7.9196e-06 - val_loss: 0.0041\n",
      "Epoch 91/100\n",
      "13/13 [==============================] - 6s 464ms/step - loss: 9.6473e-06 - val_loss: 0.0043\n",
      "Epoch 92/100\n",
      "13/13 [==============================] - 5s 379ms/step - loss: 9.4194e-06 - val_loss: 0.0019\n",
      "Epoch 93/100\n",
      "13/13 [==============================] - 5s 417ms/step - loss: 8.8003e-06 - val_loss: 0.0021\n",
      "Epoch 94/100\n",
      "13/13 [==============================] - 6s 451ms/step - loss: 7.8150e-06 - val_loss: 0.0026\n",
      "Epoch 95/100\n",
      "13/13 [==============================] - 6s 495ms/step - loss: 8.3446e-06 - val_loss: 0.0052\n",
      "Epoch 96/100\n",
      "13/13 [==============================] - 5s 416ms/step - loss: 7.2869e-06 - val_loss: 0.0030\n",
      "Epoch 97/100\n",
      "13/13 [==============================] - 5s 353ms/step - loss: 7.7393e-06 - val_loss: 0.0031\n",
      "Epoch 98/100\n",
      "13/13 [==============================] - 5s 366ms/step - loss: 6.9506e-06 - val_loss: 0.0034\n",
      "Epoch 99/100\n",
      "13/13 [==============================] - 5s 379ms/step - loss: 6.8646e-06 - val_loss: 0.0025\n",
      "Epoch 100/100\n",
      "13/13 [==============================] - 5s 371ms/step - loss: 7.0076e-06 - val_loss: 0.0029\n"
     ]
    },
    {
     "data": {
      "text/plain": [
       "<keras.callbacks.History at 0x255c11d6160>"
      ]
     },
     "execution_count": 9,
     "metadata": {},
     "output_type": "execute_result"
    }
   ],
   "source": [
    "# 9. Fit mô hình với dữ liệu train\n",
    "model.fit(X_train,y_train,validation_data=(X_test,ytest),epochs=100,batch_size=64,verbose=1)"
   ]
  },
  {
   "cell_type": "code",
   "execution_count": 10,
   "metadata": {
    "colab": {
     "base_uri": "https://localhost:8080/"
    },
    "id": "Rxx_KQSkQpBG",
    "outputId": "838b0243-c20c-4627-f6a3-a1d23b99fffc"
   },
   "outputs": [
    {
     "name": "stdout",
     "output_type": "stream",
     "text": [
      "26/26 [==============================] - 6s 65ms/step\n",
      "14/14 [==============================] - 1s 63ms/step\n",
      "9/9 [==============================] - 1s 72ms/step\n"
     ]
    }
   ],
   "source": [
    "# 10. Dự báo dữ liệu test, val\n",
    "train_predict=model.predict(X_train)\n",
    "y_pred=model.predict(X_test)\n",
    "y_pred_val=model.predict(X_val)"
   ]
  },
  {
   "cell_type": "code",
   "execution_count": 11,
   "metadata": {},
   "outputs": [
    {
     "name": "stdout",
     "output_type": "stream",
     "text": [
      "Validation RMSE: 0.07594632814772809\n",
      "Testing RMSE: 0.24781562384590453\n",
      "Validation MAPE: 20.851914142117682\n",
      "Testing MAPE: 36.73644475111646\n",
      "Validation MAE: 0.061413401421703054\n",
      "Testing MAE: 0.20056548904371668\n"
     ]
    }
   ],
   "source": [
    "# calculate the RMSE\n",
    "valid_rmse = np.sqrt(np.mean((y_pred_val - yval)**2))\n",
    "test_rmse = np.sqrt(np.mean((y_pred - ytest)**2))\n",
    "print('Validation RMSE:', valid_rmse)\n",
    "print('Testing RMSE:', test_rmse)\n",
    "\n",
    "# calculate the MAPE\n",
    "valid_mape = np.mean(np.abs((yval - y_pred_val) / yval)) * 100\n",
    "test_mape = np.mean(np.abs((ytest - y_pred) / ytest)) * 100\n",
    "print(\"Validation MAPE:\", valid_mape)\n",
    "print(\"Testing MAPE:\", test_mape)\n",
    "\n",
    "# calculate the MAE\n",
    "valid_mae = np.mean(np.abs(y_pred_val - yval))\n",
    "test_mae = np.mean(np.abs(y_pred - ytest))\n",
    "print(\"Validation MAE:\", valid_mae)\n",
    "print(\"Testing MAE:\", test_mae)"
   ]
  },
  {
   "cell_type": "code",
   "execution_count": 12,
   "metadata": {
    "id": "5rwTN10LQ7rj"
   },
   "outputs": [],
   "source": [
    "# 11. Chuẩn hóa dữ liệu y_pred, y_pred_val\n",
    "train_predict=scaler.inverse_transform(train_predict)\n",
    "y_pred=scaler.inverse_transform(y_pred)\n",
    "y_pred_val=scaler.inverse_transform(y_pred_val)"
   ]
  },
  {
   "cell_type": "code",
   "execution_count": 13,
   "metadata": {
    "colab": {
     "base_uri": "https://localhost:8080/",
     "height": 430
    },
    "id": "KSa_mX51a654",
    "outputId": "a46b0393-ed53-41d8-b391-c22820d72e83"
   },
   "outputs": [
    {
     "data": {
      "image/png": "[encoded data removed]",
      "text/plain": [
       "<Figure size 432x288 with 1 Axes>"
      ]
     },
     "metadata": {
      "needs_background": "light"
     },
     "output_type": "display_data"
    }
   ],
   "source": [
    "# 14.Vẽ hình\n",
    "\n",
    "train_data_index = pd.RangeIndex(start=0, stop=train_size, step=1)\n",
    "plt.plot(scaler.inverse_transform(train_data))\n",
    "test_data_index = pd.RangeIndex(start=train_size, stop=train_size+test_size, step=1)\n",
    "plt.plot(test_data_index,scaler.inverse_transform(test_data))\n",
    "test_data_index = pd.RangeIndex(start=train_size+101, stop=train_size+test_size, step=1)\n",
    "plt.plot(test_data_index,(y_pred))\n",
    "val_data_index = pd.RangeIndex(start=train_size+test_size, stop=train_size+test_size+val_size, step=1)\n",
    "plt.plot(val_data_index,scaler.inverse_transform(val_data))\n",
    "val_data_index = pd.RangeIndex(start=train_size+test_size+101, stop=train_size+test_size+val_size, step=1)\n",
    "plt.plot(val_data_index,y_pred_val)\n",
    "plt.legend(['Train','Test','Predict','Validate','ValidatePred'])\n",
    "plt.show()"
   ]
  },
  {
   "cell_type": "code",
   "execution_count": null,
   "metadata": {},
   "outputs": [],
   "source": []
  }
 ],
 "metadata": {
  "colab": {
   "provenance": []
  },
  "kernelspec": {
   "display_name": "Python 3 (ipykernel)",
   "language": "python",
   "name": "python3"
  },
  "language_info": {
   "codemirror_mode": {
    "name": "ipython",
    "version": 3
   },
   "file_extension": ".py",
   "mimetype": "text/x-python",
   "name": "python",
   "nbconvert_exporter": "python",
   "pygments_lexer": "ipython3",
   "version": "3.9.12"
  }
 },
 "nbformat": 4,
 "nbformat_minor": 1
}

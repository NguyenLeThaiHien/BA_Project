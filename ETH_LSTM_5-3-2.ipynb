{
  "cells": [
    {
      "cell_type": "code",
      "execution_count": 1,
      "metadata": {
        "id": "FMDKda-XIUAK"
      },
      "outputs": [],
      "source": [
        "from google.colab import drive\n",
        "\n",
        "# 1. Import thư viện cần thiết\n",
        "import numpy as np\n",
        "import pandas as pd\n",
        "import matplotlib.pyplot as plt\n",
        "from sklearn.preprocessing import MinMaxScaler\n",
        "from keras.models import Sequential\n",
        "from keras.layers import Dense, LSTM"
      ]
    },
    {
      "cell_type": "code",
      "execution_count": 2,
      "metadata": {
        "id": "aRm9GQ8KJJ5N"
      },
      "outputs": [],
      "source": [
        "# 2. Đọc file csv và gắng index với giá Price\n",
        "df = pd.read_csv('/content/ETH.csv')\n",
        "df1=df.reset_index()['Price']"
      ]
    },
    {
      "cell_type": "code",
      "execution_count": 3,
      "metadata": {
        "id": "RdVpDho2JgL5"
      },
      "outputs": [],
      "source": [
        "# 3. Scaler data\n",
        "scaler=MinMaxScaler(feature_range=(0,1))\n",
        "df1=scaler.fit_transform(np.array(df1).reshape(-1,1))"
      ]
    },
    {
      "cell_type": "code",
      "execution_count": 4,
      "metadata": {
        "id": "B5JXpenzJoR3"
      },
      "outputs": [],
      "source": [
        "# 4. Chia train test với tỉ kệ 5:3:2\n",
        "train_size = int(0.5 * len(df1))\n",
        "test_size = int(0.3 * len(df1))\n",
        "val_size = len(df1) - train_size - test_size\n",
        "\n",
        "train_data = df1[:train_size]\n",
        "test_data = df1[train_size:train_size+test_size]\n",
        "val_data = df1[train_size+test_size:]"
      ]
    },
    {
      "cell_type": "code",
      "execution_count": 5,
      "metadata": {
        "id": "yJfmuBORLSfC"
      },
      "outputs": [],
      "source": [
        "# 5. Hàm Create Dataset\n",
        "import numpy\n",
        "# convert an array of values into a dataset matrix\n",
        "def create_dataset(dataset, time_step=1):\n",
        "\tdataX, dataY = [], []\n",
        "\tfor i in range(len(dataset)-time_step-1):\n",
        "\t\ta = dataset[i:(i+time_step), 0]   ###i=0, X=0,1,2,3-----99   Y=100\n",
        "\t\tdataX.append(a)\n",
        "\t\tdataY.append(dataset[i + time_step, 0])\n",
        "\treturn numpy.array(dataX), numpy.array(dataY)"
      ]
    },
    {
      "cell_type": "code",
      "execution_count": 6,
      "metadata": {
        "id": "e81cKq03LXFB"
      },
      "outputs": [],
      "source": [
        "#6. Reshape into X=t,t+1,t+2..t+99 and Y=t+100\n",
        "time_step = 100\n",
        "X_train, y_train = create_dataset(train_data, time_step)\n",
        "X_val, yval = create_dataset(val_data, time_step)\n",
        "X_test, ytest = create_dataset(test_data, time_step)"
      ]
    },
    {
      "cell_type": "code",
      "execution_count": 7,
      "metadata": {
        "id": "RdBVfku7O2qb"
      },
      "outputs": [],
      "source": [
        "# 7. Reshape input to be [samples, time steps, features] which is required for LSTM\n",
        "X_train =X_train.reshape(X_train.shape[0],X_train.shape[1] , 1)\n",
        "X_test = X_test.reshape(X_test.shape[0],X_test.shape[1] , 1)\n",
        "X_val = X_val.reshape(X_val.shape[0],X_val.shape[1] , 1)"
      ]
    },
    {
      "cell_type": "code",
      "execution_count": 8,
      "metadata": {
        "id": "sSfxrE7BO9vX"
      },
      "outputs": [],
      "source": [
        "# 8. Define LSTM Model\n",
        "model=Sequential()\n",
        "model.add(LSTM(50,return_sequences=True,input_shape=(100,1)))\n",
        "model.add(LSTM(50,return_sequences=True))\n",
        "model.add(LSTM(50))\n",
        "model.add(Dense(1))\n",
        "model.compile(loss='mean_squared_error',optimizer='adam')"
      ]
    },
    {
      "cell_type": "code",
      "execution_count": 9,
      "metadata": {
        "colab": {
          "base_uri": "https://localhost:8080/"
        },
        "id": "zgfeujZSPEKr",
        "outputId": "151c6e2c-a325-4636-b223-ecd43c5da342"
      },
      "outputs": [
        {
          "output_type": "stream",
          "name": "stdout",
          "text": [
            "Epoch 1/100\n",
            "13/13 [==============================] - 10s 349ms/step - loss: 2.6754e-04 - val_loss: 0.0779\n",
            "Epoch 2/100\n",
            "13/13 [==============================] - 3s 240ms/step - loss: 9.1148e-05 - val_loss: 0.0087\n",
            "Epoch 3/100\n",
            "13/13 [==============================] - 3s 220ms/step - loss: 5.1085e-05 - val_loss: 0.0168\n",
            "Epoch 4/100\n",
            "13/13 [==============================] - 3s 207ms/step - loss: 4.0347e-05 - val_loss: 0.0082\n",
            "Epoch 5/100\n",
            "13/13 [==============================] - 3s 215ms/step - loss: 3.9222e-05 - val_loss: 0.0077\n",
            "Epoch 6/100\n",
            "13/13 [==============================] - 4s 276ms/step - loss: 3.4888e-05 - val_loss: 0.0087\n",
            "Epoch 7/100\n",
            "13/13 [==============================] - 3s 204ms/step - loss: 3.2829e-05 - val_loss: 0.0066\n",
            "Epoch 8/100\n",
            "13/13 [==============================] - 3s 195ms/step - loss: 3.0541e-05 - val_loss: 0.0063\n",
            "Epoch 9/100\n",
            "13/13 [==============================] - 2s 194ms/step - loss: 2.8487e-05 - val_loss: 0.0064\n",
            "Epoch 10/100\n",
            "13/13 [==============================] - 4s 294ms/step - loss: 3.2669e-05 - val_loss: 0.0053\n",
            "Epoch 11/100\n",
            "13/13 [==============================] - 3s 222ms/step - loss: 3.1281e-05 - val_loss: 0.0056\n",
            "Epoch 12/100\n",
            "13/13 [==============================] - 3s 210ms/step - loss: 2.7337e-05 - val_loss: 0.0050\n",
            "Epoch 13/100\n",
            "13/13 [==============================] - 3s 201ms/step - loss: 2.5437e-05 - val_loss: 0.0060\n",
            "Epoch 14/100\n",
            "13/13 [==============================] - 3s 249ms/step - loss: 2.4158e-05 - val_loss: 0.0059\n",
            "Epoch 15/100\n",
            "13/13 [==============================] - 3s 232ms/step - loss: 2.7613e-05 - val_loss: 0.0057\n",
            "Epoch 16/100\n",
            "13/13 [==============================] - 3s 236ms/step - loss: 2.3169e-05 - val_loss: 0.0045\n",
            "Epoch 17/100\n",
            "13/13 [==============================] - 3s 244ms/step - loss: 2.2662e-05 - val_loss: 0.0044\n",
            "Epoch 18/100\n",
            "13/13 [==============================] - 3s 261ms/step - loss: 2.1735e-05 - val_loss: 0.0046\n",
            "Epoch 19/100\n",
            "13/13 [==============================] - 4s 285ms/step - loss: 2.1770e-05 - val_loss: 0.0046\n",
            "Epoch 20/100\n",
            "13/13 [==============================] - 3s 201ms/step - loss: 2.3635e-05 - val_loss: 0.0055\n",
            "Epoch 21/100\n",
            "13/13 [==============================] - 3s 219ms/step - loss: 2.1290e-05 - val_loss: 0.0045\n",
            "Epoch 22/100\n",
            "13/13 [==============================] - 3s 226ms/step - loss: 2.0721e-05 - val_loss: 0.0049\n",
            "Epoch 23/100\n",
            "13/13 [==============================] - 3s 259ms/step - loss: 2.0719e-05 - val_loss: 0.0043\n",
            "Epoch 24/100\n",
            "13/13 [==============================] - 3s 202ms/step - loss: 2.1833e-05 - val_loss: 0.0088\n",
            "Epoch 25/100\n",
            "13/13 [==============================] - 4s 284ms/step - loss: 2.2019e-05 - val_loss: 0.0057\n",
            "Epoch 26/100\n",
            "13/13 [==============================] - 3s 209ms/step - loss: 1.9763e-05 - val_loss: 0.0037\n",
            "Epoch 27/100\n",
            "13/13 [==============================] - 4s 275ms/step - loss: 1.8999e-05 - val_loss: 0.0046\n",
            "Epoch 28/100\n",
            "13/13 [==============================] - 3s 222ms/step - loss: 1.8382e-05 - val_loss: 0.0066\n",
            "Epoch 29/100\n",
            "13/13 [==============================] - 3s 199ms/step - loss: 2.0106e-05 - val_loss: 0.0053\n",
            "Epoch 30/100\n",
            "13/13 [==============================] - 3s 201ms/step - loss: 1.8425e-05 - val_loss: 0.0036\n",
            "Epoch 31/100\n",
            "13/13 [==============================] - 4s 291ms/step - loss: 1.9836e-05 - val_loss: 0.0037\n",
            "Epoch 32/100\n",
            "13/13 [==============================] - 3s 202ms/step - loss: 1.8439e-05 - val_loss: 0.0061\n",
            "Epoch 33/100\n",
            "13/13 [==============================] - 3s 200ms/step - loss: 1.8748e-05 - val_loss: 0.0034\n",
            "Epoch 34/100\n",
            "13/13 [==============================] - 3s 205ms/step - loss: 1.7603e-05 - val_loss: 0.0037\n",
            "Epoch 35/100\n",
            "13/13 [==============================] - 3s 230ms/step - loss: 1.8548e-05 - val_loss: 0.0034\n",
            "Epoch 36/100\n",
            "13/13 [==============================] - 3s 251ms/step - loss: 1.9851e-05 - val_loss: 0.0081\n",
            "Epoch 37/100\n",
            "13/13 [==============================] - 3s 202ms/step - loss: 1.6819e-05 - val_loss: 0.0047\n",
            "Epoch 38/100\n",
            "13/13 [==============================] - 3s 208ms/step - loss: 1.7167e-05 - val_loss: 0.0038\n",
            "Epoch 39/100\n",
            "13/13 [==============================] - 3s 215ms/step - loss: 1.7787e-05 - val_loss: 0.0048\n",
            "Epoch 40/100\n",
            "13/13 [==============================] - 4s 297ms/step - loss: 1.7831e-05 - val_loss: 0.0078\n",
            "Epoch 41/100\n",
            "13/13 [==============================] - 3s 202ms/step - loss: 1.6312e-05 - val_loss: 0.0044\n",
            "Epoch 42/100\n",
            "13/13 [==============================] - 3s 199ms/step - loss: 1.6661e-05 - val_loss: 0.0073\n",
            "Epoch 43/100\n",
            "13/13 [==============================] - 3s 197ms/step - loss: 1.6794e-05 - val_loss: 0.0050\n",
            "Epoch 44/100\n",
            "13/13 [==============================] - 3s 244ms/step - loss: 1.6203e-05 - val_loss: 0.0070\n",
            "Epoch 45/100\n",
            "13/13 [==============================] - 3s 235ms/step - loss: 1.5227e-05 - val_loss: 0.0048\n",
            "Epoch 46/100\n",
            "13/13 [==============================] - 3s 200ms/step - loss: 1.5554e-05 - val_loss: 0.0054\n",
            "Epoch 47/100\n",
            "13/13 [==============================] - 3s 205ms/step - loss: 1.5261e-05 - val_loss: 0.0048\n",
            "Epoch 48/100\n",
            "13/13 [==============================] - 3s 199ms/step - loss: 1.5363e-05 - val_loss: 0.0066\n",
            "Epoch 49/100\n",
            "13/13 [==============================] - 4s 300ms/step - loss: 1.4927e-05 - val_loss: 0.0059\n",
            "Epoch 50/100\n",
            "13/13 [==============================] - 3s 200ms/step - loss: 1.4498e-05 - val_loss: 0.0081\n",
            "Epoch 51/100\n",
            "13/13 [==============================] - 3s 205ms/step - loss: 1.5043e-05 - val_loss: 0.0097\n",
            "Epoch 52/100\n",
            "13/13 [==============================] - 3s 200ms/step - loss: 1.5349e-05 - val_loss: 0.0053\n",
            "Epoch 53/100\n",
            "13/13 [==============================] - 3s 247ms/step - loss: 1.4322e-05 - val_loss: 0.0054\n",
            "Epoch 54/100\n",
            "13/13 [==============================] - 3s 243ms/step - loss: 1.6988e-05 - val_loss: 0.0059\n",
            "Epoch 55/100\n",
            "13/13 [==============================] - 3s 199ms/step - loss: 1.3516e-05 - val_loss: 0.0055\n",
            "Epoch 56/100\n",
            "13/13 [==============================] - 3s 220ms/step - loss: 1.2813e-05 - val_loss: 0.0084\n",
            "Epoch 57/100\n",
            "13/13 [==============================] - 3s 201ms/step - loss: 1.3486e-05 - val_loss: 0.0085\n",
            "Epoch 58/100\n",
            "13/13 [==============================] - 4s 307ms/step - loss: 1.6968e-05 - val_loss: 0.0049\n",
            "Epoch 59/100\n",
            "13/13 [==============================] - 3s 208ms/step - loss: 1.4571e-05 - val_loss: 0.0061\n",
            "Epoch 60/100\n",
            "13/13 [==============================] - 3s 198ms/step - loss: 1.6353e-05 - val_loss: 0.0096\n",
            "Epoch 61/100\n",
            "13/13 [==============================] - 3s 211ms/step - loss: 1.5752e-05 - val_loss: 0.0062\n",
            "Epoch 62/100\n",
            "13/13 [==============================] - 4s 289ms/step - loss: 1.3811e-05 - val_loss: 0.0062\n",
            "Epoch 63/100\n",
            "13/13 [==============================] - 3s 198ms/step - loss: 1.2050e-05 - val_loss: 0.0086\n",
            "Epoch 64/100\n",
            "13/13 [==============================] - 3s 198ms/step - loss: 1.1998e-05 - val_loss: 0.0062\n",
            "Epoch 65/100\n",
            "13/13 [==============================] - 3s 207ms/step - loss: 1.1704e-05 - val_loss: 0.0070\n",
            "Epoch 66/100\n",
            "13/13 [==============================] - 3s 221ms/step - loss: 1.1284e-05 - val_loss: 0.0078\n",
            "Epoch 67/100\n",
            "13/13 [==============================] - 3s 265ms/step - loss: 1.1494e-05 - val_loss: 0.0061\n",
            "Epoch 68/100\n",
            "13/13 [==============================] - 3s 199ms/step - loss: 1.1591e-05 - val_loss: 0.0050\n",
            "Epoch 69/100\n",
            "13/13 [==============================] - 3s 198ms/step - loss: 1.1412e-05 - val_loss: 0.0042\n",
            "Epoch 70/100\n",
            "13/13 [==============================] - 3s 207ms/step - loss: 1.1606e-05 - val_loss: 0.0060\n",
            "Epoch 71/100\n",
            "13/13 [==============================] - 4s 294ms/step - loss: 1.1760e-05 - val_loss: 0.0068\n",
            "Epoch 72/100\n",
            "13/13 [==============================] - 3s 198ms/step - loss: 1.2243e-05 - val_loss: 0.0068\n",
            "Epoch 73/100\n",
            "13/13 [==============================] - 3s 198ms/step - loss: 1.0455e-05 - val_loss: 0.0108\n",
            "Epoch 74/100\n",
            "13/13 [==============================] - 3s 201ms/step - loss: 1.0557e-05 - val_loss: 0.0103\n",
            "Epoch 75/100\n",
            "13/13 [==============================] - 3s 232ms/step - loss: 9.8212e-06 - val_loss: 0.0069\n",
            "Epoch 76/100\n",
            "13/13 [==============================] - 3s 256ms/step - loss: 1.0966e-05 - val_loss: 0.0041\n",
            "Epoch 77/100\n",
            "13/13 [==============================] - 3s 197ms/step - loss: 1.0115e-05 - val_loss: 0.0049\n",
            "Epoch 78/100\n",
            "13/13 [==============================] - 3s 203ms/step - loss: 9.7107e-06 - val_loss: 0.0072\n",
            "Epoch 79/100\n",
            "13/13 [==============================] - 3s 196ms/step - loss: 1.1110e-05 - val_loss: 0.0086\n",
            "Epoch 80/100\n",
            "13/13 [==============================] - 4s 295ms/step - loss: 9.6862e-06 - val_loss: 0.0063\n",
            "Epoch 81/100\n",
            "13/13 [==============================] - 3s 201ms/step - loss: 9.4690e-06 - val_loss: 0.0051\n",
            "Epoch 82/100\n",
            "13/13 [==============================] - 3s 200ms/step - loss: 8.9798e-06 - val_loss: 0.0083\n",
            "Epoch 83/100\n",
            "13/13 [==============================] - 3s 198ms/step - loss: 9.2280e-06 - val_loss: 0.0081\n",
            "Epoch 84/100\n",
            "13/13 [==============================] - 3s 206ms/step - loss: 8.9154e-06 - val_loss: 0.0084\n",
            "Epoch 85/100\n",
            "13/13 [==============================] - 4s 272ms/step - loss: 1.0467e-05 - val_loss: 0.0055\n",
            "Epoch 86/100\n",
            "13/13 [==============================] - 3s 218ms/step - loss: 1.1687e-05 - val_loss: 0.0076\n",
            "Epoch 87/100\n",
            "13/13 [==============================] - 3s 218ms/step - loss: 9.0204e-06 - val_loss: 0.0116\n",
            "Epoch 88/100\n",
            "13/13 [==============================] - 3s 210ms/step - loss: 8.1934e-06 - val_loss: 0.0077\n",
            "Epoch 89/100\n",
            "13/13 [==============================] - 4s 298ms/step - loss: 9.5833e-06 - val_loss: 0.0087\n",
            "Epoch 90/100\n",
            "13/13 [==============================] - 3s 207ms/step - loss: 9.6458e-06 - val_loss: 0.0121\n",
            "Epoch 91/100\n",
            "13/13 [==============================] - 3s 208ms/step - loss: 8.5507e-06 - val_loss: 0.0135\n",
            "Epoch 92/100\n",
            "13/13 [==============================] - 3s 203ms/step - loss: 8.3306e-06 - val_loss: 0.0049\n",
            "Epoch 93/100\n",
            "13/13 [==============================] - 3s 264ms/step - loss: 8.4146e-06 - val_loss: 0.0053\n",
            "Epoch 94/100\n",
            "13/13 [==============================] - 3s 234ms/step - loss: 7.8681e-06 - val_loss: 0.0056\n",
            "Epoch 95/100\n",
            "13/13 [==============================] - 3s 221ms/step - loss: 9.0860e-06 - val_loss: 0.0104\n",
            "Epoch 96/100\n",
            "13/13 [==============================] - 3s 204ms/step - loss: 8.1917e-06 - val_loss: 0.0145\n",
            "Epoch 97/100\n",
            "13/13 [==============================] - 3s 213ms/step - loss: 8.4970e-06 - val_loss: 0.0102\n",
            "Epoch 98/100\n",
            "13/13 [==============================] - 4s 269ms/step - loss: 7.2202e-06 - val_loss: 0.0076\n",
            "Epoch 99/100\n",
            "13/13 [==============================] - 3s 196ms/step - loss: 7.4928e-06 - val_loss: 0.0070\n",
            "Epoch 100/100\n",
            "13/13 [==============================] - 3s 199ms/step - loss: 7.2987e-06 - val_loss: 0.0095\n"
          ]
        },
        {
          "output_type": "execute_result",
          "data": {
            "text/plain": [
              "<keras.callbacks.History at 0x7f8b76712770>"
            ]
          },
          "metadata": {},
          "execution_count": 9
        }
      ],
      "source": [
        "# 9. Fit mô hình với dữ liệu train\n",
        "model.fit(X_train,y_train,validation_data=(X_test,ytest),epochs=100,batch_size=64,verbose=1)"
      ]
    },
    {
      "cell_type": "code",
      "execution_count": 10,
      "metadata": {
        "colab": {
          "base_uri": "https://localhost:8080/"
        },
        "id": "Rxx_KQSkQpBG",
        "outputId": "ea5be5c8-bd8d-4ed4-efb2-bfe7497af1c3"
      },
      "outputs": [
        {
          "output_type": "stream",
          "name": "stdout",
          "text": [
            "26/26 [==============================] - 2s 35ms/step\n",
            "14/14 [==============================] - 1s 37ms/step\n",
            "9/9 [==============================] - 0s 34ms/step\n"
          ]
        }
      ],
      "source": [
        "# 10. Dự báo dữ liệu test, val\n",
        "train_predict=model.predict(X_train)\n",
        "y_pred=model.predict(X_test)\n",
        "y_pred_val=model.predict(X_val)"
      ]
    },
    {
      "cell_type": "code",
      "execution_count": 11,
      "metadata": {
        "id": "5rwTN10LQ7rj"
      },
      "outputs": [],
      "source": [
        "# 11. Chuẩn hóa dữ liệu y_pred, y_pred_val\n",
        "train_predict=scaler.inverse_transform(train_predict)\n",
        "y_pred=scaler.inverse_transform(y_pred)\n",
        "y_pred_val=scaler.inverse_transform(y_pred_val)"
      ]
    },
    {
      "cell_type": "code",
      "execution_count": 13,
      "metadata": {
        "colab": {
          "base_uri": "https://localhost:8080/",
          "height": 430
        },
        "id": "KSa_mX51a654",
        "outputId": "eaddb5d0-458b-4734-a89c-9041435e5208"
      },
      "outputs": [
        {
          "output_type": "display_data",
          "data": {
            "text/plain": [
              "<Figure size 640x480 with 1 Axes>"
            ],
            "image/png": "[encoded data removed]"
          },
          "metadata": {}
        }
      ],
      "source": [
        "# 14.Vẽ hình\n",
        "\n",
        "train_data_index = pd.RangeIndex(start=0, stop=train_size, step=1)\n",
        "plt.plot(scaler.inverse_transform(train_data))\n",
        "test_data_index = pd.RangeIndex(start=train_size, stop=train_size+test_size, step=1)\n",
        "plt.plot(test_data_index,scaler.inverse_transform(test_data))\n",
        "test_data_index = pd.RangeIndex(start=train_size+101, stop=train_size+test_size, step=1)\n",
        "plt.plot(test_data_index,(y_pred))\n",
        "val_data_index = pd.RangeIndex(start=train_size+test_size, stop=train_size+test_size+val_size, step=1)\n",
        "plt.plot(val_data_index,scaler.inverse_transform(val_data))\n",
        "val_data_index = pd.RangeIndex(start=train_size+test_size+101, stop=train_size+test_size+val_size, step=1)\n",
        "plt.plot(val_data_index,y_pred_val)\n",
        "\n",
        "plt.legend(['Train','Test','Predict','Validate','ValidatePred'])\n",
        "plt.show()"
      ]
    },
    {
      "cell_type": "code",
      "execution_count": 16,
      "metadata": {
        "id": "96uMCvWbTYTW"
      },
      "outputs": [],
      "source": [
        "# Respliting train test\n",
        "train_size1 = int(0.5 * len(df))\n",
        "test_size1 = int(0.3 * len(df))\n",
        "train_data1 = df[:train_size1]\n",
        "test_data1 = df[train_size1:train_size1+test_size1]\n",
        "val_data1 = df[train_size1+test_size1:]\n",
        "# Repredictions on the testing set\n",
        "x_test1 = np.array(test_data1.drop('Price', axis=1))  # Use the features (excluding the target variable)\n",
        "y_test1 = np.array(test_data1['Price'])\n",
        "\n",
        "# Repredictions on the validation set\n",
        "x_val1 = np.array(val_data1.drop('Price', axis=1))  # Use the features (excluding the target variable)\n",
        "y_val1 = np.array(val_data1['Price'])"
      ]
    },
    {
      "cell_type": "code",
      "source": [
        "# Calculate evalution\n",
        "#RMSE\n",
        "valid_rmse = np.sqrt(np.mean((y_pred_val - y_val1)**2))\n",
        "test_rmse = np.sqrt(np.mean((y_pred - y_test1)**2))\n",
        "print('Validation RMSE:', valid_rmse)\n",
        "print('Testing RMSE:', test_rmse)\n",
        "\n",
        "#MAPE\n",
        "valid_mape = np.mean(np.abs((y_val1 - y_pred_val) / y_val1)) * 100\n",
        "test_mape = np.mean(np.abs((y_test1 - y_pred) / y_test1)) * 100\n",
        "print('Validation MAPE:', valid_mape)\n",
        "print('Testing MAPE:', test_mape)\n",
        "\n",
        "#MAE\n",
        "valid_mae = np.mean(np.abs(y_pred_val - y_val1))\n",
        "test_mae = np.mean(np.abs(y_pred - y_test1))\n",
        "print('Validation MAE:', valid_mae)\n",
        "print('Testing MAE:', test_mae)"
      ],
      "metadata": {
        "colab": {
          "base_uri": "https://localhost:8080/"
        },
        "id": "Om6Bfy6kTsMZ",
        "outputId": "aff5c360-297c-468f-8d8c-b4f367b4a243"
      },
      "execution_count": 17,
      "outputs": [
        {
          "output_type": "stream",
          "name": "stdout",
          "text": [
            "Validation RMSE: 396.6114843344226\n",
            "Testing RMSE: 1594.1444552518396\n",
            "Validation MAPE: 22.452286112041328\n",
            "Testing MAPE: 86.73355038148998\n",
            "Validation MAE: 321.8850430017753\n",
            "Testing MAE: 1273.4864691375294\n"
          ]
        }
      ]
    }
  ],
  "metadata": {
    "colab": {
      "provenance": []
    },
    "kernelspec": {
      "display_name": "Python 3 (ipykernel)",
      "language": "python",
      "name": "python3"
    },
    "language_info": {
      "codemirror_mode": {
        "name": "ipython",
        "version": 3
      },
      "file_extension": ".py",
      "mimetype": "text/x-python",
      "name": "python",
      "nbconvert_exporter": "python",
      "pygments_lexer": "ipython3",
      "version": "3.9.12"
    }
  },
  "nbformat": 4,
  "nbformat_minor": 0
}
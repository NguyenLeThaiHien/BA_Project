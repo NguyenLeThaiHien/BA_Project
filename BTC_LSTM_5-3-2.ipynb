{
 "cells": [
  {
   "cell_type": "code",
   "execution_count": 1,
   "metadata": {
    "colab": {
     "base_uri": "https://localhost:8080/"
    },
    "id": "FMDKda-XIUAK",
    "outputId": "be988c00-2f6c-43b6-a7bf-69a486a7845c"
   },
   "outputs": [],
   "source": [
    "# 1. Import thư viện cần thiết\n",
    "import numpy as np\n",
    "import pandas as pd\n",
    "import matplotlib.pyplot as plt\n",
    "from sklearn.preprocessing import MinMaxScaler\n",
    "from keras.models import Sequential\n",
    "from keras.layers import Dense, LSTM"
   ]
  },
  {
   "cell_type": "code",
   "execution_count": 2,
   "metadata": {
    "id": "aRm9GQ8KJJ5N"
   },
   "outputs": [],
   "source": [
    "# 2. Đọc file csv và gắng index với giá Price\n",
    "df = pd.read_csv('BTC.csv')\n",
    "df1=df.reset_index()['Price']"
   ]
  },
  {
   "cell_type": "code",
   "execution_count": 3,
   "metadata": {
    "id": "RdVpDho2JgL5"
   },
   "outputs": [],
   "source": [
    "# 3. Scaler data\n",
    "scaler=MinMaxScaler(feature_range=(0,1))\n",
    "df1=scaler.fit_transform(np.array(df1).reshape(-1,1))"
   ]
  },
  {
   "cell_type": "code",
   "execution_count": 4,
   "metadata": {
    "id": "B5JXpenzJoR3"
   },
   "outputs": [],
   "source": [
    "# 4. Chia train test với tỉ kệ 5:3:2\n",
    "train_size = int(0.5 * len(df1))\n",
    "test_size = int(0.3 * len(df1))\n",
    "val_size = len(df1) - train_size - test_size\n",
    "\n",
    "train_data = df1[:train_size]\n",
    "test_data = df1[train_size:train_size+test_size]\n",
    "val_data = df1[train_size+test_size:]"
   ]
  },
  {
   "cell_type": "code",
   "execution_count": 5,
   "metadata": {
    "id": "yJfmuBORLSfC"
   },
   "outputs": [],
   "source": [
    "# 5. Hàm Create Dataset\n",
    "import numpy\n",
    "# convert an array of values into a dataset matrix\n",
    "def create_dataset(dataset, time_step=1):\n",
    "\tdataX, dataY = [], []\n",
    "\tfor i in range(len(dataset)-time_step-1):\n",
    "\t\ta = dataset[i:(i+time_step), 0]   ###i=0, X=0,1,2,3-----99   Y=100 \n",
    "\t\tdataX.append(a)\n",
    "\t\tdataY.append(dataset[i + time_step, 0])\n",
    "\treturn numpy.array(dataX), numpy.array(dataY)"
   ]
  },
  {
   "cell_type": "code",
   "execution_count": 6,
   "metadata": {
    "id": "e81cKq03LXFB"
   },
   "outputs": [],
   "source": [
    "#6. Reshape into X=t,t+1,t+2..t+99 and Y=t+100\n",
    "time_step = 100\n",
    "X_train, y_train = create_dataset(train_data, time_step)\n",
    "X_val, yval = create_dataset(val_data, time_step)\n",
    "X_test, ytest = create_dataset(test_data, time_step)"
   ]
  },
  {
   "cell_type": "code",
   "execution_count": 7,
   "metadata": {
    "id": "RdBVfku7O2qb"
   },
   "outputs": [],
   "source": [
    "# 7. Reshape input to be [samples, time steps, features] which is required for LSTM\n",
    "X_train =X_train.reshape(X_train.shape[0],X_train.shape[1] , 1)\n",
    "X_test = X_test.reshape(X_test.shape[0],X_test.shape[1] , 1)\n",
    "X_val = X_val.reshape(X_val.shape[0],X_val.shape[1] , 1)"
   ]
  },
  {
   "cell_type": "code",
   "execution_count": 8,
   "metadata": {
    "id": "sSfxrE7BO9vX"
   },
   "outputs": [],
   "source": [
    "# 8. Define LSTM Model\n",
    "model=Sequential()\n",
    "model.add(LSTM(50,return_sequences=True,input_shape=(100,1)))\n",
    "model.add(LSTM(50,return_sequences=True))\n",
    "model.add(LSTM(50))\n",
    "model.add(Dense(1))\n",
    "model.compile(loss='mean_squared_error',optimizer='adam')"
   ]
  },
  {
   "cell_type": "code",
   "execution_count": 9,
   "metadata": {
    "colab": {
     "base_uri": "https://localhost:8080/"
    },
    "id": "zgfeujZSPEKr",
    "outputId": "87151598-3792-46b5-857d-e7626c6a63de"
   },
   "outputs": [
    {
     "name": "stdout",
     "output_type": "stream",
     "text": [
      "Epoch 1/100\n",
      "13/13 [==============================] - 8s 248ms/step - loss: 0.0017 - val_loss: 0.1198\n",
      "Epoch 2/100\n",
      "13/13 [==============================] - 2s 166ms/step - loss: 5.3661e-04 - val_loss: 0.0308\n",
      "Epoch 3/100\n",
      "13/13 [==============================] - 2s 163ms/step - loss: 2.6288e-04 - val_loss: 0.0066\n",
      "Epoch 4/100\n",
      "13/13 [==============================] - 2s 157ms/step - loss: 1.9798e-04 - val_loss: 0.0093\n",
      "Epoch 5/100\n",
      "13/13 [==============================] - 2s 162ms/step - loss: 1.7884e-04 - val_loss: 0.0057\n",
      "Epoch 6/100\n",
      "13/13 [==============================] - 2s 158ms/step - loss: 1.6946e-04 - val_loss: 0.0053\n",
      "Epoch 7/100\n",
      "13/13 [==============================] - 2s 161ms/step - loss: 1.5995e-04 - val_loss: 0.0047\n",
      "Epoch 8/100\n",
      "13/13 [==============================] - 2s 160ms/step - loss: 1.5310e-04 - val_loss: 0.0048\n",
      "Epoch 9/100\n",
      "13/13 [==============================] - 2s 195ms/step - loss: 1.5101e-04 - val_loss: 0.0043\n",
      "Epoch 10/100\n",
      "13/13 [==============================] - 3s 213ms/step - loss: 1.3910e-04 - val_loss: 0.0045\n",
      "Epoch 11/100\n",
      "13/13 [==============================] - 3s 201ms/step - loss: 1.3041e-04 - val_loss: 0.0040\n",
      "Epoch 12/100\n",
      "13/13 [==============================] - 3s 200ms/step - loss: 1.2562e-04 - val_loss: 0.0046\n",
      "Epoch 13/100\n",
      "13/13 [==============================] - 3s 209ms/step - loss: 1.2222e-04 - val_loss: 0.0053\n",
      "Epoch 14/100\n",
      "13/13 [==============================] - 3s 244ms/step - loss: 1.2470e-04 - val_loss: 0.0042\n",
      "Epoch 15/100\n",
      "13/13 [==============================] - 3s 240ms/step - loss: 1.2807e-04 - val_loss: 0.0037\n",
      "Epoch 16/100\n",
      "13/13 [==============================] - 2s 196ms/step - loss: 1.1568e-04 - val_loss: 0.0043\n",
      "Epoch 17/100\n",
      "13/13 [==============================] - 3s 204ms/step - loss: 1.1066e-04 - val_loss: 0.0036\n",
      "Epoch 18/100\n",
      "13/13 [==============================] - 2s 196ms/step - loss: 1.0886e-04 - val_loss: 0.0035\n",
      "Epoch 19/100\n",
      "13/13 [==============================] - 3s 198ms/step - loss: 1.0364e-04 - val_loss: 0.0036\n",
      "Epoch 20/100\n",
      "13/13 [==============================] - 3s 257ms/step - loss: 9.9390e-05 - val_loss: 0.0046\n",
      "Epoch 21/100\n",
      "13/13 [==============================] - 3s 243ms/step - loss: 1.1516e-04 - val_loss: 0.0035\n",
      "Epoch 22/100\n",
      "13/13 [==============================] - 3s 237ms/step - loss: 1.0310e-04 - val_loss: 0.0034\n",
      "Epoch 23/100\n",
      "13/13 [==============================] - 3s 227ms/step - loss: 9.5827e-05 - val_loss: 0.0038\n",
      "Epoch 24/100\n",
      "13/13 [==============================] - 3s 244ms/step - loss: 8.9383e-05 - val_loss: 0.0032\n",
      "Epoch 25/100\n",
      "13/13 [==============================] - 3s 246ms/step - loss: 8.9491e-05 - val_loss: 0.0034\n",
      "Epoch 26/100\n",
      "13/13 [==============================] - 3s 247ms/step - loss: 8.5466e-05 - val_loss: 0.0033\n",
      "Epoch 27/100\n",
      "13/13 [==============================] - 3s 251ms/step - loss: 8.7707e-05 - val_loss: 0.0033\n",
      "Epoch 28/100\n",
      "13/13 [==============================] - 3s 245ms/step - loss: 8.5967e-05 - val_loss: 0.0035\n",
      "Epoch 29/100\n",
      "13/13 [==============================] - 3s 236ms/step - loss: 8.6978e-05 - val_loss: 0.0033\n",
      "Epoch 30/100\n",
      "13/13 [==============================] - 3s 225ms/step - loss: 8.1627e-05 - val_loss: 0.0040\n",
      "Epoch 31/100\n",
      "13/13 [==============================] - 3s 227ms/step - loss: 9.3950e-05 - val_loss: 0.0036\n",
      "Epoch 32/100\n",
      "13/13 [==============================] - 3s 237ms/step - loss: 9.7768e-05 - val_loss: 0.0055\n",
      "Epoch 33/100\n",
      "13/13 [==============================] - 2s 192ms/step - loss: 9.3823e-05 - val_loss: 0.0030\n",
      "Epoch 34/100\n",
      "13/13 [==============================] - 3s 259ms/step - loss: 8.3651e-05 - val_loss: 0.0037\n",
      "Epoch 35/100\n",
      "13/13 [==============================] - 3s 247ms/step - loss: 8.1364e-05 - val_loss: 0.0030\n",
      "Epoch 36/100\n",
      "13/13 [==============================] - 3s 260ms/step - loss: 8.1740e-05 - val_loss: 0.0067\n",
      "Epoch 37/100\n",
      "13/13 [==============================] - 3s 264ms/step - loss: 8.2550e-05 - val_loss: 0.0051\n",
      "Epoch 38/100\n",
      "13/13 [==============================] - 3s 237ms/step - loss: 8.4716e-05 - val_loss: 0.0046\n",
      "Epoch 39/100\n",
      "13/13 [==============================] - 3s 262ms/step - loss: 7.4760e-05 - val_loss: 0.0055\n",
      "Epoch 40/100\n",
      "13/13 [==============================] - 4s 283ms/step - loss: 7.6099e-05 - val_loss: 0.0050\n",
      "Epoch 41/100\n",
      "13/13 [==============================] - 4s 311ms/step - loss: 7.6488e-05 - val_loss: 0.0059\n",
      "Epoch 42/100\n",
      "13/13 [==============================] - 4s 309ms/step - loss: 7.1026e-05 - val_loss: 0.0052\n",
      "Epoch 43/100\n",
      "13/13 [==============================] - 4s 272ms/step - loss: 6.9707e-05 - val_loss: 0.0046\n",
      "Epoch 44/100\n",
      "13/13 [==============================] - 3s 267ms/step - loss: 6.9356e-05 - val_loss: 0.0069\n",
      "Epoch 45/100\n",
      "13/13 [==============================] - 3s 252ms/step - loss: 6.8227e-05 - val_loss: 0.0061\n",
      "Epoch 46/100\n",
      "13/13 [==============================] - 3s 242ms/step - loss: 6.8384e-05 - val_loss: 0.0056\n",
      "Epoch 47/100\n",
      "13/13 [==============================] - 4s 302ms/step - loss: 6.8595e-05 - val_loss: 0.0040\n",
      "Epoch 48/100\n",
      "13/13 [==============================] - 4s 322ms/step - loss: 7.6454e-05 - val_loss: 0.0168\n",
      "Epoch 49/100\n",
      "13/13 [==============================] - 4s 306ms/step - loss: 8.2302e-05 - val_loss: 0.0054\n",
      "Epoch 50/100\n",
      "13/13 [==============================] - 4s 282ms/step - loss: 7.1126e-05 - val_loss: 0.0032\n",
      "Epoch 51/100\n",
      "13/13 [==============================] - 4s 311ms/step - loss: 6.7965e-05 - val_loss: 0.0107\n",
      "Epoch 52/100\n",
      "13/13 [==============================] - 3s 249ms/step - loss: 6.5414e-05 - val_loss: 0.0149\n",
      "Epoch 53/100\n",
      "13/13 [==============================] - 3s 264ms/step - loss: 7.0391e-05 - val_loss: 0.0046\n",
      "Epoch 54/100\n",
      "13/13 [==============================] - 4s 287ms/step - loss: 6.3185e-05 - val_loss: 0.0056\n",
      "Epoch 55/100\n",
      "13/13 [==============================] - 4s 292ms/step - loss: 6.1152e-05 - val_loss: 0.0062\n",
      "Epoch 56/100\n",
      "13/13 [==============================] - 4s 272ms/step - loss: 5.9280e-05 - val_loss: 0.0051\n",
      "Epoch 57/100\n",
      "13/13 [==============================] - 3s 254ms/step - loss: 6.2567e-05 - val_loss: 0.0049\n",
      "Epoch 58/100\n",
      "13/13 [==============================] - 4s 284ms/step - loss: 5.8729e-05 - val_loss: 0.0089\n",
      "Epoch 59/100\n",
      "13/13 [==============================] - 3s 207ms/step - loss: 6.0799e-05 - val_loss: 0.0042\n",
      "Epoch 60/100\n",
      "13/13 [==============================] - 3s 215ms/step - loss: 5.6800e-05 - val_loss: 0.0056\n",
      "Epoch 61/100\n",
      "13/13 [==============================] - 3s 247ms/step - loss: 5.9715e-05 - val_loss: 0.0030\n",
      "Epoch 62/100\n",
      "13/13 [==============================] - 3s 219ms/step - loss: 5.4564e-05 - val_loss: 0.0039\n",
      "Epoch 63/100\n",
      "13/13 [==============================] - 3s 268ms/step - loss: 5.3046e-05 - val_loss: 0.0053\n",
      "Epoch 64/100\n",
      "13/13 [==============================] - 3s 214ms/step - loss: 5.2362e-05 - val_loss: 0.0058\n",
      "Epoch 65/100\n",
      "13/13 [==============================] - 3s 245ms/step - loss: 5.4742e-05 - val_loss: 0.0054\n",
      "Epoch 66/100\n",
      "13/13 [==============================] - 3s 265ms/step - loss: 5.5200e-05 - val_loss: 0.0059\n",
      "Epoch 67/100\n",
      "13/13 [==============================] - 3s 256ms/step - loss: 5.0026e-05 - val_loss: 0.0040\n",
      "Epoch 68/100\n",
      "13/13 [==============================] - 3s 231ms/step - loss: 4.9829e-05 - val_loss: 0.0039\n",
      "Epoch 69/100\n",
      "13/13 [==============================] - 3s 251ms/step - loss: 4.9369e-05 - val_loss: 0.0053\n",
      "Epoch 70/100\n",
      "13/13 [==============================] - 3s 256ms/step - loss: 4.8305e-05 - val_loss: 0.0067\n",
      "Epoch 71/100\n",
      "13/13 [==============================] - 3s 247ms/step - loss: 4.7535e-05 - val_loss: 0.0038\n",
      "Epoch 72/100\n",
      "13/13 [==============================] - 3s 218ms/step - loss: 4.6949e-05 - val_loss: 0.0029\n",
      "Epoch 73/100\n",
      "13/13 [==============================] - 3s 227ms/step - loss: 4.5945e-05 - val_loss: 0.0042\n",
      "Epoch 74/100\n",
      "13/13 [==============================] - 3s 226ms/step - loss: 5.2234e-05 - val_loss: 0.0060\n",
      "Epoch 75/100\n",
      "13/13 [==============================] - 3s 249ms/step - loss: 5.5661e-05 - val_loss: 0.0026\n",
      "Epoch 76/100\n",
      "13/13 [==============================] - 4s 291ms/step - loss: 4.5470e-05 - val_loss: 0.0044\n",
      "Epoch 77/100\n",
      "13/13 [==============================] - 3s 263ms/step - loss: 5.2113e-05 - val_loss: 0.0049\n",
      "Epoch 78/100\n",
      "13/13 [==============================] - 3s 232ms/step - loss: 4.5545e-05 - val_loss: 0.0016\n",
      "Epoch 79/100\n",
      "13/13 [==============================] - 3s 223ms/step - loss: 5.0543e-05 - val_loss: 0.0022\n",
      "Epoch 80/100\n",
      "13/13 [==============================] - 3s 248ms/step - loss: 4.6855e-05 - val_loss: 0.0055\n",
      "Epoch 81/100\n",
      "13/13 [==============================] - 3s 257ms/step - loss: 4.8302e-05 - val_loss: 0.0032\n",
      "Epoch 82/100\n",
      "13/13 [==============================] - 3s 217ms/step - loss: 3.9626e-05 - val_loss: 0.0033\n",
      "Epoch 83/100\n",
      "13/13 [==============================] - 3s 208ms/step - loss: 4.1004e-05 - val_loss: 0.0032\n",
      "Epoch 84/100\n",
      "13/13 [==============================] - 3s 212ms/step - loss: 3.8563e-05 - val_loss: 0.0035\n",
      "Epoch 85/100\n",
      "13/13 [==============================] - 3s 230ms/step - loss: 4.2719e-05 - val_loss: 0.0054\n",
      "Epoch 86/100\n",
      "13/13 [==============================] - 3s 219ms/step - loss: 3.9438e-05 - val_loss: 0.0055\n",
      "Epoch 87/100\n",
      "13/13 [==============================] - 3s 229ms/step - loss: 3.8296e-05 - val_loss: 0.0042\n",
      "Epoch 88/100\n",
      "13/13 [==============================] - 3s 222ms/step - loss: 4.0661e-05 - val_loss: 0.0015\n",
      "Epoch 89/100\n",
      "13/13 [==============================] - 3s 226ms/step - loss: 4.1753e-05 - val_loss: 0.0044\n",
      "Epoch 90/100\n",
      "13/13 [==============================] - 3s 220ms/step - loss: 3.7642e-05 - val_loss: 0.0024\n",
      "Epoch 91/100\n",
      "13/13 [==============================] - 3s 216ms/step - loss: 3.9006e-05 - val_loss: 0.0019\n",
      "Epoch 92/100\n",
      "13/13 [==============================] - 3s 219ms/step - loss: 3.5756e-05 - val_loss: 0.0031\n",
      "Epoch 93/100\n",
      "13/13 [==============================] - 3s 217ms/step - loss: 3.4844e-05 - val_loss: 0.0019\n",
      "Epoch 94/100\n",
      "13/13 [==============================] - 3s 217ms/step - loss: 3.6254e-05 - val_loss: 0.0015\n",
      "Epoch 95/100\n",
      "13/13 [==============================] - 3s 225ms/step - loss: 3.4613e-05 - val_loss: 0.0045\n",
      "Epoch 96/100\n",
      "13/13 [==============================] - 3s 215ms/step - loss: 3.3276e-05 - val_loss: 0.0027\n",
      "Epoch 97/100\n",
      "13/13 [==============================] - 3s 222ms/step - loss: 3.4424e-05 - val_loss: 0.0033\n",
      "Epoch 98/100\n",
      "13/13 [==============================] - 4s 286ms/step - loss: 3.3305e-05 - val_loss: 0.0043\n",
      "Epoch 99/100\n",
      "13/13 [==============================] - 3s 252ms/step - loss: 3.7486e-05 - val_loss: 0.0034\n",
      "Epoch 100/100\n",
      "13/13 [==============================] - 3s 249ms/step - loss: 3.4522e-05 - val_loss: 0.0020\n"
     ]
    },
    {
     "data": {
      "text/plain": [
       "<keras.callbacks.History at 0x1e79026ffa0>"
      ]
     },
     "execution_count": 9,
     "metadata": {},
     "output_type": "execute_result"
    }
   ],
   "source": [
    "# 9. Fit mô hình với dữ liệu train\n",
    "model.fit(X_train,y_train,validation_data=(X_test,ytest),epochs=100,batch_size=64,verbose=1)"
   ]
  },
  {
   "cell_type": "code",
   "execution_count": 10,
   "metadata": {
    "colab": {
     "base_uri": "https://localhost:8080/"
    },
    "id": "Rxx_KQSkQpBG",
    "outputId": "838b0243-c20c-4627-f6a3-a1d23b99fffc"
   },
   "outputs": [
    {
     "name": "stdout",
     "output_type": "stream",
     "text": [
      "26/26 [==============================] - 2s 33ms/step\n",
      "14/14 [==============================] - 0s 34ms/step\n",
      "9/9 [==============================] - 0s 33ms/step\n"
     ]
    }
   ],
   "source": [
    "# 10. Dự báo dữ liệu test, val\n",
    "train_predict=model.predict(X_train)\n",
    "y_pred=model.predict(X_test)\n",
    "y_pred_val=model.predict(X_val)"
   ]
  },
  {
   "cell_type": "code",
   "execution_count": 11,
   "metadata": {},
   "outputs": [
    {
     "name": "stdout",
     "output_type": "stream",
     "text": [
      "Validation RMSE: 0.09430184875758651\n",
      "Testing RMSE: 0.2117349839178037\n",
      "Validation MAPE: 26.626511319115455\n",
      "Testing MAPE: 27.001102880548345\n",
      "Validation MAE: 0.07523730234076755\n",
      "Testing MAE: 0.1710795244069775\n"
     ]
    }
   ],
   "source": [
    "# calculate the RMSE\n",
    "valid_rmse = np.sqrt(np.mean((y_pred_val - yval)**2))\n",
    "test_rmse = np.sqrt(np.mean((y_pred - ytest)**2))\n",
    "print('Validation RMSE:', valid_rmse)\n",
    "print('Testing RMSE:', test_rmse)\n",
    "\n",
    "# calculate the MAPE\n",
    "valid_mape = np.mean(np.abs((yval - y_pred_val) / yval)) * 100\n",
    "test_mape = np.mean(np.abs((ytest - y_pred) / ytest)) * 100\n",
    "print(\"Validation MAPE:\", valid_mape)\n",
    "print(\"Testing MAPE:\", test_mape)\n",
    "\n",
    "# calculate the MAE\n",
    "valid_mae = np.mean(np.abs(y_pred_val - yval))\n",
    "test_mae = np.mean(np.abs(y_pred - ytest))\n",
    "print(\"Validation MAE:\", valid_mae)\n",
    "print(\"Testing MAE:\", test_mae)"
   ]
  },
  {
   "cell_type": "code",
   "execution_count": 12,
   "metadata": {
    "id": "5rwTN10LQ7rj"
   },
   "outputs": [],
   "source": [
    "# 11. Chuẩn hóa dữ liệu y_pred, y_pred_val\n",
    "train_predict=scaler.inverse_transform(train_predict)\n",
    "y_pred=scaler.inverse_transform(y_pred)\n",
    "y_pred_val=scaler.inverse_transform(y_pred_val)"
   ]
  },
  {
   "cell_type": "code",
   "execution_count": 13,
   "metadata": {
    "colab": {
     "base_uri": "https://localhost:8080/",
     "height": 430
    },
    "id": "KSa_mX51a654",
    "outputId": "a46b0393-ed53-41d8-b391-c22820d72e83"
   },
   "outputs": [
    {
     "data": {
      "image/png": "[encoded data removed]",
      "text/plain": [
       "<Figure size 432x288 with 1 Axes>"
      ]
     },
     "metadata": {
      "needs_background": "light"
     },
     "output_type": "display_data"
    }
   ],
   "source": [
    "# 12.Vẽ hình\n",
    "\n",
    "train_data_index = pd.RangeIndex(start=0, stop=train_size, step=1)\n",
    "plt.plot(scaler.inverse_transform(train_data))\n",
    "test_data_index = pd.RangeIndex(start=train_size, stop=train_size+test_size, step=1)\n",
    "plt.plot(test_data_index,scaler.inverse_transform(test_data))\n",
    "test_data_index = pd.RangeIndex(start=train_size+101, stop=train_size+test_size, step=1)\n",
    "plt.plot(test_data_index,(y_pred))\n",
    "val_data_index = pd.RangeIndex(start=train_size+test_size, stop=train_size+test_size+val_size, step=1)\n",
    "plt.plot(val_data_index,scaler.inverse_transform(val_data))\n",
    "val_data_index = pd.RangeIndex(start=train_size+test_size+101, stop=train_size+test_size+val_size, step=1)\n",
    "plt.plot(val_data_index,y_pred_val)\n",
    "plt.legend(['Train','Test','Predict','Validate','ValidatePred'])\n",
    "plt.show()"
   ]
  },
  {
   "cell_type": "code",
   "execution_count": null,
   "metadata": {},
   "outputs": [],
   "source": []
  }
 ],
 "metadata": {
  "colab": {
   "provenance": []
  },
  "kernelspec": {
   "display_name": "Python 3 (ipykernel)",
   "language": "python",
   "name": "python3"
  },
  "language_info": {
   "codemirror_mode": {
    "name": "ipython",
    "version": 3
   },
   "file_extension": ".py",
   "mimetype": "text/x-python",
   "name": "python",
   "nbconvert_exporter": "python",
   "pygments_lexer": "ipython3",
   "version": "3.9.12"
  }
 },
 "nbformat": 4,
 "nbformat_minor": 1
}

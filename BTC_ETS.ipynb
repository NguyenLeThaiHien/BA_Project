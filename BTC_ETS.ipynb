{
 "cells": [
  {
   "cell_type": "code",
   "execution_count": 1,
   "id": "aa1f2ab8",
   "metadata": {},
   "outputs": [],
   "source": [
    "import pandas as pd\n",
    "import numpy as np\n",
    "import matplotlib.pyplot as plt\n",
    "from statsmodels.tsa.holtwinters import ExponentialSmoothing"
   ]
  },
  {
   "cell_type": "code",
   "execution_count": 2,
   "id": "12b3e761",
   "metadata": {},
   "outputs": [
    {
     "data": {
      "text/html": [
       "<div>\n",
       "<style scoped>\n",
       "    .dataframe tbody tr th:only-of-type {\n",
       "        vertical-align: middle;\n",
       "    }\n",
       "\n",
       "    .dataframe tbody tr th {\n",
       "        vertical-align: top;\n",
       "    }\n",
       "\n",
       "    .dataframe thead th {\n",
       "        text-align: right;\n",
       "    }\n",
       "</style>\n",
       "<table border=\"1\" class=\"dataframe\">\n",
       "  <thead>\n",
       "    <tr style=\"text-align: right;\">\n",
       "      <th></th>\n",
       "      <th>Price</th>\n",
       "    </tr>\n",
       "  </thead>\n",
       "  <tbody>\n",
       "    <tr>\n",
       "      <th>0</th>\n",
       "      <td>13444.9</td>\n",
       "    </tr>\n",
       "    <tr>\n",
       "      <th>1</th>\n",
       "      <td>14754.1</td>\n",
       "    </tr>\n",
       "    <tr>\n",
       "      <th>2</th>\n",
       "      <td>15156.6</td>\n",
       "    </tr>\n",
       "    <tr>\n",
       "      <th>3</th>\n",
       "      <td>15180.1</td>\n",
       "    </tr>\n",
       "    <tr>\n",
       "      <th>4</th>\n",
       "      <td>16954.8</td>\n",
       "    </tr>\n",
       "    <tr>\n",
       "      <th>...</th>\n",
       "      <td>...</td>\n",
       "    </tr>\n",
       "    <tr>\n",
       "      <th>1938</th>\n",
       "      <td>27591.4</td>\n",
       "    </tr>\n",
       "    <tr>\n",
       "      <th>1939</th>\n",
       "      <td>27509.3</td>\n",
       "    </tr>\n",
       "    <tr>\n",
       "      <th>1940</th>\n",
       "      <td>28298.8</td>\n",
       "    </tr>\n",
       "    <tr>\n",
       "      <th>1941</th>\n",
       "      <td>28424.6</td>\n",
       "    </tr>\n",
       "    <tr>\n",
       "      <th>1942</th>\n",
       "      <td>28970.3</td>\n",
       "    </tr>\n",
       "  </tbody>\n",
       "</table>\n",
       "<p>1943 rows × 1 columns</p>\n",
       "</div>"
      ],
      "text/plain": [
       "        Price\n",
       "0     13444.9\n",
       "1     14754.1\n",
       "2     15156.6\n",
       "3     15180.1\n",
       "4     16954.8\n",
       "...       ...\n",
       "1938  27591.4\n",
       "1939  27509.3\n",
       "1940  28298.8\n",
       "1941  28424.6\n",
       "1942  28970.3\n",
       "\n",
       "[1943 rows x 1 columns]"
      ]
     },
     "execution_count": 2,
     "metadata": {},
     "output_type": "execute_result"
    }
   ],
   "source": [
    "# Read dataset file\n",
    "df = pd.read_csv('BTC.csv')\n",
    "df = df[['Price']]\n",
    "df = df.dropna() # Drop missing values\n",
    "df"
   ]
  },
  {
   "cell_type": "code",
   "execution_count": 3,
   "id": "398ea016",
   "metadata": {},
   "outputs": [],
   "source": [
    "# Split the data into training, testing, and validation sets\n",
    "train_size = int(0.7 * len(df))\n",
    "test_size = int(0.2 * len(df))\n",
    "val_size = len(df) - train_size - test_size\n",
    "\n",
    "train_data = df[:train_size]\n",
    "test_data = df[train_size:train_size+test_size]\n",
    "val_data = df[train_size+test_size:]"
   ]
  },
  {
   "cell_type": "code",
   "execution_count": 4,
   "id": "607477ab",
   "metadata": {},
   "outputs": [
    {
     "name": "stderr",
     "output_type": "stream",
     "text": [
      "C:\\Users\\DELL\\anaconda3\\lib\\site-packages\\statsmodels\\tsa\\holtwinters\\model.py:915: ConvergenceWarning: Optimization failed to converge. Check mle_retvals.\n",
      "  warnings.warn(\n"
     ]
    }
   ],
   "source": [
    "#Holt-Winters Exponential Smoothing model\n",
    "x_train = np.array(train_data.index).reshape(-1, 1)\n",
    "y_train = np.array(train_data['Price'])\n",
    "\n",
    "model = ExponentialSmoothing(y_train, seasonal_periods=365, trend='add', seasonal='add',initialization_method=\"estimated\")\n",
    "fit = model.fit()"
   ]
  },
  {
   "cell_type": "code",
   "execution_count": 5,
   "id": "66b554ad",
   "metadata": {},
   "outputs": [],
   "source": [
    "# make predictions on the testing set\n",
    "x_test = np.array(test_data.index).reshape(-1, 1)\n",
    "y_test = np.array(test_data['Price'])\n",
    "y_pred = fit.forecast(len(y_test))\n",
    "\n",
    "# make predictions on the validate set\n",
    "x_val = np.array(val_data.index).reshape(-1, 1)\n",
    "y_val = np.array(val_data['Price'])\n",
    "y_pred_val = fit.forecast(len(y_val))"
   ]
  },
  {
   "cell_type": "code",
   "execution_count": 6,
   "id": "a1742ab2",
   "metadata": {},
   "outputs": [
    {
     "name": "stdout",
     "output_type": "stream",
     "text": [
      "Predicted Bitcoin closing prices for the next 30 days:\n",
      "[40547.58590387 39870.63912399 39737.24635831 39540.6984943\n",
      " 39688.76254777 39650.03311153 39530.42355999 39639.2484893\n",
      " 39610.33156722 39587.28567165 39473.33460414 39447.05394867\n",
      " 39438.83951364 39269.37688186 39409.25707892 39405.35771892\n",
      " 39561.89340014 39517.53167634 39155.8357838  39176.45744309\n",
      " 39156.37206224 39171.21011269 39241.56127213 39137.73647723\n",
      " 39140.75321961 38998.52870388 38948.15864972 39088.51401591\n",
      " 39064.00904032 38939.60873468]\n"
     ]
    }
   ],
   "source": [
    "# Forecast the next 30 days\n",
    "last_index =  df.index[-1]\n",
    "last_data = pd.RangeIndex(start=last_index, stop=last_index+30, step=1)\n",
    "\n",
    "# Create an array of 30 consecutive integers starting from last_index\n",
    "x_next_30_days = np.array(range(last_index+1, last_index+31)).reshape(-1, 1)\n",
    "\n",
    "# Predict the closing prices for the next 30 days\n",
    "y_next_30_days = fit.forecast(len(x_next_30_days))\n",
    "\n",
    "# Print the predicted closing prices for the next 30 days\n",
    "print('Predicted Bitcoin closing prices for the next 30 days:')\n",
    "print(y_next_30_days)"
   ]
  },
  {
   "cell_type": "code",
   "execution_count": 7,
   "id": "39669648",
   "metadata": {},
   "outputs": [
    {
     "name": "stdout",
     "output_type": "stream",
     "text": [
      "Validation RMSE: 15757.06054793809\n",
      "Testing RMSE: 12302.026290602349\n",
      "Validation MAPE: 74.95534234730196\n",
      "Testing MAPE: 32.253879117240345\n",
      "Validation MAE: 14437.56814862973\n",
      "Testing MAE: 10792.27527889164\n"
     ]
    }
   ],
   "source": [
    "# calculate the RMSE\n",
    "valid_rmse = np.sqrt(np.mean((y_pred_val - y_val)**2))\n",
    "test_rmse = np.sqrt(np.mean((y_pred - y_test)**2))\n",
    "print('Validation RMSE:', valid_rmse)\n",
    "print('Testing RMSE:', test_rmse)\n",
    "\n",
    "# calculate the MAPE\n",
    "valid_mape = np.mean(np.abs((y_val - y_pred_val) / y_val)) * 100\n",
    "test_mape = np.mean(np.abs((y_test - y_pred) / y_test)) * 100\n",
    "print(\"Validation MAPE:\", valid_mape)\n",
    "print(\"Testing MAPE:\", test_mape)\n",
    "\n",
    "# calculate the MAE\n",
    "valid_mae = np.mean(np.abs(y_pred_val - y_val))\n",
    "test_mae = np.mean(np.abs(y_pred - y_test))\n",
    "print(\"Validation MAE:\", valid_mae)\n",
    "print(\"Testing MAE:\", test_mae)"
   ]
  },
  {
   "cell_type": "code",
   "execution_count": 8,
   "id": "f3c7f403",
   "metadata": {},
   "outputs": [
    {
     "data": {
      "image/png": "[encoded data removed]",
      "text/plain": [
       "<Figure size 432x288 with 1 Axes>"
      ]
     },
     "metadata": {
      "needs_background": "light"
     },
     "output_type": "display_data"
    }
   ],
   "source": [
    "# ploting the actual values and predicted values\n",
    "plt.plot(train_data.index, train_data['Price'])\n",
    "plt.plot(test_data.index, test_data['Price'])\n",
    "plt.plot(test_data.index, y_pred)\n",
    "plt.plot(val_data.index, y_pred_val)\n",
    "plt.plot(last_data,y_next_30_days)\n",
    "plt.legend(['Train', 'Test', 'Predictions','Validate','Next30Days'])\n",
    "plt.show()"
   ]
  },
  {
   "cell_type": "code",
   "execution_count": null,
   "id": "4b3f7ba1",
   "metadata": {},
   "outputs": [],
   "source": []
  }
 ],
 "metadata": {
  "kernelspec": {
   "display_name": "Python 3 (ipykernel)",
   "language": "python",
   "name": "python3"
  },
  "language_info": {
   "codemirror_mode": {
    "name": "ipython",
    "version": 3
   },
   "file_extension": ".py",
   "mimetype": "text/x-python",
   "name": "python",
   "nbconvert_exporter": "python",
   "pygments_lexer": "ipython3",
   "version": "3.9.12"
  }
 },
 "nbformat": 4,
 "nbformat_minor": 5
}

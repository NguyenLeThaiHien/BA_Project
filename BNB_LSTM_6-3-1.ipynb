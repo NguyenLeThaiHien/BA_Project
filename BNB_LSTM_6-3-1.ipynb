{
 "cells": [
  {
   "cell_type": "code",
   "execution_count": 1,
   "id": "218392a3",
   "metadata": {},
   "outputs": [],
   "source": [
    "# 1. Import thư viện cần thiết\n",
    "import numpy as np\n",
    "import pandas as pd\n",
    "import matplotlib.pyplot as plt\n",
    "from sklearn.preprocessing import MinMaxScaler\n",
    "from keras.models import Sequential\n",
    "from keras.layers import Dense, LSTM"
   ]
  },
  {
   "cell_type": "code",
   "execution_count": 2,
   "id": "5404b087",
   "metadata": {},
   "outputs": [],
   "source": [
    "# 2. Đọc file csv và gắng index với giá Close\n",
    "df = pd.read_csv('BNB.csv',sep=\";\")\n",
    "df1=df.reset_index()['Price']"
   ]
  },
  {
   "cell_type": "code",
   "execution_count": 3,
   "id": "07519b43",
   "metadata": {},
   "outputs": [],
   "source": [
    "# 3. Scaler data\n",
    "scaler=MinMaxScaler(feature_range=(0,1))\n",
    "df1=scaler.fit_transform(np.array(df1).reshape(-1,1))"
   ]
  },
  {
   "cell_type": "code",
   "execution_count": 4,
   "id": "28e04ece",
   "metadata": {},
   "outputs": [],
   "source": [
    "# 4. Chia train test\n",
    "train_size = int(0.6 * len(df1))\n",
    "test_size = int(0.3 * len(df1))\n",
    "val_size = len(df1) - train_size - test_size\n",
    "\n",
    "train_data = df1[:train_size]\n",
    "test_data = df1[train_size:train_size+test_size]\n",
    "val_data = df1[train_size+test_size:]"
   ]
  },
  {
   "cell_type": "code",
   "execution_count": 5,
   "id": "97863871",
   "metadata": {},
   "outputs": [],
   "source": [
    "# 5. Hàm Create Dataset\n",
    "import numpy\n",
    "# convert an array of values into a dataset matrix\n",
    "def create_dataset(dataset, time_step=1):\n",
    "    dataX, dataY = [], []\n",
    "    for i in range(len(dataset)-time_step-1):\n",
    "        a = dataset[i:(i+time_step), 0]   ###i=0, X=0,1,2,3-----99   Y=100 \n",
    "        dataX.append(a)\n",
    "        dataY.append(dataset[i + time_step, 0])\n",
    "    return numpy.array(dataX), numpy.array(dataY)"
   ]
  },
  {
   "cell_type": "code",
   "execution_count": 6,
   "id": "dd0c7ee9",
   "metadata": {},
   "outputs": [],
   "source": [
    "#6. Reshape into X=t,t+1,t+2..t+99 and Y=t+100\n",
    "time_step = 100\n",
    "X_train, y_train = create_dataset(train_data, time_step)\n",
    "X_val, yval = create_dataset(val_data, time_step)\n",
    "X_test, ytest = create_dataset(test_data, time_step)"
   ]
  },
  {
   "cell_type": "code",
   "execution_count": 7,
   "id": "49b1fe2f",
   "metadata": {},
   "outputs": [],
   "source": [
    "# 7. Reshape input to be [samples, time steps, features] which is required for LSTM\n",
    "X_train =X_train.reshape(X_train.shape[0],X_train.shape[1] , 1)\n",
    "X_test = X_test.reshape(X_test.shape[0],X_test.shape[1] , 1)\n",
    "X_val = X_val.reshape(X_val.shape[0],X_val.shape[1] , 1)"
   ]
  },
  {
   "cell_type": "code",
   "execution_count": 8,
   "id": "8f870d52",
   "metadata": {},
   "outputs": [],
   "source": [
    "# 8. Define LSTM Model\n",
    "model=Sequential()\n",
    "model.add(LSTM(50,return_sequences=True,input_shape=(100,1)))\n",
    "model.add(LSTM(50,return_sequences=True))\n",
    "model.add(LSTM(50))\n",
    "model.add(Dense(1))\n",
    "model.compile(loss='mean_squared_error',optimizer='adam')"
   ]
  },
  {
   "cell_type": "code",
   "execution_count": 9,
   "id": "3364f6a3",
   "metadata": {},
   "outputs": [
    {
     "name": "stdout",
     "output_type": "stream",
     "text": [
      "Epoch 1/100\n",
      "16/16 [==============================] - 9s 253ms/step - loss: 0.0103 - val_loss: 0.0050\n",
      "Epoch 2/100\n",
      "16/16 [==============================] - 2s 148ms/step - loss: 0.0019 - val_loss: 0.0250\n",
      "Epoch 3/100\n",
      "16/16 [==============================] - 2s 151ms/step - loss: 0.0014 - val_loss: 0.0139\n",
      "Epoch 4/100\n",
      "16/16 [==============================] - 2s 150ms/step - loss: 0.0011 - val_loss: 0.0448\n",
      "Epoch 5/100\n",
      "16/16 [==============================] - 2s 146ms/step - loss: 0.0010 - val_loss: 0.0155\n",
      "Epoch 6/100\n",
      "16/16 [==============================] - 2s 150ms/step - loss: 9.6697e-04 - val_loss: 0.0076\n",
      "Epoch 7/100\n",
      "16/16 [==============================] - 2s 151ms/step - loss: 9.3697e-04 - val_loss: 0.0103\n",
      "Epoch 8/100\n",
      "16/16 [==============================] - 2s 145ms/step - loss: 9.0824e-04 - val_loss: 0.0064\n",
      "Epoch 9/100\n",
      "16/16 [==============================] - 2s 143ms/step - loss: 9.4455e-04 - val_loss: 0.0062\n",
      "Epoch 10/100\n",
      "16/16 [==============================] - 2s 150ms/step - loss: 9.2078e-04 - val_loss: 0.0082\n",
      "Epoch 11/100\n",
      "16/16 [==============================] - 2s 144ms/step - loss: 0.0012 - val_loss: 0.0323\n",
      "Epoch 12/100\n",
      "16/16 [==============================] - 2s 141ms/step - loss: 0.0013 - val_loss: 0.0106\n",
      "Epoch 13/100\n",
      "16/16 [==============================] - 2s 145ms/step - loss: 0.0011 - val_loss: 0.0102\n",
      "Epoch 14/100\n",
      "16/16 [==============================] - 2s 155ms/step - loss: 9.1611e-04 - val_loss: 0.0068\n",
      "Epoch 15/100\n",
      "16/16 [==============================] - 2s 153ms/step - loss: 8.7547e-04 - val_loss: 0.0079\n",
      "Epoch 16/100\n",
      "16/16 [==============================] - 2s 149ms/step - loss: 9.6092e-04 - val_loss: 0.0069\n",
      "Epoch 17/100\n",
      "16/16 [==============================] - 2s 141ms/step - loss: 8.3173e-04 - val_loss: 0.0105\n",
      "Epoch 18/100\n",
      "16/16 [==============================] - 2s 151ms/step - loss: 7.9117e-04 - val_loss: 0.0078\n",
      "Epoch 19/100\n",
      "16/16 [==============================] - 2s 147ms/step - loss: 7.2305e-04 - val_loss: 0.0048\n",
      "Epoch 20/100\n",
      "16/16 [==============================] - 2s 156ms/step - loss: 6.7227e-04 - val_loss: 0.0086\n",
      "Epoch 21/100\n",
      "16/16 [==============================] - 2s 148ms/step - loss: 6.3668e-04 - val_loss: 0.0105\n",
      "Epoch 22/100\n",
      "16/16 [==============================] - 2s 151ms/step - loss: 5.7219e-04 - val_loss: 0.0062\n",
      "Epoch 23/100\n",
      "16/16 [==============================] - 2s 144ms/step - loss: 5.9805e-04 - val_loss: 0.0130\n",
      "Epoch 24/100\n",
      "16/16 [==============================] - 2s 140ms/step - loss: 6.6721e-04 - val_loss: 0.0147\n",
      "Epoch 25/100\n",
      "16/16 [==============================] - 2s 144ms/step - loss: 5.8681e-04 - val_loss: 0.0081\n",
      "Epoch 26/100\n",
      "16/16 [==============================] - 2s 144ms/step - loss: 5.0026e-04 - val_loss: 0.0060\n",
      "Epoch 27/100\n",
      "16/16 [==============================] - 2s 147ms/step - loss: 4.9173e-04 - val_loss: 0.0188\n",
      "Epoch 28/100\n",
      "16/16 [==============================] - 2s 155ms/step - loss: 5.7141e-04 - val_loss: 0.0173\n",
      "Epoch 29/100\n",
      "16/16 [==============================] - 2s 147ms/step - loss: 6.9656e-04 - val_loss: 0.0047\n",
      "Epoch 30/100\n",
      "16/16 [==============================] - 2s 143ms/step - loss: 5.4771e-04 - val_loss: 0.0158\n",
      "Epoch 31/100\n",
      "16/16 [==============================] - 2s 142ms/step - loss: 5.2057e-04 - val_loss: 0.0090\n",
      "Epoch 32/100\n",
      "16/16 [==============================] - 2s 141ms/step - loss: 4.7369e-04 - val_loss: 0.0045\n",
      "Epoch 33/100\n",
      "16/16 [==============================] - 2s 144ms/step - loss: 4.2690e-04 - val_loss: 0.0033\n",
      "Epoch 34/100\n",
      "16/16 [==============================] - 2s 152ms/step - loss: 4.7840e-04 - val_loss: 0.0085\n",
      "Epoch 35/100\n",
      "16/16 [==============================] - 2s 153ms/step - loss: 5.0505e-04 - val_loss: 0.0143\n",
      "Epoch 36/100\n",
      "16/16 [==============================] - 2s 146ms/step - loss: 4.5840e-04 - val_loss: 0.0042\n",
      "Epoch 37/100\n",
      "16/16 [==============================] - 2s 140ms/step - loss: 4.3733e-04 - val_loss: 0.0100\n",
      "Epoch 38/100\n",
      "16/16 [==============================] - 2s 143ms/step - loss: 5.0522e-04 - val_loss: 0.0240\n",
      "Epoch 39/100\n",
      "16/16 [==============================] - 2s 142ms/step - loss: 5.3598e-04 - val_loss: 0.0111\n",
      "Epoch 40/100\n",
      "16/16 [==============================] - 2s 140ms/step - loss: 4.0959e-04 - val_loss: 0.0031\n",
      "Epoch 41/100\n",
      "16/16 [==============================] - 2s 148ms/step - loss: 4.8205e-04 - val_loss: 0.0071\n",
      "Epoch 42/100\n",
      "16/16 [==============================] - 2s 144ms/step - loss: 5.6832e-04 - val_loss: 0.0247\n",
      "Epoch 43/100\n",
      "16/16 [==============================] - 2s 146ms/step - loss: 5.4279e-04 - val_loss: 0.0098\n",
      "Epoch 44/100\n",
      "16/16 [==============================] - 2s 147ms/step - loss: 4.4359e-04 - val_loss: 0.0100\n",
      "Epoch 45/100\n",
      "16/16 [==============================] - 2s 142ms/step - loss: 4.2282e-04 - val_loss: 0.0136\n",
      "Epoch 46/100\n",
      "16/16 [==============================] - 2s 139ms/step - loss: 3.6815e-04 - val_loss: 0.0140\n",
      "Epoch 47/100\n",
      "16/16 [==============================] - 2s 141ms/step - loss: 3.8892e-04 - val_loss: 0.0103\n",
      "Epoch 48/100\n",
      "16/16 [==============================] - 2s 144ms/step - loss: 3.7615e-04 - val_loss: 0.0194\n",
      "Epoch 49/100\n",
      "16/16 [==============================] - 2s 153ms/step - loss: 4.2165e-04 - val_loss: 0.0067\n",
      "Epoch 50/100\n",
      "16/16 [==============================] - 2s 141ms/step - loss: 3.5079e-04 - val_loss: 0.0125\n",
      "Epoch 51/100\n",
      "16/16 [==============================] - 2s 138ms/step - loss: 3.8743e-04 - val_loss: 0.0069\n",
      "Epoch 52/100\n",
      "16/16 [==============================] - 2s 141ms/step - loss: 3.6757e-04 - val_loss: 0.0095\n",
      "Epoch 53/100\n",
      "16/16 [==============================] - 2s 139ms/step - loss: 3.6943e-04 - val_loss: 0.0121\n",
      "Epoch 54/100\n",
      "16/16 [==============================] - 2s 140ms/step - loss: 3.7368e-04 - val_loss: 0.0134\n",
      "Epoch 55/100\n",
      "16/16 [==============================] - 2s 142ms/step - loss: 3.6084e-04 - val_loss: 0.0126\n",
      "Epoch 56/100\n",
      "16/16 [==============================] - 2s 152ms/step - loss: 4.0838e-04 - val_loss: 0.0043\n",
      "Epoch 57/100\n",
      "16/16 [==============================] - 2s 141ms/step - loss: 4.2094e-04 - val_loss: 0.0097\n",
      "Epoch 58/100\n",
      "16/16 [==============================] - 2s 139ms/step - loss: 3.2339e-04 - val_loss: 0.0102\n",
      "Epoch 59/100\n",
      "16/16 [==============================] - 2s 140ms/step - loss: 3.6834e-04 - val_loss: 0.0045\n",
      "Epoch 60/100\n",
      "16/16 [==============================] - 2s 139ms/step - loss: 3.4128e-04 - val_loss: 0.0146\n",
      "Epoch 61/100\n",
      "16/16 [==============================] - 2s 141ms/step - loss: 3.2802e-04 - val_loss: 0.0142\n",
      "Epoch 62/100\n",
      "16/16 [==============================] - 2s 141ms/step - loss: 3.7219e-04 - val_loss: 0.0060\n",
      "Epoch 63/100\n",
      "16/16 [==============================] - 2s 155ms/step - loss: 3.8288e-04 - val_loss: 0.0054\n",
      "Epoch 64/100\n",
      "16/16 [==============================] - 2s 142ms/step - loss: 3.3009e-04 - val_loss: 0.0056\n",
      "Epoch 65/100\n",
      "16/16 [==============================] - 2s 152ms/step - loss: 3.3782e-04 - val_loss: 0.0062\n",
      "Epoch 66/100\n",
      "16/16 [==============================] - 3s 159ms/step - loss: 3.8380e-04 - val_loss: 0.0039\n",
      "Epoch 67/100\n",
      "16/16 [==============================] - 2s 153ms/step - loss: 3.9864e-04 - val_loss: 0.0102\n",
      "Epoch 68/100\n",
      "16/16 [==============================] - 2s 150ms/step - loss: 3.4785e-04 - val_loss: 0.0174\n",
      "Epoch 69/100\n",
      "16/16 [==============================] - 2s 156ms/step - loss: 3.0930e-04 - val_loss: 0.0061\n",
      "Epoch 70/100\n",
      "16/16 [==============================] - 3s 158ms/step - loss: 3.1665e-04 - val_loss: 0.0060\n",
      "Epoch 71/100\n",
      "16/16 [==============================] - 2s 153ms/step - loss: 3.1291e-04 - val_loss: 0.0057\n",
      "Epoch 72/100\n",
      "16/16 [==============================] - 2s 150ms/step - loss: 3.4069e-04 - val_loss: 0.0097\n",
      "Epoch 73/100\n",
      "16/16 [==============================] - 2s 146ms/step - loss: 2.9459e-04 - val_loss: 0.0122\n",
      "Epoch 74/100\n",
      "16/16 [==============================] - 2s 150ms/step - loss: 3.0293e-04 - val_loss: 0.0167\n",
      "Epoch 75/100\n",
      "16/16 [==============================] - 3s 160ms/step - loss: 3.0052e-04 - val_loss: 0.0221\n",
      "Epoch 76/100\n",
      "16/16 [==============================] - 2s 156ms/step - loss: 3.0655e-04 - val_loss: 0.0243\n",
      "Epoch 77/100\n",
      "16/16 [==============================] - 2s 147ms/step - loss: 3.9603e-04 - val_loss: 0.0080\n",
      "Epoch 78/100\n"
     ]
    },
    {
     "name": "stdout",
     "output_type": "stream",
     "text": [
      "16/16 [==============================] - 2s 156ms/step - loss: 2.8353e-04 - val_loss: 0.0131\n",
      "Epoch 79/100\n",
      "16/16 [==============================] - 2s 148ms/step - loss: 3.0523e-04 - val_loss: 0.0073\n",
      "Epoch 80/100\n",
      "16/16 [==============================] - 2s 153ms/step - loss: 3.5940e-04 - val_loss: 0.0095\n",
      "Epoch 81/100\n",
      "16/16 [==============================] - 2s 140ms/step - loss: 3.2344e-04 - val_loss: 0.0055\n",
      "Epoch 82/100\n",
      "16/16 [==============================] - 2s 144ms/step - loss: 3.4634e-04 - val_loss: 0.0053\n",
      "Epoch 83/100\n",
      "16/16 [==============================] - 2s 155ms/step - loss: 3.3711e-04 - val_loss: 0.0107\n",
      "Epoch 84/100\n",
      "16/16 [==============================] - 2s 146ms/step - loss: 2.6868e-04 - val_loss: 0.0105\n",
      "Epoch 85/100\n",
      "16/16 [==============================] - 2s 140ms/step - loss: 2.4991e-04 - val_loss: 0.0129\n",
      "Epoch 86/100\n",
      "16/16 [==============================] - 2s 141ms/step - loss: 2.5381e-04 - val_loss: 0.0077\n",
      "Epoch 87/100\n",
      "16/16 [==============================] - 2s 141ms/step - loss: 3.3667e-04 - val_loss: 0.0131\n",
      "Epoch 88/100\n",
      "16/16 [==============================] - 2s 140ms/step - loss: 2.8609e-04 - val_loss: 0.0070\n",
      "Epoch 89/100\n",
      "16/16 [==============================] - 2s 140ms/step - loss: 2.3941e-04 - val_loss: 0.0064\n",
      "Epoch 90/100\n",
      "16/16 [==============================] - 2s 154ms/step - loss: 2.6784e-04 - val_loss: 0.0058\n",
      "Epoch 91/100\n",
      "16/16 [==============================] - 2s 146ms/step - loss: 3.2925e-04 - val_loss: 0.0098\n",
      "Epoch 92/100\n",
      "16/16 [==============================] - 2s 141ms/step - loss: 3.1039e-04 - val_loss: 0.0066\n",
      "Epoch 93/100\n",
      "16/16 [==============================] - 2s 143ms/step - loss: 2.8012e-04 - val_loss: 0.0070\n",
      "Epoch 94/100\n",
      "16/16 [==============================] - 2s 140ms/step - loss: 2.7734e-04 - val_loss: 0.0067\n",
      "Epoch 95/100\n",
      "16/16 [==============================] - 2s 141ms/step - loss: 2.5457e-04 - val_loss: 0.0064\n",
      "Epoch 96/100\n",
      "16/16 [==============================] - 2s 140ms/step - loss: 2.6169e-04 - val_loss: 0.0158\n",
      "Epoch 97/100\n",
      "16/16 [==============================] - 2s 156ms/step - loss: 2.2659e-04 - val_loss: 0.0088\n",
      "Epoch 98/100\n",
      "16/16 [==============================] - 2s 148ms/step - loss: 2.2563e-04 - val_loss: 0.0131\n",
      "Epoch 99/100\n",
      "16/16 [==============================] - 2s 144ms/step - loss: 2.4550e-04 - val_loss: 0.0118\n",
      "Epoch 100/100\n",
      "16/16 [==============================] - 2s 144ms/step - loss: 2.2827e-04 - val_loss: 0.0060\n"
     ]
    },
    {
     "data": {
      "text/plain": [
       "<keras.callbacks.History at 0x287c3d7af40>"
      ]
     },
     "execution_count": 9,
     "metadata": {},
     "output_type": "execute_result"
    }
   ],
   "source": [
    "# 9. Fit mô hình với dữ liệu train\n",
    "model.fit(X_train,y_train,validation_data=(X_test,ytest),epochs=100,batch_size=64,verbose=1)"
   ]
  },
  {
   "cell_type": "code",
   "execution_count": 10,
   "id": "eb0004ec",
   "metadata": {},
   "outputs": [
    {
     "name": "stdout",
     "output_type": "stream",
     "text": [
      "32/32 [==============================] - 2s 30ms/step\n",
      "14/14 [==============================] - 0s 33ms/step\n",
      "3/3 [==============================] - 0s 36ms/step\n"
     ]
    }
   ],
   "source": [
    "# 10. Dự báo dữ liệu test, val\n",
    "train_predict=model.predict(X_train)\n",
    "y_pred=model.predict(X_test)\n",
    "y_pred_val=model.predict(X_val)"
   ]
  },
  {
   "cell_type": "code",
   "execution_count": 11,
   "id": "22f87a34",
   "metadata": {},
   "outputs": [
    {
     "name": "stdout",
     "output_type": "stream",
     "text": [
      "Validation RMSE: 0.08388058413350323\n",
      "Testing RMSE: 0.226435744784297\n",
      "Validation MAPE: 16.86927862123746\n",
      "Testing MAPE: 37.2249058404756\n",
      "Validation MAE: 0.0767949468613991\n",
      "Testing MAE: 0.1847156420470749\n"
     ]
    }
   ],
   "source": [
    "# calculate the RMSE\n",
    "valid_rmse = np.sqrt(np.mean((y_pred_val - yval)**2))\n",
    "test_rmse = np.sqrt(np.mean((y_pred - ytest)**2))\n",
    "print('Validation RMSE:', valid_rmse)\n",
    "print('Testing RMSE:', test_rmse)\n",
    "\n",
    "# calculate the MAPE\n",
    "valid_mape = np.mean(np.abs((yval - y_pred_val) / yval)) * 100\n",
    "test_mape = np.mean(np.abs((ytest - y_pred) / ytest)) * 100\n",
    "print(\"Validation MAPE:\", valid_mape)\n",
    "print(\"Testing MAPE:\", test_mape)\n",
    "\n",
    "# calculate the MAE\n",
    "valid_mae = np.mean(np.abs(y_pred_val - yval))\n",
    "test_mae = np.mean(np.abs(y_pred - ytest))\n",
    "print(\"Validation MAE:\", valid_mae)\n",
    "print(\"Testing MAE:\", test_mae)"
   ]
  },
  {
   "cell_type": "code",
   "execution_count": 12,
   "id": "aff1694f",
   "metadata": {},
   "outputs": [],
   "source": [
    "# 11. Chuẩn hóa dữ liệu y_pred, y_pred_val\n",
    "train_predict=scaler.inverse_transform(train_predict)\n",
    "y_pred=scaler.inverse_transform(y_pred)\n",
    "y_pred_val=scaler.inverse_transform(y_pred_val)"
   ]
  },
  {
   "cell_type": "code",
   "execution_count": 13,
   "id": "a3271496",
   "metadata": {},
   "outputs": [
    {
     "data": {
      "image/png": "[encoded data removed]",
      "text/plain": [
       "<Figure size 432x288 with 1 Axes>"
      ]
     },
     "metadata": {
      "needs_background": "light"
     },
     "output_type": "display_data"
    }
   ],
   "source": [
    "# 14.Vẽ hình\n",
    "\n",
    "train_data_index = pd.RangeIndex(start=0, stop=train_size, step=1)\n",
    "plt.plot(scaler.inverse_transform(train_data))\n",
    "test_data_index = pd.RangeIndex(start=train_size, stop=train_size+test_size, step=1)\n",
    "plt.plot(test_data_index,scaler.inverse_transform(test_data))\n",
    "test_data_index = pd.RangeIndex(start=train_size+101, stop=train_size+test_size, step=1)\n",
    "plt.plot(test_data_index,(y_pred))\n",
    "val_data_index = pd.RangeIndex(start=train_size+test_size, stop=train_size+test_size+val_size, step=1)\n",
    "plt.plot(val_data_index,scaler.inverse_transform(val_data))\n",
    "val_data_index = pd.RangeIndex(start=train_size+test_size+101, stop=train_size+test_size+val_size, step=1)\n",
    "plt.plot(val_data_index,y_pred_val)\n",
    "plt.legend(['Train','Test','Predict','Validate','ValidatePred'])\n",
    "plt.show()"
   ]
  }
 ],
 "metadata": {
  "kernelspec": {
   "display_name": "Python 3 (ipykernel)",
   "language": "python",
   "name": "python3"
  },
  "language_info": {
   "codemirror_mode": {
    "name": "ipython",
    "version": 3
   },
   "file_extension": ".py",
   "mimetype": "text/x-python",
   "name": "python",
   "nbconvert_exporter": "python",
   "pygments_lexer": "ipython3",
   "version": "3.9.12"
  }
 },
 "nbformat": 4,
 "nbformat_minor": 5
}

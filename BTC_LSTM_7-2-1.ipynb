{
 "cells": [
  {
   "cell_type": "code",
   "execution_count": 1,
   "metadata": {
    "colab": {
     "base_uri": "https://localhost:8080/"
    },
    "id": "FMDKda-XIUAK",
    "outputId": "be988c00-2f6c-43b6-a7bf-69a486a7845c"
   },
   "outputs": [],
   "source": [
    "# 1. Import thư viện cần thiết\n",
    "import numpy as np\n",
    "import pandas as pd\n",
    "import matplotlib.pyplot as plt\n",
    "from sklearn.preprocessing import MinMaxScaler\n",
    "from keras.models import Sequential\n",
    "from keras.layers import Dense, LSTM"
   ]
  },
  {
   "cell_type": "code",
   "execution_count": 2,
   "metadata": {
    "id": "aRm9GQ8KJJ5N"
   },
   "outputs": [],
   "source": [
    "# 2. Đọc file csv và gắng index với giá Price\n",
    "df = pd.read_csv('BTC.csv')\n",
    "df1=df.reset_index()['Price']"
   ]
  },
  {
   "cell_type": "code",
   "execution_count": 3,
   "metadata": {
    "id": "RdVpDho2JgL5"
   },
   "outputs": [],
   "source": [
    "# 3. Scaler data\n",
    "scaler=MinMaxScaler(feature_range=(0,1))\n",
    "df1=scaler.fit_transform(np.array(df1).reshape(-1,1))"
   ]
  },
  {
   "cell_type": "code",
   "execution_count": 4,
   "metadata": {
    "id": "B5JXpenzJoR3"
   },
   "outputs": [],
   "source": [
    "# 4. Chia train test với tỉ kệ 7:2:1\n",
    "train_size = int(0.7 * len(df1))\n",
    "test_size = int(0.2 * len(df1))\n",
    "val_size = len(df1) - train_size - test_size\n",
    "\n",
    "train_data = df1[:train_size]\n",
    "test_data = df1[train_size:train_size+test_size]\n",
    "val_data = df1[train_size+test_size:]"
   ]
  },
  {
   "cell_type": "code",
   "execution_count": 5,
   "metadata": {
    "id": "yJfmuBORLSfC"
   },
   "outputs": [],
   "source": [
    "# 5. Hàm Create Dataset\n",
    "import numpy\n",
    "# convert an array of values into a dataset matrix\n",
    "def create_dataset(dataset, time_step=1):\n",
    "\tdataX, dataY = [], []\n",
    "\tfor i in range(len(dataset)-time_step-1):\n",
    "\t\ta = dataset[i:(i+time_step), 0]   ###i=0, X=0,1,2,3-----99   Y=100 \n",
    "\t\tdataX.append(a)\n",
    "\t\tdataY.append(dataset[i + time_step, 0])\n",
    "\treturn numpy.array(dataX), numpy.array(dataY)"
   ]
  },
  {
   "cell_type": "code",
   "execution_count": 6,
   "metadata": {
    "id": "e81cKq03LXFB"
   },
   "outputs": [],
   "source": [
    "#6. Reshape into X=t,t+1,t+2..t+99 and Y=t+100\n",
    "time_step = 100\n",
    "X_train, y_train = create_dataset(train_data, time_step)\n",
    "X_val, yval = create_dataset(val_data, time_step)\n",
    "X_test, ytest = create_dataset(test_data, time_step)"
   ]
  },
  {
   "cell_type": "code",
   "execution_count": 7,
   "metadata": {
    "id": "RdBVfku7O2qb"
   },
   "outputs": [],
   "source": [
    "# 7. Reshape input to be [samples, time steps, features] which is required for LSTM\n",
    "X_train =X_train.reshape(X_train.shape[0],X_train.shape[1] , 1)\n",
    "X_test = X_test.reshape(X_test.shape[0],X_test.shape[1] , 1)\n",
    "X_val = X_val.reshape(X_val.shape[0],X_val.shape[1] , 1)"
   ]
  },
  {
   "cell_type": "code",
   "execution_count": 8,
   "metadata": {
    "id": "sSfxrE7BO9vX"
   },
   "outputs": [],
   "source": [
    "# 8. Define LSTM Model\n",
    "model=Sequential()\n",
    "model.add(LSTM(50,return_sequences=True,input_shape=(100,1)))\n",
    "model.add(LSTM(50,return_sequences=True))\n",
    "model.add(LSTM(50))\n",
    "model.add(Dense(1))\n",
    "model.compile(loss='mean_squared_error',optimizer='adam')"
   ]
  },
  {
   "cell_type": "code",
   "execution_count": 9,
   "metadata": {
    "colab": {
     "base_uri": "https://localhost:8080/"
    },
    "id": "zgfeujZSPEKr",
    "outputId": "87151598-3792-46b5-857d-e7626c6a63de"
   },
   "outputs": [
    {
     "name": "stdout",
     "output_type": "stream",
     "text": [
      "Epoch 1/100\n",
      "19/19 [==============================] - 31s 617ms/step - loss: 0.0376 - val_loss: 0.0020\n",
      "Epoch 2/100\n",
      "19/19 [==============================] - 6s 339ms/step - loss: 0.0042 - val_loss: 0.0068\n",
      "Epoch 3/100\n",
      "19/19 [==============================] - 6s 341ms/step - loss: 0.0025 - val_loss: 0.0046\n",
      "Epoch 4/100\n",
      "19/19 [==============================] - 6s 317ms/step - loss: 0.0022 - val_loss: 0.0023\n",
      "Epoch 5/100\n",
      "19/19 [==============================] - 6s 343ms/step - loss: 0.0020 - val_loss: 0.0049\n",
      "Epoch 6/100\n",
      "19/19 [==============================] - 7s 352ms/step - loss: 0.0021 - val_loss: 0.0020\n",
      "Epoch 7/100\n",
      "19/19 [==============================] - 8s 401ms/step - loss: 0.0019 - val_loss: 0.0023\n",
      "Epoch 8/100\n",
      "19/19 [==============================] - 8s 434ms/step - loss: 0.0017 - val_loss: 0.0023\n",
      "Epoch 9/100\n",
      "19/19 [==============================] - 8s 423ms/step - loss: 0.0016 - val_loss: 0.0021\n",
      "Epoch 10/100\n",
      "19/19 [==============================] - 9s 502ms/step - loss: 0.0016 - val_loss: 0.0018\n",
      "Epoch 11/100\n",
      "19/19 [==============================] - 7s 384ms/step - loss: 0.0015 - val_loss: 0.0022\n",
      "Epoch 12/100\n",
      "19/19 [==============================] - 8s 420ms/step - loss: 0.0015 - val_loss: 0.0015\n",
      "Epoch 13/100\n",
      "19/19 [==============================] - 8s 432ms/step - loss: 0.0014 - val_loss: 0.0024\n",
      "Epoch 14/100\n",
      "19/19 [==============================] - 7s 382ms/step - loss: 0.0013 - val_loss: 0.0026\n",
      "Epoch 15/100\n",
      "19/19 [==============================] - 9s 462ms/step - loss: 0.0013 - val_loss: 0.0023\n",
      "Epoch 16/100\n",
      "19/19 [==============================] - 10s 521ms/step - loss: 0.0012 - val_loss: 0.0018\n",
      "Epoch 17/100\n",
      "19/19 [==============================] - 9s 484ms/step - loss: 0.0012 - val_loss: 0.0030\n",
      "Epoch 18/100\n",
      "19/19 [==============================] - 6s 329ms/step - loss: 0.0012 - val_loss: 0.0017\n",
      "Epoch 19/100\n",
      "19/19 [==============================] - 6s 318ms/step - loss: 0.0011 - val_loss: 0.0015\n",
      "Epoch 20/100\n",
      "19/19 [==============================] - 6s 328ms/step - loss: 9.7851e-04 - val_loss: 0.0018\n",
      "Epoch 21/100\n",
      "19/19 [==============================] - 5s 266ms/step - loss: 0.0010 - val_loss: 0.0027\n",
      "Epoch 22/100\n",
      "19/19 [==============================] - 5s 248ms/step - loss: 9.7244e-04 - val_loss: 0.0014\n",
      "Epoch 23/100\n",
      "19/19 [==============================] - 5s 244ms/step - loss: 8.7458e-04 - val_loss: 9.8668e-04\n",
      "Epoch 24/100\n",
      "19/19 [==============================] - 5s 290ms/step - loss: 8.2991e-04 - val_loss: 0.0023\n",
      "Epoch 25/100\n",
      "19/19 [==============================] - 5s 240ms/step - loss: 0.0013 - val_loss: 0.0037\n",
      "Epoch 26/100\n",
      "19/19 [==============================] - 4s 229ms/step - loss: 9.0088e-04 - val_loss: 0.0011\n",
      "Epoch 27/100\n",
      "19/19 [==============================] - 6s 301ms/step - loss: 8.6999e-04 - val_loss: 0.0010\n",
      "Epoch 28/100\n",
      "19/19 [==============================] - 5s 277ms/step - loss: 7.2569e-04 - val_loss: 0.0011\n",
      "Epoch 29/100\n",
      "19/19 [==============================] - 5s 274ms/step - loss: 7.0706e-04 - val_loss: 7.5700e-04\n",
      "Epoch 30/100\n",
      "19/19 [==============================] - 5s 265ms/step - loss: 7.9016e-04 - val_loss: 0.0011\n",
      "Epoch 31/100\n",
      "19/19 [==============================] - 5s 286ms/step - loss: 7.1955e-04 - val_loss: 0.0013\n",
      "Epoch 32/100\n",
      "19/19 [==============================] - 6s 298ms/step - loss: 8.0180e-04 - val_loss: 7.1490e-04\n",
      "Epoch 33/100\n",
      "19/19 [==============================] - 6s 318ms/step - loss: 6.9533e-04 - val_loss: 0.0011\n",
      "Epoch 34/100\n",
      "19/19 [==============================] - 6s 297ms/step - loss: 6.7785e-04 - val_loss: 0.0019\n",
      "Epoch 35/100\n",
      "19/19 [==============================] - 5s 286ms/step - loss: 7.4238e-04 - val_loss: 8.5606e-04\n",
      "Epoch 36/100\n",
      "19/19 [==============================] - 5s 260ms/step - loss: 6.6277e-04 - val_loss: 7.2199e-04\n",
      "Epoch 37/100\n",
      "19/19 [==============================] - 5s 264ms/step - loss: 5.8896e-04 - val_loss: 6.9548e-04\n",
      "Epoch 38/100\n",
      "19/19 [==============================] - 5s 279ms/step - loss: 6.6551e-04 - val_loss: 0.0010\n",
      "Epoch 39/100\n",
      "19/19 [==============================] - 5s 290ms/step - loss: 5.6476e-04 - val_loss: 7.3818e-04\n",
      "Epoch 40/100\n",
      "19/19 [==============================] - 6s 293ms/step - loss: 7.1190e-04 - val_loss: 0.0016\n",
      "Epoch 41/100\n",
      "19/19 [==============================] - 6s 306ms/step - loss: 8.4415e-04 - val_loss: 0.0026\n",
      "Epoch 42/100\n",
      "19/19 [==============================] - 5s 282ms/step - loss: 6.6343e-04 - val_loss: 0.0011\n",
      "Epoch 43/100\n",
      "19/19 [==============================] - 5s 283ms/step - loss: 5.9940e-04 - val_loss: 6.3833e-04\n",
      "Epoch 44/100\n",
      "19/19 [==============================] - 5s 261ms/step - loss: 5.9567e-04 - val_loss: 0.0012\n",
      "Epoch 45/100\n",
      "19/19 [==============================] - 5s 286ms/step - loss: 5.4994e-04 - val_loss: 0.0010\n",
      "Epoch 46/100\n",
      "19/19 [==============================] - 5s 277ms/step - loss: 5.2483e-04 - val_loss: 0.0013\n",
      "Epoch 47/100\n",
      "19/19 [==============================] - 5s 266ms/step - loss: 5.5858e-04 - val_loss: 9.1932e-04\n",
      "Epoch 48/100\n",
      "19/19 [==============================] - 5s 259ms/step - loss: 5.8568e-04 - val_loss: 5.7381e-04\n",
      "Epoch 49/100\n",
      "19/19 [==============================] - 4s 235ms/step - loss: 7.0608e-04 - val_loss: 0.0011\n",
      "Epoch 50/100\n",
      "19/19 [==============================] - 5s 251ms/step - loss: 6.9211e-04 - val_loss: 0.0011\n",
      "Epoch 51/100\n",
      "19/19 [==============================] - 4s 237ms/step - loss: 4.9619e-04 - val_loss: 0.0010\n",
      "Epoch 52/100\n",
      "19/19 [==============================] - 5s 273ms/step - loss: 4.9030e-04 - val_loss: 5.4125e-04\n",
      "Epoch 53/100\n",
      "19/19 [==============================] - 5s 281ms/step - loss: 6.8291e-04 - val_loss: 5.7890e-04\n",
      "Epoch 54/100\n",
      "19/19 [==============================] - 5s 246ms/step - loss: 5.4110e-04 - val_loss: 5.6551e-04\n",
      "Epoch 55/100\n",
      "19/19 [==============================] - 5s 241ms/step - loss: 4.8471e-04 - val_loss: 5.7631e-04\n",
      "Epoch 56/100\n",
      "19/19 [==============================] - 5s 239ms/step - loss: 4.6353e-04 - val_loss: 5.0754e-04\n",
      "Epoch 57/100\n",
      "19/19 [==============================] - 5s 258ms/step - loss: 5.1487e-04 - val_loss: 5.0408e-04\n",
      "Epoch 58/100\n",
      "19/19 [==============================] - 5s 280ms/step - loss: 4.6526e-04 - val_loss: 5.0454e-04\n",
      "Epoch 59/100\n",
      "19/19 [==============================] - 5s 264ms/step - loss: 5.4018e-04 - val_loss: 5.5505e-04\n",
      "Epoch 60/100\n",
      "19/19 [==============================] - 5s 277ms/step - loss: 5.0247e-04 - val_loss: 5.7333e-04\n",
      "Epoch 61/100\n",
      "19/19 [==============================] - 6s 295ms/step - loss: 4.5950e-04 - val_loss: 8.1555e-04\n",
      "Epoch 62/100\n",
      "19/19 [==============================] - 5s 281ms/step - loss: 4.3954e-04 - val_loss: 6.5391e-04\n",
      "Epoch 63/100\n",
      "19/19 [==============================] - 5s 281ms/step - loss: 4.4317e-04 - val_loss: 5.8802e-04\n",
      "Epoch 64/100\n",
      "19/19 [==============================] - 6s 304ms/step - loss: 3.8872e-04 - val_loss: 4.5693e-04\n",
      "Epoch 65/100\n",
      "19/19 [==============================] - 6s 312ms/step - loss: 5.6490e-04 - val_loss: 5.7941e-04\n",
      "Epoch 66/100\n",
      "19/19 [==============================] - 5s 277ms/step - loss: 4.9711e-04 - val_loss: 5.9703e-04\n",
      "Epoch 67/100\n",
      "19/19 [==============================] - 5s 286ms/step - loss: 3.9563e-04 - val_loss: 5.9322e-04\n",
      "Epoch 68/100\n",
      "19/19 [==============================] - 5s 287ms/step - loss: 4.1245e-04 - val_loss: 6.9950e-04\n",
      "Epoch 69/100\n",
      "19/19 [==============================] - 5s 282ms/step - loss: 3.6974e-04 - val_loss: 4.3840e-04\n",
      "Epoch 70/100\n",
      "19/19 [==============================] - 6s 291ms/step - loss: 4.1897e-04 - val_loss: 9.2639e-04\n",
      "Epoch 71/100\n",
      "19/19 [==============================] - 6s 291ms/step - loss: 4.5105e-04 - val_loss: 4.9695e-04\n",
      "Epoch 72/100\n",
      "19/19 [==============================] - 5s 290ms/step - loss: 4.5650e-04 - val_loss: 4.5337e-04\n",
      "Epoch 73/100\n",
      "19/19 [==============================] - 6s 294ms/step - loss: 4.8130e-04 - val_loss: 4.2003e-04\n",
      "Epoch 74/100\n",
      "19/19 [==============================] - 5s 285ms/step - loss: 4.2334e-04 - val_loss: 4.3825e-04\n",
      "Epoch 75/100\n",
      "19/19 [==============================] - 5s 276ms/step - loss: 4.0292e-04 - val_loss: 0.0010\n",
      "Epoch 76/100\n",
      "19/19 [==============================] - 5s 272ms/step - loss: 4.0148e-04 - val_loss: 4.0710e-04\n",
      "Epoch 77/100\n",
      "19/19 [==============================] - 6s 301ms/step - loss: 3.7463e-04 - val_loss: 4.5987e-04\n",
      "Epoch 78/100\n",
      "19/19 [==============================] - 6s 305ms/step - loss: 3.6074e-04 - val_loss: 5.5359e-04\n",
      "Epoch 79/100\n",
      "19/19 [==============================] - 6s 295ms/step - loss: 3.3742e-04 - val_loss: 5.5243e-04\n",
      "Epoch 80/100\n",
      "19/19 [==============================] - 5s 275ms/step - loss: 3.4712e-04 - val_loss: 5.1251e-04\n",
      "Epoch 81/100\n",
      "19/19 [==============================] - 5s 256ms/step - loss: 3.5343e-04 - val_loss: 4.2204e-04\n",
      "Epoch 82/100\n",
      "19/19 [==============================] - 5s 267ms/step - loss: 3.4804e-04 - val_loss: 3.8389e-04\n",
      "Epoch 83/100\n",
      "19/19 [==============================] - 5s 271ms/step - loss: 3.4712e-04 - val_loss: 3.7843e-04\n",
      "Epoch 84/100\n",
      "19/19 [==============================] - 4s 239ms/step - loss: 3.3713e-04 - val_loss: 4.0184e-04\n",
      "Epoch 85/100\n",
      "19/19 [==============================] - 4s 228ms/step - loss: 3.4001e-04 - val_loss: 0.0010\n",
      "Epoch 86/100\n",
      "19/19 [==============================] - 4s 223ms/step - loss: 3.7852e-04 - val_loss: 4.2028e-04\n",
      "Epoch 87/100\n",
      "19/19 [==============================] - 5s 265ms/step - loss: 3.3843e-04 - val_loss: 3.6621e-04\n",
      "Epoch 88/100\n",
      "19/19 [==============================] - 5s 279ms/step - loss: 4.0215e-04 - val_loss: 4.2419e-04\n",
      "Epoch 89/100\n",
      "19/19 [==============================] - 5s 266ms/step - loss: 3.4402e-04 - val_loss: 4.7360e-04\n",
      "Epoch 90/100\n",
      "19/19 [==============================] - 5s 283ms/step - loss: 3.3006e-04 - val_loss: 6.6637e-04\n",
      "Epoch 91/100\n",
      "19/19 [==============================] - 5s 251ms/step - loss: 3.1247e-04 - val_loss: 5.6497e-04\n",
      "Epoch 92/100\n",
      "19/19 [==============================] - 4s 223ms/step - loss: 3.2341e-04 - val_loss: 5.8865e-04\n",
      "Epoch 93/100\n",
      "19/19 [==============================] - 5s 263ms/step - loss: 3.0460e-04 - val_loss: 4.1447e-04\n",
      "Epoch 94/100\n",
      "19/19 [==============================] - 5s 252ms/step - loss: 3.2521e-04 - val_loss: 4.0188e-04\n",
      "Epoch 95/100\n",
      "19/19 [==============================] - 5s 274ms/step - loss: 3.1361e-04 - val_loss: 3.4624e-04\n",
      "Epoch 96/100\n",
      "19/19 [==============================] - 5s 251ms/step - loss: 3.5621e-04 - val_loss: 6.7107e-04\n",
      "Epoch 97/100\n",
      "19/19 [==============================] - 5s 277ms/step - loss: 3.3504e-04 - val_loss: 6.2556e-04\n",
      "Epoch 98/100\n",
      "19/19 [==============================] - 4s 219ms/step - loss: 3.2209e-04 - val_loss: 3.4170e-04\n",
      "Epoch 99/100\n",
      "19/19 [==============================] - 5s 261ms/step - loss: 3.5980e-04 - val_loss: 4.2752e-04\n",
      "Epoch 100/100\n",
      "19/19 [==============================] - 5s 276ms/step - loss: 3.1627e-04 - val_loss: 5.3789e-04\n"
     ]
    },
    {
     "data": {
      "text/plain": [
       "<keras.callbacks.History at 0x291c9d32f40>"
      ]
     },
     "execution_count": 9,
     "metadata": {},
     "output_type": "execute_result"
    }
   ],
   "source": [
    "# 9. Fit mô hình với dữ liệu train\n",
    "model.fit(X_train,y_train,validation_data=(X_test,ytest),epochs=100,batch_size=64,verbose=1)"
   ]
  },
  {
   "cell_type": "code",
   "execution_count": 10,
   "metadata": {
    "colab": {
     "base_uri": "https://localhost:8080/"
    },
    "id": "Rxx_KQSkQpBG",
    "outputId": "838b0243-c20c-4627-f6a3-a1d23b99fffc"
   },
   "outputs": [
    {
     "name": "stdout",
     "output_type": "stream",
     "text": [
      "37/37 [==============================] - 3s 47ms/step\n",
      "9/9 [==============================] - 1s 58ms/step\n",
      "3/3 [==============================] - 0s 53ms/step\n"
     ]
    }
   ],
   "source": [
    "# 10. Dự báo dữ liệu test, val\n",
    "train_predict=model.predict(X_train)\n",
    "y_pred=model.predict(X_test)\n",
    "y_pred_val=model.predict(X_val)"
   ]
  },
  {
   "cell_type": "code",
   "execution_count": 11,
   "metadata": {},
   "outputs": [
    {
     "name": "stdout",
     "output_type": "stream",
     "text": [
      "Validation RMSE: 0.059715551509281956\n",
      "Testing RMSE: 0.20343598373617655\n",
      "Validation MAPE: 13.352122737575753\n",
      "Testing MAPE: 43.90640077222071\n",
      "Validation MAE: 0.045946282857665485\n",
      "Testing MAE: 0.15603643689437466\n"
     ]
    }
   ],
   "source": [
    "# calculate the RMSE\n",
    "valid_rmse = np.sqrt(np.mean((y_pred_val - yval)**2))\n",
    "test_rmse = np.sqrt(np.mean((y_pred - ytest)**2))\n",
    "print('Validation RMSE:', valid_rmse)\n",
    "print('Testing RMSE:', test_rmse)\n",
    "\n",
    "# calculate the MAPE\n",
    "valid_mape = np.mean(np.abs((yval - y_pred_val) / yval)) * 100\n",
    "test_mape = np.mean(np.abs((ytest - y_pred) / ytest)) * 100\n",
    "print(\"Validation MAPE:\", valid_mape)\n",
    "print(\"Testing MAPE:\", test_mape)\n",
    "\n",
    "# calculate the MAE\n",
    "valid_mae = np.mean(np.abs(y_pred_val - yval))\n",
    "test_mae = np.mean(np.abs(y_pred - ytest))\n",
    "print(\"Validation MAE:\", valid_mae)\n",
    "print(\"Testing MAE:\", test_mae)"
   ]
  },
  {
   "cell_type": "code",
   "execution_count": 12,
   "metadata": {
    "id": "5rwTN10LQ7rj"
   },
   "outputs": [],
   "source": [
    "# 11. Chuẩn hóa dữ liệu y_pred, y_pred_val\n",
    "train_predict=scaler.inverse_transform(train_predict)\n",
    "y_pred=scaler.inverse_transform(y_pred)\n",
    "y_pred_val=scaler.inverse_transform(y_pred_val)"
   ]
  },
  {
   "cell_type": "code",
   "execution_count": 13,
   "metadata": {
    "colab": {
     "base_uri": "https://localhost:8080/",
     "height": 430
    },
    "id": "KSa_mX51a654",
    "outputId": "a46b0393-ed53-41d8-b391-c22820d72e83"
   },
   "outputs": [
    {
     "data": {
      "image/png": "[encoded data removed]",
      "text/plain": [
       "<Figure size 432x288 with 1 Axes>"
      ]
     },
     "metadata": {
      "needs_background": "light"
     },
     "output_type": "display_data"
    }
   ],
   "source": [
    "# 14.Vẽ hình\n",
    "\n",
    "train_data_index = pd.RangeIndex(start=0, stop=train_size, step=1)\n",
    "plt.plot(scaler.inverse_transform(train_data))\n",
    "test_data_index = pd.RangeIndex(start=train_size, stop=train_size+test_size, step=1)\n",
    "plt.plot(test_data_index,scaler.inverse_transform(test_data))\n",
    "test_data_index = pd.RangeIndex(start=train_size+101, stop=train_size+test_size, step=1)\n",
    "plt.plot(test_data_index,(y_pred))\n",
    "val_data_index = pd.RangeIndex(start=train_size+test_size, stop=train_size+test_size+val_size, step=1)\n",
    "plt.plot(val_data_index,scaler.inverse_transform(val_data))\n",
    "val_data_index = pd.RangeIndex(start=train_size+test_size+101, stop=train_size+test_size+val_size, step=1)\n",
    "plt.plot(val_data_index,y_pred_val)\n",
    "plt.legend(['Train','Test','Predict','Validate','ValidatePred'])\n",
    "plt.show()"
   ]
  },
  {
   "cell_type": "code",
   "execution_count": null,
   "metadata": {},
   "outputs": [],
   "source": []
  }
 ],
 "metadata": {
  "colab": {
   "provenance": []
  },
  "kernelspec": {
   "display_name": "Python 3 (ipykernel)",
   "language": "python",
   "name": "python3"
  },
  "language_info": {
   "codemirror_mode": {
    "name": "ipython",
    "version": 3
   },
   "file_extension": ".py",
   "mimetype": "text/x-python",
   "name": "python",
   "nbconvert_exporter": "python",
   "pygments_lexer": "ipython3",
   "version": "3.9.12"
  }
 },
 "nbformat": 4,
 "nbformat_minor": 1
}

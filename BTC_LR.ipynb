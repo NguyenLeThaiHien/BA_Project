{
 "cells": [
  {
   "cell_type": "code",
   "execution_count": 1,
   "id": "33040e5c",
   "metadata": {},
   "outputs": [],
   "source": [
    "from sklearn.linear_model import LinearRegression\n",
    "import numpy as np\n",
    "import pandas as pd\n",
    "import datetime as dt\n",
    "import matplotlib.pyplot as plt"
   ]
  },
  {
   "cell_type": "code",
   "execution_count": 2,
   "id": "8d2c0344",
   "metadata": {},
   "outputs": [
    {
     "data": {
      "text/html": [
       "<div>\n",
       "<style scoped>\n",
       "    .dataframe tbody tr th:only-of-type {\n",
       "        vertical-align: middle;\n",
       "    }\n",
       "\n",
       "    .dataframe tbody tr th {\n",
       "        vertical-align: top;\n",
       "    }\n",
       "\n",
       "    .dataframe thead th {\n",
       "        text-align: right;\n",
       "    }\n",
       "</style>\n",
       "<table border=\"1\" class=\"dataframe\">\n",
       "  <thead>\n",
       "    <tr style=\"text-align: right;\">\n",
       "      <th></th>\n",
       "      <th>Price</th>\n",
       "    </tr>\n",
       "  </thead>\n",
       "  <tbody>\n",
       "    <tr>\n",
       "      <th>0</th>\n",
       "      <td>8245.7</td>\n",
       "    </tr>\n",
       "    <tr>\n",
       "      <th>1</th>\n",
       "      <td>8245.1</td>\n",
       "    </tr>\n",
       "    <tr>\n",
       "      <th>2</th>\n",
       "      <td>8529.0</td>\n",
       "    </tr>\n",
       "    <tr>\n",
       "      <th>3</th>\n",
       "      <td>8403.3</td>\n",
       "    </tr>\n",
       "    <tr>\n",
       "      <th>4</th>\n",
       "      <td>8006.0</td>\n",
       "    </tr>\n",
       "    <tr>\n",
       "      <th>...</th>\n",
       "      <td>...</td>\n",
       "    </tr>\n",
       "    <tr>\n",
       "      <th>1822</th>\n",
       "      <td>26920.0</td>\n",
       "    </tr>\n",
       "    <tr>\n",
       "      <th>1823</th>\n",
       "      <td>27183.9</td>\n",
       "    </tr>\n",
       "    <tr>\n",
       "      <th>1824</th>\n",
       "      <td>27035.3</td>\n",
       "    </tr>\n",
       "    <tr>\n",
       "      <th>1825</th>\n",
       "      <td>27403.1</td>\n",
       "    </tr>\n",
       "    <tr>\n",
       "      <th>1826</th>\n",
       "      <td>26828.0</td>\n",
       "    </tr>\n",
       "  </tbody>\n",
       "</table>\n",
       "<p>1827 rows × 1 columns</p>\n",
       "</div>"
      ],
      "text/plain": [
       "        Price\n",
       "0      8245.7\n",
       "1      8245.1\n",
       "2      8529.0\n",
       "3      8403.3\n",
       "4      8006.0\n",
       "...       ...\n",
       "1822  26920.0\n",
       "1823  27183.9\n",
       "1824  27035.3\n",
       "1825  27403.1\n",
       "1826  26828.0\n",
       "\n",
       "[1827 rows x 1 columns]"
      ]
     },
     "execution_count": 2,
     "metadata": {},
     "output_type": "execute_result"
    }
   ],
   "source": [
    "# Read dataset file\n",
    "df = pd.read_csv('BTC.csv')\n",
    "df = df[['Price']]\n",
    "df = df.dropna() # Drop missing values\n",
    "df"
   ]
  },
  {
   "cell_type": "code",
   "execution_count": 3,
   "id": "2f629f16",
   "metadata": {},
   "outputs": [],
   "source": [
    "# Split the data into training, testing, and validation sets\n",
    "train_size = int(0.7 * len(df))\n",
    "test_size = int(0.2 * len(df))\n",
    "val_size = len(df) - train_size - test_size\n",
    "\n",
    "train_data = df[:train_size]\n",
    "test_data = df[train_size:train_size+test_size]\n",
    "val_data = df[train_size+test_size:]"
   ]
  },
  {
   "cell_type": "code",
   "execution_count": 4,
   "id": "21a115cb",
   "metadata": {},
   "outputs": [
    {
     "data": {
      "text/plain": [
       "LinearRegression()"
      ]
     },
     "execution_count": 4,
     "metadata": {},
     "output_type": "execute_result"
    }
   ],
   "source": [
    "#Linear Regression model\n",
    "x_train = np.array(train_data.index).reshape(-1, 1)\n",
    "y_train = np.array(train_data['Price'])\n",
    "# Define the model\n",
    "model = LinearRegression()\n",
    "# Train the model\n",
    "model.fit(x_train, y_train)"
   ]
  },
  {
   "cell_type": "code",
   "execution_count": 5,
   "id": "4182d7da",
   "metadata": {},
   "outputs": [],
   "source": [
    "# make predictions on the testing set\n",
    "x_test = np.array(test_data.index).reshape(-1, 1)\n",
    "y_test = np.array(test_data['Price'])\n",
    "y_pred = model.predict(x_test)\n",
    "\n",
    "# make predictions on the validate set\n",
    "x_val = np.array(val_data.index).reshape(-1, 1)\n",
    "y_val = np.array(val_data['Price'])\n",
    "y_vpred = model.predict(x_val)"
   ]
  },
  {
   "cell_type": "code",
   "execution_count": 6,
   "id": "fd8762f5",
   "metadata": {},
   "outputs": [
    {
     "name": "stdout",
     "output_type": "stream",
     "text": [
      "Validation RMSE: 37029.05879322107\n",
      "Testing RMSE: 22897.28414060407\n",
      "Validation MAPE: 172.19512960947466\n",
      "Testing MAPE: 81.99988693122366\n",
      "Validation MAE: 36913.277880143265\n",
      "Testing MAPE: 81.99988693122366\n"
     ]
    }
   ],
   "source": [
    "# calculate the RMSE\n",
    "valid_rmse = np.sqrt(np.mean((y_vpred - y_val)**2))\n",
    "test_rmse = np.sqrt(np.mean((y_pred - y_test)**2))\n",
    "print('Validation RMSE:', valid_rmse)\n",
    "print('Testing RMSE:', test_rmse)\n",
    "\n",
    "# calculate the MAPE\n",
    "valid_mape = np.mean(np.abs((y_val - y_vpred) / y_val)) * 100\n",
    "test_mape = np.mean(np.abs((y_test - y_pred) / y_test)) * 100\n",
    "print(\"Validation MAPE:\", valid_mape)\n",
    "print(\"Testing MAPE:\", test_mape)\n",
    "\n",
    "# calculate the MAE\n",
    "valid_mae = np.mean(np.abs(y_vpred - y_val))\n",
    "test_mae = np.mean(np.abs(y_pred - y_test))\n",
    "print(\"Validation MAE:\", valid_mae)\n",
    "print(\"Testing MAPE:\", test_mape)"
   ]
  },
  {
   "cell_type": "code",
   "execution_count": 7,
   "id": "62c6f37c",
   "metadata": {},
   "outputs": [
    {
     "data": {
      "image/png": "[encoded data removed]",
      "text/plain": [
       "<Figure size 432x288 with 1 Axes>"
      ]
     },
     "metadata": {
      "needs_background": "light"
     },
     "output_type": "display_data"
    }
   ],
   "source": [
    "# ploting the actual values and predicted values\n",
    "plt.plot(train_data.index, train_data['Price'])\n",
    "plt.plot(test_data.index, test_data['Price'])\n",
    "plt.plot(val_data.index, val_data['Price'])\n",
    "plt.plot(test_data.index, y_pred)\n",
    "plt.plot(val_data.index, y_vpred)\n",
    "plt.legend(['Train', 'Test','Validate', 'Predictions_test','Predictions_validate'])\n",
    "plt.show()"
   ]
  },
  {
   "cell_type": "code",
   "execution_count": null,
   "id": "0641b6c5",
   "metadata": {},
   "outputs": [],
   "source": []
  }
 ],
 "metadata": {
  "kernelspec": {
   "display_name": "Python 3 (ipykernel)",
   "language": "python",
   "name": "python3"
  },
  "language_info": {
   "codemirror_mode": {
    "name": "ipython",
    "version": 3
   },
   "file_extension": ".py",
   "mimetype": "text/x-python",
   "name": "python",
   "nbconvert_exporter": "python",
   "pygments_lexer": "ipython3",
   "version": "3.9.12"
  }
 },
 "nbformat": 4,
 "nbformat_minor": 5
}

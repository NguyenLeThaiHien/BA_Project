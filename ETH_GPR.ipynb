{
 "cells": [
  {
   "cell_type": "code",
   "execution_count": 2,
   "id": "d4acf95b",
   "metadata": {},
   "outputs": [],
   "source": [
    "import pandas as pd\n",
    "import datetime as dt\n",
    "import numpy as np\n",
    "from sklearn.gaussian_process import GaussianProcessRegressor\n",
    "from sklearn.gaussian_process.kernels import RBF, WhiteKernel, RationalQuadratic, ExpSineSquared\n",
    "\n",
    "import matplotlib.pyplot as plt\n",
    "from statsmodels.tsa.holtwinters import ExponentialSmoothing"
   ]
  },
  {
   "cell_type": "code",
   "execution_count": 3,
   "id": "046d761f",
   "metadata": {},
   "outputs": [
    {
     "data": {
      "text/html": [
       "<div>\n",
       "<style scoped>\n",
       "    .dataframe tbody tr th:only-of-type {\n",
       "        vertical-align: middle;\n",
       "    }\n",
       "\n",
       "    .dataframe tbody tr th {\n",
       "        vertical-align: top;\n",
       "    }\n",
       "\n",
       "    .dataframe thead th {\n",
       "        text-align: right;\n",
       "    }\n",
       "</style>\n",
       "<table border=\"1\" class=\"dataframe\">\n",
       "  <thead>\n",
       "    <tr style=\"text-align: right;\">\n",
       "      <th></th>\n",
       "      <th>Price</th>\n",
       "    </tr>\n",
       "  </thead>\n",
       "  <tbody>\n",
       "    <tr>\n",
       "      <th>0</th>\n",
       "      <td>693.28</td>\n",
       "    </tr>\n",
       "    <tr>\n",
       "      <th>1</th>\n",
       "      <td>696.76</td>\n",
       "    </tr>\n",
       "    <tr>\n",
       "      <th>2</th>\n",
       "      <td>716.02</td>\n",
       "    </tr>\n",
       "    <tr>\n",
       "      <th>3</th>\n",
       "      <td>696.85</td>\n",
       "    </tr>\n",
       "    <tr>\n",
       "      <th>4</th>\n",
       "      <td>642.17</td>\n",
       "    </tr>\n",
       "    <tr>\n",
       "      <th>...</th>\n",
       "      <td>...</td>\n",
       "    </tr>\n",
       "    <tr>\n",
       "      <th>1822</th>\n",
       "      <td>1799.36</td>\n",
       "    </tr>\n",
       "    <tr>\n",
       "      <th>1823</th>\n",
       "      <td>1817.11</td>\n",
       "    </tr>\n",
       "    <tr>\n",
       "      <th>1824</th>\n",
       "      <td>1823.98</td>\n",
       "    </tr>\n",
       "    <tr>\n",
       "      <th>1825</th>\n",
       "      <td>1821.73</td>\n",
       "    </tr>\n",
       "    <tr>\n",
       "      <th>1826</th>\n",
       "      <td>1800.99</td>\n",
       "    </tr>\n",
       "  </tbody>\n",
       "</table>\n",
       "<p>1827 rows × 1 columns</p>\n",
       "</div>"
      ],
      "text/plain": [
       "        Price\n",
       "0      693.28\n",
       "1      696.76\n",
       "2      716.02\n",
       "3      696.85\n",
       "4      642.17\n",
       "...       ...\n",
       "1822  1799.36\n",
       "1823  1817.11\n",
       "1824  1823.98\n",
       "1825  1821.73\n",
       "1826  1800.99\n",
       "\n",
       "[1827 rows x 1 columns]"
      ]
     },
     "execution_count": 3,
     "metadata": {},
     "output_type": "execute_result"
    }
   ],
   "source": [
    "# Read dataset file\n",
    "df = pd.read_csv('ETH.csv')\n",
    "df = df[['Price']]\n",
    "df = df.dropna() # Drop missing values\n",
    "df"
   ]
  },
  {
   "cell_type": "code",
   "execution_count": 11,
   "id": "0de85e32",
   "metadata": {},
   "outputs": [],
   "source": [
    "# Split the data into training, testing, and validation sets\n",
    "train_size = int(0.7 * len(df))\n",
    "test_size = int(0.2 * len(df))\n",
    "val_size = len(df) - train_size - test_size\n",
    "\n",
    "train_data = df[:train_size]\n",
    "test_data = df[train_size:train_size+test_size]\n",
    "val_data = df[train_size+test_size:]"
   ]
  },
  {
   "cell_type": "markdown",
   "id": "7b6faf58",
   "metadata": {},
   "source": [
    "RationalQuadratic: This kernel combines components of the RBF (Radial Basis Function) kernel and includes a linear component as well. It is suitable for modeling patterns that exhibit complex non-uniform or non-periodic behavior in time series data."
   ]
  },
  {
   "cell_type": "code",
   "execution_count": 13,
   "id": "2b367eb3",
   "metadata": {},
   "outputs": [
    {
     "data": {
      "text/plain": [
       "GaussianProcessRegressor(alpha=0.1,\n",
       "                         kernel=RationalQuadratic(alpha=0.1, length_scale=1),\n",
       "                         normalize_y=True)"
      ]
     },
     "execution_count": 13,
     "metadata": {},
     "output_type": "execute_result"
    }
   ],
   "source": [
    "#Holt-Winters Exponential Smoothing model\n",
    "x_train = np.array(train_data.index).reshape(-1, 1)\n",
    "y_train = np.array(train_data['Price'])\n",
    "# Define the kernel\n",
    "kernel =RationalQuadratic(length_scale=1.0, alpha=0.1) \n",
    "# RBF(length_scale=1.0, length_scale_bounds=(1e-1, 10.0))\n",
    "\n",
    "\n",
    "# Define the model\n",
    "model = GaussianProcessRegressor(kernel=kernel, alpha=0.1, normalize_y=True)\n",
    "\n",
    "# Train the model\n",
    "model.fit(x_train, y_train)"
   ]
  },
  {
   "cell_type": "code",
   "execution_count": 14,
   "id": "9e8fd8a7",
   "metadata": {},
   "outputs": [],
   "source": [
    "# make predictions on the testing set\n",
    "x_test = np.array(test_data.index).reshape(-1, 1)\n",
    "y_test = np.array(test_data['Price'])\n",
    "y_pred, y_std = model.predict(x_test, return_std=True)\n",
    "\n",
    "# make predictions on the validate set\n",
    "x_val = np.array(val_data.index).reshape(-1, 1)\n",
    "y_val = np.array(val_data['Price'])\n",
    "y_vpred, y_vstd = model.predict(x_val, return_std=True)"
   ]
  },
  {
   "cell_type": "code",
   "execution_count": 15,
   "id": "575b055c",
   "metadata": {},
   "outputs": [
    {
     "name": "stdout",
     "output_type": "stream",
     "text": [
      "Predicted Bitcoin closing prices for the next 30 days:\n"
     ]
    },
    {
     "data": {
      "text/plain": [
       "array([1651.70460191, 1650.69214605, 1649.68271742, 1648.67630208,\n",
       "       1647.67288621, 1646.67245603, 1645.67499788, 1644.68049817,\n",
       "       1643.6889434 , 1642.70032014, 1641.71461506, 1640.73181491,\n",
       "       1639.75190651, 1638.77487677, 1637.80071267, 1636.8294013 ,\n",
       "       1635.86092978, 1634.89528536, 1633.93245532, 1632.97242706,\n",
       "       1632.01518802, 1631.06072574, 1630.10902784, 1629.16008198,\n",
       "       1628.21387594, 1627.27039754, 1626.32963468, 1625.39157535,\n",
       "       1624.45620759, 1623.52351952])"
      ]
     },
     "execution_count": 15,
     "metadata": {},
     "output_type": "execute_result"
    }
   ],
   "source": [
    "# Forecast the next 30 days\n",
    "last_index =  df.index[-1]\n",
    "last_data = pd.RangeIndex(start=last_index, stop=last_index+30, step=1)\n",
    "\n",
    "# Create an array of 30 consecutive integers starting from last_index\n",
    "x_next_30_days = np.array(range(last_index+1, last_index+31)).reshape(-1, 1)\n",
    "\n",
    "# Predict the closing prices for the next 30 days\n",
    "y_next_30_days, y_next_30_day_std = model.predict(x_next_30_days, return_std=True)\n",
    "\n",
    "# Print the predicted closing prices for the next 30 days\n",
    "print('Predicted Bitcoin closing prices for the next 30 days:')\n",
    "y_next_30_days"
   ]
  },
  {
   "cell_type": "code",
   "execution_count": 16,
   "id": "ae262272",
   "metadata": {},
   "outputs": [
    {
     "name": "stdout",
     "output_type": "stream",
     "text": [
      "Validation RMSE: 386.27027267876696\n",
      "Testing RMSE: 604.3991086327821\n",
      "Validation MAPE: 22.769511484097755\n",
      "Testing MAPE: 31.112557121047985\n",
      "Validation MAE: 313.07753666858724\n",
      "Testing MAPE: 31.112557121047985\n"
     ]
    }
   ],
   "source": [
    "# calculate the RMSE\n",
    "valid_rmse = np.sqrt(np.mean((y_vpred - y_val)**2))\n",
    "test_rmse = np.sqrt(np.mean((y_pred - y_test)**2))\n",
    "print('Validation RMSE:', valid_rmse)\n",
    "print('Testing RMSE:', test_rmse)\n",
    "\n",
    "# calculate the MAPE\n",
    "valid_mape = np.mean(np.abs((y_val - y_vpred) / y_val)) * 100\n",
    "test_mape = np.mean(np.abs((y_test - y_pred) / y_test)) * 100\n",
    "print(\"Validation MAPE:\", valid_mape)\n",
    "print(\"Testing MAPE:\", test_mape)\n",
    "\n",
    "# calculate the MAE\n",
    "valid_mae = np.mean(np.abs(y_vpred - y_val))\n",
    "test_mae = np.mean(np.abs(y_pred - y_test))\n",
    "print(\"Validation MAE:\", valid_mae)\n",
    "print(\"Testing MAPE:\", test_mape)"
   ]
  },
  {
   "cell_type": "code",
   "execution_count": 18,
   "id": "c10139d0",
   "metadata": {},
   "outputs": [
    {
     "data": {
      "image/png": "[encoded data removed]",
      "text/plain": [
       "<Figure size 432x288 with 1 Axes>"
      ]
     },
     "metadata": {
      "needs_background": "light"
     },
     "output_type": "display_data"
    }
   ],
   "source": [
    "# ploting the actual values and predicted values\n",
    "plt.plot(train_data.index, train_data['Price'])\n",
    "plt.plot(test_data.index, test_data['Price'])\n",
    "plt.plot(val_data.index, val_data['Price'])\n",
    "plt.plot(test_data.index, y_pred)\n",
    "plt.plot(val_data.index, y_vpred)\n",
    "plt.plot(last_data,y_next_30_days)\n",
    "plt.legend(['Train', 'Test','Validate', 'Predictions_test','Predictions_validate','Next30Days'])\n",
    "plt.show()"
   ]
  },
  {
   "cell_type": "code",
   "execution_count": null,
   "id": "5df656a7",
   "metadata": {},
   "outputs": [],
   "source": []
  },
  {
   "cell_type": "code",
   "execution_count": null,
   "id": "ecc76f08",
   "metadata": {},
   "outputs": [],
   "source": []
  }
 ],
 "metadata": {
  "kernelspec": {
   "display_name": "Python 3 (ipykernel)",
   "language": "python",
   "name": "python3"
  },
  "language_info": {
   "codemirror_mode": {
    "name": "ipython",
    "version": 3
   },
   "file_extension": ".py",
   "mimetype": "text/x-python",
   "name": "python",
   "nbconvert_exporter": "python",
   "pygments_lexer": "ipython3",
   "version": "3.9.12"
  }
 },
 "nbformat": 4,
 "nbformat_minor": 5
}

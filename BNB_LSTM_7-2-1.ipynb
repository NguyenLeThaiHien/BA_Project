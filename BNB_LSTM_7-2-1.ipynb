{
 "cells": [
  {
   "cell_type": "code",
   "execution_count": 1,
   "id": "96316ca7",
   "metadata": {},
   "outputs": [],
   "source": [
    "# 1. Import thư viện cần thiết\n",
    "import numpy as np\n",
    "import pandas as pd\n",
    "import matplotlib.pyplot as plt\n",
    "from sklearn.preprocessing import MinMaxScaler\n",
    "from keras.models import Sequential\n",
    "from keras.layers import Dense, LSTM"
   ]
  },
  {
   "cell_type": "code",
   "execution_count": 2,
   "id": "52ef5db1",
   "metadata": {},
   "outputs": [],
   "source": [
    "# 2. Đọc file csv và gắng index với giá Close\n",
    "df = pd.read_csv('BNB.csv',sep=\";\")\n",
    "df1=df.reset_index()['Price']"
   ]
  },
  {
   "cell_type": "code",
   "execution_count": 3,
   "id": "f1d5fa84",
   "metadata": {},
   "outputs": [],
   "source": [
    "# 3. Scaler data\n",
    "scaler=MinMaxScaler(feature_range=(0,1))\n",
    "df1=scaler.fit_transform(np.array(df1).reshape(-1,1))"
   ]
  },
  {
   "cell_type": "code",
   "execution_count": 4,
   "id": "a2c02177",
   "metadata": {},
   "outputs": [],
   "source": [
    "# 4. Chia train test\n",
    "train_size = int(0.7 * len(df1))\n",
    "test_size = int(0.2 * len(df1))\n",
    "val_size = len(df1) - train_size - test_size\n",
    "\n",
    "train_data = df1[:train_size]\n",
    "test_data = df1[train_size:train_size+test_size]\n",
    "val_data = df1[train_size+test_size:]"
   ]
  },
  {
   "cell_type": "code",
   "execution_count": 5,
   "id": "57c32cbc",
   "metadata": {},
   "outputs": [],
   "source": [
    "# 5. Hàm Create Dataset\n",
    "import numpy\n",
    "# convert an array of values into a dataset matrix\n",
    "def create_dataset(dataset, time_step=1):\n",
    "    dataX, dataY = [], []\n",
    "    for i in range(len(dataset)-time_step-1):\n",
    "        a = dataset[i:(i+time_step), 0]   ###i=0, X=0,1,2,3-----99   Y=100 \n",
    "        dataX.append(a)\n",
    "        dataY.append(dataset[i + time_step, 0])\n",
    "    return numpy.array(dataX), numpy.array(dataY)"
   ]
  },
  {
   "cell_type": "code",
   "execution_count": 6,
   "id": "8c16aa70",
   "metadata": {},
   "outputs": [],
   "source": [
    "#6. Reshape into X=t,t+1,t+2..t+99 and Y=t+100\n",
    "time_step = 100\n",
    "X_train, y_train = create_dataset(train_data, time_step)\n",
    "X_val, yval = create_dataset(val_data, time_step)\n",
    "X_test, ytest = create_dataset(test_data, time_step)"
   ]
  },
  {
   "cell_type": "code",
   "execution_count": 7,
   "id": "99fd625a",
   "metadata": {},
   "outputs": [],
   "source": [
    "# 7. Reshape input to be [samples, time steps, features] which is required for LSTM\n",
    "X_train =X_train.reshape(X_train.shape[0],X_train.shape[1] , 1)\n",
    "X_test = X_test.reshape(X_test.shape[0],X_test.shape[1] , 1)\n",
    "X_val = X_val.reshape(X_val.shape[0],X_val.shape[1] , 1)"
   ]
  },
  {
   "cell_type": "code",
   "execution_count": 8,
   "id": "0a15861c",
   "metadata": {},
   "outputs": [],
   "source": [
    "# 8. Define LSTM Model\n",
    "model=Sequential()\n",
    "model.add(LSTM(50,return_sequences=True,input_shape=(100,1)))\n",
    "model.add(LSTM(50,return_sequences=True))\n",
    "model.add(LSTM(50))\n",
    "model.add(Dense(1))\n",
    "model.compile(loss='mean_squared_error',optimizer='adam')"
   ]
  },
  {
   "cell_type": "code",
   "execution_count": 9,
   "id": "6f124a0f",
   "metadata": {},
   "outputs": [
    {
     "name": "stdout",
     "output_type": "stream",
     "text": [
      "Epoch 1/100\n",
      "19/19 [==============================] - 10s 226ms/step - loss: 0.0178 - val_loss: 0.0092\n",
      "Epoch 2/100\n",
      "19/19 [==============================] - 3s 141ms/step - loss: 0.0034 - val_loss: 0.0051\n",
      "Epoch 3/100\n",
      "19/19 [==============================] - 3s 145ms/step - loss: 0.0032 - val_loss: 0.0044\n",
      "Epoch 4/100\n",
      "19/19 [==============================] - 3s 133ms/step - loss: 0.0035 - val_loss: 0.0016\n",
      "Epoch 5/100\n",
      "19/19 [==============================] - 3s 138ms/step - loss: 0.0027 - val_loss: 0.0052\n",
      "Epoch 6/100\n",
      "19/19 [==============================] - 3s 138ms/step - loss: 0.0020 - val_loss: 0.0079\n",
      "Epoch 7/100\n",
      "19/19 [==============================] - 3s 142ms/step - loss: 0.0018 - val_loss: 0.0056\n",
      "Epoch 8/100\n",
      "19/19 [==============================] - 3s 137ms/step - loss: 0.0016 - val_loss: 0.0016\n",
      "Epoch 9/100\n",
      "19/19 [==============================] - 3s 143ms/step - loss: 0.0020 - val_loss: 0.0049\n",
      "Epoch 10/100\n",
      "19/19 [==============================] - 3s 140ms/step - loss: 0.0015 - val_loss: 0.0011\n",
      "Epoch 11/100\n",
      "19/19 [==============================] - 3s 139ms/step - loss: 0.0014 - val_loss: 0.0031\n",
      "Epoch 12/100\n",
      "19/19 [==============================] - 3s 137ms/step - loss: 0.0013 - val_loss: 0.0011\n",
      "Epoch 13/100\n",
      "19/19 [==============================] - 3s 133ms/step - loss: 0.0012 - val_loss: 0.0034\n",
      "Epoch 14/100\n",
      "19/19 [==============================] - 2s 130ms/step - loss: 0.0012 - val_loss: 0.0011\n",
      "Epoch 15/100\n",
      "19/19 [==============================] - 3s 145ms/step - loss: 0.0011 - val_loss: 0.0011\n",
      "Epoch 16/100\n",
      "19/19 [==============================] - 3s 137ms/step - loss: 0.0011 - val_loss: 0.0031\n",
      "Epoch 17/100\n",
      "19/19 [==============================] - 3s 133ms/step - loss: 0.0013 - val_loss: 0.0012\n",
      "Epoch 18/100\n",
      "19/19 [==============================] - 3s 141ms/step - loss: 0.0010 - val_loss: 0.0014\n",
      "Epoch 19/100\n",
      "19/19 [==============================] - 3s 145ms/step - loss: 9.8480e-04 - val_loss: 9.7372e-04\n",
      "Epoch 20/100\n",
      "19/19 [==============================] - 3s 141ms/step - loss: 0.0010 - val_loss: 0.0011\n",
      "Epoch 21/100\n",
      "19/19 [==============================] - 3s 163ms/step - loss: 0.0011 - val_loss: 8.6540e-04\n",
      "Epoch 22/100\n",
      "19/19 [==============================] - 3s 145ms/step - loss: 9.7698e-04 - val_loss: 7.7138e-04\n",
      "Epoch 23/100\n",
      "19/19 [==============================] - 3s 135ms/step - loss: 0.0012 - val_loss: 0.0020\n",
      "Epoch 24/100\n",
      "19/19 [==============================] - 3s 139ms/step - loss: 8.4411e-04 - val_loss: 0.0028\n",
      "Epoch 25/100\n",
      "19/19 [==============================] - 2s 129ms/step - loss: 0.0010 - val_loss: 8.9554e-04\n",
      "Epoch 26/100\n",
      "19/19 [==============================] - 3s 137ms/step - loss: 8.8932e-04 - val_loss: 0.0035\n",
      "Epoch 27/100\n",
      "19/19 [==============================] - 3s 140ms/step - loss: 9.8068e-04 - val_loss: 8.5200e-04\n",
      "Epoch 28/100\n",
      "19/19 [==============================] - 3s 135ms/step - loss: 8.4972e-04 - val_loss: 8.4499e-04\n",
      "Epoch 29/100\n",
      "19/19 [==============================] - 3s 132ms/step - loss: 8.6202e-04 - val_loss: 0.0011\n",
      "Epoch 30/100\n",
      "19/19 [==============================] - 3s 148ms/step - loss: 8.0334e-04 - val_loss: 0.0013\n",
      "Epoch 31/100\n",
      "19/19 [==============================] - 3s 140ms/step - loss: 8.4411e-04 - val_loss: 0.0021\n",
      "Epoch 32/100\n",
      "19/19 [==============================] - 3s 134ms/step - loss: 8.0079e-04 - val_loss: 0.0016\n",
      "Epoch 33/100\n",
      "19/19 [==============================] - 3s 142ms/step - loss: 9.2126e-04 - val_loss: 6.3119e-04\n",
      "Epoch 34/100\n",
      "19/19 [==============================] - 3s 147ms/step - loss: 7.9395e-04 - val_loss: 7.4588e-04\n",
      "Epoch 35/100\n",
      "19/19 [==============================] - 3s 136ms/step - loss: 9.2937e-04 - val_loss: 0.0018\n",
      "Epoch 36/100\n",
      "19/19 [==============================] - 3s 139ms/step - loss: 7.7761e-04 - val_loss: 6.2587e-04\n",
      "Epoch 37/100\n",
      "19/19 [==============================] - 3s 142ms/step - loss: 7.0119e-04 - val_loss: 6.2798e-04\n",
      "Epoch 38/100\n",
      "19/19 [==============================] - 3s 133ms/step - loss: 7.9462e-04 - val_loss: 6.7466e-04\n",
      "Epoch 39/100\n",
      "19/19 [==============================] - 3s 145ms/step - loss: 7.1335e-04 - val_loss: 8.7091e-04\n",
      "Epoch 40/100\n",
      "19/19 [==============================] - 3s 148ms/step - loss: 6.6396e-04 - val_loss: 0.0014\n",
      "Epoch 41/100\n",
      "19/19 [==============================] - 3s 135ms/step - loss: 6.3734e-04 - val_loss: 5.9510e-04\n",
      "Epoch 42/100\n",
      "19/19 [==============================] - 3s 136ms/step - loss: 6.8013e-04 - val_loss: 0.0011\n",
      "Epoch 43/100\n",
      "19/19 [==============================] - 2s 132ms/step - loss: 6.2629e-04 - val_loss: 0.0015\n",
      "Epoch 44/100\n",
      "19/19 [==============================] - 3s 134ms/step - loss: 6.5905e-04 - val_loss: 5.5823e-04\n",
      "Epoch 45/100\n",
      "19/19 [==============================] - 3s 143ms/step - loss: 6.1382e-04 - val_loss: 0.0013\n",
      "Epoch 46/100\n",
      "19/19 [==============================] - 3s 139ms/step - loss: 5.7054e-04 - val_loss: 5.1867e-04\n",
      "Epoch 47/100\n",
      "19/19 [==============================] - 3s 143ms/step - loss: 6.0738e-04 - val_loss: 0.0010\n",
      "Epoch 48/100\n",
      "19/19 [==============================] - 3s 138ms/step - loss: 5.8907e-04 - val_loss: 0.0013\n",
      "Epoch 49/100\n",
      "19/19 [==============================] - 3s 134ms/step - loss: 5.8941e-04 - val_loss: 6.4039e-04\n",
      "Epoch 50/100\n",
      "19/19 [==============================] - 3s 140ms/step - loss: 5.9434e-04 - val_loss: 4.7907e-04\n",
      "Epoch 51/100\n",
      "19/19 [==============================] - 3s 139ms/step - loss: 6.0051e-04 - val_loss: 7.3767e-04\n",
      "Epoch 52/100\n",
      "19/19 [==============================] - 3s 137ms/step - loss: 5.8562e-04 - val_loss: 4.3844e-04\n",
      "Epoch 53/100\n",
      "19/19 [==============================] - 2s 132ms/step - loss: 5.6185e-04 - val_loss: 0.0011\n",
      "Epoch 54/100\n",
      "19/19 [==============================] - 2s 131ms/step - loss: 5.2353e-04 - val_loss: 6.5769e-04\n",
      "Epoch 55/100\n",
      "19/19 [==============================] - 3s 133ms/step - loss: 5.4701e-04 - val_loss: 0.0016\n",
      "Epoch 56/100\n",
      "19/19 [==============================] - 3s 137ms/step - loss: 6.1551e-04 - val_loss: 0.0011\n",
      "Epoch 57/100\n",
      "19/19 [==============================] - 3s 147ms/step - loss: 5.3389e-04 - val_loss: 9.2588e-04\n",
      "Epoch 58/100\n",
      "19/19 [==============================] - 3s 151ms/step - loss: 5.5754e-04 - val_loss: 8.3256e-04\n",
      "Epoch 59/100\n",
      "19/19 [==============================] - 3s 140ms/step - loss: 4.9256e-04 - val_loss: 5.7147e-04\n",
      "Epoch 60/100\n",
      "19/19 [==============================] - 3s 139ms/step - loss: 5.3045e-04 - val_loss: 4.2798e-04\n",
      "Epoch 61/100\n",
      "19/19 [==============================] - 3s 140ms/step - loss: 5.5565e-04 - val_loss: 4.5656e-04\n",
      "Epoch 62/100\n",
      "19/19 [==============================] - 3s 137ms/step - loss: 5.8553e-04 - val_loss: 5.7992e-04\n",
      "Epoch 63/100\n",
      "19/19 [==============================] - 3s 145ms/step - loss: 5.9718e-04 - val_loss: 4.9112e-04\n",
      "Epoch 64/100\n",
      "19/19 [==============================] - 3s 144ms/step - loss: 5.4663e-04 - val_loss: 3.8465e-04\n",
      "Epoch 65/100\n",
      "19/19 [==============================] - 3s 151ms/step - loss: 4.5691e-04 - val_loss: 4.6334e-04\n",
      "Epoch 66/100\n",
      "19/19 [==============================] - 3s 143ms/step - loss: 4.5922e-04 - val_loss: 5.8604e-04\n",
      "Epoch 67/100\n",
      "19/19 [==============================] - 3s 140ms/step - loss: 4.9890e-04 - val_loss: 4.9019e-04\n",
      "Epoch 68/100\n",
      "19/19 [==============================] - 3s 144ms/step - loss: 4.4494e-04 - val_loss: 3.7287e-04\n",
      "Epoch 69/100\n",
      "19/19 [==============================] - 3s 139ms/step - loss: 4.8698e-04 - val_loss: 4.4000e-04\n",
      "Epoch 70/100\n",
      "19/19 [==============================] - 3s 146ms/step - loss: 4.6951e-04 - val_loss: 3.6298e-04\n",
      "Epoch 71/100\n",
      "19/19 [==============================] - 3s 138ms/step - loss: 5.1250e-04 - val_loss: 7.0387e-04\n",
      "Epoch 72/100\n",
      "19/19 [==============================] - 3s 134ms/step - loss: 5.3438e-04 - val_loss: 6.2101e-04\n",
      "Epoch 73/100\n",
      "19/19 [==============================] - 3s 141ms/step - loss: 4.6538e-04 - val_loss: 3.7509e-04\n",
      "Epoch 74/100\n",
      "19/19 [==============================] - 3s 138ms/step - loss: 4.8587e-04 - val_loss: 7.2769e-04\n",
      "Epoch 75/100\n",
      "19/19 [==============================] - 3s 148ms/step - loss: 5.0264e-04 - val_loss: 0.0011\n",
      "Epoch 76/100\n",
      "19/19 [==============================] - 3s 141ms/step - loss: 4.7571e-04 - val_loss: 7.3458e-04\n",
      "Epoch 77/100\n"
     ]
    },
    {
     "name": "stdout",
     "output_type": "stream",
     "text": [
      "19/19 [==============================] - 3s 136ms/step - loss: 5.0325e-04 - val_loss: 3.5911e-04\n",
      "Epoch 78/100\n",
      "19/19 [==============================] - 3s 132ms/step - loss: 4.4536e-04 - val_loss: 7.0830e-04\n",
      "Epoch 79/100\n",
      "19/19 [==============================] - 3s 136ms/step - loss: 4.5206e-04 - val_loss: 4.2905e-04\n",
      "Epoch 80/100\n",
      "19/19 [==============================] - 3s 135ms/step - loss: 4.3110e-04 - val_loss: 6.4808e-04\n",
      "Epoch 81/100\n",
      "19/19 [==============================] - 3s 148ms/step - loss: 4.3521e-04 - val_loss: 3.6309e-04\n",
      "Epoch 82/100\n",
      "19/19 [==============================] - 3s 166ms/step - loss: 4.5106e-04 - val_loss: 6.8602e-04\n",
      "Epoch 83/100\n",
      "19/19 [==============================] - 3s 151ms/step - loss: 4.4740e-04 - val_loss: 4.7295e-04\n",
      "Epoch 84/100\n",
      "19/19 [==============================] - 3s 140ms/step - loss: 4.2751e-04 - val_loss: 4.3003e-04\n",
      "Epoch 85/100\n",
      "19/19 [==============================] - 3s 137ms/step - loss: 4.4568e-04 - val_loss: 4.0989e-04\n",
      "Epoch 86/100\n",
      "19/19 [==============================] - 3s 138ms/step - loss: 4.7288e-04 - val_loss: 8.6714e-04\n",
      "Epoch 87/100\n",
      "19/19 [==============================] - 3s 143ms/step - loss: 4.3711e-04 - val_loss: 7.1378e-04\n",
      "Epoch 88/100\n",
      "19/19 [==============================] - 3s 137ms/step - loss: 5.2628e-04 - val_loss: 3.4751e-04\n",
      "Epoch 89/100\n",
      "19/19 [==============================] - 3s 145ms/step - loss: 4.7397e-04 - val_loss: 3.5609e-04\n",
      "Epoch 90/100\n",
      "19/19 [==============================] - 3s 166ms/step - loss: 5.5064e-04 - val_loss: 4.1043e-04\n",
      "Epoch 91/100\n",
      "19/19 [==============================] - 3s 140ms/step - loss: 4.4524e-04 - val_loss: 5.8957e-04\n",
      "Epoch 92/100\n",
      "19/19 [==============================] - 3s 141ms/step - loss: 4.3005e-04 - val_loss: 3.4286e-04\n",
      "Epoch 93/100\n",
      "19/19 [==============================] - 3s 146ms/step - loss: 4.4619e-04 - val_loss: 0.0011\n",
      "Epoch 94/100\n",
      "19/19 [==============================] - 3s 144ms/step - loss: 4.5643e-04 - val_loss: 5.3458e-04\n",
      "Epoch 95/100\n",
      "19/19 [==============================] - 3s 134ms/step - loss: 4.4096e-04 - val_loss: 3.8060e-04\n",
      "Epoch 96/100\n",
      "19/19 [==============================] - 3s 143ms/step - loss: 4.3646e-04 - val_loss: 5.0884e-04\n",
      "Epoch 97/100\n",
      "19/19 [==============================] - 3s 151ms/step - loss: 4.5317e-04 - val_loss: 4.2322e-04\n",
      "Epoch 98/100\n",
      "19/19 [==============================] - 3s 156ms/step - loss: 5.7938e-04 - val_loss: 4.5950e-04\n",
      "Epoch 99/100\n",
      "19/19 [==============================] - 3s 153ms/step - loss: 4.7777e-04 - val_loss: 7.7041e-04\n",
      "Epoch 100/100\n",
      "19/19 [==============================] - 3s 136ms/step - loss: 4.3028e-04 - val_loss: 8.0791e-04\n"
     ]
    },
    {
     "data": {
      "text/plain": [
       "<keras.callbacks.History at 0x1bd18b43e50>"
      ]
     },
     "execution_count": 9,
     "metadata": {},
     "output_type": "execute_result"
    }
   ],
   "source": [
    "# 9. Fit mô hình với dữ liệu train\n",
    "model.fit(X_train,y_train,validation_data=(X_test,ytest),epochs=100,batch_size=64,verbose=1)"
   ]
  },
  {
   "cell_type": "code",
   "execution_count": 10,
   "id": "3c8952df",
   "metadata": {},
   "outputs": [
    {
     "name": "stdout",
     "output_type": "stream",
     "text": [
      "37/37 [==============================] - 2s 38ms/step\n",
      "9/9 [==============================] - 0s 35ms/step\n",
      "3/3 [==============================] - 0s 32ms/step\n"
     ]
    }
   ],
   "source": [
    "# 10. Dự báo dữ liệu test, val\n",
    "train_predict=model.predict(X_train)\n",
    "y_pred=model.predict(X_test)\n",
    "y_pred_val=model.predict(X_val)"
   ]
  },
  {
   "cell_type": "code",
   "execution_count": 11,
   "id": "390742d5",
   "metadata": {},
   "outputs": [
    {
     "name": "stdout",
     "output_type": "stream",
     "text": [
      "Validation RMSE: 0.039050108111219124\n",
      "Testing RMSE: 0.13288980030686157\n",
      "Validation MAPE: 7.011067217780291\n",
      "Testing MAPE: 23.95816853158085\n",
      "Validation MAE: 0.03161411936664923\n",
      "Testing MAE: 0.10573259757635317\n"
     ]
    }
   ],
   "source": [
    "# calculate the RMSE\n",
    "valid_rmse = np.sqrt(np.mean((y_pred_val - yval)**2))\n",
    "test_rmse = np.sqrt(np.mean((y_pred - ytest)**2))\n",
    "print('Validation RMSE:', valid_rmse)\n",
    "print('Testing RMSE:', test_rmse)\n",
    "\n",
    "# calculate the MAPE\n",
    "valid_mape = np.mean(np.abs((yval - y_pred_val) / yval)) * 100\n",
    "test_mape = np.mean(np.abs((ytest - y_pred) / ytest)) * 100\n",
    "print(\"Validation MAPE:\", valid_mape)\n",
    "print(\"Testing MAPE:\", test_mape)\n",
    "\n",
    "# calculate the MAE\n",
    "valid_mae = np.mean(np.abs(y_pred_val - yval))\n",
    "test_mae = np.mean(np.abs(y_pred - ytest))\n",
    "print(\"Validation MAE:\", valid_mae)\n",
    "print(\"Testing MAE:\", test_mae)"
   ]
  },
  {
   "cell_type": "code",
   "execution_count": 12,
   "id": "3ffac15d",
   "metadata": {},
   "outputs": [],
   "source": [
    "# 11. Chuẩn hóa dữ liệu y_pred, y_pred_val\n",
    "train_predict=scaler.inverse_transform(train_predict)\n",
    "y_pred=scaler.inverse_transform(y_pred)\n",
    "y_pred_val=scaler.inverse_transform(y_pred_val)"
   ]
  },
  {
   "cell_type": "code",
   "execution_count": 13,
   "id": "773ef190",
   "metadata": {},
   "outputs": [
    {
     "data": {
      "image/png": "[encoded data removed]",
      "text/plain": [
       "<Figure size 432x288 with 1 Axes>"
      ]
     },
     "metadata": {
      "needs_background": "light"
     },
     "output_type": "display_data"
    }
   ],
   "source": [
    "# 14.Vẽ hình\n",
    "\n",
    "train_data_index = pd.RangeIndex(start=0, stop=train_size, step=1)\n",
    "plt.plot(scaler.inverse_transform(train_data))\n",
    "test_data_index = pd.RangeIndex(start=train_size, stop=train_size+test_size, step=1)\n",
    "plt.plot(test_data_index,scaler.inverse_transform(test_data))\n",
    "test_data_index = pd.RangeIndex(start=train_size+101, stop=train_size+test_size, step=1)\n",
    "plt.plot(test_data_index,(y_pred))\n",
    "val_data_index = pd.RangeIndex(start=train_size+test_size, stop=train_size+test_size+val_size, step=1)\n",
    "plt.plot(val_data_index,scaler.inverse_transform(val_data))\n",
    "val_data_index = pd.RangeIndex(start=train_size+test_size+101, stop=train_size+test_size+val_size, step=1)\n",
    "plt.plot(val_data_index,y_pred_val)\n",
    "plt.legend(['Train','Test','Predict','Validate','ValidatePred'])\n",
    "plt.show()"
   ]
  }
 ],
 "metadata": {
  "kernelspec": {
   "display_name": "Python 3 (ipykernel)",
   "language": "python",
   "name": "python3"
  },
  "language_info": {
   "codemirror_mode": {
    "name": "ipython",
    "version": 3
   },
   "file_extension": ".py",
   "mimetype": "text/x-python",
   "name": "python",
   "nbconvert_exporter": "python",
   "pygments_lexer": "ipython3",
   "version": "3.9.12"
  }
 },
 "nbformat": 4,
 "nbformat_minor": 5
}

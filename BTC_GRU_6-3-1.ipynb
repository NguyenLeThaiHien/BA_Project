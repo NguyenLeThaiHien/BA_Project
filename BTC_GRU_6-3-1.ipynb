{
 "cells": [
  {
   "cell_type": "code",
   "execution_count": 1,
   "metadata": {
    "colab": {
     "base_uri": "https://localhost:8080/"
    },
    "id": "FMDKda-XIUAK",
    "outputId": "83f83310-8d4b-4925-a7d3-764d810f45e1"
   },
   "outputs": [],
   "source": [
    "# 1. Import thư viện cần thiết\n",
    "import numpy as np\n",
    "import pandas as pd\n",
    "import matplotlib.pyplot as plt\n",
    "from sklearn.preprocessing import MinMaxScaler\n",
    "from keras.models import Sequential\n",
    "from keras.layers import Dense, GRU"
   ]
  },
  {
   "cell_type": "code",
   "execution_count": 2,
   "metadata": {
    "id": "aRm9GQ8KJJ5N"
   },
   "outputs": [],
   "source": [
    "# 2. Đọc file csv và gắng index với giá Close\n",
    "df = pd.read_csv('BTC.csv')\n",
    "df1=df.reset_index()['Price']"
   ]
  },
  {
   "cell_type": "code",
   "execution_count": 3,
   "metadata": {
    "id": "RdVpDho2JgL5"
   },
   "outputs": [],
   "source": [
    "# 3. Scaler data\n",
    "scaler=MinMaxScaler(feature_range=(0,1))\n",
    "df1=scaler.fit_transform(np.array(df1).reshape(-1,1))"
   ]
  },
  {
   "cell_type": "code",
   "execution_count": 4,
   "metadata": {
    "id": "B5JXpenzJoR3"
   },
   "outputs": [],
   "source": [
    "# 4. Chia train test 6:3:1\n",
    "train_size = int(0.6 * len(df1))\n",
    "test_size = int(0.3 * len(df1))\n",
    "val_size = len(df1) - train_size - test_size\n",
    "\n",
    "train_data = df1[:train_size]\n",
    "test_data = df1[train_size:train_size+test_size]\n",
    "val_data = df1[train_size+test_size:]"
   ]
  },
  {
   "cell_type": "code",
   "execution_count": 5,
   "metadata": {
    "id": "yJfmuBORLSfC"
   },
   "outputs": [],
   "source": [
    "# 5. Hàm Create Dataset\n",
    "import numpy\n",
    "# convert an array of values into a dataset matrix\n",
    "def create_dataset(dataset, time_step=1):\n",
    "\tdataX, dataY = [], []\n",
    "\tfor i in range(len(dataset)-time_step-1):\n",
    "\t\ta = dataset[i:(i+time_step), 0]   ###i=0, X=0,1,2,3-----99   Y=100 \n",
    "\t\tdataX.append(a)\n",
    "\t\tdataY.append(dataset[i + time_step, 0])\n",
    "\treturn numpy.array(dataX), numpy.array(dataY)"
   ]
  },
  {
   "cell_type": "code",
   "execution_count": 6,
   "metadata": {
    "id": "e81cKq03LXFB"
   },
   "outputs": [],
   "source": [
    "#6. Reshape into X=t,t+1,t+2..t+99 and Y=t+100\n",
    "\n",
    "time_step = 100\n",
    "X_train, y_train = create_dataset(train_data, time_step)\n",
    "X_val, yval = create_dataset(val_data, time_step)\n",
    "X_test, ytest = create_dataset(test_data, time_step)"
   ]
  },
  {
   "cell_type": "code",
   "execution_count": 7,
   "metadata": {
    "id": "RdBVfku7O2qb"
   },
   "outputs": [],
   "source": [
    "# 7. Reshape input to be [samples, time steps, features] which is required for LSTM\n",
    "X_train =X_train.reshape(X_train.shape[0],X_train.shape[1] , 1)\n",
    "X_test = X_test.reshape(X_test.shape[0],X_test.shape[1] , 1)\n",
    "X_val = X_val.reshape(X_val.shape[0],X_val.shape[1] , 1)"
   ]
  },
  {
   "cell_type": "code",
   "execution_count": 8,
   "metadata": {
    "id": "sSfxrE7BO9vX"
   },
   "outputs": [],
   "source": [
    "# 8. Define GRU Model\n",
    "\n",
    "model = Sequential()\n",
    "model.add(GRU(64, input_shape=(time_step, 1)))\n",
    "model.add(Dense(1))\n",
    "model.compile(optimizer='adam', loss='mean_squared_error')"
   ]
  },
  {
   "cell_type": "code",
   "execution_count": 9,
   "metadata": {
    "colab": {
     "base_uri": "https://localhost:8080/"
    },
    "id": "zgfeujZSPEKr",
    "outputId": "5479b5c5-22d1-4e02-8803-d6637b0f9e03"
   },
   "outputs": [
    {
     "name": "stdout",
     "output_type": "stream",
     "text": [
      "Epoch 1/100\n",
      "16/16 [==============================] - 4s 97ms/step - loss: 0.0410 - val_loss: 0.0143\n",
      "Epoch 2/100\n",
      "16/16 [==============================] - 1s 58ms/step - loss: 0.0075 - val_loss: 0.0017\n",
      "Epoch 3/100\n",
      "16/16 [==============================] - 1s 67ms/step - loss: 0.0015 - val_loss: 0.0011\n",
      "Epoch 4/100\n",
      "16/16 [==============================] - 1s 62ms/step - loss: 6.0414e-04 - val_loss: 9.6990e-04\n",
      "Epoch 5/100\n",
      "16/16 [==============================] - 1s 79ms/step - loss: 4.7078e-04 - val_loss: 0.0014\n",
      "Epoch 6/100\n",
      "16/16 [==============================] - 2s 106ms/step - loss: 4.3459e-04 - val_loss: 9.2047e-04\n",
      "Epoch 7/100\n",
      "16/16 [==============================] - 2s 101ms/step - loss: 4.4838e-04 - val_loss: 9.6553e-04\n",
      "Epoch 8/100\n",
      "16/16 [==============================] - 2s 106ms/step - loss: 4.0799e-04 - val_loss: 0.0011\n",
      "Epoch 9/100\n",
      "16/16 [==============================] - 2s 101ms/step - loss: 4.0624e-04 - val_loss: 9.1303e-04\n",
      "Epoch 10/100\n",
      "16/16 [==============================] - 2s 101ms/step - loss: 3.8798e-04 - val_loss: 9.4800e-04\n",
      "Epoch 11/100\n",
      "16/16 [==============================] - 2s 116ms/step - loss: 3.7671e-04 - val_loss: 8.8021e-04\n",
      "Epoch 12/100\n",
      "16/16 [==============================] - 2s 111ms/step - loss: 3.6622e-04 - val_loss: 8.2045e-04\n",
      "Epoch 13/100\n",
      "16/16 [==============================] - 2s 117ms/step - loss: 3.6560e-04 - val_loss: 8.6322e-04\n",
      "Epoch 14/100\n",
      "16/16 [==============================] - 2s 123ms/step - loss: 3.6091e-04 - val_loss: 0.0010\n",
      "Epoch 15/100\n",
      "16/16 [==============================] - 2s 103ms/step - loss: 3.3777e-04 - val_loss: 7.9020e-04\n",
      "Epoch 16/100\n",
      "16/16 [==============================] - 2s 99ms/step - loss: 3.3928e-04 - val_loss: 8.9806e-04\n",
      "Epoch 17/100\n",
      "16/16 [==============================] - 2s 103ms/step - loss: 3.3880e-04 - val_loss: 8.0891e-04\n",
      "Epoch 18/100\n",
      "16/16 [==============================] - 2s 98ms/step - loss: 3.3227e-04 - val_loss: 0.0011\n",
      "Epoch 19/100\n",
      "16/16 [==============================] - 2s 99ms/step - loss: 3.5505e-04 - val_loss: 7.4766e-04\n",
      "Epoch 20/100\n",
      "16/16 [==============================] - 1s 91ms/step - loss: 3.0241e-04 - val_loss: 9.7679e-04\n",
      "Epoch 21/100\n",
      "16/16 [==============================] - 2s 98ms/step - loss: 3.0526e-04 - val_loss: 8.6811e-04\n",
      "Epoch 22/100\n",
      "16/16 [==============================] - 2s 96ms/step - loss: 2.9209e-04 - val_loss: 8.1584e-04\n",
      "Epoch 23/100\n",
      "16/16 [==============================] - 2s 101ms/step - loss: 2.8675e-04 - val_loss: 8.4108e-04\n",
      "Epoch 24/100\n",
      "16/16 [==============================] - 2s 104ms/step - loss: 2.8207e-04 - val_loss: 7.6903e-04\n",
      "Epoch 25/100\n",
      "16/16 [==============================] - 2s 97ms/step - loss: 2.7806e-04 - val_loss: 7.0194e-04\n",
      "Epoch 26/100\n",
      "16/16 [==============================] - 1s 95ms/step - loss: 2.7446e-04 - val_loss: 7.8047e-04\n",
      "Epoch 27/100\n",
      "16/16 [==============================] - 1s 88ms/step - loss: 2.7114e-04 - val_loss: 7.0757e-04\n",
      "Epoch 28/100\n",
      "16/16 [==============================] - 1s 90ms/step - loss: 2.7123e-04 - val_loss: 8.1797e-04\n",
      "Epoch 29/100\n",
      "16/16 [==============================] - 1s 94ms/step - loss: 2.7537e-04 - val_loss: 7.5814e-04\n",
      "Epoch 30/100\n",
      "16/16 [==============================] - 2s 107ms/step - loss: 2.6571e-04 - val_loss: 7.3001e-04\n",
      "Epoch 31/100\n",
      "16/16 [==============================] - 2s 123ms/step - loss: 2.5288e-04 - val_loss: 7.0188e-04\n",
      "Epoch 32/100\n",
      "16/16 [==============================] - 2s 123ms/step - loss: 2.5980e-04 - val_loss: 9.0342e-04\n",
      "Epoch 33/100\n",
      "16/16 [==============================] - 2s 126ms/step - loss: 2.6178e-04 - val_loss: 6.6271e-04\n",
      "Epoch 34/100\n",
      "16/16 [==============================] - 1s 92ms/step - loss: 2.5039e-04 - val_loss: 6.4133e-04\n",
      "Epoch 35/100\n",
      "16/16 [==============================] - 1s 94ms/step - loss: 2.4747e-04 - val_loss: 6.3915e-04\n",
      "Epoch 36/100\n",
      "16/16 [==============================] - 2s 107ms/step - loss: 2.6014e-04 - val_loss: 6.4873e-04\n",
      "Epoch 37/100\n",
      "16/16 [==============================] - 2s 104ms/step - loss: 2.4789e-04 - val_loss: 6.6042e-04\n",
      "Epoch 38/100\n",
      "16/16 [==============================] - 2s 115ms/step - loss: 2.3892e-04 - val_loss: 6.3738e-04\n",
      "Epoch 39/100\n",
      "16/16 [==============================] - 2s 112ms/step - loss: 2.3645e-04 - val_loss: 7.3591e-04\n",
      "Epoch 40/100\n",
      "16/16 [==============================] - 2s 104ms/step - loss: 2.4799e-04 - val_loss: 9.6729e-04\n",
      "Epoch 41/100\n",
      "16/16 [==============================] - 2s 104ms/step - loss: 2.5639e-04 - val_loss: 6.6605e-04\n",
      "Epoch 42/100\n",
      "16/16 [==============================] - 2s 102ms/step - loss: 2.4702e-04 - val_loss: 6.3897e-04\n",
      "Epoch 43/100\n",
      "16/16 [==============================] - 1s 92ms/step - loss: 2.3159e-04 - val_loss: 6.3324e-04\n",
      "Epoch 44/100\n",
      "16/16 [==============================] - 1s 93ms/step - loss: 2.2551e-04 - val_loss: 6.4358e-04\n",
      "Epoch 45/100\n",
      "16/16 [==============================] - 1s 92ms/step - loss: 2.3128e-04 - val_loss: 6.6547e-04\n",
      "Epoch 46/100\n",
      "16/16 [==============================] - 1s 91ms/step - loss: 2.2802e-04 - val_loss: 7.5547e-04\n",
      "Epoch 47/100\n",
      "16/16 [==============================] - 2s 106ms/step - loss: 2.2883e-04 - val_loss: 8.2204e-04\n",
      "Epoch 48/100\n",
      "16/16 [==============================] - 2s 117ms/step - loss: 2.3268e-04 - val_loss: 8.4296e-04\n",
      "Epoch 49/100\n",
      "16/16 [==============================] - 2s 104ms/step - loss: 2.3989e-04 - val_loss: 6.0872e-04\n",
      "Epoch 50/100\n",
      "16/16 [==============================] - 2s 117ms/step - loss: 2.2820e-04 - val_loss: 8.1261e-04\n",
      "Epoch 51/100\n",
      "16/16 [==============================] - 2s 117ms/step - loss: 2.3921e-04 - val_loss: 6.1228e-04\n",
      "Epoch 52/100\n",
      "16/16 [==============================] - 2s 127ms/step - loss: 2.1941e-04 - val_loss: 6.0071e-04\n",
      "Epoch 53/100\n",
      "16/16 [==============================] - 1s 94ms/step - loss: 2.2745e-04 - val_loss: 8.8987e-04\n",
      "Epoch 54/100\n",
      "16/16 [==============================] - 2s 98ms/step - loss: 2.1779e-04 - val_loss: 6.1520e-04\n",
      "Epoch 55/100\n",
      "16/16 [==============================] - 1s 88ms/step - loss: 2.5368e-04 - val_loss: 5.9337e-04\n",
      "Epoch 56/100\n",
      "16/16 [==============================] - 1s 91ms/step - loss: 2.1396e-04 - val_loss: 6.2302e-04\n",
      "Epoch 57/100\n",
      "16/16 [==============================] - 1s 95ms/step - loss: 2.0967e-04 - val_loss: 7.9880e-04\n",
      "Epoch 58/100\n",
      "16/16 [==============================] - 2s 103ms/step - loss: 2.2442e-04 - val_loss: 6.2231e-04\n",
      "Epoch 59/100\n",
      "16/16 [==============================] - 1s 93ms/step - loss: 2.2028e-04 - val_loss: 5.8070e-04\n",
      "Epoch 60/100\n",
      "16/16 [==============================] - 1s 92ms/step - loss: 2.1753e-04 - val_loss: 8.7849e-04\n",
      "Epoch 61/100\n",
      "16/16 [==============================] - 1s 88ms/step - loss: 2.3593e-04 - val_loss: 6.0162e-04\n",
      "Epoch 62/100\n",
      "16/16 [==============================] - 1s 91ms/step - loss: 2.8224e-04 - val_loss: 6.0710e-04\n",
      "Epoch 63/100\n",
      "16/16 [==============================] - 1s 93ms/step - loss: 2.2929e-04 - val_loss: 7.2856e-04\n",
      "Epoch 64/100\n",
      "16/16 [==============================] - 1s 90ms/step - loss: 2.0466e-04 - val_loss: 6.0662e-04\n",
      "Epoch 65/100\n",
      "16/16 [==============================] - 1s 92ms/step - loss: 2.0303e-04 - val_loss: 7.1484e-04\n",
      "Epoch 66/100\n",
      "16/16 [==============================] - 1s 90ms/step - loss: 2.3679e-04 - val_loss: 9.3735e-04\n",
      "Epoch 67/100\n",
      "16/16 [==============================] - 1s 88ms/step - loss: 2.2267e-04 - val_loss: 5.7792e-04\n",
      "Epoch 68/100\n",
      "16/16 [==============================] - 1s 92ms/step - loss: 2.1076e-04 - val_loss: 6.0205e-04\n",
      "Epoch 69/100\n",
      "16/16 [==============================] - 1s 90ms/step - loss: 2.0135e-04 - val_loss: 6.2754e-04\n",
      "Epoch 70/100\n",
      "16/16 [==============================] - 2s 95ms/step - loss: 2.0767e-04 - val_loss: 6.3745e-04\n",
      "Epoch 71/100\n",
      "16/16 [==============================] - 2s 105ms/step - loss: 2.0115e-04 - val_loss: 7.5736e-04\n",
      "Epoch 72/100\n",
      "16/16 [==============================] - 1s 93ms/step - loss: 2.2348e-04 - val_loss: 7.0506e-04\n",
      "Epoch 73/100\n",
      "16/16 [==============================] - 2s 102ms/step - loss: 2.1136e-04 - val_loss: 6.0520e-04\n",
      "Epoch 74/100\n",
      "16/16 [==============================] - 2s 104ms/step - loss: 2.1751e-04 - val_loss: 5.6379e-04\n",
      "Epoch 75/100\n",
      "16/16 [==============================] - 2s 101ms/step - loss: 2.0314e-04 - val_loss: 6.0657e-04\n",
      "Epoch 76/100\n",
      "16/16 [==============================] - 2s 97ms/step - loss: 1.9953e-04 - val_loss: 5.8782e-04\n",
      "Epoch 77/100\n",
      "16/16 [==============================] - 1s 92ms/step - loss: 2.1243e-04 - val_loss: 5.6432e-04\n",
      "Epoch 78/100\n",
      "16/16 [==============================] - 1s 92ms/step - loss: 1.9705e-04 - val_loss: 6.1620e-04\n",
      "Epoch 79/100\n",
      "16/16 [==============================] - 1s 89ms/step - loss: 1.9637e-04 - val_loss: 6.6643e-04\n",
      "Epoch 80/100\n",
      "16/16 [==============================] - 1s 90ms/step - loss: 2.0908e-04 - val_loss: 5.8407e-04\n",
      "Epoch 81/100\n",
      "16/16 [==============================] - 1s 89ms/step - loss: 1.9896e-04 - val_loss: 5.9760e-04\n",
      "Epoch 82/100\n",
      "16/16 [==============================] - 1s 93ms/step - loss: 1.9619e-04 - val_loss: 6.2605e-04\n",
      "Epoch 83/100\n",
      "16/16 [==============================] - 1s 91ms/step - loss: 2.0304e-04 - val_loss: 5.6683e-04\n",
      "Epoch 84/100\n",
      "16/16 [==============================] - 1s 86ms/step - loss: 2.1869e-04 - val_loss: 8.8622e-04\n",
      "Epoch 85/100\n",
      "16/16 [==============================] - 1s 91ms/step - loss: 2.2192e-04 - val_loss: 6.0985e-04\n",
      "Epoch 86/100\n",
      "16/16 [==============================] - 1s 91ms/step - loss: 2.4001e-04 - val_loss: 5.4855e-04\n",
      "Epoch 87/100\n",
      "16/16 [==============================] - 1s 86ms/step - loss: 2.0178e-04 - val_loss: 6.3858e-04\n",
      "Epoch 88/100\n",
      "16/16 [==============================] - 1s 88ms/step - loss: 1.9358e-04 - val_loss: 5.5676e-04\n",
      "Epoch 89/100\n",
      "16/16 [==============================] - 1s 73ms/step - loss: 2.0042e-04 - val_loss: 5.4943e-04\n",
      "Epoch 90/100\n",
      "16/16 [==============================] - 1s 66ms/step - loss: 2.1504e-04 - val_loss: 7.0156e-04\n",
      "Epoch 91/100\n",
      "16/16 [==============================] - 1s 66ms/step - loss: 2.1078e-04 - val_loss: 5.7834e-04\n",
      "Epoch 92/100\n",
      "16/16 [==============================] - 1s 74ms/step - loss: 1.9944e-04 - val_loss: 6.0316e-04\n",
      "Epoch 93/100\n",
      "16/16 [==============================] - 1s 76ms/step - loss: 2.0065e-04 - val_loss: 6.2870e-04\n",
      "Epoch 94/100\n",
      "16/16 [==============================] - 1s 82ms/step - loss: 2.0047e-04 - val_loss: 5.4278e-04\n",
      "Epoch 95/100\n",
      "16/16 [==============================] - 1s 84ms/step - loss: 2.0916e-04 - val_loss: 5.7787e-04\n",
      "Epoch 96/100\n",
      "16/16 [==============================] - 1s 83ms/step - loss: 2.0084e-04 - val_loss: 5.7216e-04\n",
      "Epoch 97/100\n",
      "16/16 [==============================] - 1s 72ms/step - loss: 1.8863e-04 - val_loss: 5.3849e-04\n",
      "Epoch 98/100\n",
      "16/16 [==============================] - 1s 59ms/step - loss: 1.9682e-04 - val_loss: 6.0183e-04\n",
      "Epoch 99/100\n",
      "16/16 [==============================] - 1s 58ms/step - loss: 1.9850e-04 - val_loss: 5.5827e-04\n",
      "Epoch 100/100\n",
      "16/16 [==============================] - 1s 55ms/step - loss: 1.9579e-04 - val_loss: 5.4689e-04\n"
     ]
    },
    {
     "data": {
      "text/plain": [
       "<keras.callbacks.History at 0x23f9ee10d30>"
      ]
     },
     "execution_count": 9,
     "metadata": {},
     "output_type": "execute_result"
    }
   ],
   "source": [
    "# Fit mô hình với dữ liệu train\n",
    "model.fit(X_train,y_train,validation_data=(X_test,ytest),epochs=100,batch_size=64,verbose=1)"
   ]
  },
  {
   "cell_type": "code",
   "execution_count": 10,
   "metadata": {
    "colab": {
     "base_uri": "https://localhost:8080/"
    },
    "id": "Rxx_KQSkQpBG",
    "outputId": "cf0fb697-d4e6-4c79-9af8-47462ffe5053"
   },
   "outputs": [
    {
     "name": "stdout",
     "output_type": "stream",
     "text": [
      "32/32 [==============================] - 1s 10ms/step\n",
      "14/14 [==============================] - 0s 10ms/step\n",
      "3/3 [==============================] - 0s 18ms/step\n"
     ]
    }
   ],
   "source": [
    "# Dự báo dữ liệu test, val\n",
    "train_predict=model.predict(X_train)\n",
    "y_pred=model.predict(X_test)\n",
    "y_pred_val=model.predict(X_val)"
   ]
  },
  {
   "cell_type": "code",
   "execution_count": 11,
   "metadata": {},
   "outputs": [
    {
     "name": "stdout",
     "output_type": "stream",
     "text": [
      "Validation RMSE: 0.0584817314371814\n",
      "Testing RMSE: 0.3039432125390721\n",
      "Validation MAPE: 12.808209876865165\n",
      "Testing MAPE: 57.689847681179195\n",
      "Validation MAE: 0.04428518814803327\n",
      "Testing MAE: 0.24395663106509696\n"
     ]
    }
   ],
   "source": [
    "# calculate the RMSE\n",
    "valid_rmse = np.sqrt(np.mean((y_pred_val - yval)**2))\n",
    "test_rmse = np.sqrt(np.mean((y_pred - ytest)**2))\n",
    "print('Validation RMSE:', valid_rmse)\n",
    "print('Testing RMSE:', test_rmse)\n",
    "\n",
    "# calculate the MAPE\n",
    "valid_mape = np.mean(np.abs((yval - y_pred_val) / yval)) * 100\n",
    "test_mape = np.mean(np.abs((ytest - y_pred) / ytest)) * 100\n",
    "print(\"Validation MAPE:\", valid_mape)\n",
    "print(\"Testing MAPE:\", test_mape)\n",
    "\n",
    "# calculate the MAE\n",
    "valid_mae = np.mean(np.abs(y_pred_val - yval))\n",
    "test_mae = np.mean(np.abs(y_pred - ytest))\n",
    "print(\"Validation MAE:\", valid_mae)\n",
    "print(\"Testing MAE:\", test_mae)"
   ]
  },
  {
   "cell_type": "code",
   "execution_count": 12,
   "metadata": {
    "id": "5rwTN10LQ7rj"
   },
   "outputs": [],
   "source": [
    "# Chuẩn hóa dữ liệu y_pred, y_pred_val\n",
    "train_predict=scaler.inverse_transform(train_predict)\n",
    "y_pred=scaler.inverse_transform(y_pred)\n",
    "y_pred_val=scaler.inverse_transform(y_pred_val)"
   ]
  },
  {
   "cell_type": "code",
   "execution_count": 13,
   "metadata": {
    "colab": {
     "base_uri": "https://localhost:8080/",
     "height": 430
    },
    "id": "KSa_mX51a654",
    "outputId": "a17abc33-966c-4a6a-c645-f142e7e9ffb3"
   },
   "outputs": [
    {
     "data": {
      "image/png": "[encoded data removed]",
      "text/plain": [
       "<Figure size 432x288 with 1 Axes>"
      ]
     },
     "metadata": {
      "needs_background": "light"
     },
     "output_type": "display_data"
    }
   ],
   "source": [
    "# 14.Vẽ hình\n",
    "\n",
    "train_data_index = pd.RangeIndex(start=0, stop=train_size, step=1)\n",
    "plt.plot(scaler.inverse_transform(train_data))\n",
    "test_data_index = pd.RangeIndex(start=train_size, stop=train_size+test_size, step=1)\n",
    "plt.plot(test_data_index,scaler.inverse_transform(test_data))\n",
    "test_data_index = pd.RangeIndex(start=train_size+101, stop=train_size+test_size, step=1)\n",
    "plt.plot(test_data_index,(y_pred))\n",
    "val_data_index = pd.RangeIndex(start=train_size+test_size, stop=train_size+test_size+val_size, step=1)\n",
    "plt.plot(val_data_index,scaler.inverse_transform(val_data))\n",
    "val_data_index = pd.RangeIndex(start=train_size+test_size+101, stop=train_size+test_size+val_size, step=1)\n",
    "plt.plot(val_data_index,y_pred_val)\n",
    "plt.legend(['Train','Test','Predict','Validate','ValidatePred'])\n",
    "plt.show()"
   ]
  },
  {
   "cell_type": "code",
   "execution_count": null,
   "metadata": {},
   "outputs": [],
   "source": []
  }
 ],
 "metadata": {
  "colab": {
   "provenance": []
  },
  "kernelspec": {
   "display_name": "Python 3 (ipykernel)",
   "language": "python",
   "name": "python3"
  },
  "language_info": {
   "codemirror_mode": {
    "name": "ipython",
    "version": 3
   },
   "file_extension": ".py",
   "mimetype": "text/x-python",
   "name": "python",
   "nbconvert_exporter": "python",
   "pygments_lexer": "ipython3",
   "version": "3.9.12"
  }
 },
 "nbformat": 4,
 "nbformat_minor": 1
}

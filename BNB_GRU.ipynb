{
 "cells": [
  {
   "cell_type": "code",
   "execution_count": 1,
   "id": "65d27d94",
   "metadata": {},
   "outputs": [],
   "source": [
    "# 1. Import thư viện cần thiết\n",
    "import numpy as np\n",
    "import pandas as pd\n",
    "import matplotlib.pyplot as plt\n",
    "from sklearn.preprocessing import MinMaxScaler\n",
    "from keras.models import Sequential\n",
    "from keras.layers import Dense, GRU"
   ]
  },
  {
   "cell_type": "code",
   "execution_count": 2,
   "id": "5a1b353c",
   "metadata": {},
   "outputs": [],
   "source": [
    "# 2. Đọc file csv và gắng index với giá Close\n",
    "df = pd.read_csv('BNB.csv',sep=\";\")\n",
    "df1=df.reset_index()['Price']"
   ]
  },
  {
   "cell_type": "code",
   "execution_count": 3,
   "id": "a35e0dda",
   "metadata": {},
   "outputs": [],
   "source": [
    "# 3. Scaler data\n",
    "scaler=MinMaxScaler(feature_range=(0,1))\n",
    "df1=scaler.fit_transform(np.array(df1).reshape(-1,1))"
   ]
  },
  {
   "cell_type": "code",
   "execution_count": 4,
   "id": "77ddf408",
   "metadata": {},
   "outputs": [],
   "source": [
    "# 4. Chia train test\n",
    "train_size = int(0.7 * len(df1))\n",
    "test_size = int(0.2 * len(df1))\n",
    "val_size = len(df1) - train_size - test_size\n",
    "\n",
    "train_data = df1[:train_size]\n",
    "test_data = df1[train_size:train_size+test_size]\n",
    "val_data = df1[train_size+test_size:]"
   ]
  },
  {
   "cell_type": "code",
   "execution_count": 5,
   "id": "f0d0059c",
   "metadata": {},
   "outputs": [],
   "source": [
    "# 5. Hàm Create Dataset\n",
    "import numpy\n",
    "# convert an array of values into a dataset matrix\n",
    "def create_dataset(dataset, time_step=1):\n",
    "    dataX, dataY = [], []\n",
    "    for i in range(len(dataset)-time_step-1):\n",
    "        a = dataset[i:(i+time_step), 0]   ###i=0, X=0,1,2,3-----99   Y=100 \n",
    "        dataX.append(a)\n",
    "        dataY.append(dataset[i + time_step, 0])\n",
    "    return numpy.array(dataX), numpy.array(dataY)"
   ]
  },
  {
   "cell_type": "code",
   "execution_count": 6,
   "id": "169841fb",
   "metadata": {},
   "outputs": [],
   "source": [
    "#6. Reshape into X=t,t+1,t+2..t+99 and Y=t+100\n",
    "\n",
    "time_step = 100\n",
    "X_train, y_train = create_dataset(train_data, time_step)\n",
    "X_val, yval = create_dataset(val_data, time_step)\n",
    "X_test, ytest = create_dataset(test_data, time_step)"
   ]
  },
  {
   "cell_type": "code",
   "execution_count": 7,
   "id": "5d79c9e2",
   "metadata": {},
   "outputs": [],
   "source": [
    "# 7. Reshape input to be [samples, time steps, features] which is required for LSTM\n",
    "X_train =X_train.reshape(X_train.shape[0],X_train.shape[1] , 1)\n",
    "X_test = X_test.reshape(X_test.shape[0],X_test.shape[1] , 1)\n",
    "X_val = X_val.reshape(X_val.shape[0],X_val.shape[1] , 1)"
   ]
  },
  {
   "cell_type": "code",
   "execution_count": 8,
   "id": "b4ea8f91",
   "metadata": {},
   "outputs": [],
   "source": [
    "# 8. Define GRU Model\n",
    "\n",
    "model = Sequential()\n",
    "model.add(GRU(64, input_shape=(time_step, 1)))\n",
    "model.add(Dense(1))\n",
    "model.compile(optimizer='adam', loss='mean_squared_error')"
   ]
  },
  {
   "cell_type": "code",
   "execution_count": 9,
   "id": "0496007a",
   "metadata": {},
   "outputs": [
    {
     "name": "stdout",
     "output_type": "stream",
     "text": [
      "Epoch 1/100\n",
      "19/19 [==============================] - 3s 75ms/step - loss: 0.0308 - val_loss: 7.4860e-04\n",
      "Epoch 2/100\n",
      "19/19 [==============================] - 1s 47ms/step - loss: 0.0022 - val_loss: 0.0011\n",
      "Epoch 3/100\n",
      "19/19 [==============================] - 1s 43ms/step - loss: 9.1119e-04 - val_loss: 6.2932e-04\n",
      "Epoch 4/100\n",
      "19/19 [==============================] - 1s 39ms/step - loss: 8.0798e-04 - val_loss: 5.3859e-04\n",
      "Epoch 5/100\n",
      "19/19 [==============================] - 1s 42ms/step - loss: 7.3535e-04 - val_loss: 6.3564e-04\n",
      "Epoch 6/100\n",
      "19/19 [==============================] - 1s 44ms/step - loss: 6.9988e-04 - val_loss: 5.8166e-04\n",
      "Epoch 7/100\n",
      "19/19 [==============================] - 1s 42ms/step - loss: 6.7185e-04 - val_loss: 5.2011e-04\n",
      "Epoch 8/100\n",
      "19/19 [==============================] - 1s 47ms/step - loss: 6.4432e-04 - val_loss: 7.0622e-04\n",
      "Epoch 9/100\n",
      "19/19 [==============================] - 1s 44ms/step - loss: 6.5179e-04 - val_loss: 5.6426e-04\n",
      "Epoch 10/100\n",
      "19/19 [==============================] - 1s 43ms/step - loss: 6.3888e-04 - val_loss: 6.6291e-04\n",
      "Epoch 11/100\n",
      "19/19 [==============================] - 1s 46ms/step - loss: 6.1333e-04 - val_loss: 5.1662e-04\n",
      "Epoch 12/100\n",
      "19/19 [==============================] - 1s 44ms/step - loss: 5.7526e-04 - val_loss: 4.7510e-04\n",
      "Epoch 13/100\n",
      "19/19 [==============================] - 1s 43ms/step - loss: 5.7069e-04 - val_loss: 4.8127e-04\n",
      "Epoch 14/100\n",
      "19/19 [==============================] - 1s 47ms/step - loss: 5.7397e-04 - val_loss: 4.9395e-04\n",
      "Epoch 15/100\n",
      "19/19 [==============================] - 1s 45ms/step - loss: 5.5101e-04 - val_loss: 4.1676e-04\n",
      "Epoch 16/100\n",
      "19/19 [==============================] - 1s 42ms/step - loss: 5.3628e-04 - val_loss: 4.5170e-04\n",
      "Epoch 17/100\n",
      "19/19 [==============================] - 1s 45ms/step - loss: 5.2030e-04 - val_loss: 3.9593e-04\n",
      "Epoch 18/100\n",
      "19/19 [==============================] - 1s 44ms/step - loss: 5.4078e-04 - val_loss: 4.2676e-04\n",
      "Epoch 19/100\n",
      "19/19 [==============================] - 1s 45ms/step - loss: 5.2979e-04 - val_loss: 4.8113e-04\n",
      "Epoch 20/100\n",
      "19/19 [==============================] - 1s 44ms/step - loss: 5.5028e-04 - val_loss: 4.2095e-04\n",
      "Epoch 21/100\n",
      "19/19 [==============================] - 1s 45ms/step - loss: 4.9722e-04 - val_loss: 4.3965e-04\n",
      "Epoch 22/100\n",
      "19/19 [==============================] - 1s 43ms/step - loss: 4.8533e-04 - val_loss: 3.7394e-04\n",
      "Epoch 23/100\n",
      "19/19 [==============================] - 1s 45ms/step - loss: 4.7977e-04 - val_loss: 4.3444e-04\n",
      "Epoch 24/100\n",
      "19/19 [==============================] - 1s 43ms/step - loss: 5.0660e-04 - val_loss: 6.5665e-04\n",
      "Epoch 25/100\n",
      "19/19 [==============================] - 1s 46ms/step - loss: 5.1568e-04 - val_loss: 3.8385e-04\n",
      "Epoch 26/100\n",
      "19/19 [==============================] - 1s 43ms/step - loss: 4.9976e-04 - val_loss: 4.3723e-04\n",
      "Epoch 27/100\n",
      "19/19 [==============================] - 1s 43ms/step - loss: 4.7853e-04 - val_loss: 3.4996e-04\n",
      "Epoch 28/100\n",
      "19/19 [==============================] - 1s 43ms/step - loss: 4.5463e-04 - val_loss: 4.3859e-04\n",
      "Epoch 29/100\n",
      "19/19 [==============================] - 1s 44ms/step - loss: 4.4830e-04 - val_loss: 3.4611e-04\n",
      "Epoch 30/100\n",
      "19/19 [==============================] - 1s 46ms/step - loss: 4.6182e-04 - val_loss: 4.0367e-04\n",
      "Epoch 31/100\n",
      "19/19 [==============================] - 1s 45ms/step - loss: 4.3542e-04 - val_loss: 3.5472e-04\n",
      "Epoch 32/100\n",
      "19/19 [==============================] - 1s 43ms/step - loss: 4.3757e-04 - val_loss: 3.5438e-04\n",
      "Epoch 33/100\n",
      "19/19 [==============================] - 1s 45ms/step - loss: 4.4388e-04 - val_loss: 5.2168e-04\n",
      "Epoch 34/100\n",
      "19/19 [==============================] - 1s 50ms/step - loss: 4.6756e-04 - val_loss: 3.3311e-04\n",
      "Epoch 35/100\n",
      "19/19 [==============================] - 1s 49ms/step - loss: 4.5275e-04 - val_loss: 5.0811e-04\n",
      "Epoch 36/100\n",
      "19/19 [==============================] - 1s 45ms/step - loss: 4.3358e-04 - val_loss: 4.1026e-04\n",
      "Epoch 37/100\n",
      "19/19 [==============================] - 1s 45ms/step - loss: 4.3451e-04 - val_loss: 3.7359e-04\n",
      "Epoch 38/100\n",
      "19/19 [==============================] - 1s 45ms/step - loss: 4.5972e-04 - val_loss: 7.8790e-04\n",
      "Epoch 39/100\n",
      "19/19 [==============================] - 1s 42ms/step - loss: 4.8418e-04 - val_loss: 3.2943e-04\n",
      "Epoch 40/100\n",
      "19/19 [==============================] - 1s 43ms/step - loss: 4.2989e-04 - val_loss: 3.3051e-04\n",
      "Epoch 41/100\n",
      "19/19 [==============================] - 1s 42ms/step - loss: 4.4916e-04 - val_loss: 4.2014e-04\n",
      "Epoch 42/100\n",
      "19/19 [==============================] - 1s 43ms/step - loss: 4.3896e-04 - val_loss: 3.3304e-04\n",
      "Epoch 43/100\n",
      "19/19 [==============================] - 1s 44ms/step - loss: 4.3433e-04 - val_loss: 4.8579e-04\n",
      "Epoch 44/100\n",
      "19/19 [==============================] - 1s 44ms/step - loss: 4.2804e-04 - val_loss: 4.2191e-04\n",
      "Epoch 45/100\n",
      "19/19 [==============================] - 1s 44ms/step - loss: 4.1463e-04 - val_loss: 4.1825e-04\n",
      "Epoch 46/100\n",
      "19/19 [==============================] - 1s 41ms/step - loss: 4.3068e-04 - val_loss: 3.8996e-04\n",
      "Epoch 47/100\n",
      "19/19 [==============================] - 1s 42ms/step - loss: 4.2318e-04 - val_loss: 3.1998e-04\n",
      "Epoch 48/100\n",
      "19/19 [==============================] - 1s 44ms/step - loss: 4.2433e-04 - val_loss: 3.9750e-04\n",
      "Epoch 49/100\n",
      "19/19 [==============================] - 1s 43ms/step - loss: 4.1990e-04 - val_loss: 3.2397e-04\n",
      "Epoch 50/100\n",
      "19/19 [==============================] - 1s 42ms/step - loss: 4.2548e-04 - val_loss: 3.2272e-04\n",
      "Epoch 51/100\n",
      "19/19 [==============================] - 1s 41ms/step - loss: 4.3339e-04 - val_loss: 5.0099e-04\n",
      "Epoch 52/100\n",
      "19/19 [==============================] - 1s 44ms/step - loss: 4.0642e-04 - val_loss: 3.3731e-04\n",
      "Epoch 53/100\n",
      "19/19 [==============================] - 1s 49ms/step - loss: 4.0597e-04 - val_loss: 6.3103e-04\n",
      "Epoch 54/100\n",
      "19/19 [==============================] - 1s 46ms/step - loss: 4.0666e-04 - val_loss: 3.1864e-04\n",
      "Epoch 55/100\n",
      "19/19 [==============================] - 1s 43ms/step - loss: 4.2249e-04 - val_loss: 3.2132e-04\n",
      "Epoch 56/100\n",
      "19/19 [==============================] - 1s 42ms/step - loss: 4.0925e-04 - val_loss: 3.8887e-04\n",
      "Epoch 57/100\n",
      "19/19 [==============================] - 1s 44ms/step - loss: 4.0257e-04 - val_loss: 4.3016e-04\n",
      "Epoch 58/100\n",
      "19/19 [==============================] - 1s 41ms/step - loss: 4.3190e-04 - val_loss: 4.7186e-04\n",
      "Epoch 59/100\n",
      "19/19 [==============================] - 1s 44ms/step - loss: 4.1181e-04 - val_loss: 3.1502e-04\n",
      "Epoch 60/100\n",
      "19/19 [==============================] - 1s 43ms/step - loss: 4.4811e-04 - val_loss: 3.6738e-04\n",
      "Epoch 61/100\n",
      "19/19 [==============================] - 1s 42ms/step - loss: 4.5649e-04 - val_loss: 3.4332e-04\n",
      "Epoch 62/100\n",
      "19/19 [==============================] - 1s 41ms/step - loss: 4.1284e-04 - val_loss: 7.2517e-04\n",
      "Epoch 63/100\n",
      "19/19 [==============================] - 1s 41ms/step - loss: 4.5403e-04 - val_loss: 3.1823e-04\n",
      "Epoch 64/100\n",
      "19/19 [==============================] - 1s 42ms/step - loss: 4.7583e-04 - val_loss: 3.7116e-04\n",
      "Epoch 65/100\n",
      "19/19 [==============================] - 1s 42ms/step - loss: 4.1820e-04 - val_loss: 3.6920e-04\n",
      "Epoch 66/100\n",
      "19/19 [==============================] - 1s 41ms/step - loss: 4.0501e-04 - val_loss: 4.1644e-04\n",
      "Epoch 67/100\n",
      "19/19 [==============================] - 1s 40ms/step - loss: 3.9942e-04 - val_loss: 3.4487e-04\n",
      "Epoch 68/100\n",
      "19/19 [==============================] - 1s 45ms/step - loss: 4.3685e-04 - val_loss: 3.7725e-04\n",
      "Epoch 69/100\n",
      "19/19 [==============================] - 1s 45ms/step - loss: 4.2041e-04 - val_loss: 5.9671e-04\n",
      "Epoch 70/100\n",
      "19/19 [==============================] - 1s 44ms/step - loss: 4.2705e-04 - val_loss: 3.3389e-04\n",
      "Epoch 71/100\n",
      "19/19 [==============================] - 1s 43ms/step - loss: 4.1845e-04 - val_loss: 4.5226e-04\n",
      "Epoch 72/100\n",
      "19/19 [==============================] - 1s 43ms/step - loss: 3.9983e-04 - val_loss: 3.0359e-04\n",
      "Epoch 73/100\n",
      "19/19 [==============================] - 1s 41ms/step - loss: 4.5102e-04 - val_loss: 5.8060e-04\n",
      "Epoch 74/100\n",
      "19/19 [==============================] - 1s 45ms/step - loss: 4.2740e-04 - val_loss: 3.1659e-04\n",
      "Epoch 75/100\n",
      "19/19 [==============================] - 1s 46ms/step - loss: 4.0861e-04 - val_loss: 3.6497e-04\n",
      "Epoch 76/100\n"
     ]
    },
    {
     "name": "stdout",
     "output_type": "stream",
     "text": [
      "19/19 [==============================] - 1s 46ms/step - loss: 4.0640e-04 - val_loss: 3.1898e-04\n",
      "Epoch 77/100\n",
      "19/19 [==============================] - 1s 45ms/step - loss: 4.0840e-04 - val_loss: 4.2292e-04\n",
      "Epoch 78/100\n",
      "19/19 [==============================] - 1s 45ms/step - loss: 3.9365e-04 - val_loss: 3.0275e-04\n",
      "Epoch 79/100\n",
      "19/19 [==============================] - 1s 43ms/step - loss: 4.1061e-04 - val_loss: 3.1650e-04\n",
      "Epoch 80/100\n",
      "19/19 [==============================] - 1s 43ms/step - loss: 4.0252e-04 - val_loss: 3.9339e-04\n",
      "Epoch 81/100\n",
      "19/19 [==============================] - 1s 46ms/step - loss: 4.0097e-04 - val_loss: 3.7971e-04\n",
      "Epoch 82/100\n",
      "19/19 [==============================] - 1s 43ms/step - loss: 3.9065e-04 - val_loss: 5.7516e-04\n",
      "Epoch 83/100\n",
      "19/19 [==============================] - 1s 45ms/step - loss: 4.0994e-04 - val_loss: 3.1262e-04\n",
      "Epoch 84/100\n",
      "19/19 [==============================] - 1s 41ms/step - loss: 4.0439e-04 - val_loss: 3.3264e-04\n",
      "Epoch 85/100\n",
      "19/19 [==============================] - 1s 44ms/step - loss: 4.2011e-04 - val_loss: 4.5459e-04\n",
      "Epoch 86/100\n",
      "19/19 [==============================] - 1s 44ms/step - loss: 4.1221e-04 - val_loss: 3.3612e-04\n",
      "Epoch 87/100\n",
      "19/19 [==============================] - 1s 45ms/step - loss: 4.6865e-04 - val_loss: 3.7256e-04\n",
      "Epoch 88/100\n",
      "19/19 [==============================] - 1s 44ms/step - loss: 4.0797e-04 - val_loss: 4.6015e-04\n",
      "Epoch 89/100\n",
      "19/19 [==============================] - 1s 45ms/step - loss: 4.2081e-04 - val_loss: 3.0150e-04\n",
      "Epoch 90/100\n",
      "19/19 [==============================] - 1s 43ms/step - loss: 4.0695e-04 - val_loss: 3.0036e-04\n",
      "Epoch 91/100\n",
      "19/19 [==============================] - 1s 41ms/step - loss: 3.9816e-04 - val_loss: 2.9996e-04\n",
      "Epoch 92/100\n",
      "19/19 [==============================] - 1s 42ms/step - loss: 4.0993e-04 - val_loss: 3.4627e-04\n",
      "Epoch 93/100\n",
      "19/19 [==============================] - 1s 45ms/step - loss: 4.0093e-04 - val_loss: 6.8541e-04\n",
      "Epoch 94/100\n",
      "19/19 [==============================] - 1s 42ms/step - loss: 4.0523e-04 - val_loss: 3.3331e-04\n",
      "Epoch 95/100\n",
      "19/19 [==============================] - 1s 44ms/step - loss: 4.1464e-04 - val_loss: 3.0860e-04\n",
      "Epoch 96/100\n",
      "19/19 [==============================] - 1s 47ms/step - loss: 4.4158e-04 - val_loss: 3.1685e-04\n",
      "Epoch 97/100\n",
      "19/19 [==============================] - 1s 46ms/step - loss: 4.2887e-04 - val_loss: 4.5458e-04\n",
      "Epoch 98/100\n",
      "19/19 [==============================] - 1s 48ms/step - loss: 4.0869e-04 - val_loss: 3.7477e-04\n",
      "Epoch 99/100\n",
      "19/19 [==============================] - 1s 42ms/step - loss: 3.9582e-04 - val_loss: 3.4197e-04\n",
      "Epoch 100/100\n",
      "19/19 [==============================] - 1s 45ms/step - loss: 3.9680e-04 - val_loss: 3.1211e-04\n"
     ]
    },
    {
     "data": {
      "text/plain": [
       "<keras.callbacks.History at 0x219f7a712e0>"
      ]
     },
     "execution_count": 9,
     "metadata": {},
     "output_type": "execute_result"
    }
   ],
   "source": [
    "# Fit mô hình với dữ liệu train\n",
    "model.fit(X_train,y_train,validation_data=(X_test,ytest),epochs=100,batch_size=64,verbose=1)"
   ]
  },
  {
   "cell_type": "code",
   "execution_count": 10,
   "id": "99bbc5d8",
   "metadata": {},
   "outputs": [
    {
     "name": "stdout",
     "output_type": "stream",
     "text": [
      "37/37 [==============================] - 1s 10ms/step\n",
      "9/9 [==============================] - 0s 8ms/step\n",
      "3/3 [==============================] - 0s 8ms/step\n"
     ]
    }
   ],
   "source": [
    "# Dự báo dữ liệu test, val\n",
    "train_predict=model.predict(X_train)\n",
    "y_pred=model.predict(X_test)\n",
    "y_pred_val=model.predict(X_val)"
   ]
  },
  {
   "cell_type": "code",
   "execution_count": 11,
   "id": "ebadda55",
   "metadata": {},
   "outputs": [
    {
     "name": "stdout",
     "output_type": "stream",
     "text": [
      "Validation RMSE: 0.0325742963919058\n",
      "Testing RMSE: 0.12963154770255453\n",
      "Validation MAPE: 5.626295642516861\n",
      "Testing MAPE: 22.826336238167578\n",
      "Validation MAE: 0.025663053089290466\n",
      "Testing MAE: 0.10268822861820544\n"
     ]
    }
   ],
   "source": [
    "# calculate the RMSE\n",
    "valid_rmse = np.sqrt(np.mean((y_pred_val - yval)**2))\n",
    "test_rmse = np.sqrt(np.mean((y_pred - ytest)**2))\n",
    "print('Validation RMSE:', valid_rmse)\n",
    "print('Testing RMSE:', test_rmse)\n",
    "\n",
    "# calculate the MAPE\n",
    "valid_mape = np.mean(np.abs((yval - y_pred_val) / yval)) * 100\n",
    "test_mape = np.mean(np.abs((ytest - y_pred) / ytest)) * 100\n",
    "print(\"Validation MAPE:\", valid_mape)\n",
    "print(\"Testing MAPE:\", test_mape)\n",
    "\n",
    "# calculate the MAE\n",
    "valid_mae = np.mean(np.abs(y_pred_val - yval))\n",
    "test_mae = np.mean(np.abs(y_pred - ytest))\n",
    "print(\"Validation MAE:\", valid_mae)\n",
    "print(\"Testing MAE:\", test_mae)"
   ]
  },
  {
   "cell_type": "code",
   "execution_count": 12,
   "id": "d968a617",
   "metadata": {},
   "outputs": [],
   "source": [
    "# Chuẩn hóa dữ liệu y_pred, y_pred_val\n",
    "train_predict=scaler.inverse_transform(train_predict)\n",
    "y_pred=scaler.inverse_transform(y_pred)\n",
    "y_pred_val=scaler.inverse_transform(y_pred_val)"
   ]
  },
  {
   "cell_type": "code",
   "execution_count": 13,
   "id": "36834af6",
   "metadata": {},
   "outputs": [
    {
     "data": {
      "image/png": "[encoded data removed]",
      "text/plain": [
       "<Figure size 432x288 with 1 Axes>"
      ]
     },
     "metadata": {
      "needs_background": "light"
     },
     "output_type": "display_data"
    }
   ],
   "source": [
    "# 14.Vẽ hình\n",
    "\n",
    "train_data_index = pd.RangeIndex(start=0, stop=train_size, step=1)\n",
    "plt.plot(scaler.inverse_transform(train_data))\n",
    "test_data_index = pd.RangeIndex(start=train_size, stop=train_size+test_size, step=1)\n",
    "plt.plot(test_data_index,scaler.inverse_transform(test_data))\n",
    "test_data_index = pd.RangeIndex(start=train_size+101, stop=train_size+test_size, step=1)\n",
    "plt.plot(test_data_index,(y_pred))\n",
    "val_data_index = pd.RangeIndex(start=train_size+test_size, stop=train_size+test_size+val_size, step=1)\n",
    "plt.plot(val_data_index,scaler.inverse_transform(val_data))\n",
    "val_data_index = pd.RangeIndex(start=train_size+test_size+101, stop=train_size+test_size+val_size, step=1)\n",
    "plt.plot(val_data_index,y_pred_val)\n",
    "plt.legend(['Train','Test','Predict','Validate','ValidatePred'])\n",
    "plt.show()"
   ]
  }
 ],
 "metadata": {
  "kernelspec": {
   "display_name": "Python 3 (ipykernel)",
   "language": "python",
   "name": "python3"
  },
  "language_info": {
   "codemirror_mode": {
    "name": "ipython",
    "version": 3
   },
   "file_extension": ".py",
   "mimetype": "text/x-python",
   "name": "python",
   "nbconvert_exporter": "python",
   "pygments_lexer": "ipython3",
   "version": "3.9.12"
  }
 },
 "nbformat": 4,
 "nbformat_minor": 5
}

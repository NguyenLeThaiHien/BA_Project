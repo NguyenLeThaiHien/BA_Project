{
 "cells": [
  {
   "cell_type": "code",
   "execution_count": 1,
   "id": "91cbac64",
   "metadata": {},
   "outputs": [],
   "source": [
    "import pandas as pd\n",
    "import numpy as np\n",
    "import matplotlib.pyplot as plt\n",
    "import seaborn as sns\n",
    "from sklearn.ensemble import RandomForestRegressor\n",
    "%matplotlib inline"
   ]
  },
  {
   "cell_type": "code",
   "execution_count": 2,
   "id": "f6ba8a1e",
   "metadata": {},
   "outputs": [
    {
     "data": {
      "text/html": [
       "<div>\n",
       "<style scoped>\n",
       "    .dataframe tbody tr th:only-of-type {\n",
       "        vertical-align: middle;\n",
       "    }\n",
       "\n",
       "    .dataframe tbody tr th {\n",
       "        vertical-align: top;\n",
       "    }\n",
       "\n",
       "    .dataframe thead th {\n",
       "        text-align: right;\n",
       "    }\n",
       "</style>\n",
       "<table border=\"1\" class=\"dataframe\">\n",
       "  <thead>\n",
       "    <tr style=\"text-align: right;\">\n",
       "      <th></th>\n",
       "      <th>Date</th>\n",
       "      <th>Price</th>\n",
       "      <th>Open</th>\n",
       "      <th>High</th>\n",
       "      <th>Low</th>\n",
       "      <th>Vol</th>\n",
       "      <th>Change</th>\n",
       "    </tr>\n",
       "  </thead>\n",
       "  <tbody>\n",
       "    <tr>\n",
       "      <th>0</th>\n",
       "      <td>01/01/2018</td>\n",
       "      <td>13444.9</td>\n",
       "      <td>13850.5</td>\n",
       "      <td>13921.5</td>\n",
       "      <td>12877.7</td>\n",
       "      <td>78430</td>\n",
       "      <td>-0.0293</td>\n",
       "    </tr>\n",
       "    <tr>\n",
       "      <th>1</th>\n",
       "      <td>01/02/2018</td>\n",
       "      <td>14754.1</td>\n",
       "      <td>13444.9</td>\n",
       "      <td>15306.1</td>\n",
       "      <td>12934.2</td>\n",
       "      <td>137730</td>\n",
       "      <td>0.0974</td>\n",
       "    </tr>\n",
       "    <tr>\n",
       "      <th>2</th>\n",
       "      <td>01/03/2018</td>\n",
       "      <td>15156.6</td>\n",
       "      <td>14754.1</td>\n",
       "      <td>15435.0</td>\n",
       "      <td>14579.7</td>\n",
       "      <td>106540</td>\n",
       "      <td>0.0273</td>\n",
       "    </tr>\n",
       "    <tr>\n",
       "      <th>3</th>\n",
       "      <td>01/04/2018</td>\n",
       "      <td>15180.1</td>\n",
       "      <td>15156.5</td>\n",
       "      <td>15408.7</td>\n",
       "      <td>14244.7</td>\n",
       "      <td>110970</td>\n",
       "      <td>0.0015</td>\n",
       "    </tr>\n",
       "    <tr>\n",
       "      <th>4</th>\n",
       "      <td>01/05/2018</td>\n",
       "      <td>16954.8</td>\n",
       "      <td>15180.1</td>\n",
       "      <td>17126.9</td>\n",
       "      <td>14832.4</td>\n",
       "      <td>141960</td>\n",
       "      <td>0.1169</td>\n",
       "    </tr>\n",
       "    <tr>\n",
       "      <th>...</th>\n",
       "      <td>...</td>\n",
       "      <td>...</td>\n",
       "      <td>...</td>\n",
       "      <td>...</td>\n",
       "      <td>...</td>\n",
       "      <td>...</td>\n",
       "      <td>...</td>\n",
       "    </tr>\n",
       "    <tr>\n",
       "      <th>1938</th>\n",
       "      <td>4/23/2023</td>\n",
       "      <td>27591.4</td>\n",
       "      <td>27813.8</td>\n",
       "      <td>27815.0</td>\n",
       "      <td>27388.5</td>\n",
       "      <td>41770</td>\n",
       "      <td>-0.0080</td>\n",
       "    </tr>\n",
       "    <tr>\n",
       "      <th>1939</th>\n",
       "      <td>4/24/2023</td>\n",
       "      <td>27509.3</td>\n",
       "      <td>27591.4</td>\n",
       "      <td>27978.8</td>\n",
       "      <td>27054.3</td>\n",
       "      <td>66740</td>\n",
       "      <td>-0.0030</td>\n",
       "    </tr>\n",
       "    <tr>\n",
       "      <th>1940</th>\n",
       "      <td>4/25/2023</td>\n",
       "      <td>28298.8</td>\n",
       "      <td>27510.1</td>\n",
       "      <td>28375.6</td>\n",
       "      <td>27201.1</td>\n",
       "      <td>65310</td>\n",
       "      <td>0.0287</td>\n",
       "    </tr>\n",
       "    <tr>\n",
       "      <th>1941</th>\n",
       "      <td>4/26/2023</td>\n",
       "      <td>28424.6</td>\n",
       "      <td>28298.8</td>\n",
       "      <td>29995.7</td>\n",
       "      <td>27307.8</td>\n",
       "      <td>164310</td>\n",
       "      <td>0.0044</td>\n",
       "    </tr>\n",
       "    <tr>\n",
       "      <th>1942</th>\n",
       "      <td>4/27/2023</td>\n",
       "      <td>28970.3</td>\n",
       "      <td>28424.5</td>\n",
       "      <td>29414.0</td>\n",
       "      <td>28392.4</td>\n",
       "      <td>179650</td>\n",
       "      <td>0.0192</td>\n",
       "    </tr>\n",
       "  </tbody>\n",
       "</table>\n",
       "<p>1943 rows × 7 columns</p>\n",
       "</div>"
      ],
      "text/plain": [
       "            Date    Price     Open     High      Low     Vol  Change\n",
       "0     01/01/2018  13444.9  13850.5  13921.5  12877.7   78430 -0.0293\n",
       "1     01/02/2018  14754.1  13444.9  15306.1  12934.2  137730  0.0974\n",
       "2     01/03/2018  15156.6  14754.1  15435.0  14579.7  106540  0.0273\n",
       "3     01/04/2018  15180.1  15156.5  15408.7  14244.7  110970  0.0015\n",
       "4     01/05/2018  16954.8  15180.1  17126.9  14832.4  141960  0.1169\n",
       "...          ...      ...      ...      ...      ...     ...     ...\n",
       "1938   4/23/2023  27591.4  27813.8  27815.0  27388.5   41770 -0.0080\n",
       "1939   4/24/2023  27509.3  27591.4  27978.8  27054.3   66740 -0.0030\n",
       "1940   4/25/2023  28298.8  27510.1  28375.6  27201.1   65310  0.0287\n",
       "1941   4/26/2023  28424.6  28298.8  29995.7  27307.8  164310  0.0044\n",
       "1942   4/27/2023  28970.3  28424.5  29414.0  28392.4  179650  0.0192\n",
       "\n",
       "[1943 rows x 7 columns]"
      ]
     },
     "execution_count": 2,
     "metadata": {},
     "output_type": "execute_result"
    }
   ],
   "source": [
    "#import csv file\n",
    "df = pd.read_csv(\"C:/Users/Admin/Phân tích dữ liệu kinh doanh/Test/BTC.csv\", sep=\";\")\n",
    "df\n"
   ]
  },
  {
   "cell_type": "code",
   "execution_count": 3,
   "id": "c0812fb2",
   "metadata": {},
   "outputs": [
    {
     "data": {
      "text/html": [
       "<div>\n",
       "<style scoped>\n",
       "    .dataframe tbody tr th:only-of-type {\n",
       "        vertical-align: middle;\n",
       "    }\n",
       "\n",
       "    .dataframe tbody tr th {\n",
       "        vertical-align: top;\n",
       "    }\n",
       "\n",
       "    .dataframe thead th {\n",
       "        text-align: right;\n",
       "    }\n",
       "</style>\n",
       "<table border=\"1\" class=\"dataframe\">\n",
       "  <thead>\n",
       "    <tr style=\"text-align: right;\">\n",
       "      <th></th>\n",
       "      <th>Date</th>\n",
       "      <th>Price</th>\n",
       "      <th>Open</th>\n",
       "      <th>High</th>\n",
       "      <th>Low</th>\n",
       "      <th>Vol</th>\n",
       "      <th>Change</th>\n",
       "    </tr>\n",
       "  </thead>\n",
       "  <tbody>\n",
       "    <tr>\n",
       "      <th>0</th>\n",
       "      <td>01/01/2018</td>\n",
       "      <td>13444.9</td>\n",
       "      <td>13850.5</td>\n",
       "      <td>13921.5</td>\n",
       "      <td>12877.7</td>\n",
       "      <td>78430</td>\n",
       "      <td>-0.0293</td>\n",
       "    </tr>\n",
       "    <tr>\n",
       "      <th>1</th>\n",
       "      <td>01/02/2018</td>\n",
       "      <td>14754.1</td>\n",
       "      <td>13444.9</td>\n",
       "      <td>15306.1</td>\n",
       "      <td>12934.2</td>\n",
       "      <td>137730</td>\n",
       "      <td>0.0974</td>\n",
       "    </tr>\n",
       "    <tr>\n",
       "      <th>2</th>\n",
       "      <td>01/03/2018</td>\n",
       "      <td>15156.6</td>\n",
       "      <td>14754.1</td>\n",
       "      <td>15435.0</td>\n",
       "      <td>14579.7</td>\n",
       "      <td>106540</td>\n",
       "      <td>0.0273</td>\n",
       "    </tr>\n",
       "    <tr>\n",
       "      <th>3</th>\n",
       "      <td>01/04/2018</td>\n",
       "      <td>15180.1</td>\n",
       "      <td>15156.5</td>\n",
       "      <td>15408.7</td>\n",
       "      <td>14244.7</td>\n",
       "      <td>110970</td>\n",
       "      <td>0.0015</td>\n",
       "    </tr>\n",
       "    <tr>\n",
       "      <th>4</th>\n",
       "      <td>01/05/2018</td>\n",
       "      <td>16954.8</td>\n",
       "      <td>15180.1</td>\n",
       "      <td>17126.9</td>\n",
       "      <td>14832.4</td>\n",
       "      <td>141960</td>\n",
       "      <td>0.1169</td>\n",
       "    </tr>\n",
       "  </tbody>\n",
       "</table>\n",
       "</div>"
      ],
      "text/plain": [
       "         Date    Price     Open     High      Low     Vol  Change\n",
       "0  01/01/2018  13444.9  13850.5  13921.5  12877.7   78430 -0.0293\n",
       "1  01/02/2018  14754.1  13444.9  15306.1  12934.2  137730  0.0974\n",
       "2  01/03/2018  15156.6  14754.1  15435.0  14579.7  106540  0.0273\n",
       "3  01/04/2018  15180.1  15156.5  15408.7  14244.7  110970  0.0015\n",
       "4  01/05/2018  16954.8  15180.1  17126.9  14832.4  141960  0.1169"
      ]
     },
     "execution_count": 3,
     "metadata": {},
     "output_type": "execute_result"
    }
   ],
   "source": [
    "# preview the dataset\n",
    "df.head()"
   ]
  },
  {
   "cell_type": "code",
   "execution_count": 4,
   "id": "7ca99179",
   "metadata": {},
   "outputs": [
    {
     "name": "stdout",
     "output_type": "stream",
     "text": [
      "<class 'pandas.core.frame.DataFrame'>\n",
      "RangeIndex: 1943 entries, 0 to 1942\n",
      "Data columns (total 7 columns):\n",
      " #   Column  Non-Null Count  Dtype  \n",
      "---  ------  --------------  -----  \n",
      " 0   Date    1943 non-null   object \n",
      " 1   Price   1943 non-null   float64\n",
      " 2   Open    1943 non-null   float64\n",
      " 3   High    1943 non-null   float64\n",
      " 4   Low     1943 non-null   float64\n",
      " 5   Vol     1943 non-null   int64  \n",
      " 6   Change  1943 non-null   float64\n",
      "dtypes: float64(5), int64(1), object(1)\n",
      "memory usage: 106.4+ KB\n"
     ]
    }
   ],
   "source": [
    "# view summary of dataset\n",
    "df.info()"
   ]
  },
  {
   "cell_type": "code",
   "execution_count": 5,
   "id": "1b4b92fa",
   "metadata": {},
   "outputs": [
    {
     "data": {
      "text/plain": [
       "Date      0\n",
       "Price     0\n",
       "Open      0\n",
       "High      0\n",
       "Low       0\n",
       "Vol       0\n",
       "Change    0\n",
       "dtype: int64"
      ]
     },
     "execution_count": 5,
     "metadata": {},
     "output_type": "execute_result"
    }
   ],
   "source": [
    "# check missing values in variables\n",
    "df.isnull().sum()"
   ]
  },
  {
   "cell_type": "code",
   "execution_count": 6,
   "id": "1da9c713",
   "metadata": {},
   "outputs": [
    {
     "data": {
      "image/png": "[encoded data removed]",
      "text/plain": [
       "<Figure size 432x288 with 1 Axes>"
      ]
     },
     "metadata": {
      "needs_background": "light"
     },
     "output_type": "display_data"
    }
   ],
   "source": [
    "# Plot the time series\n",
    "plt.plot(df.Price)\n",
    "plt.xlabel('Date')\n",
    "plt.ylabel('Price')\n",
    "plt.title('Bitcoin Price')\n",
    "plt.show()"
   ]
  },
  {
   "cell_type": "code",
   "execution_count": 7,
   "id": "bfe37369",
   "metadata": {},
   "outputs": [],
   "source": [
    "# Select the features and target variable\n",
    "X = df.drop(['Date','Price'], axis=1)\n",
    "\n",
    "y = df['Price']"
   ]
  },
  {
   "cell_type": "code",
   "execution_count": 8,
   "id": "e32dec8c",
   "metadata": {},
   "outputs": [],
   "source": [
    "# Split the data into training and testing sets\n",
    "from sklearn.model_selection import train_test_split\n",
    "X_train, X_test, y_train, y_test = train_test_split(X,y, test_size = 0.2, random_state = 42)"
   ]
  },
  {
   "cell_type": "code",
   "execution_count": 9,
   "id": "a1b79d22",
   "metadata": {},
   "outputs": [
    {
     "data": {
      "text/plain": [
       "RandomForestRegressor(random_state=42)"
      ]
     },
     "execution_count": 9,
     "metadata": {},
     "output_type": "execute_result"
    }
   ],
   "source": [
    "# Train the Random Forest model\n",
    "rf = RandomForestRegressor(n_estimators=100, random_state=42)\n",
    "rf.fit(X_train, y_train)"
   ]
  },
  {
   "cell_type": "code",
   "execution_count": 10,
   "id": "bca901df",
   "metadata": {},
   "outputs": [],
   "source": [
    "# Make predictions on the test data\n",
    "y_pred = rf.predict(X_test)"
   ]
  },
  {
   "cell_type": "code",
   "execution_count": 11,
   "id": "17a8935d",
   "metadata": {},
   "outputs": [
    {
     "data": {
      "image/png": "[encoded data removed]",
      "text/plain": [
       "<Figure size 432x288 with 1 Axes>"
      ]
     },
     "metadata": {
      "needs_background": "light"
     },
     "output_type": "display_data"
    }
   ],
   "source": [
    "# Plot the predicted vs. actual Bitcoin prices\n",
    "plt.plot(y_test.values,label='Actual')\n",
    "plt.plot(y_pred, label='Predicted')\n",
    "plt.xlabel('Date')\n",
    "plt.ylabel('Price')\n",
    "plt.legend()\n",
    "plt.show()"
   ]
  },
  {
   "cell_type": "code",
   "execution_count": 12,
   "id": "a53326c1",
   "metadata": {},
   "outputs": [
    {
     "name": "stdout",
     "output_type": "stream",
     "text": [
      "RMSE: 463.6999460650165\n",
      "MAPE: 1.1365689248923037\n",
      "MAE: 252.7364035989715\n"
     ]
    }
   ],
   "source": [
    "# calculate the RMSE\n",
    "rmse = np.sqrt(np.mean((y_test - y_pred)**2))\n",
    "print(\"RMSE:\", rmse)\n",
    "\n",
    "# calculate the MAPE\n",
    "mape = np.mean(np.abs((y_test - y_pred) / y_test)) * 100\n",
    "print(\"MAPE:\", mape)\n",
    "\n",
    "# calculate the MAE\n",
    "mae = np.mean(np.abs(y_test - y_pred))\n",
    "print(\"MAE:\", mae)"
   ]
  }
 ],
 "metadata": {
  "kernelspec": {
   "display_name": "Python 3 (ipykernel)",
   "language": "python",
   "name": "python3"
  },
  "language_info": {
   "codemirror_mode": {
    "name": "ipython",
    "version": 3
   },
   "file_extension": ".py",
   "mimetype": "text/x-python",
   "name": "python",
   "nbconvert_exporter": "python",
   "pygments_lexer": "ipython3",
   "version": "3.9.12"
  }
 },
 "nbformat": 4,
 "nbformat_minor": 5
}
